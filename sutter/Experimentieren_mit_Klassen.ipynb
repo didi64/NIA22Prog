{
 "cells": [
  {
   "cell_type": "markdown",
   "id": "651682e1-9f1e-486e-8a38-dbbce3a406bc",
   "metadata": {},
   "source": [
    "### Experimentieren mit Klassen"
   ]
  },
  {
   "cell_type": "markdown",
   "id": "d81b3139-a114-4bc2-88dd-bc49b54ac7ef",
   "metadata": {},
   "source": [
    "***\n",
    "`show_args(*x)`: gibt alle  Argumente als Liste zur&uuml;ck\n",
    "***"
   ]
  },
  {
   "cell_type": "code",
   "execution_count": null,
   "id": "f4e23641-7915-49fd-acef-26585700c733",
   "metadata": {},
   "outputs": [],
   "source": [
    "def show_args(*x): \n",
    "    print('Number of arguments: {}, arg-list: {}'\\\n",
    "          .format(len(x), list(x)))\n",
    "        \n",
    "show_args(1,'a', [1,2,3])    "
   ]
  },
  {
   "cell_type": "markdown",
   "id": "f6e96822-d506-4d49-b3d0-3a0bfb348f4f",
   "metadata": {},
   "source": [
    "***\n",
    "Klasse als Namesraum\n",
    "***"
   ]
  },
  {
   "cell_type": "code",
   "execution_count": null,
   "id": "03bfdc72-8855-4ece-860c-a44a3495b744",
   "metadata": {},
   "outputs": [],
   "source": [
    "class A:\n",
    "    pass\n",
    "\n",
    "A.some_string = 'abcd'\n",
    "A.lst = [x for x in A.some_string] \n",
    "A.lst"
   ]
  },
  {
   "cell_type": "code",
   "execution_count": null,
   "id": "8096a419-be8e-497a-b161-4f3638669f07",
   "metadata": {},
   "outputs": [],
   "source": [
    "class A:\n",
    "    x= 42\n",
    "    def show_args(*x): \n",
    "        print('Number of arguments: {}, arg-list: {}'.format(len(x),list(x)))      \n",
    "        \n",
    "print(A.x)\n",
    "print(A.show_args)\n",
    "A.show_args()"
   ]
  },
  {
   "cell_type": "markdown",
   "id": "6039c8a4-af80-4163-95d7-193b7d2a1ece",
   "metadata": {},
   "source": [
    "***\n",
    "Klassenvariabeln und Instanzen\n",
    "***"
   ]
  },
  {
   "cell_type": "code",
   "execution_count": 8,
   "id": "0e5d4ad6-e04d-4445-912c-1dc107c39b1d",
   "metadata": {},
   "outputs": [
    {
     "name": "stdout",
     "output_type": "stream",
     "text": [
      "True\n"
     ]
    },
    {
     "data": {
      "text/plain": [
       "(0, 0, 0)"
      ]
     },
     "execution_count": 8,
     "metadata": {},
     "output_type": "execute_result"
    }
   ],
   "source": [
    "class A:\n",
    "    x = 0\n",
    "    \n",
    "a = A()\n",
    "b = A()\n",
    "\n",
    "print(isinstance(a, A))\n",
    "A.x, a.x, b.x"
   ]
  },
  {
   "cell_type": "markdown",
   "id": "d1c59507-9176-4c13-93ec-cf3215a0c536",
   "metadata": {},
   "source": [
    "***\n",
    "Wie l&auml;sst sich dieses Verhalten erkl&auml;ren\n",
    "***"
   ]
  },
  {
   "cell_type": "code",
   "execution_count": 9,
   "id": "cc41733b-7855-4439-81eb-80d8ade62e51",
   "metadata": {},
   "outputs": [
    {
     "data": {
      "text/plain": [
       "(1, 1, 1)"
      ]
     },
     "execution_count": 9,
     "metadata": {},
     "output_type": "execute_result"
    }
   ],
   "source": [
    "A.x =1\n",
    "A.x, a.x, b.x"
   ]
  },
  {
   "cell_type": "code",
   "execution_count": null,
   "id": "40995eef-e5e5-4aff-9e15-98aec3f6aa26",
   "metadata": {},
   "outputs": [],
   "source": [
    "a.x =2\n",
    "A.x, a.x, b.x"
   ]
  },
  {
   "cell_type": "code",
   "execution_count": 3,
   "id": "a4b53881-0e5a-4024-8702-160d43d9c430",
   "metadata": {},
   "outputs": [
    {
     "data": {
      "text/plain": [
       "(True, False, False)"
      ]
     },
     "execution_count": 3,
     "metadata": {},
     "output_type": "execute_result"
    }
   ],
   "source": [
    "# True, falls A.x bez, a.x, b.x definiert\n",
    "'x' in vars(A), 'x' in vars(a), 'x' in vars(b)"
   ]
  },
  {
   "cell_type": "markdown",
   "id": "91d6e960-0f87-4d55-99f5-d699a8b5d6bf",
   "metadata": {},
   "source": [
    "***\n",
    "Zugriff auf eine Methode `f` der Klasse `A` mit `a.f`\n",
    "***"
   ]
  },
  {
   "cell_type": "code",
   "execution_count": 1,
   "id": "16776499-e2a9-497e-9a7f-00fe7e19b222",
   "metadata": {},
   "outputs": [
    {
     "name": "stdout",
     "output_type": "stream",
     "text": [
      "a: <__main__.A object at 0x7fbdc77bc580>\n",
      "b: <__main__.A object at 0x7fbdc77bc5e0>\n",
      "42 42\n",
      "Number of arguments: 1, arg-list: [<__main__.A object at 0x7fbdc77bc580>]\n",
      "Number of arguments: 1, arg-list: [<__main__.A object at 0x7fbdc77bc5e0>]\n"
     ]
    }
   ],
   "source": [
    "class A:\n",
    "    def show_args(*x): \n",
    "        print('Number of arguments: {}, arg-list: {}'.format(len(x),list(x)))      \n",
    "        \n",
    "a = A()\n",
    "b = A()\n",
    "\n",
    "print('a:' ,a)\n",
    "print('b:' ,b)\n",
    "\n",
    "a.show_args()\n",
    "b.show_args()"
   ]
  },
  {
   "cell_type": "markdown",
   "id": "5a23d588-fb14-4ed3-8ca4-4de05f2c4488",
   "metadata": {},
   "source": [
    "### Konklusion\n",
    "- `A.x`, also die  Variable `x` im Namespace `A` verh&auml;lt sich wie eine normal Variable.\n",
    "- Ist `a` eine Instanz von  `A`, passiert bei einem Zugriff auf `a.x` folgendes:\n",
    "     - ist `x` im Namespace `a`, i.e.  `x in vars(s)`, wird ganz normal `a.x`\n",
    "       zur&uuml;ckgegeben.\n",
    "     - ist `x` nicht im Namespace `a`, dann wird nach `x` im Namespace`A` gesucht:\n",
    "         - wird `x` nicht gefunden, wird ein `AttributeError` erzeugt, andernfalls\n",
    "         - ist `x` keine Funktion, so wird `A.x` zur&uuml;ckgegeben\n",
    "         - ist `x` eine Funktion x(p,q), so wird **`lambda p,q:x(a,q)`**  zur&uuml;ckgegeben,  \n",
    "         also die Instanz `a` wird an das erste Argument der Funktion gebunden\n",
    "     - `a.x = 0` : &auml;ndert/definiert `x` im namespace `a`.\n",
    "     -  `A.x = 0`: &auml;ndert/definiert `x` im namespace `A`."
   ]
  }
 ],
 "metadata": {
  "kernelspec": {
   "display_name": "Python 3 (ipykernel)",
   "language": "python",
   "name": "python3"
  },
  "language_info": {
   "codemirror_mode": {
    "name": "ipython",
    "version": 3
   },
   "file_extension": ".py",
   "mimetype": "text/x-python",
   "name": "python",
   "nbconvert_exporter": "python",
   "pygments_lexer": "ipython3",
   "version": "3.9.10"
  }
 },
 "nbformat": 4,
 "nbformat_minor": 5
}
