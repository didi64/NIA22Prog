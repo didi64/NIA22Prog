{
 "cells": [
  {
   "cell_type": "markdown",
   "id": "1ff72108-bd98-41f1-85b7-3896a46dfdbf",
   "metadata": {},
   "source": [
    "### St&auml;dte als Kreise auf Canvas malen"
   ]
  },
  {
   "cell_type": "code",
   "execution_count": 6,
   "id": "4127dead-73e2-4cb2-8e65-0fb055eea5de",
   "metadata": {},
   "outputs": [],
   "source": [
    "from ipycanvas import Canvas\n",
    "import ipywidgets as widgets\n",
    "import ortschaften as cities"
   ]
  },
  {
   "cell_type": "code",
   "execution_count": 7,
   "id": "a0672e37-d117-4660-8c95-73727a7eab7d",
   "metadata": {},
   "outputs": [],
   "source": [
    "# Schweizerkarte .svg (Vektorgraphik, .svg-File) lesen und\n",
    "# Hoehe und Breite herauslesen\n",
    "img_file = '/home/jovyan/work/NIA22Prog/images/Switzerland_adm_location_map.svg'\n",
    "with open(img_file, mode='r') as f:\n",
    "     img_data = f.read()\n",
    "# img_data[200:400]"
   ]
  },
  {
   "cell_type": "code",
   "execution_count": 8,
   "id": "4e424bdb-bfe1-44de-af82-effc1233a585",
   "metadata": {},
   "outputs": [
    {
     "data": {
      "text/plain": [
       "(0.0, 0.0, 1346.967, 863.698)"
      ]
     },
     "execution_count": 8,
     "metadata": {},
     "output_type": "execute_result"
    }
   ],
   "source": [
    "# find viewBox \n",
    "i0 =    img_data.find('viewBox')\n",
    "start = img_data.find('\"', i0)\n",
    "end   = img_data.find('\"', start + 1)\n",
    "viewbox = img_data[start+1:end].split()\n",
    "X0, Y0, WIDTH, HEIGHT = [float(x) for x in viewbox]\n",
    "X0, Y0, WIDTH, HEIGHT"
   ]
  },
  {
   "cell_type": "code",
   "execution_count": 9,
   "id": "65b8cc6e-f1d4-4e4c-8564-df0034289e3c",
   "metadata": {},
   "outputs": [],
   "source": [
    "def make_transform(width, height):\n",
    "    scale_x = width/WIDTH\n",
    "    scale_y = height/HEIGHT\n",
    "    \n",
    "    def f(lat, lng):\n",
    "        mx = 274.50637841714456 * scale_x\n",
    "        my = -399.38366691658956 * scale_y\n",
    "        lng0, lat0 = 5.797812431444841, 47.90118735477154\n",
    "        return mx * (lng - lng0), my * (lat - lat0)\n",
    "\n",
    "    return f"
   ]
  },
  {
   "cell_type": "code",
   "execution_count": 32,
   "id": "69557bd7-a357-4931-babe-1954d9243825",
   "metadata": {},
   "outputs": [
    {
     "data": {
      "application/vnd.jupyter.widget-view+json": {
       "model_id": "3060dfcce2f9499c8a80ff341bbbdf4f",
       "version_major": 2,
       "version_minor": 0
      },
      "text/plain": [
       "Canvas(height=320, width=500)"
      ]
     },
     "metadata": {},
     "output_type": "display_data"
    }
   ],
   "source": [
    "width = 500\n",
    "height = HEIGHT * width/WIDTH\n",
    "canvas = Canvas(width=width, height=height)\n",
    "canvas.fill_style   = \"red\"\n",
    "canvas.stroke_style = \"blue\"\n",
    "canvas.line_width   = 2\n",
    "\n",
    "canvas.stroke_rect(0, 0, width, height)\n",
    "canvas"
   ]
  },
  {
   "cell_type": "code",
   "execution_count": 11,
   "id": "b01dc25d-ee72-43e4-aabc-a2669ae06c4d",
   "metadata": {},
   "outputs": [],
   "source": [
    "img = widgets.Image.from_file(img_file, width=width, height=height)\n",
    "canvas.draw_image(img, X0, Y0, width, height)"
   ]
  },
  {
   "cell_type": "markdown",
   "id": "b2173f0d-c227-42f8-a91d-d609d8c76d16",
   "metadata": {},
   "source": [
    "***\n",
    "Ortschaften als Punkte (Kreise) auf Canvas zeichnen\n",
    "***"
   ]
  },
  {
   "cell_type": "code",
   "execution_count": 13,
   "id": "3dfda820-02af-4618-9e1d-757fb52a97a0",
   "metadata": {},
   "outputs": [],
   "source": [
    "def get_size(n):\n",
    "    '''Groesse des Punktes fuer die Stadt,\n",
    "       ab 200;000, 6px, ab 100'000 5px,...\n",
    "    '''   \n",
    "    sizes = {200000:6, 100000:5, 50000:4, 10000:3, 1000:2}\n",
    "    for pop, size in sizes.items():\n",
    "        if n > pop:\n",
    "            return size\n",
    "    return 1    "
   ]
  },
  {
   "cell_type": "code",
   "execution_count": 41,
   "id": "89019798-9722-42b8-9a79-041969a164c1",
   "metadata": {},
   "outputs": [],
   "source": [
    "latlng2xy = make_transform(width, height)\n",
    "\n",
    "def plot_city(name, data2xy):\n",
    "    '''plot city on canvas'''\n",
    "    x, y  = data2xy(*cities.coordinates(name))\n",
    "    pop   = cities.population(name)\n",
    "    size  = get_size(pop)\n",
    "    canvas.fill_circle(x,y, size)\n",
    "    \n",
    "for name in cities.citynames[:100]:\n",
    "    plot_city(name, latlng2xy)"
   ]
  },
  {
   "cell_type": "markdown",
   "id": "d4e2b0a9-46bf-4887-9538-1bf51fa7aea0",
   "metadata": {},
   "source": [
    "***\n",
    "Ortschaft ausw&auml;hlen und auf Karte einzeichnen\n",
    "***"
   ]
  },
  {
   "cell_type": "code",
   "execution_count": 44,
   "id": "146724e3-6e4e-404c-8bb6-f78dfc8dc99c",
   "metadata": {},
   "outputs": [
    {
     "data": {
      "application/vnd.jupyter.widget-view+json": {
       "model_id": "d537afc06794410c9745f6430c0fd44a",
       "version_major": 2,
       "version_minor": 0
      },
      "text/plain": [
       "Combobox(value='', options=('Zürich', 'Geneva', 'Basel', 'Lausanne', 'Bern', 'Winterthur', 'Lucerne', 'Sankt G…"
      ]
     },
     "metadata": {},
     "output_type": "display_data"
    },
    {
     "data": {
      "application/vnd.jupyter.widget-view+json": {
       "model_id": "3060dfcce2f9499c8a80ff341bbbdf4f",
       "version_major": 2,
       "version_minor": 0
      },
      "text/plain": [
       "Canvas(height=320, width=500)"
      ]
     },
     "metadata": {},
     "output_type": "display_data"
    }
   ],
   "source": [
    "def on_submit(change):\n",
    "    plot_city(cb.value, latlng2xy)\n",
    "\n",
    "canvas.clear()\n",
    "canvas.fill_style = \"blue\"\n",
    "\n",
    "cb = widgets.Combobox(\n",
    "    placeholder = 'enter a city',\n",
    "    options=cities.citynames,\n",
    "   )\n",
    "\n",
    "cb.on_submit(on_submit)\n",
    "\n",
    "display(cb)\n",
    "display(canvas)\n",
    "canvas.draw_image(img, X0, Y0, width, height)"
   ]
  },
  {
   "cell_type": "code",
   "execution_count": null,
   "id": "b784ab7f-286a-4faa-a186-6b2bb4bb3447",
   "metadata": {},
   "outputs": [],
   "source": []
  }
 ],
 "metadata": {
  "kernelspec": {
   "display_name": "Python 3 (ipykernel)",
   "language": "python",
   "name": "python3"
  },
  "language_info": {
   "codemirror_mode": {
    "name": "ipython",
    "version": 3
   },
   "file_extension": ".py",
   "mimetype": "text/x-python",
   "name": "python",
   "nbconvert_exporter": "python",
   "pygments_lexer": "ipython3",
   "version": "3.9.10"
  }
 },
 "nbformat": 4,
 "nbformat_minor": 5
}
