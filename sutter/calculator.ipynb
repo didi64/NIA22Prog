{
 "cells": [
  {
   "cell_type": "markdown",
   "id": "a04b3c1a-8629-469d-ae73-f4a3c0c86bd0",
   "metadata": {},
   "source": [
    "### Rechner-App: Beispiel zu Lambda-Expressions und Callbacks\n",
    "Wir wollen eine einfache Taschenrechner-App programmieren.\n",
    "\n",
    "\n",
    "**L&ouml;sungsansatz**: Wir kreieren Buttons f&uuml;r alle Ziffern und die g&auml;ngigen Operation. Der Button tr&auml;gt die Ziffer oder das Operationssymbol als Label.\n",
    "Weiter wird jedem Button eine Funktion `f(bt)` (Callback) zugewiesen, welche beim Dr&uuml;cken des Buttons aufgerufen wird. Als Argument wird der Funktion das Buttonobjekt &uuml;bergeben, welches wir ignorieren.\n",
    "\n",
    "\n",
    "Wird ein Button gedr&uuml;ckt, so h&auml;ngt die aufgerufene Funktion \n",
    "das Symbol auf dem Button an eine Liste an und zeigt diese Liste im Display an.\n",
    "\n",
    "Wird `=` gedr&uuml;ckt, so nutzen wir Pythons `eval` Funktion, um den Ausdruck im Display auszuwerten."
   ]
  },
  {
   "cell_type": "markdown",
   "id": "fc1329f8-edc8-4520-9fcc-1c44243a7b4c",
   "metadata": {},
   "source": [
    "***\n",
    "**Widgets und Zugeh&ouml;riges importieren**  \n",
    "siehe z.B. \n",
    "- https://ipywidgets.readthedocs.io/en/latest/examples/Widget%20List.html\n",
    "- https://ipywidgets.readthedocs.io/en/latest/examples/Widget%20Styling.html#The-Grid-layout \n",
    "- https://ipywidgets.readthedocs.io/en/latest/examples/Layout%20Templates.html  \n",
    "- https://ipywidgets.readthedocs.io/en/latest/examples/Output%20Widget.html\n",
    "***"
   ]
  },
  {
   "cell_type": "code",
   "execution_count": 5,
   "id": "f70d9179-1683-454a-ba55-214eed5573bc",
   "metadata": {},
   "outputs": [],
   "source": [
    "from ipywidgets import Button, GridBox, Text, Output, HBox, HTML,\\\n",
    "                       Layout, ButtonStyle"
   ]
  },
  {
   "cell_type": "markdown",
   "id": "d4df7f90-d7b1-401f-a997-5ed1e571d986",
   "metadata": {},
   "source": [
    "***\n",
    "**Callbackfactory, Ausdruck im Display auswerten**\n",
    "***"
   ]
  },
  {
   "cell_type": "code",
   "execution_count": 2,
   "id": "c2c559b3-f5df-4cba-931f-16d5db7c9f78",
   "metadata": {},
   "outputs": [],
   "source": [
    "# update display-widget\n",
    "def update_display(out, display_chars):\n",
    "    ''' clear display-widget out and display display_chars\n",
    "    \n",
    "        out: display widget\n",
    "        display_chars: list of characters to be dislayed\n",
    "    '''\n",
    "    out.clear_output()\n",
    "    text = ''.join(display_chars)\n",
    "    style = 'color: blue; font-size: 30px; line-height: 1.6; float: right;'\n",
    "    html = '<span style=\"{style}\">{text}</span>'\\\n",
    "           .format(style=style, text=text)\n",
    "    \n",
    "    # display html in the widget out\n",
    "    with out:\n",
    "        display(HTML(html))\n",
    "        \n",
    "def callback(action, out, display_chars):\n",
    "    ''' returns a callback\n",
    "        \n",
    "    action:        function \n",
    "    out:           output-widget\n",
    "    display_chars: list of characters, \n",
    "    '''    \n",
    "    def f(bt):\n",
    "        action()\n",
    "        update_display(out, display_chars)\n",
    "    return f\n",
    "\n",
    "# evaluate displayed expression \n",
    "def eval_expression(display_chars):\n",
    "    '''evalutate the expression formed by the \n",
    "       characters in display_chars\n",
    "    '''   \n",
    "    exp = ''.join(display_chars)\n",
    "    try: \n",
    "        res = eval(exp)\n",
    "    except (SyntaxError, ZeroDivisionError, OverflowError) as e:\n",
    "        res = type(e).__name__\n",
    "        \n",
    "    res = '{:16.8g}'.format(res)\n",
    "    display_chars[:] = str(res)"
   ]
  },
  {
   "cell_type": "markdown",
   "id": "481c2ff0-465b-4878-8756-b65107f54426",
   "metadata": {},
   "source": [
    "***\n",
    "**Widgets stylen und anordnen**\n",
    "***"
   ]
  },
  {
   "cell_type": "code",
   "execution_count": 3,
   "id": "eb3e5ab3-fc42-4d22-8bcd-23987bbb5efe",
   "metadata": {},
   "outputs": [],
   "source": [
    "layout_out = {'border': '1px solid black',  'width': '100%', 'height':'45px',}    \n",
    "out  = Output(layout=layout_out)\n",
    "disp = HBox([out], layout=Layout(width='auto',  height='auto', grid_area='header'))\n",
    "\n",
    "buttons = [Button(layout=Layout(width='auto', height='auto'),\n",
    "                         style=ButtonStyle(button_color='darkseagreen')) for i in range(20)\n",
    "                 ]\n",
    "\n",
    "app = GridBox(children=[disp] + buttons,\n",
    "             layout=Layout(width='auto',\n",
    "                           grid_template_columns =' 50px 50px 50px 50px 50px',\n",
    "                           grid_template_rows    = '50px 50px 50px 50px 50px',\n",
    "                           grid_gap='5px 10px',\n",
    "                           grid_template_areas=''' \"header header header header header\" '''\n",
    "                          )\n",
    "             )\n",
    "# display(app) # uncomment to see unlabelled buttons\n",
    "               # then recomment and reexcecute   "
   ]
  },
  {
   "cell_type": "markdown",
   "id": "a453393e-4bb4-490c-8e85-792ecea77d1e",
   "metadata": {},
   "source": [
    "***\n",
    "**F&uuml;gen wir alles zusammen**:\n",
    "***"
   ]
  },
  {
   "cell_type": "code",
   "execution_count": 8,
   "id": "3fea84a5-fe52-442c-9b2e-993bbb44eaff",
   "metadata": {},
   "outputs": [
    {
     "data": {
      "application/vnd.jupyter.widget-view+json": {
       "model_id": "a1bc31bca1b840ad8bd3b19c69a4fa51",
       "version_major": 2,
       "version_minor": 0
      },
      "text/plain": [
       "GridBox(children=(HBox(children=(Output(layout=Layout(border='1px solid black', height='45px', width='100%'), …"
      ]
     },
     "metadata": {},
     "output_type": "display_data"
    }
   ],
   "source": [
    "# characters in calculator's display\n",
    "display_chars = []\n",
    "\n",
    "# dictionary with character-action pairs\n",
    "# note the use of default-arguments!\n",
    "char_action   = {ch: lambda x=ch: display_chars.append(x)\\\n",
    "                     for ch in '789()456+-123*/0.⎚^='}\n",
    "\n",
    "# overwrite some of these action\n",
    "char_action['^'] = lambda: display_chars.append('**')\n",
    "char_action['⎚'] = display_chars.clear\n",
    "char_action['='] = lambda: eval_expression(display_chars)\n",
    "\n",
    "# label the buttons, attach callbacks to the buttons\n",
    "for bt, (ch, f) in zip(buttons, char_action.items()):\n",
    "    # bt._click_handlers.callbacks = []\n",
    "    bt.description = ch # label the button bt\n",
    "    bt.on_click(callback(f, out, display_chars)) # attach callback to bt\n",
    "\n",
    "display(app)"
   ]
  },
  {
   "cell_type": "code",
   "execution_count": null,
   "id": "d04402fa-8a31-42f3-8e79-2ed3cb9bd532",
   "metadata": {},
   "outputs": [],
   "source": []
  }
 ],
 "metadata": {
  "kernelspec": {
   "display_name": "Python 3 (ipykernel)",
   "language": "python",
   "name": "python3"
  },
  "language_info": {
   "codemirror_mode": {
    "name": "ipython",
    "version": 3
   },
   "file_extension": ".py",
   "mimetype": "text/x-python",
   "name": "python",
   "nbconvert_exporter": "python",
   "pygments_lexer": "ipython3",
   "version": "3.9.10"
  }
 },
 "nbformat": 4,
 "nbformat_minor": 5
}
