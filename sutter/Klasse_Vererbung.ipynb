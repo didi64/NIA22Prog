{
 "cells": [
  {
   "cell_type": "markdown",
   "id": "149be613-eeb5-4a91-9f41-55ac9c33902b",
   "metadata": {},
   "source": [
    "### MyCanvas: Subklasse von Canvas mit neuen/modifizierten Methoden:\n",
    "- `save_config()`\n",
    "- `restore_config()`\n",
    "- `draw_points(pts, point_size, color)`\n",
    "- `draw_lines(pts, line_width, color)`\n",
    "- `on_mouse_down(callback, remove = False)`  \n",
    "   Wie vorher, aber ein bereits registrierter Callback wird &uuml;berschreiben.  \n",
    "   Ebenso f&uuml;r die anderen Mouse-Events."
   ]
  },
  {
   "cell_type": "code",
   "execution_count": 25,
   "id": "22c6118c-74b9-4504-95ea-262debf0a1c2",
   "metadata": {},
   "outputs": [],
   "source": [
    "from ipycanvas import Canvas\n",
    "\n",
    "# decorator\n",
    "def preserve(f):\n",
    "    def wrapper(self, *args):\n",
    "        self.save_config()\n",
    "        f(self, *args)\n",
    "        self.restore_config()\n",
    "    return wrapper    \n",
    "\n",
    "# MyCanvas erbt von Canvas\n",
    "# wird ein Attribut nicht in MyCanvas gefunden, so Canvas gesucht\n",
    "# super() gibt ein (Proxy)-Objekt zurueck, mittels dem man auf\n",
    "# Canvas zugreifen kann\n",
    "class MyCanvas(Canvas):\n",
    "    def __init__(self, width=200, height=200, **kwargs):\n",
    "        self.defaults = {'fill_style': 'black', 'stroke_style': 'blue', \n",
    "                         'line_width': 2, \n",
    "                        }\n",
    "        self.config = {}\n",
    "        self.callbacks = {'on_mouse_down': None,\n",
    "                          'on_mouse_move': None,\n",
    "                          'on_mouse_up'  : None,\n",
    "                         }\n",
    "        self.draw = False\n",
    "        \n",
    "        # __init__ von Canvas aufrufen\n",
    "        super().__init__(width=width, height=height)\n",
    "        \n",
    "        self.init(**kwargs)\n",
    "        \n",
    "    def init(self, **kwargs):\n",
    "        for k in self.defaults:\n",
    "            v = kwargs.get(k, self.defaults[k])\n",
    "            setattr(self, k, v)\n",
    "            \n",
    "        self.draw_border()\n",
    "    \n",
    "    def save_config(self):\n",
    "        for k in self.defaults:\n",
    "            self.config[k] = getattr(self, k)\n",
    "            \n",
    "    def restore_config(self, config=None): \n",
    "        config = config or self.config\n",
    "        for k,v in self.config.items():\n",
    "            setattr(self, k, v)\n",
    "      \n",
    "    def _get(self, key):\n",
    "        return self.kwargs.get(key, self.defaults.get(key))\n",
    "        \n",
    "    @preserve  \n",
    "    def draw_border(self):\n",
    "        self.line_width = 2\n",
    "        self.stroke_color = 'blue'\n",
    "        self.stroke_rect(0, 0, self.width, self.height)\n",
    "        \n",
    "    @preserve   \n",
    "    def draw_points(self, pts, r, color):\n",
    "        self.fill_style = color\n",
    "        for pt in pts:\n",
    "            self.fill_circle(*pt, r)   \n",
    "            \n",
    "    @preserve   \n",
    "    def draw_lines(self, pts, lw, color):\n",
    "        self.line_width = lw\n",
    "        self.stroke_style = color\n",
    "        for pt in pts:\n",
    "            self.stroke_lines(pts)   \n",
    "    \n",
    "    def clear(self):\n",
    "        # clear von Canvas aufrufen\n",
    "        super().clear()\n",
    "        self.draw_border()\n",
    "        \n",
    "    def on_mouse_down(self, f, remove = False):\n",
    "        if remove:\n",
    "            # on_mouse_down von Canvas aufrufen\n",
    "            super().on_mouse_down(f_old, remove=True)\n",
    "            self.callbacks['on_mouse_down'] = None\n",
    "            return\n",
    "        \n",
    "        f_old = self.callbacks['on_mouse_down']\n",
    "        if f_old:\n",
    "            super().on_mouse_down(f_old, remove=True)\n",
    "        self.callbacks['on_mouse_down'] = f\n",
    "        super().on_mouse_down(f)\n",
    "        \n",
    "    def on_mouse_up(self, f, remove = False):\n",
    "        if remove:\n",
    "            super().on_mouse_up(f_old, remove=True)\n",
    "            self.callbacks['on_mouse_up'] = None\n",
    "            return\n",
    "        \n",
    "        f_old = self.callbacks['on_mouse_up']\n",
    "        if f_old:\n",
    "            super().on_mouse_up(f_old, remove=True)\n",
    "        self.callbacks['on_mouse_up'] = f\n",
    "        super().on_mouse_up(f)       \n",
    "    \n",
    "    def on_mouse_move(self, f, remove = False):\n",
    "        if remove:\n",
    "            super().on_mouse_move(f_old, remove=True)\n",
    "            self.callbacks['on_mouse_move'] = None\n",
    "            return\n",
    "        \n",
    "        f_old = self.callbacks['on_mouse_move']\n",
    "        if f_old:\n",
    "            super().on_mouse_move(f_old, remove=True)\n",
    "        self.callbacks['on_mouse_move'] = f\n",
    "        super().on_mouse_move(f)            "
   ]
  },
  {
   "cell_type": "markdown",
   "id": "b92a6bfa-cee4-4c24-816a-a157088f15cb",
   "metadata": {},
   "source": [
    "### Teste MyClass"
   ]
  },
  {
   "cell_type": "code",
   "execution_count": 26,
   "id": "39f3cbc1-8a54-4741-8382-48971ad8b43a",
   "metadata": {},
   "outputs": [
    {
     "data": {
      "application/vnd.jupyter.widget-view+json": {
       "model_id": "b182a995739f4c58adf195c90ea7fd01",
       "version_major": 2,
       "version_minor": 0
      },
      "text/plain": [
       "MyCanvas(height=200, width=200)"
      ]
     },
     "metadata": {},
     "output_type": "display_data"
    }
   ],
   "source": [
    "canvas = MyCanvas(fill_style='red')\n",
    "display(canvas)\n",
    "canvas.fill_rect(10,10,50,50) # sollte rot sein"
   ]
  },
  {
   "cell_type": "code",
   "execution_count": 27,
   "id": "9562476e-7572-4d1d-8ea5-b7720a56a8b9",
   "metadata": {},
   "outputs": [],
   "source": [
    "# border sollte bleiben\n",
    "canvas.clear()"
   ]
  },
  {
   "cell_type": "code",
   "execution_count": 28,
   "id": "dae64682-56c2-43b8-b57b-b7b07e44c9ab",
   "metadata": {},
   "outputs": [],
   "source": [
    "canvas.fill_circle(100,100,10)"
   ]
  },
  {
   "cell_type": "code",
   "execution_count": 29,
   "id": "1f0140d9-5dd5-4337-8354-699d525ab062",
   "metadata": {},
   "outputs": [],
   "source": [
    "import math\n",
    "n = 10\n",
    "r = 75\n",
    "x,y = 100,100\n",
    "tau = 2*math.pi\n",
    "pts = [(r*math.cos(tau*i/n)+x, r*math.sin(tau*i/n)+y) for i in range(n)]\n",
    "canvas.draw_lines(pts + [pts[0]], 1, 'orange')"
   ]
  },
  {
   "cell_type": "code",
   "execution_count": 30,
   "id": "90c565bf-a661-4fd9-b3c6-588e7968fe2a",
   "metadata": {},
   "outputs": [],
   "source": [
    "pts = [(x,200-x) for x in range(0,201,10)]\n",
    "canvas.draw_points(pts, 5, 'pink')"
   ]
  },
  {
   "cell_type": "code",
   "execution_count": 31,
   "id": "703694c0-fe17-4de0-9200-b15ad5086bcf",
   "metadata": {},
   "outputs": [],
   "source": [
    "# Eventhandlers\n",
    "def start_drawing(x,y):\n",
    "    canvas.draw = True\n",
    "    \n",
    "def draw(x,y):\n",
    "    if not canvas.draw:\n",
    "        return\n",
    "    canvas.fill_circle(x,y,5)\n",
    "\n",
    "def stop_drawing(x,y):\n",
    "    canvas.draw = False"
   ]
  },
  {
   "cell_type": "code",
   "execution_count": 32,
   "id": "f8ebf9ef-cd7c-4c92-980c-3b655aee1bdd",
   "metadata": {},
   "outputs": [],
   "source": [
    "# Register Eventhandlers\n",
    "canvas.on_mouse_down(start_drawing)\n",
    "canvas.on_mouse_up(stop_drawing)\n",
    "canvas.on_mouse_move(draw)"
   ]
  },
  {
   "cell_type": "code",
   "execution_count": null,
   "id": "d9063b82-2503-44b8-97c2-c5373a674a0e",
   "metadata": {},
   "outputs": [],
   "source": []
  }
 ],
 "metadata": {
  "kernelspec": {
   "display_name": "Python 3 (ipykernel)",
   "language": "python",
   "name": "python3"
  },
  "language_info": {
   "codemirror_mode": {
    "name": "ipython",
    "version": 3
   },
   "file_extension": ".py",
   "mimetype": "text/x-python",
   "name": "python",
   "nbconvert_exporter": "python",
   "pygments_lexer": "ipython3",
   "version": "3.9.10"
  }
 },
 "nbformat": 4,
 "nbformat_minor": 5
}
