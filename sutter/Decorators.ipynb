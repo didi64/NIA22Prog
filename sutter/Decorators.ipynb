{
 "cells": [
  {
   "cell_type": "markdown",
   "id": "39d3e500-660c-45ba-a4d7-fe1528526743",
   "metadata": {},
   "source": [
    "### Decorator ohne Argumente\n",
    "Ein **Decorator** ist eine Funktion, die eine andere Funktion modifiziert,\n",
    "d.h. eine Funktion als Argument nimmt, und eine Funktion zur&uuml;ck gibt.  \n",
    "\n",
    "```python\n",
    "@foo\n",
    "def f(x):\n",
    "    <code>\n",
    "```\n",
    "ist **syntactic  sugar** f&uuml;r\n",
    "\n",
    "```python\n",
    "def f(x):\n",
    "    <code>\n",
    "    \n",
    "f = foo(f)    \n",
    "```"
   ]
  },
  {
   "cell_type": "markdown",
   "id": "d86ce4b1-a644-4ee0-a848-4bbefc8766ff",
   "metadata": {},
   "source": [
    "***\n",
    "Beispiel: `check_types_` ist ein Decorator, der\n",
    "pr&uuml;ft, ob die dekorierte Funktion Argumente von richtigen Typ bekommt.\n",
    "Falls ja, wird die Funktion mit diesen Argumenten aufgerufen, anderfalls wird ausgegeben, welcher Typ erwartet wird.  \n",
    "Die erwarteten Typen der Argumente sei in der Liste `types` gespeichert.\n",
    "***"
   ]
  },
  {
   "cell_type": "code",
   "execution_count": null,
   "id": "5e91a0a2-2682-447d-a56a-30e7dd4a7189",
   "metadata": {},
   "outputs": [],
   "source": [
    "types = [int, str, list]\n",
    "\n",
    "def check_types_(f):\n",
    "    def wrapper(*args):\n",
    "        ok = True\n",
    "        for i, (got,exp) in enumerate(zip(args, types)):\n",
    "            if type(got) != exp:\n",
    "                print('{i}th Argument should have type {exp}, not {got}'\\\n",
    "                      .format(i=i, exp=exp.__name__, got=type(got).__name__))\n",
    "                ok = False\n",
    "    \n",
    "        if ok:\n",
    "            return f(*args)   \n",
    "            \n",
    "    return wrapper        "
   ]
  },
  {
   "cell_type": "markdown",
   "id": "896020c6-4cc4-4149-8d1d-cc6d2cea14ff",
   "metadata": {},
   "source": [
    "***\n",
    "Decorator `check_types_` anwenden\n",
    "***"
   ]
  },
  {
   "cell_type": "code",
   "execution_count": null,
   "id": "33aabe16-0899-43d9-93bc-f53dbc409036",
   "metadata": {},
   "outputs": [],
   "source": [
    "@check_types_\n",
    "def f(n,s,l):\n",
    "    return l+ [n*s]"
   ]
  },
  {
   "cell_type": "code",
   "execution_count": null,
   "id": "2c546041-7fea-4549-8701-45575eb59575",
   "metadata": {},
   "outputs": [],
   "source": [
    "f(2.3, 'foo', ('bar',))"
   ]
  },
  {
   "cell_type": "code",
   "execution_count": null,
   "id": "8cbea2d4-637c-47ed-af8c-1abc8f206018",
   "metadata": {},
   "outputs": [],
   "source": [
    "f(2, 'foo', ['bar'])"
   ]
  },
  {
   "cell_type": "markdown",
   "id": "a297ebca-8e22-48aa-b5bf-7094984569a8",
   "metadata": {},
   "source": [
    "### Decorator mit Argumenten\n",
    "Mehr Infos auf [Stackoverflow.](https://stackoverflow.com/questions/5929107/decorators-with-parameters)\n",
    "\n",
    "\n",
    "Analog zum Fall ohne Argumente, ist\n",
    "```python\n",
    "@foo(...)\n",
    "def f(x):\n",
    "    <code>\n",
    "```\n",
    "ist **syntactic  sugar** f&uuml;r\n",
    "\n",
    "```python\n",
    "def f(x):\n",
    "    <code>\n",
    "    \n",
    "f = foo(...)(f)    \n",
    "```\n",
    "\n",
    "Also muss `g=foo(args)` eine Funktion sein, welche\n",
    "die Funktion `f` wie gew&uuml;nscht modifiziert."
   ]
  },
  {
   "cell_type": "markdown",
   "id": "fc19cf9d-f37e-4fef-bc34-032a39a0bb6d",
   "metadata": {},
   "source": [
    "***\n",
    "Wir modifizieren den Decorator `check_types_` des obigen Beispiels so, dass dem neue Decorator `check_types` die erwarteten Typen der Argumente der dekorierten Funktion als\n",
    "Argumente &uuml;bergeben werden k&ouml;nnen.\n",
    "***"
   ]
  },
  {
   "cell_type": "code",
   "execution_count": null,
   "id": "c5245664-d23a-4b9e-8cf1-2212b29c0ef8",
   "metadata": {},
   "outputs": [],
   "source": [
    "def check_types(*types):\n",
    "    def decorator(f):\n",
    "        def wrapper(*args):\n",
    "            ok = True\n",
    "            for i, (got,exp) in enumerate(zip(args, types)):\n",
    "                if type(got) != exp:\n",
    "                    print('{i}th Argument should have type {exp}, not {got}'\\\n",
    "                          .format(i=i, exp=exp.__name__, got=type(got).__name__))\n",
    "                    ok = False\n",
    "    \n",
    "            if ok:\n",
    "                return f(*args)   \n",
    "            \n",
    "        return wrapper      \n",
    "    return decorator"
   ]
  },
  {
   "cell_type": "markdown",
   "id": "643d6abe-a442-47bb-a183-70db6d6cd187",
   "metadata": {},
   "source": [
    "***\n",
    "Decorator `check_types` anwenden\n",
    "***"
   ]
  },
  {
   "cell_type": "code",
   "execution_count": null,
   "id": "bffd19eb-09f2-4746-8c8f-215098146781",
   "metadata": {},
   "outputs": [],
   "source": [
    "@check_types(int, str, list)\n",
    "def f(n, s, l):\n",
    "    return l+ [n*s]"
   ]
  },
  {
   "cell_type": "code",
   "execution_count": null,
   "id": "4444341e-101e-4934-a239-6e6ac1b4cf8a",
   "metadata": {},
   "outputs": [],
   "source": [
    "f(2.3, 'foo', ('bar',))"
   ]
  },
  {
   "cell_type": "code",
   "execution_count": null,
   "id": "d7e89a84-528e-4312-be48-671174510345",
   "metadata": {},
   "outputs": [],
   "source": [
    "f(2, 'foo', ['bar'])"
   ]
  },
  {
   "cell_type": "code",
   "execution_count": null,
   "id": "96a3638d-a0fa-44e8-9dab-34140b1125d5",
   "metadata": {},
   "outputs": [],
   "source": []
  }
 ],
 "metadata": {
  "kernelspec": {
   "display_name": "Python 3 (ipykernel)",
   "language": "python",
   "name": "python3"
  },
  "language_info": {
   "codemirror_mode": {
    "name": "ipython",
    "version": 3
   },
   "file_extension": ".py",
   "mimetype": "text/x-python",
   "name": "python",
   "nbconvert_exporter": "python",
   "pygments_lexer": "ipython3",
   "version": "3.9.10"
  }
 },
 "nbformat": 4,
 "nbformat_minor": 5
}
