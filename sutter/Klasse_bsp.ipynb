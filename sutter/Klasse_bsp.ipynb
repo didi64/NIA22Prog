{
 "cells": [
  {
   "cell_type": "markdown",
   "id": "0e1ef361-1c80-4a3e-95d5-9a1f2b0f0f10",
   "metadata": {},
   "source": [
    "### Beispiel: Eine Klasse in Python"
   ]
  },
  {
   "cell_type": "code",
   "execution_count": null,
   "id": "113b15eb-57ae-42ec-90f5-12fc906c8821",
   "metadata": {},
   "outputs": [],
   "source": [
    "import math\n",
    "class Vec(object):\n",
    "    \"\"\"A 2 dimensional vector class.\n",
    "       implements the operations +,-,* on vectors, \n",
    "       and multiplication of vectors with numbers\n",
    "    \"\"\"\n",
    "    def __init__(self, x, y):\n",
    "        '''x and y coordinates of the point'''\n",
    "        self.x = x\n",
    "        self.y = y\n",
    "        \n",
    "    def norm(self):\n",
    "        '''returns the length of the vector'''\n",
    "        return math.sqrt(self.x**2+self.y**2)\n",
    "    \n",
    "    def angle(self, vec):\n",
    "        '''returns the angle between self and vec in degrees'''\n",
    "        num = self*vec\n",
    "        denum = self.norm()*vec.norm()\n",
    "        return math.acos(num/denum)*180/math.pi\n",
    "        \n",
    "    def rotate(self, angle):\n",
    "        '''rotates self around the origin by angle degrees'''\n",
    "        a = math.pi*angle/180\n",
    "        c = math.cos(a)\n",
    "        s = math.sin(a)\n",
    "        return Vec(c*self.x-s*self.y,s*self.x+c*self.y)\n",
    "        \n",
    "    def __add__(self, other):\n",
    "        return Vec(self.x+other.x, self.y+other.y)   \n",
    "    \n",
    "    def __sub__(self, other):\n",
    "        return Vec(self.x-other.x, self.y-other.y)    \n",
    "    \n",
    "    def __mul__(self, other):\n",
    "        if isinstance(other,Vec):\n",
    "            return self.x*other.x + self.y*other.y   \n",
    "        elif isinstance(other,int) or isinstance(other,float):    \n",
    "            return Vec(self.x*other, self.y*other)   \n",
    "        \n",
    "    def __rmul__(self, other):  \n",
    "        return self*other\n",
    "    \n",
    "    def __repr__(self):\n",
    "        return 'Vec({:.2f}, {:.2f})'.format(self.x, self.y)   \n",
    "    \n",
    "    def __getitem__(self, slc):\n",
    "        return (self.x, self.y)[slc]"
   ]
  },
  {
   "cell_type": "code",
   "execution_count": null,
   "id": "149707d7-5a41-45d5-b572-331bb416787b",
   "metadata": {},
   "outputs": [],
   "source": [
    "# help(Vec)"
   ]
  },
  {
   "cell_type": "code",
   "execution_count": null,
   "id": "a259ee6b-190d-4318-9691-f3dd3ff8fd27",
   "metadata": {},
   "outputs": [],
   "source": [
    "pt = Vec(3,4)\n",
    "pt"
   ]
  },
  {
   "cell_type": "code",
   "execution_count": null,
   "id": "74a6f66e-3bfd-44b3-b810-4acc3c6b0341",
   "metadata": {},
   "outputs": [],
   "source": [
    "#__getitem__\n",
    "x,y = pt\n",
    "x,y, pt[0], pt[1], pt[:] "
   ]
  },
  {
   "cell_type": "code",
   "execution_count": null,
   "id": "06277629-3a00-43b7-a961-99f570715d45",
   "metadata": {},
   "outputs": [],
   "source": [
    "pt + pt, 2 * pt, pt * 3"
   ]
  },
  {
   "cell_type": "code",
   "execution_count": null,
   "id": "6d618621-9fa8-46a7-93bd-169449d44d37",
   "metadata": {},
   "outputs": [],
   "source": [
    "pt.rotate(90)"
   ]
  },
  {
   "cell_type": "code",
   "execution_count": null,
   "id": "03ef0f86-7003-497b-a74f-ef1c59d27ada",
   "metadata": {},
   "outputs": [],
   "source": [
    "pt.norm()"
   ]
  },
  {
   "cell_type": "code",
   "execution_count": null,
   "id": "fa2812bc-ebf1-41b1-9316-d623a139ea87",
   "metadata": {},
   "outputs": [],
   "source": [
    "x,y =pt\n",
    "x,y"
   ]
  },
  {
   "cell_type": "markdown",
   "id": "6434c79b-343c-4569-bc57-750bf6bf1289",
   "metadata": {},
   "source": [
    "***\n",
    "Einige Hilfsfunktionen um die Klasse `Vec` zu testen.  \n",
    "Dazu verwenden wir auch das [Canvaswidget](.https://ipycanvas.readthedocs.io/en/latest/)"
   ]
  },
  {
   "cell_type": "code",
   "execution_count": null,
   "id": "10e8f4e5-c044-48f3-a550-d7c760617bd3",
   "metadata": {},
   "outputs": [],
   "source": [
    "# einige Konstanten\n",
    "CSIZE = {'width': 200, 'height': 200} # Canvas size\n",
    "M     = Vec(100, 100) # Mittelpunkt des Koordinatensystems\n",
    "E1   = Vec(1, 0)     # Vector der zum Punkt (1,0) zeigt"
   ]
  },
  {
   "cell_type": "code",
   "execution_count": null,
   "id": "fb2ab762-a4dd-41cb-a871-dceb9406f31a",
   "metadata": {},
   "outputs": [],
   "source": [
    "def clear_canvas(canvas):\n",
    "    canvas.clear()\n",
    "    canvas.stroke_rect(0, 0, **CSIZE)\n",
    "\n",
    "def plot(canvas, pts, size = 2):\n",
    "    for pt in pts:\n",
    "        canvas.fill_circle(*pt, size)\n",
    "    \n",
    "def draw_line(canvas, pts):\n",
    "    canvas.stroke_lines(pts)"
   ]
  },
  {
   "cell_type": "code",
   "execution_count": null,
   "id": "98d74f74-e4e3-4693-8838-48f53ea8f3f0",
   "metadata": {},
   "outputs": [],
   "source": [
    "from ipycanvas import Canvas\n",
    "canvas = Canvas(**CSIZE)\n",
    "# set canvas attributes\n",
    "canvas.line_width = 2\n",
    "canvas.stroke_style = 'black'\n",
    "canvas.fill_style = 'blue'\n",
    "canvas.stroke_rect(0, 0, **CSIZE)\n",
    "display(canvas)"
   ]
  },
  {
   "cell_type": "code",
   "execution_count": null,
   "id": "1998f183-90d9-4264-9b96-fac819ebba4c",
   "metadata": {},
   "outputs": [],
   "source": [
    "clear_canvas(canvas)\n",
    "plot(canvas, [M + 40 * E1.rotate(alpha) for alpha in range(0, 360, 30)])"
   ]
  },
  {
   "cell_type": "code",
   "execution_count": null,
   "id": "7d3f135f-e93a-43b8-9ed5-587a486dd7d1",
   "metadata": {},
   "outputs": [],
   "source": [
    "import random\n",
    "r = 40\n",
    "err = 1\n",
    "A, B = -r * E1, r * E1\n",
    "\n",
    "pts = [Vec(random.uniform(-2*r, 2*r), random.uniform(-2*r,2*r)) for i in range(10000)]\n",
    "\n",
    "# stelle einen Punkt pt in pts dar, falls Winkel(A, pt, B) etwa 90 Grad ist\n",
    "thales_pts = [M + pt for pt in pts if 90-err < Vec.angle(A - pt, B - pt) < 90+err]\n",
    "\n",
    "canvas.global_alpha = 1\n",
    "clear_canvas(canvas)\n",
    "canvas.fill_style = 'red'\n",
    "plot(canvas, [A, B])\n",
    "canvas.fill_style = 'black'\n",
    "plot(canvas, thales_pts)          "
   ]
  },
  {
   "cell_type": "code",
   "execution_count": null,
   "id": "2efe47f1-5612-4ca8-8e6f-9a8225ea8910",
   "metadata": {},
   "outputs": [],
   "source": [
    "canvas.global_alpha = 0.1\n",
    "lines = [(M + A, pt, M + B) for pt in thales_pts]\n",
    "lines = [[pt0[:], pt1[:], pt2[:]] for (pt0, pt1, pt2) in lines]\n",
    "for line in lines:\n",
    "    draw_line(canvas, line)"
   ]
  },
  {
   "cell_type": "code",
   "execution_count": null,
   "id": "809ea6c3-ba3b-400a-a21f-1fb87f574d4f",
   "metadata": {},
   "outputs": [],
   "source": []
  },
  {
   "cell_type": "code",
   "execution_count": null,
   "id": "7bdc34b5-3dbe-427e-8b6a-3141139c6764",
   "metadata": {},
   "outputs": [],
   "source": []
  }
 ],
 "metadata": {
  "kernelspec": {
   "display_name": "Python 3 (ipykernel)",
   "language": "python",
   "name": "python3"
  },
  "language_info": {
   "codemirror_mode": {
    "name": "ipython",
    "version": 3
   },
   "file_extension": ".py",
   "mimetype": "text/x-python",
   "name": "python",
   "nbconvert_exporter": "python",
   "pygments_lexer": "ipython3",
   "version": "3.9.10"
  }
 },
 "nbformat": 4,
 "nbformat_minor": 5
}
