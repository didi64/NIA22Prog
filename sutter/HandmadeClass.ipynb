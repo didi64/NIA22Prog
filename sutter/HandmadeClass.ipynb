{
 "cells": [
  {
   "cell_type": "markdown",
   "id": "ed268f8d-f7b6-4e2d-9b77-7556d7a394ca",
   "metadata": {},
   "source": [
    "### Selbstgemachte Klassen"
   ]
  },
  {
   "cell_type": "markdown",
   "id": "fce8d54c-0472-45d9-9079-eaac10bb07e3",
   "metadata": {},
   "source": [
    "*** \n",
    "Beispiel einer Klasse und Instanzen, die wir mittels Dictionaries emulieren wollen\n",
    "***"
   ]
  },
  {
   "cell_type": "code",
   "execution_count": 14,
   "id": "b08dd548-93cc-4284-9c6f-0863dcd8b18b",
   "metadata": {},
   "outputs": [
    {
     "name": "stdout",
     "output_type": "stream",
     "text": [
      "Alice 31\n",
      "Bob 22\n"
     ]
    }
   ],
   "source": [
    "class A:\n",
    "    def __init__(self, name, age):\n",
    "        self.name = name\n",
    "        self.age = age\n",
    "    def birthday(self):\n",
    "        self.age = self.age + 1\n",
    "    \n",
    "# Instanzen von A    \n",
    "alice = A('Alice', 30)    \n",
    "bob   = A('Bob', 20)    \n",
    "\n",
    "\n",
    "alice.birthday()\n",
    "bob.birthday()\n",
    "bob.birthday()\n",
    "\n",
    "print(alice.name, alice.age)\n",
    "print(bob.name, bob.age)"
   ]
  },
  {
   "cell_type": "markdown",
   "id": "f5da37c0-ba03-4eb4-b4c9-b8beaffcc30f",
   "metadata": {},
   "source": [
    "### Wir wollen obigen Code wie folgt &uuml;bersetzen \n",
    "```python\n",
    "class A:                  -> class_('A', init, attributs, methods)       \n",
    "    attribute1 = 42\n",
    "    def __init__(...):\n",
    "        pass\n",
    "     \n",
    "    def method(self,...):\n",
    "        ...\n",
    "    \n",
    "A(*x)                     -> instance(A, *x)\n",
    "foo.x = y                 -> set_(foo, 'x', y)\n",
    "foo.x                     -> get(foo, 'x')\n",
    "foo.f(...)                -> get(foo, 'f')(...) \n",
    "```"
   ]
  },
  {
   "cell_type": "markdown",
   "id": "d06efaef-6a08-4ea5-8a10-23a47c15de0f",
   "metadata": {},
   "source": [
    "***\n",
    "Funktionsnamen anzeigen\n",
    "***"
   ]
  },
  {
   "cell_type": "code",
   "execution_count": 21,
   "id": "a3e1d627-2f34-41e7-ab14-e6a62f80ae9a",
   "metadata": {},
   "outputs": [
    {
     "data": {
      "text/plain": [
       "'foo'"
      ]
     },
     "execution_count": 21,
     "metadata": {},
     "output_type": "execute_result"
    }
   ],
   "source": [
    "def foo():\n",
    "    pass\n",
    "foo.__name__"
   ]
  },
  {
   "cell_type": "markdown",
   "id": "41334013-71d1-4408-a681-9e55fdccf7b5",
   "metadata": {},
   "source": [
    "***\n",
    "`class_` erstellen einen Klassendictionary, `instance` einen Instanzdictionary, und\n",
    "`set_` und `get` erledigen das Schreiben und Lesen von Attributen und Methoden.\n",
    "***"
   ]
  },
  {
   "cell_type": "code",
   "execution_count": 16,
   "id": "bf9170f6-7034-43b6-99ff-80e7fc932dc9",
   "metadata": {},
   "outputs": [],
   "source": [
    "def class_(name, init=lambda x:x, attributes = {}, methods=[]):\n",
    "\n",
    "    cls_ = {'classname': name,\n",
    "            '__init__' : init,\n",
    "           }\n",
    "    \n",
    "    # add attributes\n",
    "    for k,v in attributes.items():\n",
    "        cls_[k] = v\n",
    "        \n",
    "    # add methods    \n",
    "    for m in methods:\n",
    "        cls_[m.__name__] = m\n",
    "        \n",
    "    return cls_\n",
    "\n",
    "def instance(cls_, *args):\n",
    "    obj = {'instance_of': cls_}\n",
    "    return cls_['__init__'](obj, *args)\n",
    "\n",
    "def set_(d, k ,v):\n",
    "    d[k] = v\n",
    "\n",
    "def get(d, k):\n",
    "    # key found, return value\n",
    "    if k in d:\n",
    "        return d[k]\n",
    "    \n",
    "    # key not found, look in class\n",
    "    if 'instance_of' in d:\n",
    "        cls_ = d['instance_of']\n",
    "        if k in cls_:\n",
    "            v = cls_[k]\n",
    "            if not callable(v): \n",
    "                return v\n",
    "            # falls v Funktion, binde die Instance d ans erste Argument\n",
    "            return lambda *x:v(d, *x)    \n",
    "    \n",
    "    # else, raise an Exception\n",
    "    if 'classname' in d:\n",
    "        cls_ = d['classname']\n",
    "    raise Exception('Class {} has no attribute {}!'.format(cls_, k))      "
   ]
  },
  {
   "cell_type": "markdown",
   "id": "720b6047-3e43-4872-af71-8f910390a595",
   "metadata": {},
   "source": [
    "***\n",
    "Zeige Informationen zu einem Klassen- oder Instanzdictionary\n",
    "***"
   ]
  },
  {
   "cell_type": "code",
   "execution_count": 17,
   "id": "01a3314c-f103-479a-a765-c5f1904341b0",
   "metadata": {},
   "outputs": [],
   "source": [
    "def info(d):\n",
    "    for k,v in d.items():\n",
    "        if k.startswith('_'):\n",
    "            continue\n",
    "            \n",
    "        if k == 'instance_of':\n",
    "            v = v['classname']\n",
    "        elif type(v) not in [bool, None, int, float, str]:\n",
    "            v = type(v).__name__\n",
    "        \n",
    "        print('{}: {}'.format(k.ljust(12), v)) \n",
    "    print()    "
   ]
  },
  {
   "cell_type": "markdown",
   "id": "04562aa4-32eb-45c9-9068-f599a17d8894",
   "metadata": {},
   "source": [
    "***\n",
    "Obige Klasse `A` und ihre  Instanzen `alice` und `bob` mittels Dictionaries emulieren\n",
    "***"
   ]
  },
  {
   "cell_type": "code",
   "execution_count": 18,
   "id": "9ad96838-6ece-4130-a580-072bcea76c99",
   "metadata": {},
   "outputs": [
    {
     "name": "stdout",
     "output_type": "stream",
     "text": [
      "classname   : B\n",
      "birthday    : function\n",
      "\n",
      "instance_of : B\n",
      "name        : Alice\n",
      "age         : 30\n",
      "\n",
      "instance_of : B\n",
      "name        : Bob\n",
      "age         : 20\n",
      "\n"
     ]
    }
   ],
   "source": [
    "def init(this, name, age):\n",
    "    set_(this, 'name', name)\n",
    "    set_(this, 'age', age)\n",
    "    return this\n",
    "\n",
    "def birthday(this):\n",
    "    set_(this, 'age', get(this, 'age') + 1)\n",
    "    \n",
    "B = class_('B', init, methods = [birthday])    \n",
    "alice = instance(B, 'Alice', 30)\n",
    "bob = instance(B, 'Bob', 20)\n",
    "\n",
    "for c in [B, alice, bob]: info(c)"
   ]
  },
  {
   "cell_type": "code",
   "execution_count": null,
   "id": "4c8b6b1e-7926-4847-ba1a-830bf9464584",
   "metadata": {},
   "outputs": [],
   "source": []
  },
  {
   "cell_type": "code",
   "execution_count": 19,
   "id": "d660cd76-ef49-48d8-9614-2745913a8596",
   "metadata": {},
   "outputs": [
    {
     "name": "stdout",
     "output_type": "stream",
     "text": [
      "Alice 31\n",
      "Bob 22\n"
     ]
    }
   ],
   "source": [
    "get(alice, 'birthday')()\n",
    "get(bob, 'birthday')()\n",
    "get(bob, 'birthday')()\n",
    "\n",
    "print(get(alice, 'name'), get(alice, 'age'))\n",
    "print(get(bob, 'name'), get(bob, 'age'))"
   ]
  },
  {
   "cell_type": "code",
   "execution_count": null,
   "id": "9f2a8eb2-eac5-4ee6-b2af-105754d6bb60",
   "metadata": {},
   "outputs": [],
   "source": []
  }
 ],
 "metadata": {
  "kernelspec": {
   "display_name": "Python 3 (ipykernel)",
   "language": "python",
   "name": "python3"
  },
  "language_info": {
   "codemirror_mode": {
    "name": "ipython",
    "version": 3
   },
   "file_extension": ".py",
   "mimetype": "text/x-python",
   "name": "python",
   "nbconvert_exporter": "python",
   "pygments_lexer": "ipython3",
   "version": "3.9.10"
  }
 },
 "nbformat": 4,
 "nbformat_minor": 5
}
