{
 "cells": [
  {
   "cell_type": "markdown",
   "id": "b859460e-e6ee-498f-be1e-3b556da7b75a",
   "metadata": {
    "tags": []
   },
   "source": [
    "### Lambda-Funktionen (von [$\\lambda$-Calculus](https://en.wikipedia.org/wiki/Lambda_calculus))\n",
    "Ein Lambda-Ausdruck (lambda expression) erlaubt es, kompakt eine anonyme Funktion zu definieren.\n",
    "- `f = lambda <arguments>: <expression>` ist die Kurzform von\n",
    "\n",
    "```python\n",
    "\n",
    "def fun(<arguments>):\n",
    "    return <expression>\n",
    "\n",
    "f = fun\n",
    "```\n",
    "Eine Funktionsdefinition mit `def f(<arguments>)` ist ein **statement**,\n",
    "der Lambda-Ausdruck ist ein **expression** und kann somit z.B. einer Funktion als Argument &uuml;bergeben werden:  \n",
    "\n",
    "```python\n",
    "students = [('John', 'A', 15), ('Jane', 'B', 12), ('Dave', 'B', 10)]\n",
    "sorted(students, key = lambda x:x[2]) #sortiere nach Zahl im Tupel\n",
    "```\n",
    "\n",
    "\n",
    "- Die `<arguments>` des Lambda-Ausdrucks sind exakt gleich wie bei normalen Funktionsdefinitionen,\n",
    "    z.B. **keyword argumets** sind ok: `lambda x, y=1: x+y`\n",
    "\n",
    "\n",
    "\n",
    "\n",
    "***\n",
    "**Beachte**: \n",
    "- `x=3` und `if x>2: print('too big')` sind  **statements**, keine **expressions**  \n",
    "und sind in Lambda-Ausdr&uuml;cken nicht erlaubt\n",
    "\n",
    "**Tricks**:\n",
    "- `<expression1> if <expression> else <expression2>` ist ein **Expression**.  \n",
    "Sein Wert ist  \n",
    "`<expression1>` falls `bool(expression)` gleich `True`, sonst `<expression2>`\n",
    "- `(a:=<expression>)` ist ein **Expression** (siehe [Walrus Operator](https://docs.python.org/3/whatsnew/3.8.html))  \n",
    "Der Wert dieses Ausdrucks ist der Wert von `<expression>`. Gleichzeitig wird dieser Wert \n",
    "der Variable `a` zugewiesen\n",
    "- Verwende [logische Operatoren](./LogischeOperatoren.ipynb) statt `if-else` Anweisungen:\n",
    "\n",
    "```python\n",
    "\n",
    "<exp1> and <EXP1> or <exp2> and <EXP2> or <EXP3>  \n",
    "\n",
    "```\n",
    "\n",
    "ist &auml;quivalent zu  \n",
    "(**beachte**: `and` hat h&ouml;here Priorit&auml;t als `or`)  \n",
    "\n",
    "```python\n",
    "\n",
    "if <exp1>:\n",
    "    return <EXP1>\n",
    "elif <exp2>:\n",
    "    return <EXP2>  \n",
    "else:\n",
    "    return <EXP3>  \n",
    "            \n",
    "```\n"
   ]
  },
  {
   "cell_type": "markdown",
   "id": "fa6d1389-be5c-4793-b292-9c945e5ad23f",
   "metadata": {},
   "source": [
    "### Erste Beispiele"
   ]
  },
  {
   "cell_type": "code",
   "execution_count": null,
   "id": "9dd7e581-5339-425d-8ee1-757a29c772fb",
   "metadata": {},
   "outputs": [],
   "source": [
    "say_hello = lambda x: print('Hello {}'.format(x))\n",
    "say_hello('Bob')"
   ]
  },
  {
   "cell_type": "code",
   "execution_count": null,
   "id": "b8ac0a72-c6f5-4ca3-a3bc-8fd9f336a051",
   "metadata": {},
   "outputs": [],
   "source": [
    "# Tipp: Klicke auf 'sorted' und druecke shift-tab\n",
    "students = [('John', 'A', 15), ('Jane', 'B', 12), ('Dave', 'B', 10)]\n",
    "sorted(students, key = lambda x:x[2])"
   ]
  },
  {
   "cell_type": "code",
   "execution_count": null,
   "id": "5c71e5fb-8e7c-45b5-bc78-c95921d7d9b7",
   "metadata": {},
   "outputs": [],
   "source": [
    "sign = lambda x: x<0 and -1 or x>0 and 1 or 0\n",
    "[sign(x) for x in (-2,0,5)]"
   ]
  },
  {
   "cell_type": "code",
   "execution_count": null,
   "id": "c2d4888c-a57a-413e-bd2c-bcd0a2443164",
   "metadata": {},
   "outputs": [],
   "source": [
    "eval_guess = lambda guess, nbr: (comments := {1: 'too big', 0: 'correct', -1:'too small'})\\\n",
    "              and comments[sign(guess-nbr)]\n",
    "\n",
    "[eval_guess(x, nbr=4) for x in (1,4,5)]"
   ]
  },
  {
   "cell_type": "markdown",
   "id": "a9308174-4a3b-4b9b-8606-fe4bca4c0a02",
   "metadata": {},
   "source": [
    "### Late Binding \n",
    "Ein Python-Verhalten, das im Zusammenhang mit Lambda-Ausdr&uuml;cken zu &Uuml;berrachungen f&uuml;hren kann\n",
    "```python\n",
    "funs = [] #Liste von Funktionen\n",
    "for i in range(3):\n",
    "    f = lambda: print(i)\n",
    "    funs.append(f)\n",
    "```\n",
    "\n",
    "**Achtung**: Python erstellt im Wesentliche eine Liste mit den Ausdr&uuml;cken  \n",
    "`[lambda: print(i), lambda: print(i), lambda: print(i)]` \n",
    "\n",
    "Erst nach Verlassen der Schleife wird die Variable `i` and den Wert `3` gebunden!\n",
    "\n",
    "**Ausweg**: Default Argumente verwenden!  \n",
    "Das Default Argument `x` erh&auml;t den Wert von `i` zum\n",
    "Zeitpunkt seiner Kreation.\n",
    "\n",
    "```python\n",
    "funs = []\n",
    "for i in range(3):\n",
    "    f = lambda x=i: print(x)\n",
    "    funs.append(f)\n",
    "```\n",
    "\n"
   ]
  },
  {
   "cell_type": "code",
   "execution_count": null,
   "id": "2ba3f7ec-cdd6-4456-8de7-363c8c32e44b",
   "metadata": {},
   "outputs": [],
   "source": [
    "# \n",
    "names = ['Alice', 'Bob', 'Carl']\n",
    "funs1 = [] # list of functions\n",
    "\n",
    "for name in names: \n",
    "    f = lambda: print('Hello {}'.format(name))\n",
    "    funs1.append(f)\n",
    "    \n",
    "for f in funs1: f()   "
   ]
  },
  {
   "cell_type": "code",
   "execution_count": null,
   "id": "9eee756b-dc6f-495f-b0e6-5381cee98ee9",
   "metadata": {},
   "outputs": [],
   "source": [
    "names = ['Alice', 'Bob', 'Carl']\n",
    "funs2 = [lambda: print('Hello {}'.format(name)) for name in names]\n",
    "for f in funs2: f()"
   ]
  },
  {
   "cell_type": "markdown",
   "id": "df57785c-741f-47bf-b2db-b2201a79ab61",
   "metadata": {},
   "source": [
    "**Ausweg**: Default Argumente verwenden (`lambda x=name:...`)"
   ]
  },
  {
   "cell_type": "code",
   "execution_count": null,
   "id": "9faab4e5-fa6e-41f3-8b21-4892fd7d907a",
   "metadata": {},
   "outputs": [],
   "source": [
    "names = ['Alice', 'Bob', 'Carl']\n",
    "funs = [lambda x=name: print('Hello {}'.format(x)) for name in names]\n",
    "\n",
    "for f in funs: f()"
   ]
  },
  {
   "cell_type": "markdown",
   "id": "de82f3c3-a7fe-40e0-9609-c4802699b8ed",
   "metadata": {},
   "source": [
    "**Alternative**: Funktionsfabrik"
   ]
  },
  {
   "cell_type": "code",
   "execution_count": null,
   "id": "c96c5ac7-0a13-40ff-9f0e-8ce88a69f65e",
   "metadata": {},
   "outputs": [],
   "source": [
    "names = ['Alice', 'Bob', 'Carl']\n",
    "def make_fun(name):\n",
    "    def f():\n",
    "        print('Hello {}'.format(name))\n",
    "    return f\n",
    "\n",
    "funs3 = [make_fun(name) for name in names]\n",
    "for f in funs3: f()"
   ]
  },
  {
   "cell_type": "markdown",
   "id": "50506b8e-e4b2-4e17-bedf-5b9e66ede449",
   "metadata": {},
   "source": [
    "### Weitere Beispiele"
   ]
  },
  {
   "cell_type": "code",
   "execution_count": null,
   "id": "788a1517-d2ac-4a60-bac1-ec995de8a801",
   "metadata": {},
   "outputs": [],
   "source": [
    "my_join = lambda x: '\\n'.join(x)\n",
    "print(my_join(['aaa','bbb','ccc']))"
   ]
  },
  {
   "cell_type": "code",
   "execution_count": null,
   "id": "159cf293-5898-49b7-911e-b23ce3456e2f",
   "metadata": {},
   "outputs": [],
   "source": [
    "sign = lambda x: x<0 and -1 or x>0 and 1 or 0\n",
    "[sign(x) for x in (-2,0,5)]"
   ]
  },
  {
   "cell_type": "code",
   "execution_count": null,
   "id": "8e202101-a76d-41a5-9d1e-766ab315e78f",
   "metadata": {},
   "outputs": [],
   "source": [
    "eval_guess = lambda guess, nbr: (comments := {1: 'too big', 0: 'correct', -1:'too small'})\\\n",
    "              and comments[sign(guess-nbr)]\n",
    "[eval_guess(x, nbr=4) for x in (1,4,5)]"
   ]
  },
  {
   "cell_type": "markdown",
   "id": "01c8bca8-d65e-49a0-8728-8b11eedd3012",
   "metadata": {},
   "source": [
    "ROT13: https://en.wikipedia.org/wiki/ROT13"
   ]
  },
  {
   "cell_type": "code",
   "execution_count": null,
   "id": "6e2d9a18-f5fd-4c3d-9071-c462dfa61091",
   "metadata": {},
   "outputs": [],
   "source": [
    "letters = ''.join(chr(ord('a')+i) for i in range(26))\n",
    "rot13 = lambda word: ''.join(\\\n",
    "     [letters[(letters.index(ch) + 13) % 26] for ch in word])\n",
    "\n",
    "rot13('hello'), rot13('uryyb')"
   ]
  },
  {
   "cell_type": "markdown",
   "id": "0af451f0-f0bb-4c59-9553-bcede9b80c5a",
   "metadata": {},
   "source": [
    "**Natural Sort**: Wie Filenamen sortiert werden sollten"
   ]
  },
  {
   "cell_type": "code",
   "execution_count": null,
   "id": "05fe2f80-f713-4c80-bf1e-9eb0c35425b1",
   "metadata": {},
   "outputs": [],
   "source": [
    "import re\n",
    "# trenne String bei Zahlenbloecken\n",
    "re.split('[0-9]+','as23asfsa3asdf4df234dfgasdf')"
   ]
  },
  {
   "cell_type": "code",
   "execution_count": null,
   "id": "3779942b-d50f-4efc-b539-20c64d035658",
   "metadata": {},
   "outputs": [],
   "source": [
    "l=['pic_{}.png'.format(i) for i in range(1,21)]\n",
    "l += ['1'+ l[0], '2'+ l[1], '11'+ l[2] ]\n",
    "print(sorted(l))"
   ]
  },
  {
   "cell_type": "code",
   "execution_count": null,
   "id": "2b03abaf-00b7-4aae-9dbd-028b916a2dc2",
   "metadata": {},
   "outputs": [],
   "source": [
    "l=['pic_{}.png'.format(i) for i in range(1,21)]\n",
    "l += ['1'+ l[0], '2'+ l[1], '11'+ l[2] ]\n",
    "sorted(l, key=lambda x: [int(s) if s.isdigit() else s for s in re.split('([0-9]+)', x)])"
   ]
  },
  {
   "cell_type": "markdown",
   "id": "506fad90-21ef-4d9d-9ae6-9e91b84cfd72",
   "metadata": {},
   "source": [
    "### Beispiele mit rekursiven Funktionsdefinitionen\n",
    "Python erlaubt bei Default **nur 3000 rekursive Aufrufe** einer Funktion,\n",
    "um einem Stackoverflow vorzubeugen. Folgende Beispiele funktionieren deshalb nur f&uuml;r relativ kleine Werte.\n"
   ]
  },
  {
   "cell_type": "code",
   "execution_count": null,
   "id": "eddd9990-1156-4520-aae4-5723ca46e336",
   "metadata": {},
   "outputs": [],
   "source": [
    "import sys\n",
    "print(sys.getrecursionlimit())\n",
    "# sys.setrecursionlimit(10000)"
   ]
  },
  {
   "cell_type": "markdown",
   "id": "429bbb0f-33ce-4239-90c9-3ffe07ab07a1",
   "metadata": {},
   "source": [
    "**Quicksort** (siehe https://en.wikipedia.org/wiki/Quicksort)"
   ]
  },
  {
   "cell_type": "code",
   "execution_count": null,
   "id": "df8bd5e0-63e8-4c26-bb01-03ab48d25fa2",
   "metadata": {},
   "outputs": [],
   "source": [
    "import sys\n",
    "if '/home/jovyan/work/NIA22Prog/src' not in sys.path:\n",
    "    sys.path.insert(0, '/home/jovyan/work/NIA22Prog/src') \n",
    "    \n",
    "from _toolbox import random_words\n",
    "# Sortiert eine flache Liste mit Quicksort\n",
    "# Beachte del Ausdruck hat die Form\n",
    "# f(...) + ... + f(...) if lst else []\n",
    "# die Rekursion stoppt, falls lst leer ist.\n",
    "\n",
    "f = lambda lst: f([x for x in lst[1:] if x < lst[0]]) +\\\n",
    "              lst[0:1] +\\\n",
    "              f([x for x in lst[1:] if x >= lst[0]]) if lst else []\n",
    "\n",
    "\n",
    "lst = random_words() # 1000 random words\n",
    "f(lst)[500:510]"
   ]
  },
  {
   "cell_type": "code",
   "execution_count": null,
   "id": "ece68e6d-74f0-4244-b266-6b458ea6324a",
   "metadata": {},
   "outputs": [],
   "source": [
    "fact = lambda x: x == 0 and 1 or x*fact(x-1)\n",
    "[(x, fact(x)) for x in range(10)]"
   ]
  },
  {
   "cell_type": "code",
   "execution_count": null,
   "id": "c7765b92-7692-45ca-9be0-bf790a36cbf7",
   "metadata": {},
   "outputs": [],
   "source": [
    "# Fibonnacci-Zahlen: 1,1,2,3,5,8,13,21,...\n",
    "# SEHR SEHR LANGSAM UND INEFFIZIENT! \n",
    "# Anzahl Funktionsaufrufe waechst exponentiell!\n",
    "fib = lambda x: x<=0 or fib(x-1) + fib(x-2)\n",
    "[fib(x) for x in range(10)]"
   ]
  },
  {
   "cell_type": "markdown",
   "id": "313c7f1f-1225-4aae-9777-d0a6a34bb070",
   "metadata": {},
   "source": [
    "<img src='../NIA22Prog/images/fib_tree.png'>"
   ]
  },
  {
   "cell_type": "code",
   "execution_count": null,
   "id": "d6473f8e-ed1f-4675-9e41-9064a164cd36",
   "metadata": {},
   "outputs": [],
   "source": [
    "# besser \n",
    "fib = lambda n,x=1,y=1: n == 0 and x or fib(n-1, y, x+y)\n",
    "[fib(x) for x in range(10)]"
   ]
  },
  {
   "cell_type": "code",
   "execution_count": null,
   "id": "9e1e9df3-0c1e-4aec-ba3e-9215a22d4912",
   "metadata": {},
   "outputs": [],
   "source": [
    "import math\n",
    "# aufeinanderfolgende Fibonacci-Zahlen naehern sich \n",
    "# dem Wert (sqrt(5)+1)/2 an\n",
    "sqrt5 = lambda n=40,x=1,y=1: n == 0 and 2*y/x-1 or sqrt5(n-1, y, x+y)\n",
    "(x:=sqrt5()) == math.sqrt(5), x"
   ]
  },
  {
   "cell_type": "code",
   "execution_count": null,
   "id": "3e8d8316-8ba8-406c-9efd-c04c18aaef7a",
   "metadata": {},
   "outputs": [],
   "source": [
    "sqrt5 = lambda n,m=0,x=1,y=1: n <= 0 and (e:=len(str(x)),s:=str(2*y*10**e//x-10**e))\\\n",
    "        and s[0]+'.'+s[1:m+1] or sqrt5(n-.2,m or n,y,x+y)\n",
    "\n",
    "sqrt5(500) # die ersten 1'000'000 stellen von sqrt(5)\n",
    "           # https://apod.nasa.gov/htmltest/gifcity/sqrt5.1mil"
   ]
  }
 ],
 "metadata": {
  "kernelspec": {
   "display_name": "Python 3 (ipykernel)",
   "language": "python",
   "name": "python3"
  },
  "language_info": {
   "codemirror_mode": {
    "name": "ipython",
    "version": 3
   },
   "file_extension": ".py",
   "mimetype": "text/x-python",
   "name": "python",
   "nbconvert_exporter": "python",
   "pygments_lexer": "ipython3",
   "version": "3.9.10"
  }
 },
 "nbformat": 4,
 "nbformat_minor": 5
}
