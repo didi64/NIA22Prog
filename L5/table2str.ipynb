{
 "cells": [
  {
   "cell_type": "markdown",
   "id": "84864c4c-947c-4fb6-8bd1-3ed38a94672e",
   "metadata": {},
   "source": [
    "### table2str: Funktion zur Erstellung eines Tabellen-Strings\n",
    "              \n",
    "Die Tabelle ist definiert durch ihre Header-Zeile und ihre weiteren Zeilen.\n",
    "- Die Header-Zeile wird als **Tuple** oder **Liste** von Strings  spezifiziert:  \n",
    " `header = ('First Name', 'Last Name', 'Email')` oder  \n",
    " `header = ['First Name', 'Last Name', 'Email']`  \n",
    "- Die weiteren Zeilen werden als **List/Tuple von Listen/Tupeln**  spezifiziert. Z.B.      \n",
    "`rows = [('H.', ' M.', 'hm@?.ch'), ('G.', ' M.', 'gm@?.ch')]`"
   ]
  },
  {
   "cell_type": "code",
   "execution_count": null,
   "id": "b923181d-accb-48c5-9f9e-c908a8dbff4c",
   "metadata": {
    "tags": []
   },
   "outputs": [],
   "source": [
    "def get_widths(header, rows):    \n",
    "    '''returns a tuple of the same length as header\n",
    "       the elements of this tuple are\n",
    "       the maximum widths of the columns\n",
    "    '''\n",
    "    # Liste der richtigen Laenge mit Kandidaten\n",
    "    # fuer maximale Spaltenbreiten \n",
    "    widths = [len(h) for h in header]\n",
    "    \n",
    "    for row in rows:\n",
    "        # passe Breite der i-ten Spalte ggf. an\n",
    "        for i, item in enumerate(row):\n",
    "            widths[i] = max(widths[i], len(item))\n",
    "            \n",
    "    return widths      \n",
    "\n",
    "def row2str(row, widths):    \n",
    "    '''returns a row as a formatted string'''\n",
    "    fstring = '|' + '{}|' * len(row)\n",
    "    args = []\n",
    "    \n",
    "    for s, w in zip(row, widths):\n",
    "        s = s.ljust(w)\n",
    "        args.append(s)\n",
    "   \n",
    "    return fstring.format(*args)\n",
    "\n",
    "def table2str(header, rows):    \n",
    "    '''returns a string displaying a table\n",
    "    \n",
    "       header: tuple of column names, e.g. ('Name', 'Email')\n",
    "       rows:  list of tuples of strings, e.g. [('Bob', 'foo@bar.ch'), ...]          \n",
    "    '''   \n",
    "    res = []\n",
    "    \n",
    "    widths = get_widths(header, rows)\n",
    "    hline = ['=' * w for w in widths]\n",
    "   \n",
    "    for row in [header, hline] + rows:\n",
    "        res.append(row2str(row, widths))\n",
    "   \n",
    "    return '\\n'.join(res)  "
   ]
  },
  {
   "cell_type": "markdown",
   "id": "4ea91478-6f61-40c7-81b5-2e88d90c1323",
   "metadata": {},
   "source": [
    "### Beispiele"
   ]
  },
  {
   "cell_type": "code",
   "execution_count": null,
   "id": "36ec1c6b-fbc8-45c2-a43b-7d967c47ac31",
   "metadata": {},
   "outputs": [],
   "source": [
    "HEADER = ('First Name', 'Last Name', 'Email', 'Phone Number')\n",
    "rows = [('Elias', 'Kopf', 'elias.kopf@edu.teko.ch', '078 1111 22 33'),\n",
    "         ('Jennifer', 'Müller', 'jennifer.mueller@edu.teko.ch', '079 2000 20 30'),\n",
    "         ('Oliver', 'Pfenniger', 'oliver.pfenniger@edu.teko.ch','079 3000 20 30'),\n",
    "         ('René', 'Scheidegger', 'rene.scheidegger@edu.teko.ch', '079 4444 20 30'),\n",
    "         ('Jakob', 'Sutter', 'jakob.sutter@edu.teko.ch', '079 1010 20 30')]\n",
    "\n",
    "print(table2str(HEADER, rows))"
   ]
  },
  {
   "cell_type": "code",
   "execution_count": null,
   "id": "d8a9147a-8b65-4b89-aa03-b1c6d9099da0",
   "metadata": {},
   "outputs": [],
   "source": [
    "HEADER = ['First Name', 'Last Name']\n",
    "rows = [['Elias', 'Kopf',],\n",
    "        ['Jennifer', 'Müller'],\n",
    "        ['Oliver', 'Pfenniger'],\n",
    "        ['René', 'Scheidegger'],\n",
    "        ['Jakob', 'Sutter']]\n",
    "\n",
    "print(table2str(HEADER, rows))"
   ]
  },
  {
   "cell_type": "markdown",
   "id": "b367539e-ca0e-4aa8-b044-b3e11966d826",
   "metadata": {},
   "source": [
    "**Modifikationen** um `table2str` kompakt in einem File `toolbox.py` mit n&uuml;tzlichen Funktionen abzulegen (Modul):  \n",
    "\n",
    "- `get_widths` und `row2str` sind Hilfsfunktionen    \n",
    "  (Hilfs)funktionen k&ouml;nnen in der Hauptfunktion definiert werden.\n",
    "-  `table2str` ist im Modul `toolbox` zu finden"
   ]
  },
  {
   "cell_type": "code",
   "execution_count": null,
   "id": "bb619020-4bfd-4ffb-bc7b-772370bc008b",
   "metadata": {
    "jupyter": {
     "source_hidden": true
    },
    "tags": []
   },
   "outputs": [],
   "source": [
    "def table2str(header, rows):   \n",
    "    '''returns a string displaying a table\n",
    "    \n",
    "       header: tuple of column names, e.g. ('Name', 'Email')\n",
    "       rows:  list of tuples of strings, e.g. [('Bob', 'foo@bar.ch'), ...]          \n",
    "    '''    \n",
    "    def get_widths(header, rows):\n",
    "        widths = [len(h) for h in header]\n",
    "    \n",
    "        for row in rows:\n",
    "            for i,item in enumerate(row):\n",
    "                widths[i] = max(widths[i], len(item))\n",
    "            \n",
    "        return widths      \n",
    "\n",
    "    def row2str(row, widths):    \n",
    "        fstring = '|' + '{}|' * len(row)\n",
    "        args = []\n",
    "    \n",
    "        for s, w in zip(row, widths):\n",
    "            s = s.ljust(w)\n",
    "            args.append(s)\n",
    "   \n",
    "        return fstring.format(*args)\n",
    "\n",
    "    \n",
    "    res = []\n",
    "    \n",
    "    widths = get_widths(header, rows)\n",
    "    hline = ['=' * w for w in widths]\n",
    "   \n",
    "    for row in [header, hline] + rows:\n",
    "        res.append(row2str(row, widths))\n",
    "   \n",
    "    return '\\n'.join(res)  "
   ]
  },
  {
   "cell_type": "markdown",
   "id": "b89f876b-1342-4dc8-bfd5-da3623c96615",
   "metadata": {},
   "source": [
    "### Funktion aus Modul verwenden"
   ]
  },
  {
   "cell_type": "code",
   "execution_count": null,
   "id": "badfccfa-d3d7-4db9-ac47-5b2591bd0d97",
   "metadata": {
    "tags": []
   },
   "outputs": [],
   "source": [
    "# Teile Python mit, in welchem Ordner nach Modulen gesucht werden soll\n",
    "# Don't worry\n",
    "import sys\n",
    "if '/home/jovyan/work/NIA22Prog/src' not in sys.path:\n",
    "    sys.path.insert(0, '/home/jovyan/work/NIA22Prog/src') \n",
    "    \n",
    "# importiert das Modul toolbox\n",
    "# Die Funktion table2str in diesem Modul kann mit\n",
    "# toolbox.table2str aufgerufen werden\n",
    "import toolbox"
   ]
  },
  {
   "cell_type": "code",
   "execution_count": null,
   "id": "4da8af35-6bc1-4944-a5cd-42e0b205f929",
   "metadata": {},
   "outputs": [],
   "source": [
    "help(toolbox)"
   ]
  },
  {
   "cell_type": "code",
   "execution_count": null,
   "id": "575c2dee-b32d-4595-882e-eb748cd2f195",
   "metadata": {
    "tags": []
   },
   "outputs": [],
   "source": [
    "# open toolbox.py in this cell\n",
    "# %load '/home/jovyan/work/NIA22Prog/src/toolbox.py'"
   ]
  },
  {
   "cell_type": "code",
   "execution_count": null,
   "id": "36667f5b-4c1d-4fff-b8d3-aed75ac44994",
   "metadata": {},
   "outputs": [],
   "source": [
    "HEADER = ('First Name', 'Last Name', 'Email', 'Phone Number')\n",
    "rows = [('Elias', 'Kopf', 'elias.kopf@edu.teko.ch', '071 1111 20 30'),\n",
    "         ('Jennifer', 'Müller', 'jennifer.mueller@edu.teko.ch', '071 2222 20 30'),\n",
    "         ('Oliver', 'Pfenniger', 'oliver.pfenniger@edu.teko.ch','071 3333 20 30'),\n",
    "         ('René', 'Scheidegger', 'rene.scheidegger@edu.teko.ch', '071 4444 20 30'),\n",
    "         ('Jakob', 'Sutter', 'jakob.sutter@edu.teko.ch', '071 5555 20 30')]\n",
    "\n",
    "print(toolbox.table2str(HEADER, rows, sep = ' │ ', fillchar = ' ', hline_char = '━'))"
   ]
  }
 ],
 "metadata": {
  "kernelspec": {
   "display_name": "Python 3 (ipykernel)",
   "language": "python",
   "name": "python3"
  },
  "language_info": {
   "codemirror_mode": {
    "name": "ipython",
    "version": 3
   },
   "file_extension": ".py",
   "mimetype": "text/x-python",
   "name": "python",
   "nbconvert_exporter": "python",
   "pygments_lexer": "ipython3",
   "version": "3.9.10"
  }
 },
 "nbformat": 4,
 "nbformat_minor": 5
}
