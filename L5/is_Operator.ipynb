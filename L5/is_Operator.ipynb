{
 "cells": [
  {
   "cell_type": "markdown",
   "id": "5bc16d53-7164-4048-8af4-9a722bcd4c56",
   "metadata": {},
   "source": [
    "### Der ```is``` Operator\n"
   ]
  },
  {
   "cell_type": "code",
   "execution_count": 1,
   "id": "d201134a-aa45-4d0f-a3e0-beea92332792",
   "metadata": {},
   "outputs": [
    {
     "data": {
      "text/plain": [
       "True"
      ]
     },
     "execution_count": 1,
     "metadata": {},
     "output_type": "execute_result"
    }
   ],
   "source": [
    "x = 'foo'\n",
    "y = 'foo'\n",
    "x is y"
   ]
  },
  {
   "cell_type": "code",
   "execution_count": 2,
   "id": "9f8c0c39-06d4-47ed-be75-f0f944932c56",
   "metadata": {},
   "outputs": [
    {
     "data": {
      "text/plain": [
       "False"
      ]
     },
     "execution_count": 2,
     "metadata": {},
     "output_type": "execute_result"
    }
   ],
   "source": [
    "x = 'foo'\n",
    "y = 'f' \n",
    "y += 'oo'\n",
    "x is y"
   ]
  },
  {
   "cell_type": "code",
   "execution_count": 3,
   "id": "61650634-6ef7-4757-8890-28d85eb02036",
   "metadata": {},
   "outputs": [
    {
     "data": {
      "text/plain": [
       "True"
      ]
     },
     "execution_count": 3,
     "metadata": {},
     "output_type": "execute_result"
    }
   ],
   "source": [
    "x = 2\n",
    "y = 2\n",
    "x is y"
   ]
  },
  {
   "cell_type": "code",
   "execution_count": 13,
   "id": "1e1d3714-423c-478f-9a6a-476201242825",
   "metadata": {},
   "outputs": [
    {
     "data": {
      "text/plain": [
       "True"
      ]
     },
     "execution_count": 13,
     "metadata": {},
     "output_type": "execute_result"
    }
   ],
   "source": [
    "x = 2\n",
    "y = 3\n",
    "y -= 1\n",
    "x is y"
   ]
  },
  {
   "cell_type": "code",
   "execution_count": 15,
   "id": "a321d374-aa38-4a1b-b4c7-df5cfe0a25ac",
   "metadata": {},
   "outputs": [
    {
     "data": {
      "text/plain": [
       "False"
      ]
     },
     "execution_count": 15,
     "metadata": {},
     "output_type": "execute_result"
    }
   ],
   "source": [
    "x=2**30\n",
    "y=2**30-1\n",
    "y +=1\n",
    "x is y"
   ]
  },
  {
   "cell_type": "code",
   "execution_count": 16,
   "id": "ca5368b4-91b5-4d9e-b569-8c20750bec49",
   "metadata": {},
   "outputs": [
    {
     "data": {
      "text/plain": [
       "True"
      ]
     },
     "execution_count": 16,
     "metadata": {},
     "output_type": "execute_result"
    }
   ],
   "source": [
    "l1 = [[1,2,3]]\n",
    "l2 = [[1,2,3]]\n",
    "l1 == l2"
   ]
  },
  {
   "cell_type": "code",
   "execution_count": 17,
   "id": "cb8472a7-c53e-42f0-9789-d0a31d69c16c",
   "metadata": {},
   "outputs": [
    {
     "data": {
      "text/plain": [
       "False"
      ]
     },
     "execution_count": 17,
     "metadata": {},
     "output_type": "execute_result"
    }
   ],
   "source": [
    "l1 is l2"
   ]
  },
  {
   "cell_type": "code",
   "execution_count": 18,
   "id": "c5f5d887-5bfb-4c07-9ec4-cca08125f7ad",
   "metadata": {},
   "outputs": [
    {
     "ename": "RecursionError",
     "evalue": "maximum recursion depth exceeded in comparison",
     "output_type": "error",
     "traceback": [
      "\u001b[0;31m---------------------------------------------------------------------------\u001b[0m",
      "\u001b[0;31mRecursionError\u001b[0m                            Traceback (most recent call last)",
      "Input \u001b[0;32mIn [18]\u001b[0m, in \u001b[0;36m<cell line: 5>\u001b[0;34m()\u001b[0m\n\u001b[1;32m      3\u001b[0m l2 \u001b[38;5;241m=\u001b[39m [[\u001b[38;5;241m1\u001b[39m,\u001b[38;5;241m2\u001b[39m,\u001b[38;5;241m3\u001b[39m]]\n\u001b[1;32m      4\u001b[0m l2\u001b[38;5;241m.\u001b[39mappend(l2)\n\u001b[0;32m----> 5\u001b[0m \u001b[43ml1\u001b[49m\u001b[43m \u001b[49m\u001b[38;5;241;43m==\u001b[39;49m\u001b[43m \u001b[49m\u001b[43ml2\u001b[49m\n",
      "\u001b[0;31mRecursionError\u001b[0m: maximum recursion depth exceeded in comparison"
     ]
    }
   ],
   "source": [
    "l1 = [[1,2,3]]\n",
    "l1.append(l1)\n",
    "l2 = [[1,2,3]]\n",
    "l2.append(l2)\n",
    "l1 == l2"
   ]
  },
  {
   "cell_type": "code",
   "execution_count": 19,
   "id": "bf772628-e6c8-4386-820c-1fa906e8b81b",
   "metadata": {},
   "outputs": [
    {
     "name": "stdout",
     "output_type": "stream",
     "text": [
      "[[1, 2, 3], [...]]\n",
      "[[1, 2, 3], [...]]\n"
     ]
    }
   ],
   "source": [
    "print(l1)\n",
    "print(l2)"
   ]
  },
  {
   "cell_type": "code",
   "execution_count": 20,
   "id": "3fe1886f-2742-44f0-8ded-d282542024ce",
   "metadata": {},
   "outputs": [],
   "source": [
    "l=[0]\n",
    "l[0]=l"
   ]
  },
  {
   "cell_type": "code",
   "execution_count": 21,
   "id": "0d290282-af1d-4853-bb7c-007642d574d0",
   "metadata": {},
   "outputs": [
    {
     "data": {
      "text/plain": [
       "[[...]]"
      ]
     },
     "execution_count": 21,
     "metadata": {},
     "output_type": "execute_result"
    }
   ],
   "source": [
    "l"
   ]
  },
  {
   "cell_type": "code",
   "execution_count": null,
   "id": "9a7734f3-4655-474f-81fa-ba73b6fb62b8",
   "metadata": {},
   "outputs": [],
   "source": []
  }
 ],
 "metadata": {
  "kernelspec": {
   "display_name": "Python 3 (ipykernel)",
   "language": "python",
   "name": "python3"
  },
  "language_info": {
   "codemirror_mode": {
    "name": "ipython",
    "version": 3
   },
   "file_extension": ".py",
   "mimetype": "text/x-python",
   "name": "python",
   "nbconvert_exporter": "python",
   "pygments_lexer": "ipython3",
   "version": "3.9.10"
  }
 },
 "nbformat": 4,
 "nbformat_minor": 5
}
