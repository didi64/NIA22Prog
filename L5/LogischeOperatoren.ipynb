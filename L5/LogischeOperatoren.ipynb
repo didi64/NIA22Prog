{
 "cells": [
  {
   "cell_type": "markdown",
   "id": "97f0076a-06cb-44dc-b95a-dbf9e7e22353",
   "metadata": {},
   "source": [
    "## Logische Operatoren: ```or, and, not```\n",
    "2 Verwendungsweisen\n",
    "- mit Objekten vom Typ ```bool```:\n",
    "  - ```x and y``` ist ```True``` genau dann wenn ```x``` und ```y``` ```True``` sind, sonst ```False```\n",
    "  - ```x or y``` ist ```True``` genau dann wenn ```x``` oder  ```y``` ```True``` ist, sonst ```False```\n",
    "  - ```not True``` ist ```False``` und ```not False``` ist ```True```\n",
    "- auf beliebige Objekte:\n",
    "  - ```x and y``` ist ```x``` falls ```bool(x)==False``, sonst ```y```\n",
    "  - ```x or  y``` ist ```x``` falls ```bool(x)==True``, sonst ```y```\n",
    "  - ```not x``` ist ```not bool(x)```"
   ]
  },
  {
   "cell_type": "code",
   "execution_count": null,
   "id": "0853dac3-ecb3-4317-b585-05f472fe1d50",
   "metadata": {
    "jupyter": {
     "source_hidden": true
    },
    "tags": []
   },
   "outputs": [],
   "source": [
    "from toolbox import table2str\n",
    "vals = (True, False)\n",
    "\n",
    "rows_not = []\n",
    "rows_and = []\n",
    "rows_or  = []\n",
    "\n",
    "for x in vals:\n",
    "    row = [x, not x]\n",
    "    row_not = [str(v).center(8) for v in row]\n",
    "    rows_not.append(row_not)\n",
    "    \n",
    "for x in vals:\n",
    "    for y in vals:\n",
    "        row = [x, y, x and y]\n",
    "        row_and = [str(v).center(8) for v in row]\n",
    "       \n",
    "        row = [x, y, x or y]\n",
    "        row_or = [str(v).center(8) for v in row]\n",
    "    \n",
    "        rows_and.append(row_and)\n",
    "        rows_or.append(row_or)\n",
    "\n",
    "print('Verhalten von and, or und not auf True und False')\n",
    "print()\n",
    "print('NOT')\n",
    "print(table2str(('  x', ' not y'), rows_not))     \n",
    "print()\n",
    "print('AND')\n",
    "print(table2str(('  x', '  y', ' x and y'), rows_and  ))\n",
    "print()\n",
    "print('OR')\n",
    "print(table2str(('  x', '  y', ' x or y'), rows_or  ))"
   ]
  },
  {
   "cell_type": "markdown",
   "id": "18095999-3d13-4e87-9069-09941d562153",
   "metadata": {},
   "source": [
    "### Operator Priorit&auml;t:\n",
    "  - hoch vor negieren (2 - > -2) vor mal,durch, vor plus, minus\n",
    "  - `not' vor `and` vor  `or`: `False or not False and True`  ist `False or ((not False) and True)`\n",
    "  - bei gleicher Priorit&auml;t von links nach rechts: `1 - 2 + 3 -4` ist `(((1 - 2) + 3) -4)`"
   ]
  },
  {
   "cell_type": "markdown",
   "id": "1995f85c-3e72-4ef7-94a4-cbe102869a5b",
   "metadata": {},
   "source": [
    "### Fragen:  \n",
    "-Ist `5 + 5 * 5` dasselbe wie `(5+5) *5` oder `5 + (5*5)`?  \n",
    "-Ist `-3**2` dasselbe wie `(-3)**2` oder `-(3**2)`?  \n",
    "-Ist `-3//2` dasselbe wie `-(3//2)` oder `(-3)//2`?  \n",
    "-Ist `False or not False and True`  dasselbe wie    \n",
    " `(False or not False) and True` oder `False or ((not False) and True)`? "
   ]
  },
  {
   "cell_type": "markdown",
   "id": "8922a527-3e19-4040-b26b-549517e946bb",
   "metadata": {},
   "source": [
    "### Verhalten von 'and', 'or' und 'not' im Allgemeinen  \n",
    "Wie casted ```bool```? Siehe [Basic Types](./Basic_Types_1.ipynb)\n",
    "- $x \\text{ and } y =\\begin{cases}x&:\\text{ falls bool(x) = False},\\\\y&:\\text{falls bool(x) = True}.\\end{cases}$  \n",
    "\n",
    "- $x \\text{ or } y =\\begin{cases}x&:\\text{falls bool(x) = True},\\\\y&:\\text{falls bool(x) = False}.\\end{cases}$  \n",
    "\n",
    "- $\\text{not x} = \\text{not bool(x)}$.\n"
   ]
  },
  {
   "cell_type": "code",
   "execution_count": null,
   "id": "2c3f29ca-69ad-4ea8-9bda-69d35b379b02",
   "metadata": {},
   "outputs": [],
   "source": [
    "l1 = []\n",
    "l2 = [1,2]\n",
    "\n",
    "print(l1 or 'l1 is empty')\n",
    "print(l2 or 'l2 is empty')\n",
    "\n",
    "print(l1 and l1[0] or 'is empty')\n",
    "print(l2 and l2[0] or 'is empty')\n",
    "\n"
   ]
  },
  {
   "cell_type": "code",
   "execution_count": null,
   "id": "ef9d446f-7931-4b4d-9fd0-5756d0d654fd",
   "metadata": {},
   "outputs": [],
   "source": [
    "# Fallunterscheidung mit 'and' und 'or', anstelle von  'if elif else'\n",
    "# beachte (x<0 and -1) or (x>0 and 1) or 0 ist\n",
    "# ((x<0 and -1) or (x>0 and 1)) or 0\n",
    "\n",
    "def sign(x):\n",
    "    '''returns the sign of the number x'''\n",
    "    return (x<0 and -1) or (x>0 and 1) or 0"
   ]
  },
  {
   "cell_type": "code",
   "execution_count": null,
   "id": "24738c4a-ed3f-4a03-a611-153101d4f59f",
   "metadata": {},
   "outputs": [],
   "source": [
    "x = -1"
   ]
  },
  {
   "cell_type": "code",
   "execution_count": null,
   "id": "8f1f1b5e-12fc-4dd1-9a55-fd43da4197d5",
   "metadata": {},
   "outputs": [],
   "source": [
    "x<0 and -1 # -1, da x<1 = True"
   ]
  },
  {
   "cell_type": "code",
   "execution_count": null,
   "id": "576effb1-91d9-46bd-964c-2f88324c201b",
   "metadata": {},
   "outputs": [],
   "source": [
    "(x<0 and -1) or (x>0 and 1) # -1, da bool(x<0 and -1) = bool(-1) = True"
   ]
  },
  {
   "cell_type": "code",
   "execution_count": null,
   "id": "7a00dfea-1712-4f44-a2fc-99036975949f",
   "metadata": {},
   "outputs": [],
   "source": []
  }
 ],
 "metadata": {
  "kernelspec": {
   "display_name": "Python 3 (ipykernel)",
   "language": "python",
   "name": "python3"
  },
  "language_info": {
   "codemirror_mode": {
    "name": "ipython",
    "version": 3
   },
   "file_extension": ".py",
   "mimetype": "text/x-python",
   "name": "python",
   "nbconvert_exporter": "python",
   "pygments_lexer": "ipython3",
   "version": "3.8.10"
  }
 },
 "nbformat": 4,
 "nbformat_minor": 5
}
