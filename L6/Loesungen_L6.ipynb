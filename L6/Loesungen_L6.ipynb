{
 "cells": [
  {
   "cell_type": "markdown",
   "id": "81d0849c-04fb-458a-a3ba-c85c1945e9b3",
   "metadata": {},
   "source": [
    "### L&ouml;sungen Lektion 6"
   ]
  },
  {
   "cell_type": "markdown",
   "id": "91c1ad61-e538-4b5b-a254-8858697296a4",
   "metadata": {},
   "source": [
    "### **and-or** statt **if-elif-else**\n",
    "- Variante 2 gibt 'leere Liste' aus falls\n",
    "`bool(l[])` False ist! Also falls z.B. `l[0]` einer der folgenden Werte ist:    \n",
    "`False, None, 0, '', [], (), {}`"
   ]
  },
  {
   "cell_type": "code",
   "execution_count": 3,
   "id": "b157fec9-2f5a-411b-ae97-3d00e7315ae2",
   "metadata": {},
   "outputs": [
    {
     "name": "stdout",
     "output_type": "stream",
     "text": [
      "{}\n",
      "Liste ist leer!\n"
     ]
    }
   ],
   "source": [
    "l = [{}]\n",
    " \n",
    "# Variante 1\n",
    "if l: # Liste nicht leer\n",
    "    print(l[0])\n",
    "else:\n",
    "    print('Liste ist leer!')\n",
    "    \n",
    "# Variante 2\n",
    "print(l and l[0] or 'Liste ist leer!')"
   ]
  },
  {
   "cell_type": "markdown",
   "id": "d609ee5e-bd47-4a96-a683-145146cf2de6",
   "metadata": {},
   "source": [
    "### Slice-Notation"
   ]
  },
  {
   "cell_type": "code",
   "execution_count": 8,
   "id": "7267a784-2219-4c79-8e13-aaa241f07048",
   "metadata": {},
   "outputs": [
    {
     "data": {
      "text/plain": [
       "'eins zwei'"
      ]
     },
     "execution_count": 8,
     "metadata": {},
     "output_type": "execute_result"
    }
   ],
   "source": [
    "# Zeichen einfuegen\n",
    "s = 'einszwei'\n",
    "i = s.index('z')\n",
    "s[:i] + ' ' + s[i:] # benuze den Wert i,\n",
    "                    # erwarteter Output: 'eins zwei'"
   ]
  },
  {
   "cell_type": "code",
   "execution_count": null,
   "id": "6833d757-2d1a-432f-a146-875f325fc510",
   "metadata": {},
   "outputs": [],
   "source": [
    "# Zeichen entfernen\n",
    "s = 'eins zwei'\n",
    "i = s.index(' ') # benuze den Wert i,\n",
    "s[:i] + s[i+1:]  # erwarteter Output: 'eins zwei'"
   ]
  },
  {
   "cell_type": "code",
   "execution_count": null,
   "id": "41a8f9e9-7fad-4fa5-8c67-53a1fc607c29",
   "metadata": {},
   "outputs": [],
   "source": [
    "# Slice-Zuweisung\n",
    "nbrs = list('12345678')\n",
    "nbrs[1::2] = 'XXXX' # erwarteter Output\n",
    "nbrs                #  ['1', 'X', '3', 'X', '5', 'X', '7', 'X']"
   ]
  },
  {
   "cell_type": "code",
   "execution_count": null,
   "id": "7a974f4f-26c8-4bb4-ae40-7d5154ee8b79",
   "metadata": {},
   "outputs": [],
   "source": [
    "# allg. Repetition, kein Bezug zur Slice-Notation\n",
    "l = ['1', 'X', '3', 'X', '5', 'X', '7', 'X']\n",
    "''.join(l)  # erwarteter Output: '1X3X5X7X'"
   ]
  },
  {
   "cell_type": "code",
   "execution_count": null,
   "id": "dbcd7a15-367a-4f1d-9b04-bb463e67bed9",
   "metadata": {},
   "outputs": [],
   "source": [
    "def fizzbuzz(n):\n",
    "    if  n % 5 == 0 and n % 3 ==0:\n",
    "        return 'fizzbuzz'\n",
    "    elif n % 5 == 0:\n",
    "        return 'buzz'\n",
    "    elif n % 3 == 0:\n",
    "        return 'fizz'\n",
    "    else:\n",
    "        return str(n)"
   ]
  },
  {
   "cell_type": "code",
   "execution_count": null,
   "id": "cc2650fc-c9fa-450c-b9b2-59c9653bf631",
   "metadata": {},
   "outputs": [],
   "source": []
  },
  {
   "cell_type": "markdown",
   "id": "eb0eca83-9a64-4a9d-9a26-f5aa13215aca",
   "metadata": {},
   "source": [
    "### Zählen mit einem Dictionary"
   ]
  },
  {
   "cell_type": "code",
   "execution_count": null,
   "id": "cad65ef9-821f-4f77-912a-62e9a63750db",
   "metadata": {},
   "outputs": [],
   "source": [
    "s = 'abcabaccc' \n",
    "character_count = {}\n",
    "\n",
    "for ch in s :\n",
    "    character_count[ch] = character_count.get(ch, 0) + 1\n",
    "    \n",
    "character_count   "
   ]
  },
  {
   "cell_type": "code",
   "execution_count": null,
   "id": "78d27fa8-65ce-4f8c-8359-c6f9eea3a7b4",
   "metadata": {},
   "outputs": [],
   "source": [
    "s = 'abcabaccc' \n",
    "character_positions = {}\n",
    "\n",
    "for i, ch in enumerate(s):\n",
    "    character_positions.setdefault(ch, []).append(i)\n",
    "    \n",
    "character_positions "
   ]
  }
 ],
 "metadata": {
  "kernelspec": {
   "display_name": "Python 3 (ipykernel)",
   "language": "python",
   "name": "python3"
  },
  "language_info": {
   "codemirror_mode": {
    "name": "ipython",
    "version": 3
   },
   "file_extension": ".py",
   "mimetype": "text/x-python",
   "name": "python",
   "nbconvert_exporter": "python",
   "pygments_lexer": "ipython3",
   "version": "3.9.10"
  }
 },
 "nbformat": 4,
 "nbformat_minor": 5
}
