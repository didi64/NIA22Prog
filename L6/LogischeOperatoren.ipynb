{
 "cells": [
  {
   "cell_type": "markdown",
   "id": "97f0076a-06cb-44dc-b95a-dbf9e7e22353",
   "metadata": {},
   "source": [
    "## Logische Operatoren: `or, and, not`  \n",
    "\n",
    "1. Objekte vom Typ `bool` (`True, False)`:\n",
    "    - `x and y` ist `True` genau dann wenn `x` und `y` `True` sind, sonst ```False```\n",
    "    - `x or y` ist `True` genau dann wenn `x` oder  `y` `True` ist, sonst `False`\n",
    "    - `not True` ist `False` und `not False` ist `True`    \n",
    "    \n",
    "<br> \n",
    "\n",
    "2. Beliebige Objekte:\n",
    "    - `x and y` ist `x`, falls `bool(x) = False`, sonst `y` \n",
    "        - ist `bool(x) = False`, ist `y` irrelevant  \n",
    "        - ist `bool(x) = True`, ist nur noch `y` relevant\n",
    "    - `x or  y` ist `x`, falls `bool(x) = True`, sonst `y`\n",
    "        - ist `bool(x) = True`, ist `y` irrelevant  \n",
    "        - ist `bool(x) = False`, ist nur noch `y` relevant\n",
    "    - `not x` ist `not bool(x)`\n",
    "    \n",
    "**Aufgabe**: Verifiziere, dass die 2. Definition von `and, or, not` \n",
    "auf Objekten vom Typ `bool` die gleichen Resultate produziert wie die 1. Definition."
   ]
  },
  {
   "cell_type": "code",
   "execution_count": 2,
   "id": "0853dac3-ecb3-4317-b585-05f472fe1d50",
   "metadata": {
    "tags": []
   },
   "outputs": [
    {
     "name": "stdout",
     "output_type": "stream",
     "text": [
      "Verhalten von and, or und not auf True und False:\n",
      "\n",
      "NOT\n",
      " │ x     │ not x │ \n",
      " │ ━━━━━ │ ━━━━━ │ \n",
      " │ True  │ False │ \n",
      " │ False │ True  │ \n",
      "\n",
      "AND\n",
      " │ x     │ y     │ x and y │ \n",
      " │ ━━━━━ │ ━━━━━ │ ━━━━━━━ │ \n",
      " │ True  │ True  │ True    │ \n",
      " │ True  │ False │ False   │ \n",
      " │ False │ True  │ False   │ \n",
      " │ False │ False │ False   │ \n",
      "\n",
      "OR\n",
      " │ x     │ y     │ x or y │ \n",
      " │ ━━━━━ │ ━━━━━ │ ━━━━━━ │ \n",
      " │ True  │ True  │ True   │ \n",
      " │ True  │ False │ True   │ \n",
      " │ False │ True  │ True   │ \n",
      " │ False │ False │ False  │ \n"
     ]
    }
   ],
   "source": [
    "import sys\n",
    "if '/home/jovyan/work/NIA22Prog/src' not in sys.path:\n",
    "    sys.path.insert(0, '/home/jovyan/work/NIA22Prog/src') \n",
    "\n",
    "from toolbox import table2str\n",
    "vals = (True, False)\n",
    "\n",
    "rows_not = [(x, not x)      for x in vals]\n",
    "rows_and = [(x, y, x and y) for x in vals for y in vals]\n",
    "rows_or  = [(x, y, x or y)  for x in vals for y in vals]\n",
    "\n",
    "print('Verhalten von and, or und not auf True und False:\\n')\n",
    "print('NOT\\n'   + table2str(('x', 'not x'),        rows_not))\n",
    "print('\\nAND\\n' + table2str(('x', 'y', 'x and y'), rows_and  ))\n",
    "print('\\nOR\\n'  + table2str(('x', 'y', 'x or y'),  rows_or  ))"
   ]
  },
  {
   "cell_type": "markdown",
   "id": "41ae05a1-cbd9-44f7-a865-27bdd4a1820d",
   "metadata": {},
   "source": [
    "### Logische Operatoren statt if-elif-else:\n",
    "\n",
    "Sind `bool(<EXP1(x)>)` und `bool(<EXP2(x)>)` verschieden von `False`, dann ist\n",
    "```python\n",
    "def f(x):\n",
    "    if <exp1>:\n",
    "        return <EXP1(x)>\n",
    "    elif <exp2>:\n",
    "        return <EXP2(x)>  \n",
    "    else:\n",
    "        return <EXP(x)>  \n",
    "```\n",
    "&auml;quivalent zu\n",
    "```python\n",
    "def f(x):\n",
    "    return ((<exp1> and <EXP1(x)>) or (<exp2> and <EXP2(x)>)) or <EXP>  \n",
    "```\n",
    "&auml;quivalent zu\n",
    "```python\n",
    "def f(x):\n",
    "    return <exp1> and <EXP1(x)> or <exp2> and <EXP2(x)> or <EXP>  \n",
    "```\n",
    "(bei gleicher Priorit&auml;t werden Operatoren von links nach rechts abgearbeitet,  \n",
    "weiter hat **`and`** h&ouml;here Priorit&auml;t als **`or`**)"
   ]
  },
  {
   "cell_type": "code",
   "execution_count": 7,
   "id": "ef9d446f-7931-4b4d-9fd0-5756d0d654fd",
   "metadata": {},
   "outputs": [],
   "source": [
    "# 2 Implementationen der sign-Funktion\n",
    "\n",
    "def sign1(x):\n",
    "    '''returns the sign of the number x'''\n",
    "    if x < 0:\n",
    "        return -1\n",
    "    if x > 0:\n",
    "        return 1\n",
    "    else:\n",
    "        return 0\n",
    "\n",
    "def sign(x):\n",
    "    '''returns the sign of the number x'''\n",
    "    return (x<0 and -1) or (x>0 and 1) or 0"
   ]
  },
  {
   "cell_type": "code",
   "execution_count": 6,
   "id": "24738c4a-ed3f-4a03-a611-153101d4f59f",
   "metadata": {},
   "outputs": [
    {
     "data": {
      "text/plain": [
       "[(-2, True), (0, True), (5, True)]"
      ]
     },
     "execution_count": 6,
     "metadata": {},
     "output_type": "execute_result"
    }
   ],
   "source": [
    "res = []\n",
    "for x in [-2,0,5]:\n",
    "    res.append((x, sign1(x) == sign(x)))\n",
    "res    "
   ]
  },
  {
   "cell_type": "markdown",
   "id": "d76b472d-1c3e-488c-a903-85dde8c6dbf9",
   "metadata": {},
   "source": [
    "### Aufgabe: T&uuml;cken von Fallunterscheidungen mit `and`, `or`\n",
    "Betrachte die n&auml;chste Zelle.  \n",
    "Definiere die Liste `l` so, dass  Variante 2 einen anderen Output produziert als Variante 1.  \n",
    "Finde mehrere L&ouml;sungen."
   ]
  },
  {
   "cell_type": "code",
   "execution_count": 15,
   "id": "4d3d6871-572a-4ee5-914c-a6c82cf7de70",
   "metadata": {},
   "outputs": [
    {
     "name": "stdout",
     "output_type": "stream",
     "text": [
      "abc\n",
      "abc\n"
     ]
    }
   ],
   "source": [
    "l = ['abc']\n",
    "\n",
    "# Variante 1\n",
    "if l: # Liste nicht leer\n",
    "    print(l[0])\n",
    "else:\n",
    "    print('Liste ist leer!')\n",
    "    \n",
    "# Variante 2\n",
    "print(l and l[0] or 'Liste ist leer!')"
   ]
  }
 ],
 "metadata": {
  "kernelspec": {
   "display_name": "Python 3 (ipykernel)",
   "language": "python",
   "name": "python3"
  },
  "language_info": {
   "codemirror_mode": {
    "name": "ipython",
    "version": 3
   },
   "file_extension": ".py",
   "mimetype": "text/x-python",
   "name": "python",
   "nbconvert_exporter": "python",
   "pygments_lexer": "ipython3",
   "version": "3.9.10"
  }
 },
 "nbformat": 4,
 "nbformat_minor": 5
}
