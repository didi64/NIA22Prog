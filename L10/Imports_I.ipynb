{
 "cells": [
  {
   "cell_type": "markdown",
   "id": "ca6cf7d7-397a-4218-be75-5ed2f109044b",
   "metadata": {
    "tags": []
   },
   "source": [
    "### Imports I\n",
    "- Ein File mit Python-Code (z.B. **minitoolbox.py**) ist ein \n",
    "[Modul](https://docs.python.org/3/tutorial/modules.html)\n",
    "  (bez. kann als Modul betrachtet werden).\n",
    "  Die Anweisung  \n",
    "  ```python\n",
    "  import minitoolbox  \n",
    "  \n",
    "  \n",
    "  ```  \n",
    "    - sucht im aktuellen Verzeichnis \n",
    "(und weiteren vorkonfigurierten Verzeichnissen) nach dem File\n",
    "`minitoolbox.py`\n",
    "    - f&uuml;hrt folgenden Code aus:  \n",
    "      ```python\n",
    "      __name__ = 'minitoolbox'\n",
    "      Code im File minitoolbox.py \n",
    "      \n",
    "      ```\n",
    "      &nbsp;  \n",
    "      Um Nameskonflikte zu vermeiden, wird allen Variabelnamen, \n",
    "      die beim Ausf&uuml;hren von `minitoolbox.py` definiert werden der Prefix **minitoolbox.** vorangestellt. Man sagt auch, diese Variablen leben im  **Namesraum** `minitoolbox`.\n",
    " \n",
    "      Sie k&ouml;nnen von nun an verwendet werden, z.B.\n",
    "      \n",
    "```python\n",
    "    import minitoolbox\n",
    "    \n",
    "    print(minitoolbox.__name__)  # minitoolbox\n",
    "    x = minitoolbox.PI\n",
    "    print(minitoolbox.double(x)) # 6.2...\n",
    "```\n",
    "&nbsp;\n",
    "- Weitere Methoden ein Module (oder **Funktionen** oder **Variabeln** von einem Modul) zu importieren sind:\n",
    "```python\n",
    "    import minitoolbox as tb\n",
    "    from minitoolbox import double\n",
    "    from minitoolbox import PI as mypi\n",
    "```  \n",
    "&nbsp;\n",
    "    - `import minitoolbox as tb` benennt den Namesraum 'minitoolbox' auf 'tb' um.  \n",
    "  Statt mit `minitoolbox.PI` k&ouml;nnen wir nun mit `tb.PI` auf die Variable zugreifen.\n",
    "     - `from minitoolbox import double` weist `minitoolbox.double` der Variable `double` zu.    \n",
    "       Der Namesraum `minitoolbox` bleibt **versteckt**.  \n",
    "       **Achtung**: Ist die Variable `double` bereits definiert, wird sie &uuml;berschreiben.\n",
    "&nbsp;\n",
    "- Egal wie oft `minitoolbox` im Kontext eines Importstatements vorkommt,  \n",
    "  **minitoolbox.py** wird **nur einmal ausgef&uuml;hrt**!  \n",
    "  Es sei denn, wir starten den Kernel neu oder verwenden **Cell-Magic** (siehe weiter unten).\n",
    "  "
   ]
  },
  {
   "cell_type": "markdown",
   "id": "4fce1cb5-90dc-4be2-8787-faee57bf4ace",
   "metadata": {},
   "source": [
    "***\n",
    "Nun importieren wir minitoolbox.   \n",
    "Anhand der print-statements sehen wir, dass minitoolbox.py \n",
    "ausgef&uuml;hrt wird\n",
    "***"
   ]
  },
  {
   "cell_type": "code",
   "execution_count": null,
   "id": "187b3bf6-5072-4e60-ac1d-721e016c8235",
   "metadata": {},
   "outputs": [],
   "source": [
    "import minitoolbox"
   ]
  },
  {
   "cell_type": "code",
   "execution_count": null,
   "id": "77d6a58a-b204-49e1-bfb8-44d40b8a0522",
   "metadata": {},
   "outputs": [],
   "source": [
    "help(minitoolbox)"
   ]
  },
  {
   "cell_type": "code",
   "execution_count": null,
   "id": "91124677-77f3-4ddc-866a-402a95dc1eb7",
   "metadata": {},
   "outputs": [],
   "source": [
    "minitoolbox, minitoolbox.PI, minitoolbox.double"
   ]
  },
  {
   "cell_type": "code",
   "execution_count": null,
   "id": "4b9c4a7d-630e-4e44-89e7-52f0944ccfb6",
   "metadata": {},
   "outputs": [],
   "source": [
    "minitoolbox.double(5)"
   ]
  },
  {
   "cell_type": "markdown",
   "id": "e31d4304-0830-4578-a4fc-0b79d6597fb3",
   "metadata": {},
   "source": [
    "***\n",
    "**Beachte**:  \n",
    "`help(minitoolbox)` zeigt uns alle Variablen im Namesraum `minitoolbox`( **ausser** jene, die mit\n",
    "'_' beginnen) getrennt nach Funktionen und Daten.  \n",
    "***    "
   ]
  },
  {
   "cell_type": "code",
   "execution_count": null,
   "id": "dc5aaf71-0f0c-406c-b7bf-b9139de1659b",
   "metadata": {},
   "outputs": [],
   "source": [
    "import minitoolbox # Code wird nicht mehr ausgefuehrt"
   ]
  },
  {
   "cell_type": "code",
   "execution_count": null,
   "id": "b0e2e252-5b93-4e69-91b5-e5371eddd3c2",
   "metadata": {},
   "outputs": [],
   "source": [
    "from minitoolbox import double as dbl # Code wird nicht mehr ausgefuehrt\n",
    "dbl(5)"
   ]
  },
  {
   "cell_type": "markdown",
   "id": "cd1f8743-26be-4dbb-bdfc-08c3d4098606",
   "metadata": {},
   "source": [
    "***\n",
    "Folgende **Cell-Magic** reimportiert ge&auml;nderte Files.\n",
    "***"
   ]
  },
  {
   "cell_type": "code",
   "execution_count": null,
   "id": "62156532-a8ff-40e4-8e3d-80e928e2c807",
   "metadata": {},
   "outputs": [],
   "source": [
    "%load_ext autoreload\n",
    "%autoreload 2"
   ]
  },
  {
   "cell_type": "code",
   "execution_count": null,
   "id": "2a2bd22a-badd-4094-9774-82441a8c0c90",
   "metadata": {},
   "outputs": [],
   "source": [
    "# markiert minitoolbox.py als ge&auml;ndert\n",
    "!touch minitoolbox.py "
   ]
  },
  {
   "cell_type": "code",
   "execution_count": null,
   "id": "825e47a9-02ec-4833-a2fd-71bfe6fe5c15",
   "metadata": {},
   "outputs": [],
   "source": [
    "import minitoolbox # Code wird wieder ausgefuehrt"
   ]
  },
  {
   "cell_type": "markdown",
   "id": "8c9bdb8e-8d87-41c7-8fea-d225e3d8f448",
   "metadata": {},
   "source": [
    "## Bemerkungen:\n",
    "- `import minitoobox`  und `import minitoolbox as mtb` ist die empfohlene Art  zu importieren. \n",
    "- Kein unbeabsichtigtes &Uuml;berschreiben von Variablen.\n",
    "- Beim Lesen von Code ist z.B. klar, wo z.b. mtb.f() herkommt. Zum groben Verst&auml;ndnis von Code gen&uuml;gt es oft zu wissen, dass mtp.f() etwas mtb-spezifisches tut."
   ]
  },
  {
   "cell_type": "markdown",
   "id": "27c2fa0d-9c89-4f0b-ab37-b2594b2c924f",
   "metadata": {},
   "source": [
    "### Aufgabe 1\n",
    "`%load minitoolbox.py` &ouml;ffnet minitoolbox.py in der n&auml;chsten Zelle.\n",
    "F&uuml;hren wir den Code aus, so sehen wir, dass `__name__` den Wert `'__main__'` hat.  \n",
    "Nutze dies aus, um den Test der Funktion `double`nur auszuf&uuml;hren, falls \n",
    "der Code von `minitoolbox.py` direkt ausgef&uuml;hrt wird, nicht aber, wenn \n",
    "`minitoolbox.py` importiert wird."
   ]
  },
  {
   "cell_type": "code",
   "execution_count": null,
   "id": "2ac597ba-ccb9-4cd0-8cce-018ba01923dc",
   "metadata": {},
   "outputs": [],
   "source": [
    "%load minitoolbox.py"
   ]
  },
  {
   "cell_type": "markdown",
   "id": "71b56d2d-de5c-47ab-b4bf-64c8d063d5e4",
   "metadata": {},
   "source": [
    "### Aufgabe 2  \n",
    "Importiere das Modul ortschaften, gib den Hilfstext dazu aus und probiere die darin implementierten Funktionen aus."
   ]
  },
  {
   "cell_type": "markdown",
   "id": "5d94b7fa-836a-450d-a23a-28494a110ad5",
   "metadata": {
    "jp-MarkdownHeadingCollapsed": true,
    "tags": []
   },
   "source": [
    "### Aufgabe 3 \n",
    "Erstelle ein Modul `my_csv.py` welches folgende Funktionen implementiert:  \n",
    "(wir nennen das Modul `my_csv.py`, da es bereits ein Pythonmodul `csv.py` gibt,\n",
    "und der Befehl `import csv` diese Modul importieren w&uuml;rde).\n",
    "```python\n",
    "'''\n",
    "Module zum Lesen einer .csv Datei \n",
    "als Liste oder Tabellenstring.\n",
    "'''\n",
    "from toolbox import table2str\n",
    "\n",
    "def csv2list(file, sep = ',', fields = None):\n",
    "    '''returns a list of lists\n",
    "    \n",
    "       file:   filepath\n",
    "       sep:    string that separates fields\n",
    "       fields: tuple of fields to extract\n",
    "    '''   \n",
    "    pass\n",
    "\n",
    "def csv2tablestr(file, m=None, n=None, sep = ',', fields = None):\n",
    "    '''returns content of csv-File as a tablestring\n",
    "    \n",
    "       file:   filepath\n",
    "       m,n:    integer or None\n",
    "               if m is None, all rows are returned\n",
    "               else, only the header plus the first m rows \n",
    "               are returned, plus the last n rows if n is not None\n",
    "               \n",
    "       sep:    string that separates fields\n",
    "       fields: tuple of fields to extract\n",
    "    '''\n",
    "    pass\n",
    "\n",
    "# implementiere einen Test    \n",
    "if __name__ == '__main__':\n",
    "    pass\n",
    "    #\n",
    "```    "
   ]
  },
  {
   "cell_type": "code",
   "execution_count": null,
   "id": "037edb85-7fe3-4c80-8337-2b41c7022bb1",
   "metadata": {},
   "outputs": [],
   "source": []
  }
 ],
 "metadata": {
  "kernelspec": {
   "display_name": "Python 3 (ipykernel)",
   "language": "python",
   "name": "python3"
  },
  "language_info": {
   "codemirror_mode": {
    "name": "ipython",
    "version": 3
   },
   "file_extension": ".py",
   "mimetype": "text/x-python",
   "name": "python",
   "nbconvert_exporter": "python",
   "pygments_lexer": "ipython3",
   "version": "3.9.10"
  }
 },
 "nbformat": 4,
 "nbformat_minor": 5
}
