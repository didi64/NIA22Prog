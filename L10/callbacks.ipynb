{
 "cells": [
  {
   "cell_type": "code",
   "execution_count": null,
   "id": "0b5b71de-644b-40c6-9867-07e4a57b81bf",
   "metadata": {},
   "outputs": [],
   "source": []
  },
  {
   "cell_type": "code",
   "execution_count": 1,
   "id": "b7a74672-6a31-485a-af1e-8b0b4005c208",
   "metadata": {},
   "outputs": [],
   "source": [
    "import ipywidgets as widgets\n",
    "from ipycanvas import MultiCanvas"
   ]
  },
  {
   "cell_type": "code",
   "execution_count": 2,
   "id": "7cb0d712-b26c-464b-b6c1-09f8d1ed70b1",
   "metadata": {},
   "outputs": [],
   "source": [
    "MultiCanvas.callbacks = {'on_mouse_down': [],\n",
    "                         'on_mouse_move': [],\n",
    "                         'on_mouse_up'  : [],\n",
    "                        }\n",
    "\n",
    "def add_callback(canvas, event, fun, add = False):\n",
    "    '''add a  callback\n",
    "       if add is False, all previously added callbacks are\n",
    "       first removed\n",
    "    '''   \n",
    "    _add_callback = getattr(canvas, event)\n",
    "    if add:\n",
    "        MultiCanvas.callbacks[event].append(fun)\n",
    "        _add_callback(fun)\n",
    "    else:    \n",
    "        for f in MultiCanvas.callbacks[event]:\n",
    "            _add_callback(f, remove = True)\n",
    "            \n",
    "        MultiCanvas.callbacks[event].clear()\n",
    "        MultiCanvas.callbacks[event].append(fun)\n",
    "        _add_callback(fun)\n",
    "        \n",
    "def remove_callbacks(canvas):\n",
    "    '''remove all callbacks for all events'''\n",
    "    for event, funs in MultiCanvas.callbacks.items():\n",
    "        _add_callback = getattr(canvas, event)\n",
    "        for f in funs:\n",
    "            _add_callback(f, remove = True)\n",
    "        funs.clear()    \n",
    "        \n",
    "MultiCanvas.add_callback     =  add_callback \n",
    "MultiCanvas.remove_callbacks =  remove_callbacks "
   ]
  },
  {
   "cell_type": "code",
   "execution_count": 5,
   "id": "3408c42b-e3e1-4831-98a5-7dc5ce64c60e",
   "metadata": {},
   "outputs": [
    {
     "data": {
      "application/vnd.jupyter.widget-view+json": {
       "model_id": "fc6ebd59f5b549219367d693eed077e4",
       "version_major": 2,
       "version_minor": 0
      },
      "text/plain": [
       "MultiCanvas(height=200, width=200)"
      ]
     },
     "metadata": {},
     "output_type": "display_data"
    }
   ],
   "source": [
    "mcanvas = MultiCanvas(3,width=200,height=200)\n",
    "mcanvas[0].stroke_rect(0,0,200,200)\n",
    "mcanvas"
   ]
  },
  {
   "cell_type": "code",
   "execution_count": 9,
   "id": "20eceea0-c9cc-4485-841b-2b4604e28c5c",
   "metadata": {},
   "outputs": [
    {
     "data": {
      "application/vnd.jupyter.widget-view+json": {
       "model_id": "ac13f858d8d745af9cf8bd04baae8383",
       "version_major": 2,
       "version_minor": 0
      },
      "text/plain": [
       "Output(layout=Layout(border='2px solid black', height='100px', width='100%'))"
      ]
     },
     "metadata": {},
     "output_type": "display_data"
    }
   ],
   "source": [
    "out_layout = widgets.Layout(width  = '100%', \n",
    "                            height = '100px', \n",
    "                            border = '2px solid black'\n",
    "                           )\n",
    "out = widgets.Output(layout = out_layout)\n",
    "display(out)"
   ]
  },
  {
   "cell_type": "code",
   "execution_count": 10,
   "id": "41c14436-27c2-4e06-8f9b-f64f0e8bc17b",
   "metadata": {},
   "outputs": [],
   "source": [
    "def click(x,y):\n",
    "    with out:\n",
    "        print(x,y)"
   ]
  },
  {
   "cell_type": "code",
   "execution_count": 11,
   "id": "5e9ef8a2-3229-4024-982b-401a05cc49f6",
   "metadata": {},
   "outputs": [],
   "source": [
    "mcanvas.add_callback('on_mouse_down', click)"
   ]
  },
  {
   "cell_type": "code",
   "execution_count": 13,
   "id": "1d52e08c-a7be-46c0-a129-630d785b73f0",
   "metadata": {},
   "outputs": [
    {
     "data": {
      "text/plain": [
       "{'on_mouse_down': [<function __main__.click(x, y)>],\n",
       " 'on_mouse_move': [],\n",
       " 'on_mouse_up': []}"
      ]
     },
     "execution_count": 13,
     "metadata": {},
     "output_type": "execute_result"
    }
   ],
   "source": [
    "#getattr(mcanvas,callbacks)\n",
    "mcanvas.callbacks"
   ]
  },
  {
   "cell_type": "code",
   "execution_count": null,
   "id": "7f1f9759-8587-4e60-8c25-3cde0dce9d77",
   "metadata": {},
   "outputs": [],
   "source": []
  }
 ],
 "metadata": {
  "kernelspec": {
   "display_name": "Python 3 (ipykernel)",
   "language": "python",
   "name": "python3"
  },
  "language_info": {
   "codemirror_mode": {
    "name": "ipython",
    "version": 3
   },
   "file_extension": ".py",
   "mimetype": "text/x-python",
   "name": "python",
   "nbconvert_exporter": "python",
   "pygments_lexer": "ipython3",
   "version": "3.9.10"
  }
 },
 "nbformat": 4,
 "nbformat_minor": 5
}
