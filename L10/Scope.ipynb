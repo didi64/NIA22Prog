{
 "cells": [
  {
   "cell_type": "markdown",
   "id": "4894850b-fdd1-4227-a6f2-61bac38fbfda",
   "metadata": {
    "tags": []
   },
   "source": [
    "### Scope\n",
    "\n",
    "**Scope** bezeichnet einen Bereich des Codes, innerhalb dessen ein Variabelnamen g&uuml;ltig ist. Man unterscheidet zwischen vordefinierten Variabelnamen (**built-ins**), ausserhalb einer Funktion definierten Variabeln (**globale** Variablen) und\n",
    "innerhalb einer Funktion definierten Variabeln (**lokale** Variabeln). Beachte, dass Funktionen auch innerhalb von Funktionen definiert werden k&ouml;nnen.\n",
    "\n",
    "  - Eine Funktion hat ihre eigenen (**lokalen**) Variablen, bez. \n",
    "    jede Funktion hat ihre eigene (lokale) **Scope**.  \n",
    "  - Eine Funktionsdefinition &ouml;ffnet eine neue **Scope**.  \n",
    "    Wird innerhalb der Funktion eine weitere Funktion definiert,\n",
    "    wird eine weitere Scope ge&ouml;ffnet.\n",
    "    Die Scope der &auml;usseren Funktion ist die umgebende (**enclosing**) Scope \n",
    "    der inneren Funktion.\n",
    "    \n",
    "<img width = '300px' src='../../NIA22Prog/images/scopes.png'>\n",
    "\n",
    "**Nachtrag zu Funktionen**:  \n",
    "Funktionen k&ouml;nnen nicht-lokale Variablen &auml;ndern (Schreibzugriff).  \n",
    "Dazu muss zu Beginn des Funktionsbodys deklariert werden, zu welcher Scope der betreffende Variabelnamen geh&ouml;rt:\n",
    "\n",
    "- `global x`: Teilt der Funktion mit, dass `x` der Name einer Variablen in der globalen Scope ist.\n",
    "- `nonlocal x`: Teilt der Funktion mit, dass `x` der Name einer Variablen in einer enclosing Scope ist. Ist `x` in verschiedenen enclosing Scopes definiert, wird das `x` in der innersten enclosing Scope genommen.\n"
   ]
  },
  {
   "cell_type": "markdown",
   "id": "e7dd4a77-13d7-4978-a1f8-306a8fa98362",
   "metadata": {},
   "source": [
    "***\n",
    "Global, enclosing and local Scope\n",
    "***"
   ]
  },
  {
   "cell_type": "code",
   "execution_count": null,
   "id": "85565633-c657-4430-bba7-9cd07239d604",
   "metadata": {},
   "outputs": [],
   "source": [
    "x = 'in the global scope.'\n",
    "\n",
    "def f():\n",
    "    x = 'in the local scope of f, the enclosing scope of g.'\n",
    "    print('f says, x is' , x)\n",
    "    def g():\n",
    "        x = 'in the local scope of g.'\n",
    "        print('g says, x is' , x)\n",
    "    g()    \n",
    "\n",
    "f()\n",
    "print('print says, x is', x)"
   ]
  },
  {
   "cell_type": "markdown",
   "id": "98b46bf7-3d2f-44e0-920d-d7396355c3be",
   "metadata": {},
   "source": [
    "***\n",
    "Funktion: Schreibzugriff auf globale Variable \n",
    "***"
   ]
  },
  {
   "cell_type": "code",
   "execution_count": null,
   "id": "f35c3425-5df0-43ac-a225-4c27c4eb3d7f",
   "metadata": {},
   "outputs": [],
   "source": [
    "x = 0 # global\n",
    "def inc_x():\n",
    "    global x # \n",
    "    x = x + 1 # \n",
    "    print('global x: {}'.format(x)) "
   ]
  },
  {
   "cell_type": "code",
   "execution_count": null,
   "id": "61e646c5-faac-496c-b528-901789166e67",
   "metadata": {},
   "outputs": [],
   "source": [
    "inc_x()\n",
    "x"
   ]
  },
  {
   "cell_type": "markdown",
   "id": "d404056e-8e7c-4bce-a4ff-3899750e7af0",
   "metadata": {},
   "source": [
    "***\n",
    "Funktion: Schreibzugriff auf Variable in einer enclosing Scope\n",
    "***"
   ]
  },
  {
   "cell_type": "code",
   "execution_count": null,
   "id": "023c22b3-5a59-4d6d-a3c4-99dbdab50aae",
   "metadata": {},
   "outputs": [],
   "source": [
    "x = 0 # global\n",
    "def f():\n",
    "    x = 'bar' # x local to f\n",
    "    def g():\n",
    "        nonlocal x # x in der Scope von f\n",
    "        x = 'foo' + x \n",
    "        print('x nonlocal to g: {}'.format(x))\n",
    "    g()\n",
    "    print('x local to f: {}'.format(x))\n",
    "\n",
    "f()\n",
    "x"
   ]
  },
  {
   "cell_type": "code",
   "execution_count": null,
   "id": "5e1b3fea-6fa2-46c0-a5c4-7b20f1e85d79",
   "metadata": {},
   "outputs": [],
   "source": [
    "x = 0 # global\n",
    "def f():\n",
    "    x = 'bar' # x local to f\n",
    "    def g(): \n",
    "        def h():\n",
    "            nonlocal x \n",
    "            x = 'foo' + x \n",
    "            print('x nonlocal to g: {}'.format(x))\n",
    "        h()    \n",
    "    g()\n",
    "        \n",
    "    print('x local to f: {}'.format(x))\n",
    "\n",
    "f()\n",
    "x"
   ]
  },
  {
   "cell_type": "markdown",
   "id": "3c42468f-121f-4e54-b673-3ffbb0fc4e5a",
   "metadata": {},
   "source": [
    "**Bemerkungen**  \n",
    "- die Verwendung des Keywords `global` gilt als schlechter Programmierstil:  \n",
    "  Funktionen sollten nicht auf globale Variabeln zugreifen, mit Ausnahme von globalen Konstanten und\n",
    "  nat&uuml;rlich Funktionen\n",
    "- eine Funktion sollte nur Objekte ver&auml;ndern, welche ihr als Argumente &uuml;bergeben wurden\n",
    "- **umbenennen** von Variablen (ausser Konstanten) sollte das Verhalten einer Funktion nicht **&auml;ndern**"
   ]
  },
  {
   "cell_type": "markdown",
   "id": "13ac9c1e-5a0f-42d4-8120-f3005509c055",
   "metadata": {},
   "source": [
    "### Nachtrag\n",
    "Im Notebook zu [Listcomprehension](./NIA22Prog/L5/Listcomprehension.ipynb) steht, dass z.B.\n",
    "\n",
    "```python\n",
    "lst = [x for x in range(3)]\n",
    "```\n",
    "\n",
    "eine Kurzform sei von\n",
    "\n",
    "```python\n",
    "lst = []\n",
    "for x in range(3):\n",
    "    lst.append(x)\n",
    "```\n",
    "\n",
    "Das ist nicht **ganz** richtig:  \n",
    "Die 2. Variante f&uuml;hrt eine globale Variable `x` in die globale Scope ein.\n",
    "\n",
    "Der Befehl **`globals()`** liefert einen Dictionary der Form\n",
    "`{<Variablenamen>: <Wert>,...}` f&uuml;r alle Variabelnamen in der globalen Scope.\n",
    "\n",
    "\n"
   ]
  },
  {
   "cell_type": "code",
   "execution_count": null,
   "id": "fe9b7310-c4fa-4a84-ba5b-f8d42d932d61",
   "metadata": {},
   "outputs": [],
   "source": [
    "jupyterlab_variables = ['In', 'Out', 'get_ipython', 'exit', 'quit', 'sys']\n",
    "{k:v for k,v in globals().items()\\\n",
    "  if not k.startswith('_') and k not in jupyterlab_variables}"
   ]
  },
  {
   "cell_type": "code",
   "execution_count": null,
   "id": "2264db80-9b50-4bbe-b74f-135ec03e3e30",
   "metadata": {},
   "outputs": [],
   "source": [
    "if 'x' in globals(): del x\n",
    "lst1 = [x for x in range(3)]\n",
    "   \n",
    "# print(x) # NameError: name 'x' is not defined\n",
    "print(globals().get('x'))\n",
    "\n",
    "lst2 = []\n",
    "for x in range(3):\n",
    "    lst2.append(x)\n",
    "\n",
    "print(x)    "
   ]
  }
 ],
 "metadata": {
  "kernelspec": {
   "display_name": "Python 3 (ipykernel)",
   "language": "python",
   "name": "python3"
  },
  "language_info": {
   "codemirror_mode": {
    "name": "ipython",
    "version": 3
   },
   "file_extension": ".py",
   "mimetype": "text/x-python",
   "name": "python",
   "nbconvert_exporter": "python",
   "pygments_lexer": "ipython3",
   "version": "3.9.10"
  }
 },
 "nbformat": 4,
 "nbformat_minor": 5
}
