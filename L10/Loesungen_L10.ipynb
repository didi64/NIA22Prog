{
 "cells": [
  {
   "cell_type": "markdown",
   "id": "6df3597a-c00c-4e34-8f9a-c6fed3225f5f",
   "metadata": {},
   "source": [
    "### L&ouml;sungen L10"
   ]
  },
  {
   "cell_type": "markdown",
   "id": "4b1891af-e568-4be6-8616-11d9707f1ae0",
   "metadata": {},
   "source": [
    "**1) Modifikation an minitoolbox.py**  \n",
    "Tests soll beim Laden des Moduls nicht ausgef&uuml;hrt werden."
   ]
  },
  {
   "cell_type": "code",
   "execution_count": 18,
   "id": "e9d36e6a-4489-4551-b339-d08378d5c0a5",
   "metadata": {},
   "outputs": [
    {
     "name": "stdout",
     "output_type": "stream",
     "text": [
      "minitoolbox.py ausgefuehrt\n",
      "__name__ = 'minitoolbox'\n",
      "testing double for values 0,...,9\n",
      "0,2,4,6,8,10,12,14,16,18,"
     ]
    }
   ],
   "source": [
    "import minitoolbox"
   ]
  },
  {
   "cell_type": "markdown",
   "id": "20caa5e0-907e-4aab-addb-1f9d6e752bbf",
   "metadata": {},
   "source": [
    "***\n",
    "Siehe unten: Der Code nach  \n",
    "\n",
    "```python\n",
    "if __name__ == '__main__':   \n",
    "``` \n",
    "\n",
    "wird beim Laden des Moduls nicht ausgef&uuml;hrt, da dann\n",
    "die Variable `__name__` den Wert `minitoolbox` hat.\n",
    "***"
   ]
  },
  {
   "cell_type": "code",
   "execution_count": null,
   "id": "9a54c7a4-a603-4f65-aff4-7b277cd6575b",
   "metadata": {},
   "outputs": [],
   "source": [
    "# %load /home/jovyan/work/NIA22Prog/L10/minitoolbox.py\n",
    "'''\n",
    "Beispiel eines Moduls.\n",
    "Soll demonstrieren, wie Imports funktionieren.\n",
    "'''\n",
    "    \n",
    "# functions   \n",
    "def double(x):\n",
    "    '''gibt das Doppelte von x zurueck'''\n",
    "    return 2*x\n",
    "\n",
    "def print_PI():\n",
    "    print(PI)\n",
    "    \n",
    "# data\n",
    "PI = 3.1415926535\n",
    "\n",
    "print('minitoolbox.py ausgefuehrt')\n",
    "\n",
    "# nach 'import minitoolbox' hat\n",
    "# die Variable __name__ den Wert 'minitoolbox'\n",
    "print(\"{} = '{}'\".format('__name__', __name__)) \n",
    "\n",
    "# teste Modul\n",
    "if __name__ == '__main__':\n",
    "    print('testing double for values 0,...,9')\n",
    "    for i in range(10):\n",
    "        print(double(i), end =',')"
   ]
  },
  {
   "cell_type": "markdown",
   "id": "76759364-5818-4c36-8981-44b7becfc0a3",
   "metadata": {},
   "source": [
    "**2) Module ortschaften ausprobieren**"
   ]
  },
  {
   "cell_type": "code",
   "execution_count": 1,
   "id": "a447a7da-32a8-485f-b02d-f0ec893d8a9a",
   "metadata": {},
   "outputs": [
    {
     "name": "stdout",
     "output_type": "stream",
     "text": [
      "Help on module ortschaften_ch:\n",
      "\n",
      "NAME\n",
      "    ortschaften_ch\n",
      "\n",
      "FUNCTIONS\n",
      "    cityname(name)\n",
      "        gibt den kanonischen Namen der Ortschaft zurueck\n",
      "    \n",
      "    coordinates(name)\n",
      "        gibt ein Tuple (lat, lng) zurueck\n",
      "    \n",
      "    population(name, default=500)\n",
      "        Gibt es eine Ortschaft name, so\n",
      "        wird die Bevoelkerungszahl oder der default zurueckgegeben,\n",
      "        anderfalls None\n",
      "\n",
      "DATA\n",
      "    citynames = ['Zürich', 'Geneva', 'Basel', 'Lausanne', 'Bern', 'Wintert...\n",
      "    dictlist = [{'lat': 47.3786, 'lng': 8.54, 'population': 434008}, {'lat...\n",
      "    f = <_io.BufferedReader name='/home/jovyan/work/NIA22Prog/data/citydat...\n",
      "    name_idx = {'AADORF': 165, 'AARAU': 41, 'AARBERG': 388, 'AARBURG': 191...\n",
      "\n",
      "FILE\n",
      "    /home/jovyan/work/NIA22Prog/L10/ortschaften_ch.py\n",
      "\n",
      "\n"
     ]
    }
   ],
   "source": [
    "import ortschaften_ch\n",
    "help(ortschaften_ch)"
   ]
  },
  {
   "cell_type": "code",
   "execution_count": 3,
   "id": "92a4a7eb-064f-4d40-90b5-9d5ef7c039db",
   "metadata": {},
   "outputs": [
    {
     "data": {
      "text/plain": [
       "'Zürich'"
      ]
     },
     "execution_count": 3,
     "metadata": {},
     "output_type": "execute_result"
    }
   ],
   "source": [
    "ortschaften.cityname('Zuerich')"
   ]
  },
  {
   "cell_type": "code",
   "execution_count": 4,
   "id": "ce0d0794-967c-440d-b5b2-97cd4b6393f4",
   "metadata": {},
   "outputs": [
    {
     "data": {
      "text/plain": [
       "133798"
      ]
     },
     "execution_count": 4,
     "metadata": {},
     "output_type": "execute_result"
    }
   ],
   "source": [
    "ortschaften.population('Bern')"
   ]
  },
  {
   "cell_type": "code",
   "execution_count": 5,
   "id": "028af25c-96a3-401f-be94-f0c484d41477",
   "metadata": {},
   "outputs": [],
   "source": [
    "ortschaften.population('Aesch BE')"
   ]
  },
  {
   "cell_type": "code",
   "execution_count": 6,
   "id": "dd39bd12-d019-4503-83d4-3a668b444c9b",
   "metadata": {},
   "outputs": [
    {
     "data": {
      "text/plain": [
       "1341"
      ]
     },
     "execution_count": 6,
     "metadata": {},
     "output_type": "execute_result"
    }
   ],
   "source": [
    "ortschaften.population('Aesch ZH')"
   ]
  },
  {
   "cell_type": "code",
   "execution_count": 7,
   "id": "e2895a2f-fd7a-4b05-8cf2-bb0b3a8c5c5d",
   "metadata": {},
   "outputs": [
    {
     "data": {
      "text/plain": [
       "500"
      ]
     },
     "execution_count": 7,
     "metadata": {},
     "output_type": "execute_result"
    }
   ],
   "source": [
    "ortschaften.population('Tiefencastel')"
   ]
  },
  {
   "cell_type": "markdown",
   "id": "8285e9a2-4e1d-4f8c-afd2-64eaf00a6c6c",
   "metadata": {},
   "source": [
    "***\n",
    "Module csv.py  \n",
    "Nach dem Testen, `# %%file my_csv.py` auskommentieren, damit Module geschrieben wird.\n",
    "***"
   ]
  },
  {
   "cell_type": "code",
   "execution_count": null,
   "id": "09d89653-6d24-4582-966c-d46e26608f15",
   "metadata": {},
   "outputs": [],
   "source": [
    "# %%file my_csv.py\n",
    "'''\n",
    "Module zum Lesen einer .csv Datei \n",
    "als Liste oder Tabellenstring.\n",
    "'''\n",
    "from toolbox import table2str\n",
    "\n",
    "def csv2list(file, sep = ',', fields = None):\n",
    "    '''returns a list of lists\n",
    "    \n",
    "       file:   filepath\n",
    "       sep:    string that separates fields\n",
    "       fields: tuple of fields to extract\n",
    "    '''   \n",
    "    lines = []\n",
    "    with open(file, mode = 'r') as f:\n",
    "        for line in f:\n",
    "            row = line.rstrip().split(sep)\n",
    "            if fields:\n",
    "                row = [row[i] for i in fields]\n",
    "            lines.append(row)\n",
    "    return lines\n",
    "\n",
    "def csv2tablestr(file, m=None, n=None, sep = ',', fields = None):\n",
    "    '''returns content of csv-File as a tablestring\n",
    "    \n",
    "       file:   filepath\n",
    "       m,n:    integer or None\n",
    "               if m is None, all rows are returned\n",
    "               else, only the header plus the first m rows are returned, plus the\n",
    "               last n rows if n is not None\n",
    "               \n",
    "       sep:    string that separates fields\n",
    "       fields: tuple of fields to extract\n",
    "    '''\n",
    "    lines = csv2list(file, sep, fields)\n",
    "    if m is None:\n",
    "        return table2str(lines[0], lines[1:])   \n",
    "    elif n is None:\n",
    "        return table2str(lines[0], lines[1:1+m])   \n",
    "    else:\n",
    "        return table2str(lines[0], lines[1:1+m]+lines[-n:])   \n",
    "\n",
    "if __name__ =='__main__':\n",
    "    fn = '/home/jovyan/work/NIA22Prog/data/ch.csv'\n",
    "    s = csv2tablestr(fn, 2, 2, fields=(0,1,2,7))\n",
    "    print(s)"
   ]
  },
  {
   "cell_type": "markdown",
   "id": "378ae9e2-0dce-40ee-93c6-a4f771e64d0c",
   "metadata": {},
   "source": [
    "***\n",
    "test.csv File zum testen erstellen, mit Separator \";\"\n",
    "***"
   ]
  },
  {
   "cell_type": "code",
   "execution_count": null,
   "id": "675f12ad-c488-4197-bb02-c0c5dee0b6ee",
   "metadata": {},
   "outputs": [],
   "source": [
    "%%file test.csv\n",
    "Ortschaftsname;PLZ;Zusatzziffer;Gemeindename;BFS-Nr;Kantonskürzel;E;N;Sprache\n",
    "Aeugst am Albis;8914;0;Aeugst am Albis;1;ZH;679434.9628961856;235653.34692288414;de\n",
    "Aeugstertal;8914;2;Aeugst am Albis;1;ZH;679814.6371609941;237410.37452129275;de\n",
    "Zwillikon;8909;0;Affoltern am Albis;2;ZH;675103.6896029861;237890.63303980426;de\n",
    "Affoltern am Albis;8910;0;Affoltern am Albis;2;ZH;676438.5418326766;236966.51709043083;de\n",
    "Bonstetten;8906;0;Bonstetten;3;ZH;677797.7252329993;241025.0461489335;de\n",
    "Hausen am Albis;8915;0;Hausen am Albis;4;ZH;682995.5099871076;232961.75978123234;de\n",
    "Ebertswil;8925;0;Hausen am Albis;4;ZH;684167.8902822683;231176.7715104212;de\n",
    "Hedingen;8908;0;Hedingen;5;ZH;676517.6762373116;239054.46656843493;de"
   ]
  },
  {
   "cell_type": "code",
   "execution_count": null,
   "id": "428ae1bc-dcb9-4a8e-a4d2-aeb7f9984520",
   "metadata": {},
   "outputs": [],
   "source": [
    "import my_csv as csv\n",
    "help(csv)"
   ]
  },
  {
   "cell_type": "code",
   "execution_count": null,
   "id": "5fcfbc15-eae0-4ddd-9b70-345631be588c",
   "metadata": {},
   "outputs": [],
   "source": [
    "csv.csv2list('test.csv', sep = ';')[:2]"
   ]
  },
  {
   "cell_type": "code",
   "execution_count": null,
   "id": "d82d118e-589d-4850-92c7-4ce03269bc60",
   "metadata": {},
   "outputs": [],
   "source": [
    "s = csv.csv2tablestr('test.csv',2,2,sep=';', fields=(1,0,5,8))\n",
    "print(s)"
   ]
  },
  {
   "cell_type": "code",
   "execution_count": null,
   "id": "1cdb6de5-54f0-4ebd-922d-ad8f1606b06f",
   "metadata": {},
   "outputs": [],
   "source": []
  },
  {
   "cell_type": "code",
   "execution_count": 23,
   "id": "6691f6cb-2270-4c99-b5bd-c47cb30a424b",
   "metadata": {},
   "outputs": [],
   "source": [
    "import ortschaften as cities"
   ]
  },
  {
   "cell_type": "code",
   "execution_count": 25,
   "id": "a58de1e3-e92d-48cf-b245-7f20b9b6df09",
   "metadata": {},
   "outputs": [
    {
     "name": "stdout",
     "output_type": "stream",
     "text": [
      "Help on module ortschaften:\n",
      "\n",
      "NAME\n",
      "    ortschaften\n",
      "\n",
      "FUNCTIONS\n",
      "    cityname(name)\n",
      "    \n",
      "    coordinates(name)\n",
      "    \n",
      "    population(name, default=500)\n",
      "\n",
      "DATA\n",
      "    citynames = ['Zürich', 'Geneva', 'Basel', 'Lausanne', 'Bern', 'Wintert...\n",
      "    dictlist = [{'lat': 47.3786, 'lng': 8.54, 'population': 434008}, {'lat...\n",
      "    f = <_io.BufferedReader name='/home/jovyan/work/NIA22Prog/data/citydat...\n",
      "    name_idx = {'AADORF': 165, 'AARAU': 41, 'AARBERG': 388, 'AARBURG': 191...\n",
      "\n",
      "FILE\n",
      "    /home/jovyan/work/NIA22Prog/src/ortschaften.py\n",
      "\n",
      "\n"
     ]
    }
   ],
   "source": [
    "help(cities)"
   ]
  },
  {
   "cell_type": "code",
   "execution_count": null,
   "id": "09894b93-b1df-4748-96a1-4e9397f0b7d3",
   "metadata": {},
   "outputs": [],
   "source": []
  }
 ],
 "metadata": {
  "kernelspec": {
   "display_name": "Python 3 (ipykernel)",
   "language": "python",
   "name": "python3"
  },
  "language_info": {
   "codemirror_mode": {
    "name": "ipython",
    "version": 3
   },
   "file_extension": ".py",
   "mimetype": "text/x-python",
   "name": "python",
   "nbconvert_exporter": "python",
   "pygments_lexer": "ipython3",
   "version": "3.9.10"
  }
 },
 "nbformat": 4,
 "nbformat_minor": 5
}
