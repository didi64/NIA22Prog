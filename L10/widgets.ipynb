{
 "cells": [
  {
   "cell_type": "markdown",
   "id": "133aa2ad-ce42-447e-8c02-0c1c6f500566",
   "metadata": {},
   "source": [
    "### Kurzer Blick auf Widgets\n",
    "Ein [Widget](https://de.wikipedia.org/wiki/Widget) ist eine Komponente eines grafischen Fenstersystems. Das Widget besteht zum einen aus dem Fenster, einem sichtbaren Bereich, der Maus-, Touchscreen- und/oder Tastaturereignisse empfängt.\n",
    "\n",
    "Einem Widget k&ouml;nnen Funktionen (**Callbacks**) zugewiesen werden, die beim Eintreffen bestimmter Ereignisse (**Events**) aufgerufen werden.\n",
    "\n",
    "\n",
    "\n",
    "**Bemerkung**\n",
    "Mit `print` gemachte Ausgaben werden von den Widget-Callbacks umgeleitet, und in die\n",
    "Log Console geschrieben. Um diese anzuzeigen,\n",
    "klicke mit der rechten Maustaste in eine Zelle und dann **'Show Log Console'**, falls nicht bereits markiert."
   ]
  },
  {
   "cell_type": "code",
   "execution_count": null,
   "id": "5dd1c87b-4351-42b2-ab94-71fb7691c0bd",
   "metadata": {},
   "outputs": [],
   "source": [
    "import ipywidgets as widgets"
   ]
  },
  {
   "cell_type": "markdown",
   "id": "4cced482-02c7-4ba0-b635-5a531523f7ce",
   "metadata": {},
   "source": [
    "***\n",
    "**Textbox Widget**  \n",
    "Das Textbox-Widget dient zum Einlesen eines kurzen Textes, z.B. eines St&auml;dtenamens.\n",
    "***"
   ]
  },
  {
   "cell_type": "code",
   "execution_count": null,
   "id": "46a930c8-01d2-4021-b480-80d6825aa4df",
   "metadata": {
    "jupyter": {
     "source_hidden": true
    },
    "tags": []
   },
   "outputs": [],
   "source": [
    "# Funktion, die wird dann dem Textbox-Widget als Callback fuer den Fall eines Submit-Events\n",
    "# (Enter dr&ucken im Textfeld) uebergeben.\n",
    "\n",
    "def on_submit(tb):\n",
    "    '''gibt das uebergebene Textbox Objekt aus,\n",
    "       sowie das Attribute 'value' des Textbox Objekts\n",
    "    '''   \n",
    "    print(tb)\n",
    "    print(tb.value)"
   ]
  },
  {
   "cell_type": "code",
   "execution_count": 95,
   "id": "b0c7aaec-0246-4268-9bdf-7adb783b79fb",
   "metadata": {},
   "outputs": [
    {
     "data": {
      "application/vnd.jupyter.widget-view+json": {
       "model_id": "32b6432bba374336b0e92cfd1bfe20ce",
       "version_major": 2,
       "version_minor": 0
      },
      "text/plain": [
       "Text(value='', placeholder='Enter a City')"
      ]
     },
     "metadata": {},
     "output_type": "display_data"
    }
   ],
   "source": [
    "textbox1 = widgets.Text(\n",
    "    value = '',\n",
    "    placeholder = 'Enter a City'\n",
    ")\n",
    "display(textbox1)"
   ]
  },
  {
   "cell_type": "code",
   "execution_count": 97,
   "id": "68ddc108-5c50-44b5-83aa-b49d7faaa427",
   "metadata": {},
   "outputs": [
    {
     "data": {
      "text/plain": [
       "'badfd'"
      ]
     },
     "execution_count": 97,
     "metadata": {},
     "output_type": "execute_result"
    }
   ],
   "source": [
    "textbox1.value"
   ]
  },
  {
   "cell_type": "code",
   "execution_count": null,
   "id": "1b667ed4-a65a-4fb2-9e94-fab1ed591fe9",
   "metadata": {},
   "outputs": [],
   "source": [
    "# Die Funktion on_submit wird bei Eintreffen des Submit-Events aufgerufen\n",
    "textbox1.on_submit(on_submit)"
   ]
  },
  {
   "cell_type": "markdown",
   "id": "2f48045b-c6f4-472e-8f82-a06a8540e435",
   "metadata": {},
   "source": [
    "***\n",
    "**Select-Widget**\n",
    "Das Select-Widget hilft eine Auswahl zu treffen.  \n",
    "Von mehreren Optionen kann eine ausgew&auml;hlt werden.  \n",
    "Z.B. Ortschaft ausw&auml;hlen\n",
    "***"
   ]
  },
  {
   "cell_type": "code",
   "execution_count": null,
   "id": "1306eb20-ffff-4160-aed9-7e584718e37e",
   "metadata": {
    "jupyter": {
     "source_hidden": true
    },
    "tags": []
   },
   "outputs": [],
   "source": [
    "# wird aufgerufen, wenn ein neuer Wert ausgewaehlt wird\n",
    "def on_change(sel):       \n",
    "    print('value updated to {}'.format(selection1.value))"
   ]
  },
  {
   "cell_type": "code",
   "execution_count": null,
   "id": "2743c0b7-1332-4291-970c-9b80b74503d4",
   "metadata": {},
   "outputs": [],
   "source": [
    "selection1  = widgets.Select(\n",
    "    options = ['Zuerich', 'Bern', 'Luzern', 'Uri', \n",
    "               'Schwyz',  'Unterwalden', 'Glarus', 'Zug'],\n",
    "    value = 'Bern',\n",
    "    rows  = 5)\n",
    "\n",
    "display(selection1)"
   ]
  },
  {
   "cell_type": "code",
   "execution_count": null,
   "id": "3cd3ac4e-c0a3-4d45-a37f-3ad3a241a98a",
   "metadata": {},
   "outputs": [],
   "source": [
    "selection1.value"
   ]
  },
  {
   "cell_type": "code",
   "execution_count": null,
   "id": "7e5b3e90-af9c-4029-9a60-c176d3deb1c3",
   "metadata": {},
   "outputs": [],
   "source": [
    "selection1.observe(on_change, names = 'value')"
   ]
  },
  {
   "cell_type": "markdown",
   "id": "ce640dfd-24e2-44ac-a222-ba4bd2564e5c",
   "metadata": {},
   "source": [
    "***\n",
    "**Autocompletion mit Textbox und Selection**  \n",
    "Wenn etwas in die Textbox geschrieben wird,\n",
    "dann suchen wir alle Namen im Dictionary `ortschaften.name_idx` welche mit dem eingegebenen Text beginnen, sortieren diese Namen und setzen sie als Optionen des Selection-Widgets.\n",
    "\n",
    "***"
   ]
  },
  {
   "cell_type": "code",
   "execution_count": null,
   "id": "976f9554-1f6e-4a48-8588-123cdb370eac",
   "metadata": {},
   "outputs": [],
   "source": [
    "import ortschaften\n",
    "def startswith(s, n=5):\n",
    "    res = [name for name in ortschaften.name_idx if name.startswith(s.upper())]\n",
    "    res.sort()\n",
    "    return [ortschaften.citynames[ortschaften.name_idx[x]] for x in res[:n]]\n",
    "\n",
    "def on_textbox_change(change):\n",
    "    # unobserve to not trigger the callback when changing the values\n",
    "    selection2.unobserve(on_sel_change, names = 'value')\n",
    "    \n",
    "    selection2.options = startswith(textbox2.value, 20)\n",
    "    selection2.value = None\n",
    "    \n",
    "    # restart observing changes\n",
    "    selection2.observe(on_sel_change, names = 'value')\n",
    "    \n",
    "def on_sel_change(change):\n",
    "    name = selection2.value or '' # nachstehende Funktionen erwarten einen String\n",
    "    print(ortschaften.cityname(name),\n",
    "          ortschaften.coordinates(name), \n",
    "          ortschaften.population(name))"
   ]
  },
  {
   "cell_type": "code",
   "execution_count": null,
   "id": "ea4f2ab9-d327-4021-9c63-5221a1d00e62",
   "metadata": {},
   "outputs": [],
   "source": [
    "textbox2 = widgets.Text(\n",
    "    value = '',\n",
    "    placeholder = 'Enter a City'\n",
    ")\n",
    "\n",
    "selection2  = widgets.Select(\n",
    "    options = ortschaften.citynames,\n",
    "    value   = None,\n",
    "    rows    = 5\n",
    ")\n",
    "\n",
    "textbox2.observe(on_textbox_change, names = 'value')\n",
    "selection2.observe(on_sel_change, names = 'value')\n",
    "\n",
    "display(textbox2)\n",
    "display(selection2)"
   ]
  }
 ],
 "metadata": {
  "kernelspec": {
   "display_name": "Python 3 (ipykernel)",
   "language": "python",
   "name": "python3"
  },
  "language_info": {
   "codemirror_mode": {
    "name": "ipython",
    "version": 3
   },
   "file_extension": ".py",
   "mimetype": "text/x-python",
   "name": "python",
   "nbconvert_exporter": "python",
   "pygments_lexer": "ipython3",
   "version": "3.9.10"
  }
 },
 "nbformat": 4,
 "nbformat_minor": 5
}
