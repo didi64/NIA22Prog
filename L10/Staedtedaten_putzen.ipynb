{
 "cells": [
  {
   "cell_type": "markdown",
   "id": "3bfc2990-aa38-450f-ba77-6e204ffcfdab",
   "metadata": {},
   "source": [
    "### St&auml;dtedaten putzen\n",
    "Probleme:\n",
    "- Mehrfaches Vorkommen des gleichen Namen\n",
    "- Welche Namen verwenden? \n",
    "  Deutsch, englisch, franz&ouml;sisch, italienisch, r&auml;toromanisch?\n",
    "- Umlaute, Akzente\n",
    "- Tippfehler, \n",
    "\n",
    "\n",
    "Vorgehen:\n",
    "- `citynames`: Liste der Ortsnamen aus dem Original\n",
    "- `dictlist`: zugeh&ouml;rige Liste von Dictionaries\n",
    "- `name_idxs`: Dictionary der Form `{<name>: [<index1>,..], ...}`.  \n",
    "  Verschiedene Ortschaften haben zum Teil den gleichen Namen.\n",
    "- `name_idx`: Dictionary der Form `{<name>: <index>, ...}`.  \n",
    "  Verschiedene Namen k&ouml;nnen auf den gleichen Index verweisen, \n",
    "  bew. die gleich Ortschaft bezeichnen.   \n",
    "  \n",
    "  Zum Beispiel hat `name_idx['Zuerich']` und\n",
    "  `name_idx['Zürich']` den Wert `0`,\n",
    "  und `dictlist[0]` den Wert `{'lat': 47.3786, 'lng': 8.54, 'population': 434008}`."
   ]
  },
  {
   "cell_type": "markdown",
   "id": "8fdf5e89-dca7-488e-b1fb-336f97b42b9f",
   "metadata": {},
   "source": [
    "***\n",
    "M&ouml;gliche Probleme mit Umlauten und Akzenten:  \n",
    "Verschienene Strings repr&auml;sentieren das gleiche Zeichen!  \n",
    "Schl&uuml;ssel nicht eindeutig.\n",
    "***"
   ]
  },
  {
   "cell_type": "code",
   "execution_count": null,
   "id": "beef260f-0009-43a1-8ec1-f87d6aeded1d",
   "metadata": {},
   "outputs": [],
   "source": [
    "accent = chr(776)\n",
    "umlaute1 = [ch + accent for ch in 'AOU']\n",
    "umlaute2 = [chr(196), chr(214), chr(220)]\n",
    "for x,y in zip(umlaute1, umlaute2):\n",
    "    print('{} == {} is {},'.format(x,y,x==y),\n",
    "          'len({})={}'.format(x,len(x)),\n",
    "          'len({})={}'.format(y,len(y)),\n",
    "         )"
   ]
  },
  {
   "cell_type": "code",
   "execution_count": null,
   "id": "eaad7de0-c335-4f57-8c91-a421204eb541",
   "metadata": {},
   "outputs": [],
   "source": [
    "'Ä' == 'Ä', len('Ä'), len('Ä')"
   ]
  },
  {
   "cell_type": "markdown",
   "id": "c51d7666-6661-4515-abb9-b6d1ed75d8ef",
   "metadata": {},
   "source": [
    "***\n",
    ".csv Daten einlesen\n",
    "***"
   ]
  },
  {
   "cell_type": "code",
   "execution_count": null,
   "id": "ca7c3e6a-15ae-4a70-be90-c3c4b614427f",
   "metadata": {},
   "outputs": [],
   "source": [
    "from toolbox import table2str\n",
    "\n",
    "lines = []\n",
    "with open('/home/jovyan/work/NIA22Prog/data/ch.csv', mode ='r') as f:\n",
    "    for line in f:\n",
    "        lines.append(line.rstrip().split(','))\n",
    "        \n",
    "fields = (0,1,2,5,7)\n",
    "sample = lines[:2] +  lines[-1:]     \n",
    "sample = []\n",
    "for line in lines[:3] +  lines[-2:]:\n",
    "    sample.append([line[i] for i in fields])\n",
    "    \n",
    "print(table2str(sample[0], sample[1:]))"
   ]
  },
  {
   "cell_type": "markdown",
   "id": "2a0db926-a40f-4202-91db-c6d896d758b6",
   "metadata": {},
   "source": [
    "***\n",
    "Kantone (admin_name) herausgreifen und sortieren.  \n",
    "Gleiche Ortschaftsnamen werden durch Anh&auml;ngen des Kantonsk&uuml;rzels eindeutig gemacht.\n",
    "***"
   ]
  },
  {
   "cell_type": "code",
   "execution_count": null,
   "id": "d623835e-3e0c-4222-a7a7-ec5844ea7773",
   "metadata": {},
   "outputs": [],
   "source": [
    "kt_set = set(line[5] for line in lines[1:]) # Kantone als Menge, \n",
    "                                            # jedes Element tritt genau einmal auf\n",
    "# Menge sortieren -> Liste    \n",
    "kt = sorted(kt_set)\n",
    "len(kt), kt[:2] + kt[-2:]"
   ]
  },
  {
   "cell_type": "markdown",
   "id": "e51be601-bf64-495f-85fd-bce24e4e622a",
   "metadata": {},
   "source": [
    "***\n",
    "Dictionary `{<Kantonskürzel>: <Kanton>,...}` erstellen\n",
    "***"
   ]
  },
  {
   "cell_type": "code",
   "execution_count": null,
   "id": "74c60e4f-ef30-4d3a-9319-1aa0abaa58eb",
   "metadata": {},
   "outputs": [],
   "source": [
    "kk = ['AG', 'AR', 'AI', 'BL', 'BS', 'BE', 'FR', 'GE', 'GL', 'GR', 'JU', 'LU', 'NE', \n",
    "      'NW', 'OW', 'SG', 'SH', 'SZ', 'SO', 'TG', 'TI', 'UR', 'VS', 'VD', 'ZG', 'ZH',\n",
    "     ]\n",
    "kt_kk = dict(zip(kt, kk))\n",
    "{kt:kk for i,(kt,kk) in enumerate(kt_kk.items()) if i < 2 or i > 23}"
   ]
  },
  {
   "cell_type": "markdown",
   "id": "c09abe20-7e0f-48ad-89b5-b5e68770fb19",
   "metadata": {},
   "source": [
    "***\n",
    "Wir erstellen eine Liste `citynames` mit den Ortschaftsnamen,\n",
    "eine zugeh&ouml;rige Liste von Dictionaries mit Schl&uuml;ssel 'lat', 'lng' und allenfalls 'population', sowie einen Dictionary `name_idxs`, der jedem Ortschaftsnamen seine Position(en) (Index) in der Liste `citynames` zuordnet.\n",
    "***"
   ]
  },
  {
   "cell_type": "code",
   "execution_count": null,
   "id": "cd50ad7d-0b4a-4ce5-9f06-d3dac66d78d4",
   "metadata": {},
   "outputs": [],
   "source": [
    "# Zu extrahierende Felder, gewuenschter Typ\n",
    "fields = {1:float, 2:float, 7: int}\n",
    "\n",
    "citynames = [] \n",
    "dictlist  = []\n",
    "name_idxs = {}\n",
    "\n",
    "for i,row in enumerate(lines[1:]):\n",
    "    # key nur hinzufuegen, falls row[i] nicht der leere String ist\n",
    "    city = row[0]\n",
    "    data = {lines[0][i]: f(row[i]) for i,f in fields.items() if row[i]}\n",
    "    \n",
    "    citynames.append(city)\n",
    "    dictlist.append(data)\n",
    "    name_idxs.setdefault(city.upper(),[]).append(i)"
   ]
  },
  {
   "cell_type": "markdown",
   "id": "f24016ff-9d66-4dc6-91ea-c7dc3474ab49",
   "metadata": {},
   "source": [
    "***\n",
    "Mehrfach auftretende Ortsnamen ausgeben.\n",
    "***"
   ]
  },
  {
   "cell_type": "code",
   "execution_count": null,
   "id": "5c736438-e592-4ec7-aa73-fc98f7da96d7",
   "metadata": {},
   "outputs": [],
   "source": [
    "multinames = {k:v for k,v in name_idxs.items() if len(v) >1}\n",
    "multinames"
   ]
  },
  {
   "cell_type": "markdown",
   "id": "8dd6b7bd-f010-42be-8de5-05157c20d5f3",
   "metadata": {},
   "source": [
    "***\n",
    "Kommt jeder Ortsnamen nur einmal pro Kanton vor?  \n",
    "Wir haben Gl&uuml;ck, das ist nicht der Fall.\n",
    "***"
   ]
  },
  {
   "cell_type": "code",
   "execution_count": null,
   "id": "34f18998-4075-4e89-92be-e66b6eabeae7",
   "metadata": {},
   "outputs": [],
   "source": [
    "for k,v in multinames.items():\n",
    "    print(k, [lines[i+1][5] for i in v])"
   ]
  },
  {
   "cell_type": "markdown",
   "id": "395167fa-cb0e-4869-b971-1425a24e55fb",
   "metadata": {},
   "source": [
    "***\n",
    "Ortsnamen durch anh&auml;ngen des Kantonk&uuml;rzels eindeutig machen.  \n",
    "Dictionary `name_idx` erstellen, der einem Ortsnamen den Index des zugeh&ouml;rigen Dictionaries in `dictlist` zuordnet.\n",
    "***"
   ]
  },
  {
   "cell_type": "code",
   "execution_count": null,
   "id": "b6f19295-1749-46a2-b94f-2f0c82f5eafe",
   "metadata": {},
   "outputs": [],
   "source": [
    "name_idx = {}\n",
    "for k,v in name_idxs.items():\n",
    "    if len(v) == 1:\n",
    "        name_idx[k] = v[0]\n",
    "    else:    \n",
    "        for i in v:\n",
    "            kt = lines[i+1][5]\n",
    "            new_key = k + ' ' + kt_kk[kt]\n",
    "            name_idx[new_key] = i\n",
    "            citynames[i] = citynames[i] + ' ' + kt_kk[kt]\n",
    "            \n",
    "# Auszug aus name_idx\n",
    "sorted(name_idx.items())[8:15]            "
   ]
  },
  {
   "cell_type": "code",
   "execution_count": null,
   "id": "fedbad27-a57a-4ffc-9781-da112b13e3d2",
   "metadata": {},
   "outputs": [],
   "source": [
    "def citydata(name):\n",
    "    i = name_idx.get(name.upper())\n",
    "    if i is None:\n",
    "        return (None, {})\n",
    "    return citynames[i], dictlist[i]\n",
    "\n",
    "citydata('bern'), citydata('tiefencastel')"
   ]
  },
  {
   "cell_type": "markdown",
   "id": "fc8e8da1-fa17-4722-8b2f-1864f04791af",
   "metadata": {},
   "source": [
    "***\n",
    "Spezielle Zeichen in Ortsnamen suchen\n",
    "***"
   ]
  },
  {
   "cell_type": "code",
   "execution_count": null,
   "id": "b80fc859-213b-4424-a7b2-ee47c6bdc022",
   "metadata": {},
   "outputs": [],
   "source": [
    "ABC = ''.join([chr(ord('A')+i) for i in range(26)])\n",
    "special_chars = {}\n",
    "\n",
    "for city in name_idx:\n",
    "    for ch in city:\n",
    "        if ch not in ABC:\n",
    "            special_chars[ch] = ord(ch)\n",
    "\n",
    "special_chars     "
   ]
  },
  {
   "cell_type": "code",
   "execution_count": null,
   "id": "3b41f0c1-4e23-413d-9c0f-c7e5f06cec89",
   "metadata": {},
   "outputs": [],
   "source": [
    "# Doppelnamen\n",
    "[city for city in name_idx.keys() if '/' in city]"
   ]
  },
  {
   "cell_type": "code",
   "execution_count": null,
   "id": "13237a6f-b3cb-4857-bf42-d8f447bf08e5",
   "metadata": {},
   "outputs": [],
   "source": [
    "# Ortsnamen mit ' '\n",
    "[city for city in name_idx.keys() if ' ' in city]"
   ]
  },
  {
   "cell_type": "markdown",
   "id": "0f66b9fe-19d3-4ec6-9e9d-a2f83f26d93d",
   "metadata": {},
   "source": [
    "***\n",
    "Alternative Ortsnamen hinzuf&uuml;gen, Tippfehler korrigieren\n",
    "***"
   ]
  },
  {
   "cell_type": "code",
   "execution_count": null,
   "id": "8e5e424f-b2cf-4c42-9d08-fa61c547d4be",
   "metadata": {},
   "outputs": [],
   "source": [
    "typos        = {'Gross Höchstetten': 'Grosshöchstetten'}\n",
    "alternatives = {'Konolfingen Dorf': 'Konolfingen', 'Schinznach Dorf': 'Schinznach', \n",
    "                'Lucerne': 'Luzern', 'Geneva': 'Genève'}\n",
    "\n",
    "for k,v in typos.items():\n",
    "    i = name_idx[k.upper()]\n",
    "    citynames[i] = v\n",
    "    name_idx[v.upper()] = name_idx.pop(k.upper())\n",
    "        \n",
    "for k,v in alternatives.items():\n",
    "    name_idx[v.upper()] = name_idx[k.upper()]"
   ]
  },
  {
   "cell_type": "code",
   "execution_count": null,
   "id": "ed043a13-e1c9-4d21-b3ed-9cc01d2a45a0",
   "metadata": {},
   "outputs": [],
   "source": [
    "# Ortsnamen mit '’'\n",
    "[city for city in name_idx.keys() if '’' in city]"
   ]
  },
  {
   "cell_type": "code",
   "execution_count": null,
   "id": "44d85d6f-b752-46b1-ba75-43ecda405db3",
   "metadata": {},
   "outputs": [],
   "source": [
    "# Ortsnamen mit 'Œ'\n",
    "[city for city in name_idx.keys() if 'Œ' in city]"
   ]
  },
  {
   "cell_type": "markdown",
   "id": "6c74bb8a-2314-48e7-8732-a6910d61de4f",
   "metadata": {},
   "source": [
    "***\n",
    "Doppelnamen \n",
    "***"
   ]
  },
  {
   "cell_type": "code",
   "execution_count": null,
   "id": "8d8b976b-b7c3-4e16-a0c4-127fb5009220",
   "metadata": {},
   "outputs": [],
   "source": [
    "doublenames = [city for city in name_idx.keys() if '/' in city]\n",
    "doublenames"
   ]
  },
  {
   "cell_type": "markdown",
   "id": "17f85530-e851-44bb-a45c-7175cd813ec8",
   "metadata": {},
   "source": [
    "***\n",
    "F&uuml;r jeden Doppelnamen wie Biel/Bienne, Biel und Bienne als Schl&uuml;ssel zu \n",
    "`name_idx` hinzuf&uuml;gen\n",
    "***"
   ]
  },
  {
   "cell_type": "code",
   "execution_count": null,
   "id": "4edec364-8a6b-44d4-aa1a-56d65e041fd9",
   "metadata": {},
   "outputs": [],
   "source": [
    "for dname in doublenames:\n",
    "    idx = name_idx[dname]\n",
    "    names = dname.split('/')\n",
    "    for name in names:\n",
    "        name_idx[name] = idx "
   ]
  },
  {
   "cell_type": "code",
   "execution_count": null,
   "id": "e8fe6ff9-51ff-4284-89c5-00db91b88416",
   "metadata": {},
   "outputs": [],
   "source": [
    "citydata('biel'), citydata('bienne'), citydata('biel/bienne')"
   ]
  },
  {
   "cell_type": "code",
   "execution_count": null,
   "id": "ad7dfd67-8915-4ed1-aedc-798828f3b032",
   "metadata": {},
   "outputs": [],
   "source": [
    "citydata('domat'), citydata('ems'), citydata('domat/ems')"
   ]
  },
  {
   "cell_type": "markdown",
   "id": "bf9c4d62-3a1c-4c9b-9011-02f7ac04c12a",
   "metadata": {},
   "source": [
    "***\n",
    "Alternative Namen ohne Umlaute und Akzente hinzuf&uuml;gen \n",
    "***"
   ]
  },
  {
   "cell_type": "code",
   "execution_count": null,
   "id": "79759010-2cd4-4b69-bd0e-2a701e26fbe3",
   "metadata": {},
   "outputs": [],
   "source": [
    "substitutions = {'Ä': 'AE',\n",
    "                 'Ö': 'OE', \n",
    "                 'Ü': 'UE',\n",
    "                 'Â': 'A',\n",
    "                 'Ô': 'O',\n",
    "                 'É': 'E',\n",
    "                 'Ê': 'E',\n",
    "                 'È': 'E',\n",
    "                 '’': '\\'',\n",
    "                 'Œ': 'OE',\n",
    "}    \n",
    "\n",
    "# WENN UEBER EIN OBJEKT ITERIERT WIRD SOLLTE DAS OBJEKT NICHT VERAENDERT WERDEN!\n",
    "# kann sich nicht darauf verlassen, dass Python Fehlermeldung generiert\n",
    "\n",
    "# for city in name_idx.keys():\n",
    "#     idx = name_idx[dn]\n",
    "#     for k,v in substitutions.items():\n",
    "#         city = city.replace(k, v)\n",
    "#     name_idx[city] = idx     \n",
    "\n",
    "\n",
    "\n",
    "names = list(name_idx)\n",
    "for name in names:\n",
    "    idx = name_idx[name]\n",
    "    for k,v in substitutions.items():\n",
    "        name = name.replace(k, v)\n",
    "    name_idx[name] = idx     "
   ]
  },
  {
   "cell_type": "code",
   "execution_count": null,
   "id": "42119086-ab2c-4e5c-8990-b8779ded94ea",
   "metadata": {},
   "outputs": [],
   "source": [
    "citydata('vandoeuvres')"
   ]
  },
  {
   "cell_type": "markdown",
   "id": "52c8c2ac-4b88-437f-a6f3-024f58ecd699",
   "metadata": {},
   "source": [
    "***\n",
    "Daten als .pkl-File abspeichern.  \n",
    "Wird im Modul `ortschaften` verwendet.\n",
    "***"
   ]
  },
  {
   "cell_type": "code",
   "execution_count": null,
   "id": "bcc4cc4c-531c-45ca-8340-e3e49db2f977",
   "metadata": {},
   "outputs": [],
   "source": [
    "import pickle\n",
    "citydata = (citynames, dictlist, name_idx)\n",
    "\n",
    "with open('citydata.pkl', mode = 'wb') as f:\n",
    "    pickle.dump(citydata, f)"
   ]
  },
  {
   "cell_type": "code",
   "execution_count": null,
   "id": "71530535-03ea-484f-bdd8-7cbfc96db879",
   "metadata": {},
   "outputs": [],
   "source": [
    "import ortschaften_ch as cities\n",
    "for name in ['zuerich', 'vandoeuvres', 'bienne', 'Aesch ZH', 'Grosshoechstetten', 'foo']:\n",
    "    print(cities.cityname(name), \n",
    "          cities.coordinates(name), \n",
    "          cities.population(name)\n",
    "         )"
   ]
  },
  {
   "cell_type": "code",
   "execution_count": null,
   "id": "1b6b172b-0a76-4464-81e9-64e4e1eb7052",
   "metadata": {},
   "outputs": [],
   "source": []
  }
 ],
 "metadata": {
  "kernelspec": {
   "display_name": "Python 3 (ipykernel)",
   "language": "python",
   "name": "python3"
  },
  "language_info": {
   "codemirror_mode": {
    "name": "ipython",
    "version": 3
   },
   "file_extension": ".py",
   "mimetype": "text/x-python",
   "name": "python",
   "nbconvert_exporter": "python",
   "pygments_lexer": "ipython3",
   "version": "3.9.10"
  }
 },
 "nbformat": 4,
 "nbformat_minor": 5
}
