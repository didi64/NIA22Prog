{
 "cells": [
  {
   "cell_type": "markdown",
   "id": "2f83b117-4844-4b55-9dde-b234665db73b",
   "metadata": {},
   "source": [
    "### Von der Idee zum Programm\n",
    "- Was genau soll das Programm tun?  \n",
    "  Spezifikation erstellen\n",
    "  \n",
    "- Wie kann man das tun?  \n",
    "  - Aufgabe in kleine, einfache Teilaufgaben zerlegen\n",
    "  - Experimentelle Phase:  \n",
    "    finde L&ouml;sungen f&uuml;r einzelne kleine Teilprobleme  \n",
    "       \n",
    "  - ev. Prototyp erstellen (minimalistische L&ouml;sung, \n",
    "  nicht essentialle Features weglassen, z.B. Zufallszahl ist immer 5, Versuche noch nicht ausgeben)    \n",
    "\n",
    "  - Pseudo Code\n",
    "  - Python \n",
    "  - Programm testen und allenfalls modifizieren"
   ]
  },
  {
   "cell_type": "code",
   "execution_count": null,
   "id": "e086be3e-d5dc-40dc-a78c-76ec43dc91bb",
   "metadata": {},
   "outputs": [],
   "source": [
    "#%load ../NIA22Prog/L3/spezifikation_guessing_game.txt"
   ]
  },
  {
   "cell_type": "code",
   "execution_count": null,
   "id": "305c8f39-5aa4-438b-b4a9-6ce9d099650b",
   "metadata": {},
   "outputs": [],
   "source": [
    "#%load ../NIA22Prog/L3/teilprobleme_guessing_game.txt"
   ]
  },
  {
   "cell_type": "code",
   "execution_count": null,
   "id": "65647724-29ce-43a8-a3db-338457742d8b",
   "metadata": {},
   "outputs": [],
   "source": [
    "#%load ../NIA22Prog/L3/pseudocode_guessing_game.txt"
   ]
  },
  {
   "cell_type": "code",
   "execution_count": null,
   "id": "3147e46d-ab8f-4199-892c-bb8bddb867e6",
   "metadata": {},
   "outputs": [],
   "source": [
    "#%load ../NIA22Prog/L3/prototype_guessing_game.py"
   ]
  }
 ],
 "metadata": {
  "kernelspec": {
   "display_name": "Python 3 (ipykernel)",
   "language": "python",
   "name": "python3"
  },
  "language_info": {
   "codemirror_mode": {
    "name": "ipython",
    "version": 3
   },
   "file_extension": ".py",
   "mimetype": "text/x-python",
   "name": "python",
   "nbconvert_exporter": "python",
   "pygments_lexer": "ipython3",
   "version": "3.8.10"
  }
 },
 "nbformat": 4,
 "nbformat_minor": 5
}
