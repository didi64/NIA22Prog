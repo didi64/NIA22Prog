{
 "cells": [
  {
   "cell_type": "markdown",
   "id": "b768fa49-f920-4ede-a1dc-0dc655920813",
   "metadata": {},
   "source": [
    "### Funktionen\n",
    "- Funktionen erlauben es, (Referenzen auf) Codebl&ouml;cke (Folge von Anweisungen) einer Variable zuzuweisen und bei Bedarf auszuf&uuml;hren. Der Funktion k&ouml;nnen \n",
    "(Referenzen auf) Objekte &uuml;bergeben werden, auf welche die Funktion Zugriff hat.  Eine Funktion ```f()``` kann (Referenzen auf) Objekte zur&uuml;ckgeben, welche\n",
    "mittels\n",
    "```x = f()``` \n",
    "der Variable ```x``` zugewiesen werden.\n",
    "\n",
    "- Funktionen erm&ouml;glichen es, ein Programm zu strukturieren, d.h.    Programmteile als Funktionen auszulagern.\n",
    " \n",
    " \n",
    "  \n",
    "- Eine Funktionsdefinition hat die Form  \n",
    "\n",
    "```python\n",
    "def <functionname>(<variable(s)>):\n",
    "    '''Hilfstext zur Funktion''' # docstring\n",
    "    <statements> \n",
    "    return <variable(s)> # optional\n",
    "\n",
    "```\n",
    "\n",
    "- Der Docstring wird z.B. durch ```help(<functionname>)``` ausgegeben.\n",
    "Er soll die Funktion kurz dokumentieren.\n",
    "\n",
    "Der einger&uuml;ckte Codeblock wird auch **function body** oder kurz **body** genannt.\n",
    "- Gibt eine Funktion ```f()``` mehrere Werte zur&uuml;ck, werden diese\n",
    "   automatisch in ein Tupel gepackt.\n",
    "   \n",
    "**Bemerkungen**\n",
    "- Die Funktion hat ihre eigenen lokalen (**local**) Variabeln.   \n",
    "  Variabeln die im Funktionsbody definiert werden, &uuml;berschreiben \n",
    "  ausserhalb der Funktion definierte Variablen nicht.\n",
    "  Nach der Ausf&uuml;hrung der Funktion werden die lokalen Variabeln wieder gel&ouml;scht (**garbage collection**)\n",
    "\n",
    "- Im Funktionsbody hat man **Lesezugriff** auf ausserhalb der Funktion definierte Variabeln, sofern diese nicht durch lokale Variabeln verdeckt (**shadowed**) sind."
   ]
  },
  {
   "cell_type": "markdown",
   "id": "25d409db-6899-4bab-bd3a-7109ba0c8980",
   "metadata": {},
   "source": [
    "### Beispiele"
   ]
  },
  {
   "cell_type": "code",
   "execution_count": null,
   "id": "8850e9c6-2bec-4cf8-a211-eece93bb4e9c",
   "metadata": {},
   "outputs": [],
   "source": [
    "# die einfachste Funktion in Python, tut nichts und gibt None zurueck\n",
    "def f():\n",
    "    '''tut nichts, gibt None zurueck'''\n",
    "    pass\n",
    "\n",
    "print(f())\n",
    "help(f)"
   ]
  },
  {
   "cell_type": "code",
   "execution_count": null,
   "id": "e8a08880-5e2d-478c-b450-7264839491c5",
   "metadata": {},
   "outputs": [],
   "source": [
    "def f(x, y):\n",
    "    '''gibt x,y wieder zurueck'''\n",
    "    return x, y\n",
    "\n",
    "t = f(1, 2)\n",
    "print(t) #tuple\n",
    "x, y = f('a', 'b')\n",
    "print(x,y)"
   ]
  },
  {
   "cell_type": "code",
   "execution_count": null,
   "id": "741f998f-a1d7-4d15-a7e2-72249b65c87d",
   "metadata": {},
   "outputs": [],
   "source": [
    "def  f(name):\n",
    "    '''prints 'hello ' + name '''\n",
    "    print('hello ' + name)\n",
    "\n",
    "f('Bob')    "
   ]
  },
  {
   "cell_type": "code",
   "execution_count": null,
   "id": "0a6b396e-2364-4dcd-b967-740d15c3e4a6",
   "metadata": {},
   "outputs": [],
   "source": [
    "def g(f, x):\n",
    "    '''fuehrt  f(x) aus'''\n",
    "    f(x)\n",
    "    \n",
    "g(f, 'Alice')    "
   ]
  },
  {
   "cell_type": "code",
   "execution_count": null,
   "id": "99b12a85-0bfc-4eba-aeb2-e77e7dada5aa",
   "metadata": {},
   "outputs": [],
   "source": [
    "# Funktion mit 'side effects'\n",
    "# Was waere ein besserer/ genauerer Docsstring?\n",
    "def rev(x):\n",
    "    '''gibt neue Liste zurueck,\n",
    "       x von hinten nach vorne\n",
    "    '''\n",
    "    \n",
    "    res = []\n",
    "    while x:\n",
    "        res.append(x.pop())\n",
    "    return res     \n",
    "\n",
    "x = [1,2,3]\n",
    "y = x\n",
    "z = rev(x)\n",
    "# print(x) # Versuche, den Output zu erraten\n",
    "#            bist du verwirrt, visualisiere auf\n",
    "#            https://pythontutor.com/visualize.html#mode=edit\n",
    "# print(y)\n",
    "# print(z)"
   ]
  },
  {
   "cell_type": "code",
   "execution_count": null,
   "id": "d5c54544-18a0-468d-8184-51de0448e35b",
   "metadata": {},
   "outputs": [],
   "source": [
    "def rev_inplace(x):\n",
    "    '''dreht die Liste x um'''\n",
    "    \n",
    "    tmp = []\n",
    "    while x:\n",
    "        tmp.append(x.pop())\n",
    "    \n",
    "    for el in tmp:\n",
    "        x.append(el)\n",
    "\n",
    "x = [1,2,3]\n",
    "y = x\n",
    "rev_inplace(x)\n",
    "\n",
    "# Output ?\n",
    "# print(x)\n",
    "# print(y)"
   ]
  },
  {
   "cell_type": "code",
   "execution_count": null,
   "id": "402598f2-ff84-4a81-8f7e-d3f6ec403347",
   "metadata": {},
   "outputs": [],
   "source": []
  },
  {
   "cell_type": "code",
   "execution_count": null,
   "id": "e4ca7a75-9c73-4396-8e5c-f54b9e0b68e2",
   "metadata": {},
   "outputs": [],
   "source": [
    "# ignore #\n",
    "y = 0 # stellt sicher, \n",
    "del y # dass y nicht definiert ist.\n",
    "########################\n",
    "\n",
    "x  = 1 # (globales x)\n",
    "z = 1\n",
    "def f():\n",
    "    x = 3 # eine neue locale Variable x wird erstellt\n",
    "          # nur innerhalb des Funktionsbody gueltig\n",
    "          # verdeckt das globale x\n",
    "    y = 5\n",
    "    print('local x: ', x)\n",
    "    print('local y: ', y)\n",
    "    print('global z: ', z)\n",
    "    \n",
    "print('gloabl x:', x)\n",
    "f()\n",
    "print('gloabl x:', x)\n",
    "# print(y) # NameError: name 'y' is not defined"
   ]
  },
  {
   "cell_type": "code",
   "execution_count": null,
   "id": "ce779320-45a5-4492-bae0-e0a6e05f2701",
   "metadata": {},
   "outputs": [],
   "source": []
  }
 ],
 "metadata": {
  "kernelspec": {
   "display_name": "Python 3 (ipykernel)",
   "language": "python",
   "name": "python3"
  },
  "language_info": {
   "codemirror_mode": {
    "name": "ipython",
    "version": 3
   },
   "file_extension": ".py",
   "mimetype": "text/x-python",
   "name": "python",
   "nbconvert_exporter": "python",
   "pygments_lexer": "ipython3",
   "version": "3.8.10"
  }
 },
 "nbformat": 4,
 "nbformat_minor": 5
}
