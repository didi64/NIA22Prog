{
 "cells": [
  {
   "cell_type": "markdown",
   "id": "5a967b7f-62cd-4c38-8149-bb268f1ab239",
   "metadata": {},
   "source": [
    "### Zahlratespiel fertig stellen"
   ]
  },
  {
   "cell_type": "code",
   "execution_count": null,
   "id": "62ed7ece-28aa-41f1-a908-2aba615bcd8d",
   "metadata": {},
   "outputs": [],
   "source": [
    "# stellt die Funktionen table2str(header, rows) und sign(n) zur Verfuegung\n",
    "import sys\n",
    "if '/home/jovyan/work/NIA22Prog/src' not in sys.path:\n",
    "    sys.path.insert(0, '/home/jovyan/work/NIA22Prog/src') \n",
    "    \n",
    "from toolbox import table2str, sign"
   ]
  },
  {
   "cell_type": "code",
   "execution_count": null,
   "id": "e4b56827-9d04-4b82-af59-8477055b0e5e",
   "metadata": {},
   "outputs": [],
   "source": [
    "# imports testen\n",
    "header = ('Name', 'Vorname')\n",
    "rows   =  [('Hans', 'Muster')]\n",
    "print(table2str(header, rows))\n",
    "print()\n",
    "print(sign(-10),sign(0),sign(5))"
   ]
  },
  {
   "cell_type": "markdown",
   "id": "7644765d-e698-4b8d-9488-e005a1789dee",
   "metadata": {},
   "source": [
    "### Aufgabe\n",
    "- Schreibe eine Funktion ```history2table(h)```, die eine  \n",
    "Liste von Tupeln der Form ```[(3, 'too big'), (2, 'correct')]``` in einen Tabellen-String\n",
    "```\n",
    "|Nr.|guess|comment|\n",
    "|===|=====|=======|\n",
    "|0  |3    |too big|\n",
    "|1  |2    |correct|\n",
    "```\n",
    "umwandelt. Benutze dabei die Funktion ```table2str```."
   ]
  },
  {
   "cell_type": "code",
   "execution_count": null,
   "id": "9b029dd1-03c2-4ed8-9334-d6752b7822a0",
   "metadata": {},
   "outputs": [],
   "source": []
  },
  {
   "cell_type": "code",
   "execution_count": null,
   "id": "c5749d33-7965-484d-ab4e-9b582da08240",
   "metadata": {},
   "outputs": [],
   "source": [
    "def history2table(h):\n",
    "    header = ?\n",
    "    rows = []\n",
    "    for ?, (?,?) in enumerate(h):\n",
    "        row = ?\n",
    "        rows.append(row)\n",
    "        \n",
    "    return table2str(header, rows)\n",
    "\n",
    "\n",
    "history = [(3, 'too big'), (2, 'correct')]\n",
    "s = history2table(history)\n",
    "print(s)"
   ]
  },
  {
   "cell_type": "markdown",
   "id": "d737081f-d12b-4fdc-90c5-5cd94e544c54",
   "metadata": {},
   "source": [
    "### Das fertige Programm"
   ]
  },
  {
   "cell_type": "code",
   "execution_count": null,
   "id": "0f534238-a1ef-4fe7-86d3-e3afda960208",
   "metadata": {
    "tags": []
   },
   "outputs": [],
   "source": [
    "import random\n",
    "from toolbox import sign, table2str \n",
    "\n",
    "def eval_guess(guess, n):\n",
    "    '''returns a tuple (is_ok, comment)\n",
    "       is_ok: True, if guess equals n\n",
    "       comment: 'too big', 'correct' or 'too small'\n",
    "    '''\n",
    "    comments = {1: 'too big', \n",
    "                0: 'correct', \n",
    "                -1:'too small',\n",
    "               }\n",
    "    \n",
    "    is_ok = guess == n\n",
    "    key = sign(guess - n)\n",
    "    return is_ok, comments[key]\n",
    "\n",
    "def play_game(lower=0, upper=10):\n",
    "    '''guess a random Integer between lower and upper,\n",
    "       lower and upper are included\n",
    "    '''   \n",
    "    nbr = random.randint(lower, upper)\n",
    "    history = []\n",
    "    \n",
    "    is_correct = False\n",
    "    while not is_correct:\n",
    "        n = input('Zahl zwischen {a} und {b}? '.format(a=lower, b=upper))\n",
    "        n = int(n)\n",
    "        \n",
    "        is_correct, comment = eval_guess(n, nbr)\n",
    "        \n",
    "        history.append((n, comment))    \n",
    "        print(comment)\n",
    "        \n",
    "    table = history2table(history)\n",
    "    print('Congrats! You guessed the number {N} in {n} tries.'.format(N=nbr, n=len(history)))\n",
    "    print(table)    \n",
    "    \n",
    "play_game(1,5)    "
   ]
  },
  {
   "cell_type": "code",
   "execution_count": null,
   "id": "90f41eb9-513f-46ed-8c18-2aa720b64572",
   "metadata": {},
   "outputs": [],
   "source": []
  }
 ],
 "metadata": {
  "kernelspec": {
   "display_name": "Python 3 (ipykernel)",
   "language": "python",
   "name": "python3"
  },
  "language_info": {
   "codemirror_mode": {
    "name": "ipython",
    "version": 3
   },
   "file_extension": ".py",
   "mimetype": "text/x-python",
   "name": "python",
   "nbconvert_exporter": "python",
   "pygments_lexer": "ipython3",
   "version": "3.9.10"
  }
 },
 "nbformat": 4,
 "nbformat_minor": 5
}
