{
 "cells": [
  {
   "cell_type": "markdown",
   "id": "29838a57-3e93-4f3e-a455-3262bc99fc8b",
   "metadata": {},
   "source": [
    "### Kontrollstrukturen\n",
    "\n",
    "Kontrollstrukturen (**Schleifen** und **bedingte Anweisung**) steuern den \n",
    "Ablauf eines Programms.\n",
    "\n",
    "- Schleifen: Programmteile werden wiederholt ausgef&uuml;hrt\n",
    "- bedingte Anweisung: Programmteile werden nur unter bestimmten Bedingungen ausgef&uuml;hrt \n"
   ]
  },
  {
   "cell_type": "markdown",
   "id": "d5bc4549-62b8-4981-8cc6-f2e0b8496865",
   "metadata": {},
   "source": [
    "### For-Schleifen\n",
    "```\n",
    "for <loop_variable(s)> in <iterable>:\n",
    "    <statements>\n",
    "```\n",
    "**Beispiel**: ```x, y``` sind die ```<loop_variable(s)>``` und ```[(1,'a'), ...,(8, 'h')]``` das ```<iterable>``` .  \n",
    "Der Codeblock <statements> wird 8-mal ausgef&uuml;hrt.  \n",
    "Beim 1. Schleifendurchlauf wird das 1. Objekt im in der Liste  \n",
    "```x, y = (1, 'a')```    \n",
    "ausgepackt und den Schleifenvariablen ```x, y``` zugewiesen.  \n",
    "Beim 2. Schleifendurchlauf wird das 2. Objekt im in der Liste  \n",
    "```x, y = (2, 'b')```    \n",
    "ausgepackt und den Schleifenvariablen ```x, y``` zugewiesen.  \n",
    " \n",
    "- For-Schleifen **terminieren** immer\n",
    "- Die Schleifenvariablen **sollten** im Codeblock **nicht** modifiziert werden  \n",
    "    (undefiniertes Verhalten)!\n",
    "\n",
    "**Bemerkung**:  \n",
    "    ```<iterables>``` k&ouml;nnen modifiziert werden:  \n",
    "    ist ```l = ['a', 'b']``` so verh&auml;lt sich ```enumerate(l)``` wie ```[(0, 'a'), (1, 'b')]```"
   ]
  },
  {
   "cell_type": "code",
   "execution_count": null,
   "id": "f116dc4e-7e56-49a7-810d-a1997d7835d8",
   "metadata": {},
   "outputs": [],
   "source": [
    "# i durchlauft 0,1,2\n",
    "for i in range(3):\n",
    "    print('hallo zum {}. Mal'.format(i))"
   ]
  },
  {
   "cell_type": "code",
   "execution_count": null,
   "id": "b0fb21f1-e76d-48ea-b66b-d68ef23ce458",
   "metadata": {},
   "outputs": [],
   "source": [
    "# i durchlauft 5, 6, 7\n",
    "for i in range(5, 8):\n",
    "    print(i, end=', ')"
   ]
  },
  {
   "cell_type": "code",
   "execution_count": null,
   "id": "d4584abb-68ad-4c5a-a419-d5c13eb29f6c",
   "metadata": {},
   "outputs": [],
   "source": [
    "names = ['Alice', 'Bob', 'Carl']\n",
    "for name in names:\n",
    "    print(name, end = ', ')\n",
    "    "
   ]
  },
  {
   "cell_type": "code",
   "execution_count": null,
   "id": "05a62ebe-70ca-4641-b010-83e9191abd61",
   "metadata": {},
   "outputs": [],
   "source": [
    "names = ['Alice', 'Bob', 'Carl']\n",
    "for tuple_ in enumerate(names):   # tuple ist bereits definiert\n",
    "                                  # Konvention: `_` an Variabelnamen anhaengen\n",
    "    print(tuple_, end = ', ')"
   ]
  },
  {
   "cell_type": "code",
   "execution_count": null,
   "id": "b44a7c01-d892-4ede-b52c-f4c0daf4b976",
   "metadata": {},
   "outputs": [],
   "source": [
    "names = ['Alice', 'Bob', 'Carl']\n",
    "for i, name in enumerate(names):\n",
    "    print(i, name)"
   ]
  },
  {
   "cell_type": "markdown",
   "id": "cf25c4db-8458-43f6-89ba-4f573f73b203",
   "metadata": {},
   "source": [
    "### While-Schleifen\n",
    "```\n",
    "while <expression>:\n",
    "    <statements>\n",
    "```\n",
    "\n",
    "Die ```<statements>``` im Codeblock werden wiederholt solange ```<expression>``` wahr ist.  \n",
    "Genauer, solange ```bool(<expression>) == True```.\n",
    "    \n",
    "- While-Schleifen k&ouml;nnen (oft unbeabsichtigt) **Endlosschleifen** sein!  \n",
    "  (Mit Interrupt Kernel im Kernel Menu ist die Zelle zu stoppen)  \n",
    "    \n",
    "- aus while-Schleifen kann man mit ```break``` ausbrechen  \n",
    "    oft werden while-Schleifen so gebraucht:\n",
    "    \n",
    "```\n",
    "while True:\n",
    "    <statements>\n",
    "    if <condition>:\n",
    "        break\n",
    "```   "
   ]
  },
  {
   "cell_type": "code",
   "execution_count": null,
   "id": "3fed437f-a6c5-4664-889b-79fc751fd5bb",
   "metadata": {},
   "outputs": [],
   "source": [
    "counter = 3\n",
    "while counter > 0:\n",
    "    print(counter, end=', ')\n",
    "    counter -= 1"
   ]
  },
  {
   "cell_type": "code",
   "execution_count": null,
   "id": "043424e0-db8b-4519-be76-91eb6e755f8c",
   "metadata": {},
   "outputs": [],
   "source": [
    "counter = 3\n",
    "while True:\n",
    "    print(counter, end=', ')\n",
    "    counter -= 1\n",
    "    \n",
    "    if counter <= 0:\n",
    "        break"
   ]
  },
  {
   "cell_type": "code",
   "execution_count": null,
   "id": "4c65d5c5-581b-4b2a-ba57-9cd0a92d7b12",
   "metadata": {},
   "outputs": [],
   "source": [
    "names = ['Alice', 'Bob', 'Carl']\n",
    "while names:\n",
    "    name = names.pop()\n",
    "    print(name)"
   ]
  },
  {
   "cell_type": "markdown",
   "id": "e1fb4b1c-5dfa-4ae5-8ec6-9a7854a403c7",
   "metadata": {},
   "source": [
    "### Bedingte Anweisungen\n",
    "\n",
    "```\n",
    "if  <expression>: \n",
    "    <statements>\n",
    "# optional    \n",
    "elif <expression>:\n",
    "    <statements>\n",
    "# optional\n",
    "elif <expression>:\n",
    "    <statements>\n",
    "\n",
    "else:\n",
    "    <statements>\n",
    "```\n",
    "Ist der Ausdruck ```<expression>``` nach ```if``` wahr  (genauer: ```bool(<expression>) == True```) wird der nachfolgende Codeblock ausgef&uuml;hrt, dann wird ans Ende des ganzen ```if, elif, ...,else```-Blocks gesprungen.\n",
    "Anderfalls wird der Ausdruck nach dem n&auml;chsten ```elif``` ausgewertet. Falls ```True``` wird der\n",
    "entsprechende Codeblock ausgef&uuml;hrt.\n",
    "Ist keiner der ```elif```-Ausdr&uuml;cke gleich ```True```, werden die ```<statements>``` im ```else```-Block ausgef&uuml;hrt.\n",
    "\n",
    "- **Geschachtelte** ```if-else```-Anweisungsbl&ouml;cke f&uuml;hren schnell zu schwer lesbarem Code und **sollten \n",
    "  vermieden** werden. "
   ]
  },
  {
   "cell_type": "code",
   "execution_count": null,
   "id": "913f3623-cc04-405a-b8bd-6e961ecf2e5b",
   "metadata": {},
   "outputs": [],
   "source": [
    "x , y = 2, 0 \n",
    "if  x > y:\n",
    "    print('{} ist groesser als {}'.format(x,y))   \n",
    "elif x == y:\n",
    "    print('{} ist gleich als {}'.format(y,x))    \n",
    "else: \n",
    "    print('{} ist groesser als {}'.format(y,x))    "
   ]
  },
  {
   "cell_type": "code",
   "execution_count": null,
   "id": "8893904b-7da3-4681-98a2-6acafdabf4a5",
   "metadata": {},
   "outputs": [],
   "source": [
    "namen = []\n",
    "# print(namen[0]) # -> IndexError, falls namen = []\n",
    "\n",
    "if namen:\n",
    "    print(namen[0])\n",
    "else:\n",
    "    print('keine Namen')"
   ]
  },
  {
   "cell_type": "markdown",
   "id": "ddbbe3e4-806b-4100-852a-0062b2f037c4",
   "metadata": {},
   "source": [
    "### Aufgaben"
   ]
  },
  {
   "cell_type": "markdown",
   "id": "37211fa5-4a71-461a-b641-b103b82bc03c",
   "metadata": {},
   "source": [
    "- Programmiere die Funktion \n",
    "$$\\text{sign}(x) = \\begin{cases}\n",
    "1&: \\text{falls }x>0,\\\\\n",
    "0&: \\text{falls }x=0,\\\\\n",
    "-1&:\\text{falls } x<0.\n",
    "\\end{cases}$$  \n",
    "\n",
    "\n",
    "- Benutze die Funktion ```sign``` um eine Funktion ```eval_guess(guess, nbr)``` zu schreiben, welche \n",
    "0, 1, oder -1 zur&uuml;ck gibt, je nachdem ob guess gleich nbr, guess zu gross oder zu klein ist.\n",
    "\n",
    "- Modifiziere ```eval_guess(guess, nbr)``` so, dass sie\n",
    "nun 2 Werte zur&uuml;ck gibt:\n",
    "Der 1. Wert ist entweder ```True``` oder ```False```, der 2. Wert wie gehabt.\n",
    "\n",
    "- Benutze den Dictionary\n",
    "```python\n",
    "comments = {1: 'too big', \n",
    "            0: 'correct', \n",
    "            -1:'too small',\n",
    "           }\n",
    "```\n",
    "um eine neue Version von ```eval_guess(guess, nbr)``` zu schreiben, welche nun als 2. Wert\n",
    "'correct', 'too big' und 'too small' anstelle von 0,1,-1 zur&uuml;ck gibt.\n",
    "\n",
    "- Schreibe Code, der solange nach einer Zahl zwischen 1 und 10 fr&auml;gt, bis 5 eingegeben wird.\n",
    "  Gib jeweils aus, ob die eingegebene Zahl 'too big', 'correct' oder 'too small' ist.\n",
    "  \n",
    "- Schreibe eine Funktion ```play_game(lower, upper)```, welche eine Zufallszahl zwischen lower und upper erraten l&auml;sst."
   ]
  },
  {
   "cell_type": "code",
   "execution_count": 24,
   "id": "3451454d-b66a-48d6-896b-3df9649b14ae",
   "metadata": {},
   "outputs": [],
   "source": [
    "def sign(n):\n",
    "    '''returns the sign of the number n'''\n",
    "    \n",
    "    \n",
    "    return res"
   ]
  },
  {
   "cell_type": "code",
   "execution_count": null,
   "id": "0a187e97-afc7-4a78-ace1-7ebb56b04f97",
   "metadata": {},
   "outputs": [],
   "source": []
  },
  {
   "cell_type": "code",
   "execution_count": null,
   "id": "bfc1e6e6-b8d5-4c34-a518-d80e6bb27595",
   "metadata": {},
   "outputs": [],
   "source": [
    "LOWER = 1\n",
    "UPPER = 10\n",
    "nbr = 5\n",
    "\n",
    "while True:\n",
    "    guess = input()\n",
    "    \n",
    "    \n",
    "    if <cond>:\n",
    "        break\n",
    "        "
   ]
  }
 ],
 "metadata": {
  "kernelspec": {
   "display_name": "Python 3 (ipykernel)",
   "language": "python",
   "name": "python3"
  },
  "language_info": {
   "codemirror_mode": {
    "name": "ipython",
    "version": 3
   },
   "file_extension": ".py",
   "mimetype": "text/x-python",
   "name": "python",
   "nbconvert_exporter": "python",
   "pygments_lexer": "ipython3",
   "version": "3.8.10"
  }
 },
 "nbformat": 4,
 "nbformat_minor": 5
}
