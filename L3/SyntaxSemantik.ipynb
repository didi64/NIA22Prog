{
 "cells": [
  {
   "cell_type": "markdown",
   "id": "7bec3a79-4d44-434d-9986-08ab1e50048b",
   "metadata": {},
   "source": [
    "### Syntax und Semantik\n",
    "\n",
    "Die **Syntax** einer Sprache beschreibt die W&ouml;rter und Grammatik der Sprache. \n",
    "Nicht nur nat&uuml;rliche Sprachen (z.B. Deutsch), sondern auch Programmiersprachen wie Python haben eine Grammatik, \n",
    "eine Menge von Regeln welche definieren ob ein Satz korrekt (**wohlgeformt**) ist.\n",
    "\n",
    "Ein Text besteht aus einer Folge von **S&auml;tzen**.\n",
    "Ein Programm ist eine Folge von **Anweisungen** (statements). Einfache Anweisungen sind **Funktionsaufrufe** und\n",
    "**Zuweisungen** (assignments).\n",
    "Zusammengesetzte Anweisungen werden aus Schl&uuml;sselwortern und  Anweisungen konstruiert.\n",
    "\n",
    "\n",
    "Funktionsaufrufe haben die Form ```<funktionsname>(<parameter>)```.\n",
    "Funktionsaufrufe sind sowohl Ausdr&uuml;cke wie Anweisungen.<br>\n",
    "Zuweisungen haben die Form ```<variabelnamen> = <ausdruck>```, z.B. \n",
    "```x = (2 + 3) *5``` oder ```x = f()```.<br>\n",
    "\n",
    "Zusammengesetzte Anweisungen sind z.B. Konstruktionen der Form\n",
    "```\n",
    "def <funktionsname>(<parameter>):\n",
    "    <anweisungen>\n",
    "\n",
    "while <bedingung>:\n",
    "    <anweisungen>\n",
    "    \n",
    "```    \n",
    "\n",
    "\n",
    "\n",
    "Die **Semantik** beschreibt die Bedeutung von Sprachkonstrukten.\n",
    "Die Semantik eines Programms beschreibt was das Programm tut (wie &auml;ndert sich der Zustand des Prozessors, des Computerspeichers, der Variabeln, ...).\n",
    "Ein Programm ist **semantisch korrekt**, falls es tut was es soll (seiner Spezifikation gen&uuml;gt).\n",
    "\n",
    "\n",
    "**Inkorrekt** geformte Ausdr&uuml;cke und Anweisungen sind **Syntaxfehler**.\n",
    "Syntaxfehler\n",
    "sind einfach zu erkennen und werden von Interpreter (od. Entwicklungsumgebung) sofort erkannt.<br>\n",
    "**Semantikfehler** sind einerseits Programmteile, die **nicht das Intendierte tun**, andererseits\n",
    "die Verwendung von **nicht definierten** Variablen oder Variablen eines **falschen Typs** in einem Ausdruck.<br>\n",
    "Gewisse **Semantikfehler** werden zur Laufzeit des Programms von Interpreter bemerkt (undefinierte Variablen, falscher Typ).\n",
    "Ob ein Programm seine Spezifikation erf&uuml;llt ist kaum zu entscheiden."
   ]
  },
  {
   "cell_type": "code",
   "execution_count": 4,
   "id": "4904f357-c621-4061-8fd8-262e0c3cb907",
   "metadata": {},
   "outputs": [
    {
     "ename": "SyntaxError",
     "evalue": "EOL while scanning string literal (1750859596.py, line 3)",
     "output_type": "error",
     "traceback": [
      "\u001b[0;36m  File \u001b[0;32m\"/tmp/ipykernel_2403125/1750859596.py\"\u001b[0;36m, line \u001b[0;32m3\u001b[0m\n\u001b[0;31m    x = 'Hallo\u001b[0m\n\u001b[0m              ^\u001b[0m\n\u001b[0;31mSyntaxError\u001b[0m\u001b[0;31m:\u001b[0m EOL while scanning string literal\n"
     ]
    }
   ],
   "source": [
    "# Beispiele von Syntaxfehlern\n",
    "\n",
    "x = 'Hallo\n",
    "y = (2 + (3*5)\n",
    " \n",
    "def f():\n",
    "print('foo')         \n",
    "     \n",
    "def f()\n",
    "    print('foo')     "
   ]
  },
  {
   "cell_type": "code",
   "execution_count": null,
   "id": "cd9b9ed7-5a4a-409d-9c2d-29fcfc521f93",
   "metadata": {},
   "outputs": [],
   "source": [
    "# Beispiele von Semantikfehlern: Verwendung einer undefiniterten Variable\n",
    "print(some_undefined_variable)"
   ]
  },
  {
   "cell_type": "code",
   "execution_count": null,
   "id": "cc3c5c07-cafe-46ad-a3a0-bb47a6500854",
   "metadata": {},
   "outputs": [],
   "source": [
    "# Verwendung einer Variable von falschen Typ, str statt int\n",
    "x = '2'\n",
    "print(x + 2)"
   ]
  }
 ],
 "metadata": {
  "kernelspec": {
   "display_name": "Python 3 (ipykernel)",
   "language": "python",
   "name": "python3"
  },
  "language_info": {
   "codemirror_mode": {
    "name": "ipython",
    "version": 3
   },
   "file_extension": ".py",
   "mimetype": "text/x-python",
   "name": "python",
   "nbconvert_exporter": "python",
   "pygments_lexer": "ipython3",
   "version": "3.9.10"
  }
 },
 "nbformat": 4,
 "nbformat_minor": 5
}
