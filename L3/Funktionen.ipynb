{
 "cells": [
  {
   "cell_type": "markdown",
   "id": "b768fa49-f920-4ede-a1dc-0dc655920813",
   "metadata": {},
   "source": [
    "### Funktionen\n",
    "- Funktionen erlauben es,  einer Variable (Referenzen auf) Codebl&ouml;cke (Folge von Anweisungen) zuzuweisen und bei Bedarf auszuf&uuml;hren. Der Funktion k&ouml;nnen \n",
    "(Referenzen auf) Objekte &uuml;bergeben werden, auf welche die Funktion Zugriff hat.  Eine Funktion ```f()``` kann (Referenzen auf) Objekte zur&uuml;ckgeben, welche\n",
    "mittels\n",
    "```x = f()``` \n",
    "der Variable ```x``` zugewiesen werden.\n",
    "\n",
    "- Funktionen erm&ouml;glichen es, ein Programm zu strukturieren, d.h.    Programmteile als Funktionen auszulagern.\n",
    " \n",
    " \n",
    "  \n",
    "- Eine Funktionsdefinition hat die Form  \n",
    "\n",
    "```python\n",
    "def <functionname>(<variable(s)>):\n",
    "    '''Hilfstext zur Funktion''' # docstring\n",
    "    <statements> \n",
    "    return <variable(s)> # optional\n",
    "\n",
    "```\n",
    "- Eine Funktionsaufruf hat die Form  \n",
    "\n",
    "```python\n",
    "<functionname>(<expression(s)>)\n",
    "```\n",
    "Die Werte der ```<expression(s)>``` werden den ```<variable(s)>``` an den entsprechenden Positionen in der Funktionsdefinition zugewiesen.\n",
    "\n",
    "\n",
    "- Der Docstring wird z.B. durch ```help(<functionname>)``` ausgegeben.\n",
    "Er soll die Funktion kurz dokumentieren.\n",
    "\n",
    "Der einger&uuml;ckte Codeblock wird auch **function body** oder kurz **body** genannt.\n",
    "- Gibt eine Funktion ```f()``` mehrere Werte zur&uuml;ck, werden diese\n",
    "   automatisch in ein Tupel gepackt.\n",
    "   \n",
    "**Bemerkungen**\n",
    "- Die Funktion hat ihre eigenen lokalen (**local**) Variabeln.   \n",
    "  Variabeln, die im Funktionsbody definiert werden, &uuml;berschreiben \n",
    "  ausserhalb der Funktion definierte Variablen nicht.\n",
    "  Nach der Ausf&uuml;hrung der Funktion werden die lokalen Variabeln wieder gel&ouml;scht (**garbage collection**)\n",
    "\n",
    "- Im Funktionsbody hat man **Lesezugriff** auf ausserhalb der Funktion definierte Variabeln, sofern diese nicht durch lokale Variabeln verdeckt (**shadowed**) sind."
   ]
  },
  {
   "cell_type": "markdown",
   "id": "25d409db-6899-4bab-bd3a-7109ba0c8980",
   "metadata": {},
   "source": [
    "### Beispiele"
   ]
  },
  {
   "cell_type": "code",
   "execution_count": 1,
   "id": "8850e9c6-2bec-4cf8-a211-eece93bb4e9c",
   "metadata": {},
   "outputs": [
    {
     "name": "stdout",
     "output_type": "stream",
     "text": [
      "None\n",
      "Help on function do_nothing in module __main__:\n",
      "\n",
      "do_nothing()\n",
      "    tut nichts, gibt None zurueck\n",
      "\n"
     ]
    }
   ],
   "source": [
    "# die einfachste Funktion in Python, tut nichts und gibt None zurueck\n",
    "def do_nothing():\n",
    "    '''tut nichts, gibt None zurueck'''\n",
    "    pass\n",
    "\n",
    "print(do_nothing())\n",
    "help(do_nothing)"
   ]
  },
  {
   "cell_type": "code",
   "execution_count": 2,
   "id": "e8a08880-5e2d-478c-b450-7264839491c5",
   "metadata": {},
   "outputs": [
    {
     "name": "stdout",
     "output_type": "stream",
     "text": [
      "Help on function return_args in module __main__:\n",
      "\n",
      "return_args(x, y)\n",
      "    gibt x,y wieder zurueck\n",
      "\n",
      "(1, 2)\n",
      "a b\n"
     ]
    }
   ],
   "source": [
    "def return_args(x, y):\n",
    "    '''gibt x,y wieder zurueck'''\n",
    "    return x, y\n",
    "\n",
    "help(return_args)\n",
    "t = return_args(1, 2)\n",
    "print(t) # tuple, die 2 Ruckgabewerte werden in Tuple gepackt\n",
    "\n",
    "x, y = return_args('a', 'b') \n",
    "print(x, y)"
   ]
  },
  {
   "cell_type": "code",
   "execution_count": 3,
   "id": "741f998f-a1d7-4d15-a7e2-72249b65c87d",
   "metadata": {},
   "outputs": [
    {
     "name": "stdout",
     "output_type": "stream",
     "text": [
      "hello Bob\n"
     ]
    }
   ],
   "source": [
    "def prefix_with_hello(name):\n",
    "    '''prints 'hello ' + name'''\n",
    "    print('hello ' + name)\n",
    "\n",
    "prefix_with_hello('Bob')    "
   ]
  },
  {
   "cell_type": "code",
   "execution_count": 4,
   "id": "0a6b396e-2364-4dcd-b967-740d15c3e4a6",
   "metadata": {},
   "outputs": [
    {
     "name": "stdout",
     "output_type": "stream",
     "text": [
      "hello Alice\n"
     ]
    }
   ],
   "source": [
    "def call_fun(f, x):\n",
    "    '''fuehrt  f(x) aus'''\n",
    "    f(x)\n",
    "    \n",
    "call_fun(prefix_with_hello, 'Alice')    "
   ]
  },
  {
   "cell_type": "markdown",
   "id": "fad43bbe-f6f2-4ed5-878f-3825200a75da",
   "metadata": {},
   "source": [
    "### Aufgabe\n",
    "- Schreibe eine Funktion, die nach Name und Jahrgang fr&auml;gt, und Name und Alter ausgibt.  \n",
    "- Modifiziere die Funktion so, dass das Tuple (Name, Alter) an eine  Liste anh&auml;ngt wird."
   ]
  },
  {
   "cell_type": "code",
   "execution_count": null,
   "id": "03e68fc6-c656-4079-9f41-d5188160a2e4",
   "metadata": {},
   "outputs": [],
   "source": [
    "YEAR = 2022\n",
    "data = []\n",
    "def f():\n",
    "    # <dein Code>\n",
    "\n",
    "# f()"
   ]
  },
  {
   "cell_type": "markdown",
   "id": "cf6a2f6b-d434-4e60-85e6-c17bb493859f",
   "metadata": {},
   "source": [
    "### Lesezugriff auf globale Variabeln, lokale Variablen"
   ]
  },
  {
   "cell_type": "code",
   "execution_count": null,
   "id": "b0ad5c1b-0835-48dd-827e-9b137729ad1a",
   "metadata": {},
   "outputs": [],
   "source": [
    "x  = 1 # (globales x)\n",
    "def read_x():\n",
    "    print(x) \n",
    "    \n",
    "def shadow_x():\n",
    "    x = 0     # erstellt lokale Variable x\n",
    "    print('local x:', x)  # lokales x verdeckt (shadows) globales x\n",
    "\n",
    "read_x()\n",
    "shadow_x()\n",
    "print('global x still the same:', x)"
   ]
  },
  {
   "cell_type": "code",
   "execution_count": null,
   "id": "a227b4e5-2b02-49c9-9010-804ffa309c7d",
   "metadata": {},
   "outputs": [],
   "source": [
    "def local_var():\n",
    "    local_y = 0\n",
    "    print(local_y)\n",
    "    \n",
    "local_var()\n",
    "# print(local_y) # NameError: name 'local_y' is not defined"
   ]
  },
  {
   "cell_type": "code",
   "execution_count": null,
   "id": "d3d4829b-c066-40e6-8c1a-e476021ec755",
   "metadata": {},
   "outputs": [],
   "source": [
    "x = 1\n",
    "def f(x):\n",
    "    print('local x:', x) # x is a local variable \n",
    "    \n",
    "f(10)    \n",
    "print('global x still the same:', x)"
   ]
  },
  {
   "cell_type": "code",
   "execution_count": null,
   "id": "2c799303-29a2-4c36-81db-8ca8fd121bc0",
   "metadata": {},
   "outputs": [],
   "source": [
    "l = [1,2]\n",
    "def append_to_l():\n",
    "    l.append(3) #Lesezugriff auf Methode append von l\n",
    "    \n",
    "append_to_l()\n",
    "l"
   ]
  },
  {
   "cell_type": "code",
   "execution_count": null,
   "id": "deaa22a8-92e0-4eed-8be7-9e0034032e80",
   "metadata": {},
   "outputs": [],
   "source": [
    "l = [1,2]\n",
    "def modify_l():\n",
    "    l[0] = 'changed' # Lesezugriff, ok \n",
    "                     # (Lesezugriff auf Methode __setitem__\n",
    "                     #  ruft l.__setitem__(0, 'changed') auf)\n",
    "    \n",
    "modify_l()\n",
    "l"
   ]
  },
  {
   "cell_type": "markdown",
   "id": "192d2b1f-93d6-494b-8e39-39898a3ab433",
   "metadata": {},
   "source": [
    "### Aufgaben\n",
    "- Wieso funktioniert nur die eine Variante?  \n",
    "Hinweise: ```x += 1``` ist das gleiche wie ```x = x + 1``` bei Zahlen und Strings. \n",
    "\n",
    "**Variante 1**\n",
    "```python\n",
    "counter = 0\n",
    "def f():\n",
    "    counter += 1\n",
    "    \n",
    "for i in range(10):\n",
    "    f()\n",
    "print(counter)   \n",
    "```\n",
    "\n",
    "**Variante 2**\n",
    "```python\n",
    "counters = [0]\n",
    "def g():\n",
    "    counters[0] += 1\n",
    "    \n",
    "for i in range(10):\n",
    "    g()\n",
    "print(counters[0])   \n",
    "```"
   ]
  },
  {
   "cell_type": "markdown",
   "id": "c78f9aa7-dad4-4a2f-919c-8cdaaf6bcd56",
   "metadata": {},
   "source": [
    "### Funktionsdefinition: **Non-Default Arguments** und  **Default Arguments**\n",
    "- Non-Default Arguments: ```def f(x, y):```  \n",
    "  Beim Funktionsaufruf **m&uuml;ssen** allen non-default Argumenten Werte &uuml;bergeben werden.\n",
    "  \n",
    "- Default Arguments: ```def f(x = 2, y = 'test'):```\n",
    "  Beim Funktionsaufruf **k&ouml;nnen** diesen  Argumenten Werte &uuml;bergeben werden.\n",
    "\n",
    "- Mischform: ```def f(x, y = 'test'):```  \n",
    "  Alle **non-default Arguments** m&uuml;ssen **vor** den **default Arguments** stehen."
   ]
  },
  {
   "cell_type": "code",
   "execution_count": null,
   "id": "4256038d-11f4-4b97-9b05-26be57aa3df2",
   "metadata": {},
   "outputs": [],
   "source": [
    "def f(x, y = 2, z):\n",
    "    pass"
   ]
  },
  {
   "cell_type": "markdown",
   "id": "58f33052-b252-4e7f-9fbc-58bddc646e90",
   "metadata": {},
   "source": [
    "### Funktionsaufruf: **Positional Arguments** und **Keyword Arguments**\n",
    "Betrachte die Funktionsdefinition ```def f(x, y, z = 3):```  \n",
    "\n",
    "Beim Funktionsaufruf k&ouml;nnen Argumente sowohl\n",
    "by position  (**positional arguments**) als auch als key-value Paare\n",
    "(**keyword arguments**) &uuml;bergeben werden.\n",
    "Alle Argumente, die **by position** &uuml;bergeben werden, \n",
    "**m&uuml;ssen vor** den **key-value** Paaren stehen.  \n",
    "\n",
    "- erlaubt:\n",
    "```python\n",
    "f(2, 3)\n",
    "f(2, 3, 4)\n",
    "f(2, y=3, z=4)\n",
    "f(2, z=4, y=3)\n",
    "```\n",
    "- veboten:\n",
    "```python\n",
    "f(x=2, 3)\n",
    "```\n",
    "\n",
    "**Bemerkung**:  \n",
    "Manche Funktionen erlauben nur positional Arguments (z.B. ```str.ljust```).  \n",
    "Ersichtlich aus der Signatur der Funktion ```ljust(self, width, fillchar=' ', /)```.  \n",
    "Argumente vor dem **/** k&ouml;nnen nur **by position** &uuml;bergeben werden\n",
    "\n",
    "```\n",
    "Help on method_descriptor:\n",
    "\n",
    "ljust(self, width, fillchar=' ', /)\n",
    "    Return a left-justified string of length width.\n",
    "```"
   ]
  },
  {
   "cell_type": "code",
   "execution_count": null,
   "id": "da846c70-d55b-40f1-8502-ff477347ac6c",
   "metadata": {},
   "outputs": [],
   "source": [
    "'abc'.ljust(width=10)"
   ]
  },
  {
   "cell_type": "markdown",
   "id": "87a5f574-7f66-407a-b0d0-1df7cd6bee7a",
   "metadata": {},
   "source": [
    "### Aufgabe\n"
   ]
  },
  {
   "cell_type": "markdown",
   "id": "85dd8bb0-8459-4167-8017-e0f109d5843d",
   "metadata": {},
   "source": [
    "### Auspacken von Iterables und Dictionaries beim Funktionsaufruf\n",
    "- Unpacking eines Iterables mit ```*<iterable>```:  \n",
    "  - ```f(*[1, 2, 3])``` wird zu ```f(1, 2, 3)```.  \n",
    "  -  ```f(*'abc')``` zu ```f('a', 'b', 'c')```.   \n",
    "  Der Operator __*__ packt die Elemente des Iterable aus.  \n",
    " \n",
    "- Unpacking eines Dictionaries  mit ```**<dict>```:    \n",
    "- ```f(**{'x': 1, 'y': 4})``` wird zu  ```f(x=1, y=4)```.      \n",
    "    Der Operator __**__ packt die Elemente des Dictionaries aus.  \n",
    "    \n",
    " "
   ]
  },
  {
   "cell_type": "code",
   "execution_count": null,
   "id": "69fcd46d-8792-496c-a329-9f6cc9eaf739",
   "metadata": {},
   "outputs": [],
   "source": [
    "s = 'abc'\n",
    "d = {'end': ', '}\n",
    "print(*s) # print('a','b', 'c')\n",
    "print(*s, **d) # print('a','b', 'c', end = ', ')"
   ]
  },
  {
   "cell_type": "markdown",
   "id": "d4abf07a-00e5-46df-b02c-3f0b8384c9c9",
   "metadata": {},
   "source": [
    "### Aufgabe 1\n",
    "Benutze den unpacking operator *, um mit der Funktion ```dist``` die Seitenl&auml;ngen des Dreiecks mit Ecken A,B,C zu berechnen.\n",
    "```python\n",
    "A = (3,3)\n",
    "B = (3,7)\n",
    "C = (6,3)\n",
    "\n",
    "def dist(x1, y1, x2, y2):\n",
    "    '''returns distance from (x1,y1) to (x2,y2)'''\n",
    "    return ((x1-x2)**2 + (y1-y2)**2)**(1/2)\n",
    "```"
   ]
  },
  {
   "cell_type": "markdown",
   "id": "1e0e8157-8a20-4383-a315-f55c2e75b062",
   "metadata": {
    "tags": []
   },
   "source": [
    "### Aufgabe 2\n",
    "Erg&auml;nze die Funktion ```f``` im nachstehende Codeblock, so dass der gew&uuml;nschte Output produziert wird.\n",
    "\n",
    "\n",
    "```python\n",
    "customers = [{'name'   : 'Anna',\n",
    "              'anrede' : 'Liebe',\n",
    "              'gruss'  : 'Mit freundlichen Grüssen',\n",
    "             },\n",
    "            ]\n",
    "            \n",
    "email = '''\\\n",
    "{anrede} {name},\n",
    " \n",
    "{msg}\n",
    " \n",
    "{gruss},\n",
    "{absender}\n",
    "''' \n",
    "\n",
    "def f(msg, customer, template, absender='Your Name'):\n",
    "    return template.format(<ergaenze>)\n",
    "```\n",
    "\n",
    "Erwarterer Output:\n",
    "```python    \n",
    "msg = 'danke fuer deine rasch Anwort.'\n",
    "print(f(msg, customers[0], template = email))  \n",
    "```\n",
    "Liebe Anna,\n",
    " \n",
    "danke fuer deine rasch Anwort.\n",
    " \n",
    "Mit freundlichen Grüssen,  \n",
    "Your Name"
   ]
  },
  {
   "cell_type": "code",
   "execution_count": null,
   "id": "3b388bf8-ecc6-4f7f-bedd-89d0359f1907",
   "metadata": {},
   "outputs": [],
   "source": []
  }
 ],
 "metadata": {
  "kernelspec": {
   "display_name": "Python 3 (ipykernel)",
   "language": "python",
   "name": "python3"
  },
  "language_info": {
   "codemirror_mode": {
    "name": "ipython",
    "version": 3
   },
   "file_extension": ".py",
   "mimetype": "text/x-python",
   "name": "python",
   "nbconvert_exporter": "python",
   "pygments_lexer": "ipython3",
   "version": "3.9.10"
  }
 },
 "nbformat": 4,
 "nbformat_minor": 5
}
