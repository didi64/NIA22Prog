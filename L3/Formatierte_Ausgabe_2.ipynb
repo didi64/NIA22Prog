{
 "cells": [
  {
   "cell_type": "markdown",
   "id": "556211bb-14fa-45f3-973c-a5b7dd3af8f0",
   "metadata": {},
   "source": [
    "### W&uuml;nschenswerte Erweiterungen von ```row2str(row, width)```\n",
    "- n Spalten statt 2 Spalten \n",
    "  - fstring nun abh&auml;ngig von n:  \n",
    "  ```'|{}|{}|'``` -> ```'|' + '{}| * n```\n",
    "  - ```format(s1, s2)``` -> ```format(*args)```, wo ```args=(s1, ..., sn)```   \n",
    "  An Stelle von\n",
    "```python \n",
    "s1, s2 = row\n",
    "s1 = s1.ljust(width)\n",
    "s2 = s2.ljust(width),\n",
    "```      \n",
    "konstruiere die Liste ```args``` mit einer For-Schleife.\n",
    "  \n",
    "  \n",
    "- Spalten mit verschiedenen Breiten  \n",
    "  - ```width = 15``` -> ```widths = (15, 15, 30)```\n",
    "  -  Um die Liste ```args``` zu konstruieren, benutze  \n",
    "     ```for s, w in zip(row, widths):```"
   ]
  },
  {
   "cell_type": "code",
   "execution_count": null,
   "id": "f54ee3f5-10e1-458f-95ea-a243626f6517",
   "metadata": {
    "tags": []
   },
   "outputs": [],
   "source": [
    "# mehrere Spalten\n",
    "\n",
    "def row2str(row, width):    \n",
    "    fstring = '|' + '{}|' * len(row)\n",
    "    row_items = []\n",
    "    \n",
    "    for s in row:\n",
    "        s = s.ljust(width)\n",
    "        row_items.append(s)\n",
    "   \n",
    "    return fstring.format(*row_items) \n",
    "\n",
    "COL_WIDTH = 15\n",
    "HEADER = ('First Name', 'Last Name', 'Email')\n",
    "hline  = []\n",
    "for i in range(len(HEADER)):\n",
    "    hline.append('=' * COL_WIDTH )           \n",
    "names = [('Elias', 'Kopf', 'elias.kopf@edu.teko.ch'),\n",
    "         ('Jennifer', 'Müller', 'jennifer.mueller@edu.teko.ch'),\n",
    "         ('Oliver', 'Pfenniger', 'oliver.pfenniger@edu.teko.ch'),\n",
    "         ('René', 'Scheidegger', 'rene.scheidegger@edu.teko.ch'),\n",
    "         ('Jakob', 'Sutter', 'jakob.sutter@edu.teko.ch')]\n",
    "\n",
    "rows = [HEADER, hline] + names\n",
    "for row in rows:\n",
    "    print(row2str(row, COL_WIDTH))\n"
   ]
  },
  {
   "cell_type": "code",
   "execution_count": null,
   "id": "64b6489f-24c1-4f10-ad35-4f13c7c27971",
   "metadata": {
    "jupyter": {
     "source_hidden": true
    },
    "tags": []
   },
   "outputs": [],
   "source": [
    "# mehrere Spalten, unterschiedliche Spaltenbreiten\n",
    "\n",
    "def row2str(row, widths):    \n",
    "    fstring = '|' + '{}|' * len(row)\n",
    "    row_items = []\n",
    "    \n",
    "    for s, w in zip(row, widths):\n",
    "        s = s.ljust(w)\n",
    "        row_items.append(s)\n",
    "   \n",
    "    return fstring.format(*row_items)\n",
    "\n",
    "COL_WIDTHS = (15, 15, 30)\n",
    "HEADER = ('First Name', 'Last Name', 'Email')\n",
    "hline  = []\n",
    "for i in COL_WIDTHS:\n",
    "    hline.append('=' * i)           \n",
    "names = [('Elias', 'Kopf', 'elias.kopf@edu.teko.ch'),\n",
    "         ('Jennifer', 'Müller', 'jennifer.mueller@edu.teko.ch'),\n",
    "         ('Oliver', 'Pfenniger', 'oliver.pfenniger@edu.teko.ch'),\n",
    "         ('René', 'Scheidegger', 'rene.scheidegger@edu.teko.ch'),\n",
    "         ('Jakob', 'Sutter', 'jakob.sutter@edu.teko.ch')]\n",
    "\n",
    "rows = [HEADER, hline] + names\n",
    "for row in rows:\n",
    "    print(row2str(row, COL_WIDTHS))"
   ]
  },
  {
   "cell_type": "markdown",
   "id": "51e338f6-7039-4ef5-abc3-c7a534f90fa6",
   "metadata": {
    "tags": []
   },
   "source": [
    "### Weitere Verbesserungen 1"
   ]
  },
  {
   "cell_type": "markdown",
   "id": "3e534ae4-a862-4188-a4eb-55fdb57b5606",
   "metadata": {
    "jupyter": {
     "source_hidden": true
    },
    "tags": []
   },
   "source": [
    "- Spaltenbreit wird automatisch ermittelt:  \n",
    "schreibe eine Funktion  \n",
    "```get_widths(header, rows)```, die eine passende Liste ```col_widths``` zur&uuml;ck gibt.  \n",
    "Z.B. ```get_widths(HEADER, names)``` ist [10, 11, 28]\n",
    "\n",
    "- packe alles in eine Funktion  ```print_table(header, rows)```.\n",
    "\n",
    "```python\n",
    "HEADER = ('First Name', 'Last Name', 'Email')\n",
    "names = [('Elias', 'Kopf', 'elias.kopf@edu.teko.ch'),\n",
    "         ('Jennifer', 'Müller', 'jennifer.mueller@edu.teko.ch'),\n",
    "         ('Oliver', 'Pfenniger', 'oliver.pfenniger@edu.teko.ch'),\n",
    "         ('René', 'Scheidegger', 'rene.scheidegger@edu.teko.ch'),\n",
    "         ('Jakob', 'Sutter', 'jakob.sutter@edu.teko.ch')]\n",
    "\n",
    "print_table(HEADER, names)\n",
    "```\n",
    "\n",
    "soll den folgenden Output produzieren:\n",
    "```\n",
    "|First Name|Last Name  |Email                       |  \n",
    "|==========|===========|============================|  \n",
    "|Elias     |Kopf       |elias.kopf@edu.teko.ch      |  \n",
    "|Jennifer  |Müller     |jennifer.mueller@edu.teko.ch|  \n",
    "|Oliver    |Pfenniger  |oliver.pfenniger@edu.teko.ch|  \n",
    "|René      |Scheidegger|rene.scheidegger@edu.teko.ch|  \n",
    "|Jakob     |Sutter     |jakob.sutter@edu.teko.ch    |  \n",
    "```"
   ]
  },
  {
   "cell_type": "code",
   "execution_count": null,
   "id": "fdcbee57-abd8-4c35-bce1-33f8548be03f",
   "metadata": {
    "jupyter": {
     "source_hidden": true
    },
    "tags": []
   },
   "outputs": [],
   "source": [
    "def get_widths(header, rows):\n",
    "    ''' returns list with column widths\n",
    "    \n",
    "        header: tuple or List, ('header1', 'header2',...) \n",
    "        rows  : list of tuples of strings, same length as header\n",
    "    '''\n",
    "    widths = []\n",
    "    for h in header:\n",
    "        widths.append(len(h))\n",
    "    \n",
    "    for row in rows:\n",
    "        for ?,? in enumerate(row):\n",
    "            widths[i] = ?\n",
    "    return widths     "
   ]
  },
  {
   "cell_type": "code",
   "execution_count": null,
   "id": "c690f987-eb24-466f-ac8a-be5e1cfb8075",
   "metadata": {
    "jupyter": {
     "source_hidden": true
    },
    "tags": []
   },
   "outputs": [],
   "source": [
    "def print_table(header, rows):    \n",
    "    widths = get_widths(header, rows)\n",
    "    \n",
    "    hline = []\n",
    "    for i in widths:\n",
    "        hline.append(?)  \n",
    "        \n",
    "    for row in ?:\n",
    "        s = row2str(row, widths)\n",
    "        print(s)"
   ]
  },
  {
   "cell_type": "markdown",
   "id": "564e30dc-c686-43ed-9084-593fb358e34b",
   "metadata": {
    "tags": []
   },
   "source": [
    "### Weitere Verbesserungen 2"
   ]
  },
  {
   "cell_type": "markdown",
   "id": "b0a03170-8374-498d-b224-7ac7234e130f",
   "metadata": {
    "jupyter": {
     "source_hidden": true
    },
    "tags": []
   },
   "source": [
    "- packe alles in eine Funktion  ```table2str(header, rows)```.    \n",
    "Statt die Zeilen direkt auszugeben, konvertiere die Tabelle in einen String.  \n",
    "Benutze die Methode ```str.join```\n",
    "\n",
    "```python\n",
    "HEADER = ('First Name', 'Last Name', 'Email')\n",
    "names = [('Elias', 'Kopf', 'elias.kopf@edu.teko.ch'),\n",
    "         ('Jennifer', 'Müller', 'jennifer.mueller@edu.teko.ch'),\n",
    "         ('Oliver', 'Pfenniger', 'oliver.pfenniger@edu.teko.ch'),\n",
    "         ('René', 'Scheidegger', 'rene.scheidegger@edu.teko.ch'),\n",
    "         ('Jakob', 'Sutter', 'jakob.sutter@edu.teko.ch')]\n",
    "\n",
    "print(table2str(HEADER, names))\n",
    "```\n",
    "\n",
    "soll den folgenden Output produzieren:\n",
    "```\n",
    "|First Name|Last Name  |Email                       |  \n",
    "|==========|===========|============================|  \n",
    "|Elias     |Kopf       |elias.kopf@edu.teko.ch      |  \n",
    "|Jennifer  |Müller     |jennifer.mueller@edu.teko.ch|  \n",
    "|Oliver    |Pfenniger  |oliver.pfenniger@edu.teko.ch|  \n",
    "|René      |Scheidegger|rene.scheidegger@edu.teko.ch|  \n",
    "|Jakob     |Sutter     |jakob.sutter@edu.teko.ch    |  \n",
    "```"
   ]
  },
  {
   "cell_type": "code",
   "execution_count": null,
   "id": "48fa8d30-7e20-46ca-891d-85c40ed0d5c1",
   "metadata": {
    "jupyter": {
     "source_hidden": true
    },
    "tags": []
   },
   "outputs": [],
   "source": [
    "def table2str(header, rows):    \n",
    "    res = []\n",
    "    widths = get_widths(header, rows)\n",
    "    \n",
    "    hline = []\n",
    "    for w in widths:\n",
    "        # haenge Strings '===' passender Laenge an die Liste hline an\n",
    "    \n",
    "  \n",
    "    for row in [header, hline] + rows:\n",
    "        # fuege Zeilen-String zur Liste res hinzu\n",
    "        \n",
    "    return '\\n'.join(res)  "
   ]
  }
 ],
 "metadata": {
  "kernelspec": {
   "display_name": "Python 3 (ipykernel)",
   "language": "python",
   "name": "python3"
  },
  "language_info": {
   "codemirror_mode": {
    "name": "ipython",
    "version": 3
   },
   "file_extension": ".py",
   "mimetype": "text/x-python",
   "name": "python",
   "nbconvert_exporter": "python",
   "pygments_lexer": "ipython3",
   "version": "3.9.10"
  }
 },
 "nbformat": 4,
 "nbformat_minor": 5
}
