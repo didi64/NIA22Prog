{
 "cells": [
  {
   "cell_type": "markdown",
   "id": "d2ad982a-86ee-4260-a31a-713249e2c319",
   "metadata": {},
   "source": [
    "### Input / Output\n",
    "- mit ```text = input('Dein Text? ')``` wird der Benutzer aufgefordert, Text einzugeben.  \n",
    "  Der eingegebene Text wird in der Variable ```text``` als String gespeichert.\n",
    "- ```print(x)``` gibt das Objekt ```x``` aus.  \n",
    "  (Hat das Objekt eine Methode ```__str__``` wird ```x.__str__()``` ausgegeben,  \n",
    "  hat das Objekt eine Methode ```__repr__``` wird ```x.__repr__()``` ausgegeben,   \n",
    "  anderfalls wird ```object.__str__(x)``` ausgegeben.)\n",
    "- ```print(x)``` ist die Kurzform von ```print(x, end = '\\n')```: gibt ```x``` gefolgt von einem Zeilenumbruch aus.  \n",
    "  ```print(x, end = ', ')``` gibt ```x``` gefolgt von ```', '``` aus."
   ]
  },
  {
   "cell_type": "code",
   "execution_count": null,
   "id": "2afa9335-a820-4087-b145-266e5a1f5a88",
   "metadata": {},
   "outputs": [],
   "source": [
    "int.__str__"
   ]
  },
  {
   "cell_type": "code",
   "execution_count": null,
   "id": "d2935316-b6ca-42a3-853e-ad13999af6b8",
   "metadata": {},
   "outputs": [],
   "source": [
    "int.__str__(2)"
   ]
  },
  {
   "cell_type": "code",
   "execution_count": null,
   "id": "bf004610-2f5c-4b82-a5eb-f43afe25ec07",
   "metadata": {},
   "outputs": [],
   "source": [
    "n = input('Gib einen Integer ein')\n",
    "print(n)\n",
    "# print(type(n))\n",
    "# n = int(n)\n",
    "print('Das Quadrat deiner Zahl ist', n**2)"
   ]
  },
  {
   "cell_type": "markdown",
   "id": "65d5dfb0-4d81-4ee4-8db0-4c7b2ba7b794",
   "metadata": {},
   "source": [
    "### Strings formatieren mit ```str.format```\n",
    "- Ein Stringliteral kann anonyme ```{}``` oder benamste ```{name}``` Platzhalter enhalten.\n",
    "- Mit der str.format Methode kann man die Platzhalter durch Strings substituieren.  \n",
    "\n",
    "```python\n",
    "'x = {}'.format(3)\n",
    "'x = {value}'.format(value=3)\n",
    "'x = {x}'.format(x=3)\n",
    "\n",
    "'{anrede} {name}'.format(anrede='Hallo', name='Hans')\n",
    "```"
   ]
  },
  {
   "cell_type": "code",
   "execution_count": null,
   "id": "497da01b-37de-4fe1-87e5-29e3a9d658df",
   "metadata": {},
   "outputs": [],
   "source": [
    "help(str.format)"
   ]
  },
  {
   "cell_type": "code",
   "execution_count": null,
   "id": "ff58bd94-9fc1-46ee-91ef-1153f1e9a215",
   "metadata": {},
   "outputs": [],
   "source": [
    "'String mit Platzhalter: {}'.format('Substitutionstext')"
   ]
  },
  {
   "cell_type": "code",
   "execution_count": null,
   "id": "0970e148-c58a-40cd-9f28-a3aad71a0121",
   "metadata": {},
   "outputs": [],
   "source": [
    "'String mit 2 Platzhalter: {} und {}'.format('text1', 'text2')"
   ]
  },
  {
   "cell_type": "code",
   "execution_count": null,
   "id": "2ce4f75f-3d2a-475d-b591-1a13b1a684c3",
   "metadata": {},
   "outputs": [],
   "source": [
    "print('x = {}'.format(3))\n",
    "print('x = {value}'.format(value=3))\n",
    "print('x = {x}'.format(x=3))\n",
    "\n",
    "print('{anrede} {name}'.format(anrede='Hallo', name='Hans'))"
   ]
  },
  {
   "cell_type": "markdown",
   "id": "1c589174-3c8f-4e97-a5ab-72e934c10fd1",
   "metadata": {},
   "source": [
    "### Einige Methoden zur Formatierung des Types ```str```\n",
    "- ```str.lower```\n",
    "- ```str.upper```\n",
    "- ```str.capitalize```\n",
    "- ```str.center```\n",
    "- ```str.ljust```\n",
    "- ```str.rjust```  \n",
    "Probiere aus, was diese Methoden tun. Vergleiche mit dem Output von ```help```,  \n",
    "z.B. ```help(str.upper)```, ...\n",
    "**Hinweise**: ```'hallo.upper()'``` ruft  ```str.upper(x)``` auf."
   ]
  },
  {
   "cell_type": "markdown",
   "id": "9579cb20-87b8-4e07-b0b0-1e6626c3e0c7",
   "metadata": {},
   "source": [
    "### Operationen auf Strings\n",
    "- 2 Strings kann man mit ```+``` konkatenieren\n",
    "- Einen String und einen Integer kann man mit ```*``` multiplizieren  \n",
    "**Bemerkung**: \n",
    "- ```'A' + 'B'``` ruft ```str.__add__('A', 'B')``` auf  \n",
    "- ```'A' * 3``` ruft ```str.__mul__('A', 3)``` auf\n",
    "- ``` 3 * 'A'``` ruft zuerst ```int.__mul__(3,'A')``` auf,  \n",
    "da dies ```NotImplemented``` zur&uuml;ck gibt, wird dann ```str.__rmul__('A', 3)``` aufgerufen  \n",
    "\n",
    "**Aufgabe**  \n",
    "Gib \n",
    "```\n",
    "Name      | Vorname   \n",
    "====================\n",
    "Hans      | Muster    \n",
    "```\n",
    "aus. Benutze dabei die String Methoden ```format, ljust```, sowie ```+``` und ```*```."
   ]
  }
 ],
 "metadata": {
  "kernelspec": {
   "display_name": "Python 3 (ipykernel)",
   "language": "python",
   "name": "python3"
  },
  "language_info": {
   "codemirror_mode": {
    "name": "ipython",
    "version": 3
   },
   "file_extension": ".py",
   "mimetype": "text/x-python",
   "name": "python",
   "nbconvert_exporter": "python",
   "pygments_lexer": "ipython3",
   "version": "3.9.10"
  }
 },
 "nbformat": 4,
 "nbformat_minor": 5
}
