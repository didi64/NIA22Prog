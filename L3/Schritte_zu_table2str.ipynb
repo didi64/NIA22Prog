{
 "cells": [
  {
   "cell_type": "markdown",
   "id": "93de5585-11d9-447d-b34a-aa83bfc6b063",
   "metadata": {},
   "source": [
    "### Schritte zur Implementation der Funktion  ```table2str```"
   ]
  },
  {
   "cell_type": "markdown",
   "id": "dd89ecca-55f4-4b37-9d62-66efb640a3ab",
   "metadata": {},
   "source": [
    "### 1 Tabelarischer Output"
   ]
  },
  {
   "cell_type": "code",
   "execution_count": 1,
   "id": "bce8a620-5ea9-448a-a5b0-3fc998dda880",
   "metadata": {},
   "outputs": [
    {
     "name": "stdout",
     "output_type": "stream",
     "text": [
      "First Name     |Last Name      \n",
      "==============================\n",
      "Hans           |Muster         \n"
     ]
    }
   ],
   "source": [
    "# Tabelarischer output\n",
    "h1 = 'First Name'\n",
    "h2 = 'Last Name'\n",
    "\n",
    "first_name = 'Hans'\n",
    "last_name  = 'Muster'\n",
    "\n",
    "print('{h1}|{h2}'.format(h1=h1.ljust(15) , h2=h2.ljust(15) ))\n",
    "print(30 * '=')\n",
    "print('{fn}|{ln}'.format(fn=first_name.ljust(15), ln=last_name.ljust(15)))"
   ]
  },
  {
   "cell_type": "markdown",
   "id": "1d3d3838-4d28-494e-909d-6ba8e70d1002",
   "metadata": {},
   "source": [
    "### 2 Code sinnvoll gruppiert"
   ]
  },
  {
   "cell_type": "code",
   "execution_count": 2,
   "id": "f16427f4-1306-4764-8e2b-761766f74ece",
   "metadata": {},
   "outputs": [
    {
     "name": "stdout",
     "output_type": "stream",
     "text": [
      "|First Name     |Last Name      |\n",
      "|===============|===============|\n",
      "|Hans           |Muster         |\n"
     ]
    }
   ],
   "source": [
    "# Tabellarischer output, \n",
    "# Code sinnvoll gruppiert\n",
    "COL_WIDTH = 15\n",
    "HEADER    = ('First Name', 'Last Name')\n",
    "FSTRING   = '|{}|{}|'\n",
    "HCHAR     = '='\n",
    "\n",
    "# horizontal line, table row(s)\n",
    "hline  = (HCHAR * COL_WIDTH, HCHAR * COL_WIDTH)\n",
    "name   = ('Hans', 'Muster')\n",
    "\n",
    "# print header\n",
    "h1, h2 = HEADER\n",
    "h1 = h1.ljust(COL_WIDTH)\n",
    "h2 = h2.ljust(COL_WIDTH)\n",
    "print(FSTRING.format(h1, h2))\n",
    "\n",
    "# print horizontal line\n",
    "l1, l2 = hline\n",
    "l1 = l1.ljust(COL_WIDTH)\n",
    "l2 = l2.ljust(COL_WIDTH)\n",
    "print(FSTRING.format(l1, l2))\n",
    "\n",
    "# print name\n",
    "fn, ln = name\n",
    "fn = fn.ljust(COL_WIDTH)\n",
    "ln = ln.ljust(COL_WIDTH)\n",
    "print(FSTRING.format(fn, ln))"
   ]
  },
  {
   "cell_type": "markdown",
   "id": "6cc77883-2244-462f-acb2-1794071b3746",
   "metadata": {},
   "source": [
    "### 3 Delegiere Ausgabe an Funktion "
   ]
  },
  {
   "cell_type": "code",
   "execution_count": 3,
   "id": "49de13a2-b20e-4521-b1e1-18d5407bc9c1",
   "metadata": {},
   "outputs": [
    {
     "name": "stdout",
     "output_type": "stream",
     "text": [
      "|First Name     |Last Name      |\n",
      "|===============|===============|\n",
      "|Hans           |Muster         |\n"
     ]
    }
   ],
   "source": [
    "# Benutze die Funktion row2str(row, width)\n",
    "\n",
    "def row2str(row, width):\n",
    "    s1, s2 = row\n",
    "    s1 = s1.ljust(width)\n",
    "    s2 = s2.ljust(width)\n",
    "    return '|{}|{}|'.format(s1, s2)    \n",
    "\n",
    "# Table layout\n",
    "COL_WIDTH = 15\n",
    "HEADER    = ('First Name', 'Last Name')\n",
    "FSTRING   = '|{}|{}|'\n",
    "HCHAR     = '='\n",
    "\n",
    "# horizontal line, table row(s)\n",
    "hline  = (HCHAR * COL_WIDTH, HCHAR * COL_WIDTH)\n",
    "name   = ('Hans', 'Muster')\n",
    "\n",
    "# print header\n",
    "print(row2str(HEADER, COL_WIDTH))\n",
    "\n",
    "# print horizontal line\n",
    "print(row2str(hline, COL_WIDTH))\n",
    "\n",
    "# print name\n",
    "print(row2str(name, COL_WIDTH))"
   ]
  },
  {
   "cell_type": "markdown",
   "id": "590a8361-67ac-467c-90fb-d500956d349e",
   "metadata": {},
   "source": [
    "### 4 Benutze For-Schleife"
   ]
  },
  {
   "cell_type": "code",
   "execution_count": 4,
   "id": "fe179389-9a02-4266-b023-452acade0aab",
   "metadata": {},
   "outputs": [
    {
     "name": "stdout",
     "output_type": "stream",
     "text": [
      "|First Name     |Last Name      |\n",
      "|===============|===============|\n",
      "|Hans           |Muster         |\n"
     ]
    }
   ],
   "source": [
    "# Benutze die Funktion row2str(row, width)\n",
    "# Benutze For-Schleife um rows auszugeben\n",
    "COL_WIDTH = 15\n",
    "HEADER    = ('First Name', 'Last Name')\n",
    "FSTRING   = '|{}|{}|'\n",
    "HCHAR     = '='\n",
    "\n",
    "# horizontal line, table row(s)\n",
    "hline  = []\n",
    "for i in range(len(HEADER)):\n",
    "    hline.append('=' * COL_WIDTH )           \n",
    "name   = ('Hans', 'Muster')\n",
    "\n",
    "rows = [HEADER, hline, name]\n",
    "for row in rows:\n",
    "    print(row2str(row, COL_WIDTH))"
   ]
  },
  {
   "cell_type": "markdown",
   "id": "a2ce0ae9-7b8b-49b7-a538-4ee3d7c98d99",
   "metadata": {},
   "source": [
    "### Variable Anzahl Spalten"
   ]
  },
  {
   "cell_type": "code",
   "execution_count": 5,
   "id": "b14677e4-f030-4aa9-8403-2e62538f62a0",
   "metadata": {},
   "outputs": [
    {
     "name": "stdout",
     "output_type": "stream",
     "text": [
      "|First Name     |Last Name      |Email          |\n",
      "|===============|===============|===============|\n",
      "|Elias          |Kopf           |elias.kopf@edu.teko.ch|\n",
      "|Jennifer       |Müller         |jennifer.mueller@edu.teko.ch|\n",
      "|Oliver         |Pfenniger      |oliver.pfenniger@edu.teko.ch|\n",
      "|René           |Scheidegger    |rene.scheidegger@edu.teko.ch|\n",
      "|Jakob          |Sutter         |jakob.sutter@edu.teko.ch|\n"
     ]
    }
   ],
   "source": [
    "# variable Anzahl Spalten\n",
    "\n",
    "def row2str(row, width):    \n",
    "    fstring = '|' + '{}|' * len(row)\n",
    "    args = []\n",
    "    \n",
    "    for s in row:\n",
    "        s = s.ljust(width)\n",
    "        args.append(s)\n",
    "   \n",
    "    return fstring.format(*args) \n",
    "\n",
    "HEADER = ('First Name', 'Last Name', 'Email')\n",
    "COL_WIDTH = 15\n",
    "\n",
    "hline  = []\n",
    "for i in range(len(HEADER)):\n",
    "    hline.append('=' * COL_WIDTH )  \n",
    "\n",
    "names = [('Elias', 'Kopf', 'elias.kopf@edu.teko.ch'),\n",
    "         ('Jennifer', 'Müller', 'jennifer.mueller@edu.teko.ch'),\n",
    "         ('Oliver', 'Pfenniger', 'oliver.pfenniger@edu.teko.ch'),\n",
    "         ('René', 'Scheidegger', 'rene.scheidegger@edu.teko.ch'),\n",
    "         ('Jakob', 'Sutter', 'jakob.sutter@edu.teko.ch')]\n",
    "\n",
    "rows = [HEADER, hline] + names\n",
    "for row in rows:\n",
    "    print(row2str(row, COL_WIDTH))"
   ]
  },
  {
   "cell_type": "markdown",
   "id": "e722c2be-8eca-4cf9-b615-06dc699f69c4",
   "metadata": {},
   "source": [
    "### 5 Unterschliedliche Spaltenbreiten"
   ]
  },
  {
   "cell_type": "code",
   "execution_count": 9,
   "id": "f7a60a2d-d6cf-48ec-9974-bf6bbe14c0b2",
   "metadata": {},
   "outputs": [
    {
     "name": "stdout",
     "output_type": "stream",
     "text": [
      "|First Name     |Last Name      |Email                    |\n",
      "|===============|===============|=========================|\n",
      "|Elias          |Kopf           |elias.kopf@edu.teko.ch   |\n",
      "|Jennifer       |Müller         |jennifer.mueller@edu.teko.ch|\n",
      "|Oliver         |Pfenniger      |oliver.pfenniger@edu.teko.ch|\n",
      "|René           |Scheidegger    |rene.scheidegger@edu.teko.ch|\n",
      "|Jakob          |Sutter         |jakob.sutter@edu.teko.ch |\n"
     ]
    }
   ],
   "source": [
    "# Unterschliedliche Spaltenbreite\n",
    "# Benutze die Funktion row2str(row, widths)\n",
    "# Benutze For-Schleife um rows auszugeben\n",
    "\n",
    "\n",
    "def get_widths(header, rows):\n",
    "    widths = [len(h) for h in header]\n",
    "    \n",
    "    for row in rows:\n",
    "        for i,item in enumerate(row):\n",
    "            widths[i] = max(widths[i], len(item))\n",
    "    return widths  \n",
    "\n",
    "def row2str(row, widths):    \n",
    "    fstring = '|' + '{}|' * len(row)\n",
    "    args = []\n",
    "    \n",
    "    for s, w in zip(row, widths):\n",
    "        s = s.ljust(w)\n",
    "        args.append(s)\n",
    "   \n",
    "    return fstring.format(*args)\n",
    "\n",
    "HEADER = ('First Name', 'Last Name', 'Email')\n",
    "COL_WIDTHS = (15, 15, 25)\n",
    "\n",
    "hline  = []\n",
    "for i in COL_WIDTHS:\n",
    "    hline.append('=' * i)  \n",
    "names = [('Elias', 'Kopf', 'elias.kopf@edu.teko.ch'),\n",
    "         ('Jennifer', 'Müller', 'jennifer.mueller@edu.teko.ch'),\n",
    "         ('Oliver', 'Pfenniger', 'oliver.pfenniger@edu.teko.ch'),\n",
    "         ('René', 'Scheidegger', 'rene.scheidegger@edu.teko.ch'),\n",
    "         ('Jakob', 'Sutter', 'jakob.sutter@edu.teko.ch')]\n",
    "\n",
    "rows = [HEADER, hline] + names\n",
    "for row in rows:\n",
    "    print(row2str(row, COL_WIDTHS))"
   ]
  },
  {
   "cell_type": "markdown",
   "id": "a3f7c725-62b4-451f-88ba-efa4c193156d",
   "metadata": {},
   "source": [
    "### 6 Automatische Bestimmung der Spaltenbreite"
   ]
  },
  {
   "cell_type": "code",
   "execution_count": 19,
   "id": "7e2128c5-7021-4b44-b8f8-fdf47c08bd2d",
   "metadata": {},
   "outputs": [
    {
     "name": "stdout",
     "output_type": "stream",
     "text": [
      "|First Name|Last Name  |Email                       |\n",
      "|==========|===========|============================|\n",
      "|Elias     |Kopf       |elias.kopf@edu.teko.ch      |\n",
      "|Jennifer  |Müller     |jennifer.mueller@edu.teko.ch|\n",
      "|Oliver    |Pfenniger  |oliver.pfenniger@edu.teko.ch|\n",
      "|René      |Scheidegger|rene.scheidegger@edu.teko.ch|\n",
      "|Jakob     |Sutter     |jakob.sutter@edu.teko.ch    |\n"
     ]
    }
   ],
   "source": [
    "# Automatische Bestimmung der Spaltenbreite\n",
    "# Funktion zur Ausgabe der Table\n",
    "def get_widths(header, rows):\n",
    "    widths = []\n",
    "    for h in header:\n",
    "        widths.append(len(h))\n",
    "        \n",
    "    for row in rows:\n",
    "        for i,item in enumerate(row):\n",
    "            widths[i] = max(widths[i], len(item))\n",
    "    return widths      \n",
    "\n",
    "def print_table(header, rows):    \n",
    "    widths = get_widths(header, rows)\n",
    "    \n",
    "    hline = []\n",
    "    for i in widths:\n",
    "        hline.append('=' * i)  \n",
    "        \n",
    "    for row in [header, hline] + rows:\n",
    "        print(row2str(row, widths))\n",
    "\n",
    "HEADER = ('First Name', 'Last Name', 'Email')\n",
    "names = [('Elias', 'Kopf', 'elias.kopf@edu.teko.ch'),\n",
    "         ('Jennifer', 'Müller', 'jennifer.mueller@edu.teko.ch'),\n",
    "         ('Oliver', 'Pfenniger', 'oliver.pfenniger@edu.teko.ch'),\n",
    "         ('René', 'Scheidegger', 'rene.scheidegger@edu.teko.ch'),\n",
    "         ('Jakob', 'Sutter', 'jakob.sutter@edu.teko.ch')]\n",
    "\n",
    "print_table(HEADER, names)"
   ]
  },
  {
   "cell_type": "markdown",
   "id": "f4df06d3-d21a-4d20-9c55-821929fe7296",
   "metadata": {},
   "source": [
    "### 7 Tabelle zu String konvertieren, statt direkt auszugeben"
   ]
  },
  {
   "cell_type": "code",
   "execution_count": 18,
   "id": "6d50516a-fd44-4722-a643-3a58aae9f87d",
   "metadata": {},
   "outputs": [
    {
     "name": "stdout",
     "output_type": "stream",
     "text": [
      "|First Name|Last Name  |Email                       |\n",
      "|==========|===========|============================|\n",
      "|Elias     |Kopf       |elias.kopf@edu.teko.ch      |\n",
      "|Jennifer  |Müller     |jennifer.mueller@edu.teko.ch|\n",
      "|Oliver    |Pfenniger  |oliver.pfenniger@edu.teko.ch|\n",
      "|René      |Scheidegger|rene.scheidegger@edu.teko.ch|\n",
      "|Jakob     |Sutter     |jakob.sutter@edu.teko.ch    |\n"
     ]
    }
   ],
   "source": [
    "# Funktion zur Konvertierung der Tabelle in einen String\n",
    "def get_widths(header, rows):\n",
    "    widths = []\n",
    "    for h in header:\n",
    "        widths.append(len(h))\n",
    "    \n",
    "    for row in rows:\n",
    "        for i,item in enumerate(row):\n",
    "            widths[i] = max(widths[i], len(item))\n",
    "    return widths      \n",
    "\n",
    "def table2str(header, rows):    \n",
    "    res = []\n",
    "    widths = get_widths(header, rows)\n",
    "    \n",
    "    hline = []\n",
    "    for w in widths:\n",
    "        hline.append('=' * w)  \n",
    "    \n",
    "  \n",
    "    for row in [header, hline] + rows:\n",
    "        res.append(row2str(row, widths))\n",
    "        \n",
    "    return '\\n'.join(res)  \n",
    "\n",
    "HEADER = ('First Name', 'Last Name', 'Email')\n",
    "names = [('Elias', 'Kopf', 'elias.kopf@edu.teko.ch'),\n",
    "         ('Jennifer', 'Müller', 'jennifer.mueller@edu.teko.ch'),\n",
    "         ('Oliver', 'Pfenniger', 'oliver.pfenniger@edu.teko.ch'),\n",
    "         ('René', 'Scheidegger', 'rene.scheidegger@edu.teko.ch'),\n",
    "         ('Jakob', 'Sutter', 'jakob.sutter@edu.teko.ch')]\n",
    "\n",
    "print(table2str(HEADER, names))"
   ]
  }
 ],
 "metadata": {
  "kernelspec": {
   "display_name": "Python 3 (ipykernel)",
   "language": "python",
   "name": "python3"
  },
  "language_info": {
   "codemirror_mode": {
    "name": "ipython",
    "version": 3
   },
   "file_extension": ".py",
   "mimetype": "text/x-python",
   "name": "python",
   "nbconvert_exporter": "python",
   "pygments_lexer": "ipython3",
   "version": "3.9.10"
  }
 },
 "nbformat": 4,
 "nbformat_minor": 5
}
