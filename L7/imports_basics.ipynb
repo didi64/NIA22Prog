{
 "cells": [
  {
   "cell_type": "markdown",
   "id": "ca6cf7d7-397a-4218-be75-5ed2f109044b",
   "metadata": {},
   "source": [
    "# Das Wichtigste zu Imports\n",
    "- Ein File mit Python-Code, z.B. foo.py ist ein Module.\n",
    "- Wird ein (oder von einem) Module foo importiert, wird foo.py ausgef&uuml;hrt.\n",
    "- die g&auml;ngisten Methoden etwas zu importieren sind:\n",
    "<code>\n",
    "    import foo\n",
    "    import foo as bar\n",
    "    from foo import bar1, bar2\n",
    "</code>\n",
    "- mehr zu Imports und Modulen und 'best practice':<br>\n",
    "https://docs.python.org/3/tutorial/modules.html<br>\n",
    "https://stackoverflow.com/questions/9916878/importing-modules-in-python-best-practice\n"
   ]
  },
  {
   "cell_type": "code",
   "execution_count": null,
   "id": "3a6e980d-5f3b-4f65-a82a-def77931eaec",
   "metadata": {},
   "outputs": [],
   "source": [
    "# %load_ext autoreload\n",
    "# %autoreload 2\n",
    "# https://stackoverflow.com/questions/1907993/autoreload-of-modules-in-ipython"
   ]
  },
  {
   "cell_type": "markdown",
   "id": "e113f198-011b-41d5-806e-e48eb02ea21d",
   "metadata": {},
   "source": [
    "Werfen wir einen Blick auf das File hello.py."
   ]
  },
  {
   "cell_type": "code",
   "execution_count": 1,
   "id": "604bdc21-59ff-48fc-aed8-a858be2d4837",
   "metadata": {},
   "outputs": [],
   "source": [
    "def read_file(fn):\n",
    "    with open(fn) as f:\n",
    "        lines = f.readlines()\n",
    "        \n",
    "    # strip whitespace characters such as \\n from end of line\n",
    "    lines = [line.rstrip() for line in lines]\n",
    "\n",
    "    for line in lines:\n",
    "        print(line)"
   ]
  },
  {
   "cell_type": "code",
   "execution_count": 2,
   "id": "67c0f6ea-0149-4655-874a-c047cb8e933c",
   "metadata": {},
   "outputs": [
    {
     "name": "stdout",
     "output_type": "stream",
     "text": [
      "'''\n",
      "Gibt hello aus\n",
      "'''\n",
      "\n",
      "greeting = 'Hello'\n",
      "print(greeting)\n",
      "\n",
      "def say_hello(name):\n",
      "    '''prints hello <name>'''\n",
      "    print('{} {}!'.format(greeting,name))\n"
     ]
    }
   ],
   "source": [
    "read_file('hello.py') "
   ]
  },
  {
   "cell_type": "markdown",
   "id": "4fce1cb5-90dc-4be2-8787-faee57bf4ace",
   "metadata": {},
   "source": [
    "Nun importieren wir hello. Es gr&uuml;sst uns."
   ]
  },
  {
   "cell_type": "code",
   "execution_count": 21,
   "id": "d792102e-2121-43dc-af3e-f01e8c360320",
   "metadata": {},
   "outputs": [],
   "source": [
    "import hello"
   ]
  },
  {
   "cell_type": "code",
   "execution_count": 22,
   "id": "ae0e2d9d-4a5f-4c4c-9268-d04050eed85a",
   "metadata": {},
   "outputs": [
    {
     "name": "stdout",
     "output_type": "stream",
     "text": [
      "Help on module hello:\n",
      "\n",
      "NAME\n",
      "    hello - Gibt hello aus\n",
      "\n",
      "FUNCTIONS\n",
      "    say_hello(name)\n",
      "        prints hello <name>\n",
      "\n",
      "DATA\n",
      "    greeting = 'hello, '\n",
      "    greeting1 = 'HELLO, '\n",
      "\n",
      "FILE\n",
      "    /home/jovyan/work/NIA22Prog/L7/hello.py\n",
      "\n",
      "\n"
     ]
    }
   ],
   "source": [
    "help(hello)\n"
   ]
  },
  {
   "cell_type": "markdown",
   "id": "3930074f-44ec-476a-b731-88d8e24310b4",
   "metadata": {},
   "source": [
    "Eine in foo definierte Variable `x` oder Funktion 'f()' wird mittels `foo.x` bez. `foo.f()` angesprochen.\n",
    "Die Variablen in foo k&ouml;nnen &uuml;berschrieben werden. Neue Objekte k&ouml;nnen zu foo hinzugef&uuml;gt werden."
   ]
  },
  {
   "cell_type": "code",
   "execution_count": 23,
   "id": "d20ad611-5e88-41e2-a417-a610c47ab96a",
   "metadata": {},
   "outputs": [
    {
     "data": {
      "text/plain": [
       "'hello'"
      ]
     },
     "execution_count": 23,
     "metadata": {},
     "output_type": "execute_result"
    }
   ],
   "source": [
    "hello.__name__"
   ]
  },
  {
   "cell_type": "code",
   "execution_count": 24,
   "id": "1e5a7583-216c-4170-8a4a-0ec641003c97",
   "metadata": {},
   "outputs": [
    {
     "data": {
      "text/plain": [
       "'hello, '"
      ]
     },
     "execution_count": 24,
     "metadata": {},
     "output_type": "execute_result"
    }
   ],
   "source": [
    "hello.greeting"
   ]
  },
  {
   "cell_type": "code",
   "execution_count": 10,
   "id": "bd404d33-3b47-4bf8-b391-0219ec7a72fa",
   "metadata": {},
   "outputs": [],
   "source": [
    "hello.greeting = 'hello, '"
   ]
  },
  {
   "cell_type": "code",
   "execution_count": 11,
   "id": "60ef50b7-50fa-4584-a308-8d1a6d0c7442",
   "metadata": {},
   "outputs": [],
   "source": [
    "hello.greeting1 = 'HELLO, '"
   ]
  },
  {
   "cell_type": "code",
   "execution_count": 25,
   "id": "8245e77e-cf7c-489e-9126-13183866bb4f",
   "metadata": {},
   "outputs": [
    {
     "data": {
      "text/plain": [
       "('hello, ', 'HELLO, ')"
      ]
     },
     "execution_count": 25,
     "metadata": {},
     "output_type": "execute_result"
    }
   ],
   "source": [
    "hello.greeting, hello.greeting1"
   ]
  },
  {
   "cell_type": "code",
   "execution_count": 27,
   "id": "7bad5faf-4551-45d1-9241-844ff245b7b2",
   "metadata": {},
   "outputs": [
    {
     "name": "stdout",
     "output_type": "stream",
     "text": [
      "hello,  x!\n"
     ]
    }
   ],
   "source": [
    "hello.say_hello('x')"
   ]
  },
  {
   "cell_type": "markdown",
   "id": "3ab02bda-9284-46b2-bdc0-44b1af7592a8",
   "metadata": {},
   "source": [
    "Ein Module wird nur einmal importiert werden. Eine 2. Begr&uuml;ssung bleibt aus."
   ]
  },
  {
   "cell_type": "code",
   "execution_count": 13,
   "id": "ca9eff12-b949-452b-8f9d-553e9d194181",
   "metadata": {},
   "outputs": [],
   "source": [
    "import hello"
   ]
  },
  {
   "cell_type": "markdown",
   "id": "61af71c5-23ef-4348-b7d1-de22f460551c",
   "metadata": {},
   "source": [
    "Der Modulnamen 'hello' ist ein Key im Dict `sys.modules`."
   ]
  },
  {
   "cell_type": "code",
   "execution_count": 14,
   "id": "0a04d355-b96f-438a-b7e1-ba36cec4a786",
   "metadata": {},
   "outputs": [
    {
     "data": {
      "text/plain": [
       "True"
      ]
     },
     "execution_count": 14,
     "metadata": {},
     "output_type": "execute_result"
    }
   ],
   "source": [
    "import sys\n",
    "'hello' in sys.modules\n"
   ]
  },
  {
   "cell_type": "markdown",
   "id": "af5ca51c-5193-472f-b2e7-018e558d8a4a",
   "metadata": {},
   "source": [
    "`del hello` l&ouml;scht das Modul. Es bleibt aber in  `sys.modules`."
   ]
  },
  {
   "cell_type": "code",
   "execution_count": 15,
   "id": "14ca4df1-3dfa-4487-a3e8-8d1859f4577b",
   "metadata": {},
   "outputs": [
    {
     "data": {
      "text/plain": [
       "True"
      ]
     },
     "execution_count": 15,
     "metadata": {},
     "output_type": "execute_result"
    }
   ],
   "source": [
    "del hello\n",
    "'hello' in sys.modules"
   ]
  },
  {
   "cell_type": "code",
   "execution_count": 16,
   "id": "8fb3d7ac-f7e6-4b6b-9422-6155c261fce8",
   "metadata": {},
   "outputs": [],
   "source": [
    "import hello"
   ]
  },
  {
   "cell_type": "code",
   "execution_count": null,
   "id": "e21dd569-6db3-4f69-9fd1-12c8090a12ac",
   "metadata": {},
   "outputs": [],
   "source": [
    "foo.x # NameError name 'x' is not defined"
   ]
  },
  {
   "cell_type": "markdown",
   "id": "0d5f67de-7b76-4502-8e02-4bd508c01e2f",
   "metadata": {},
   "source": [
    "Ein Hack um andere Importmethoden vorf&uuml;hren zu k&ouml;nnen."
   ]
  },
  {
   "cell_type": "code",
   "execution_count": 28,
   "id": "07c0996d-5aeb-4696-af46-05f62b14cdda",
   "metadata": {},
   "outputs": [],
   "source": [
    "del sys.modules['hello']"
   ]
  },
  {
   "cell_type": "code",
   "execution_count": 29,
   "id": "acef4e33-4809-4738-bbf5-982d1d4037bc",
   "metadata": {},
   "outputs": [
    {
     "name": "stdout",
     "output_type": "stream",
     "text": [
      "Hello\n"
     ]
    }
   ],
   "source": [
    "import hello"
   ]
  },
  {
   "cell_type": "code",
   "execution_count": 32,
   "id": "3e1e414a-46a8-4971-aac2-55207d151574",
   "metadata": {},
   "outputs": [
    {
     "data": {
      "text/plain": [
       "'---'"
      ]
     },
     "execution_count": 32,
     "metadata": {},
     "output_type": "execute_result"
    }
   ],
   "source": [
    "greeting = '---'\n",
    "greeting"
   ]
  },
  {
   "cell_type": "code",
   "execution_count": 33,
   "id": "1853be7e-a442-471c-ae26-ca2d3cf0335c",
   "metadata": {},
   "outputs": [],
   "source": [
    "from hello import greeting # "
   ]
  },
  {
   "cell_type": "markdown",
   "id": "24252649-02f8-428d-b561-2d420875d3d5",
   "metadata": {},
   "source": [
    "`greeting` wird &uuml;berschrieben!"
   ]
  },
  {
   "cell_type": "code",
   "execution_count": 34,
   "id": "4d121c7e-0c78-4281-b226-87badaf0aa9e",
   "metadata": {},
   "outputs": [
    {
     "data": {
      "text/plain": [
       "'Hello'"
      ]
     },
     "execution_count": 34,
     "metadata": {},
     "output_type": "execute_result"
    }
   ],
   "source": [
    "greeting"
   ]
  },
  {
   "cell_type": "code",
   "execution_count": null,
   "id": "45993462-b277-4d32-81c6-041c6f4b1d7a",
   "metadata": {},
   "outputs": [],
   "source": [
    "y # NameError name 'y' is not defined"
   ]
  },
  {
   "cell_type": "code",
   "execution_count": null,
   "id": "7d2aaa98-5770-4adb-84a1-1a16471b1398",
   "metadata": {},
   "outputs": [],
   "source": [
    "from foo import y\n",
    "y"
   ]
  },
  {
   "cell_type": "markdown",
   "id": "b848890b-52c1-4ef4-9ce9-5f3851191880",
   "metadata": {},
   "source": [
    "`import foo as bar`: Eine in foo definierte Variable `x` oder Funktion 'f()' wird mittels `bar.x` bez. `foo.f()` angesprochen."
   ]
  },
  {
   "cell_type": "code",
   "execution_count": null,
   "id": "5827d222-2b80-4afa-a9d2-05bfb2c51a48",
   "metadata": {},
   "outputs": [],
   "source": [
    "import foo as bar\n",
    "bar.x"
   ]
  },
  {
   "cell_type": "code",
   "execution_count": null,
   "id": "0764cdad-7fe2-4a76-8e55-19ac105f6de9",
   "metadata": {},
   "outputs": [],
   "source": [
    "bar.hello()"
   ]
  },
  {
   "cell_type": "code",
   "execution_count": null,
   "id": "75b3f0c7-1827-4aa9-b3d1-02d36860cfa6",
   "metadata": {},
   "outputs": [],
   "source": [
    "foo.hello() # NameError: name 'foo' is not defined"
   ]
  },
  {
   "cell_type": "markdown",
   "id": "8c9bdb8e-8d87-41c7-8fea-d225e3d8f448",
   "metadata": {},
   "source": [
    "## Bemerkungen:\n",
    "- `import foo` ist die empfohlene Art `foo` zu importieren.\n",
    "- Kein unbeabsichtigtes &Uuml;berschreiben von Objekten.\n",
    "- Beim Lesen von Code ist z.B. klar, wo foo.f() herkommt. Zum groben Verst&auml;ndnis von Code gen&uuml;gt es oft zu wissen, dass foo.f() etwas foo-spezifisches tut."
   ]
  },
  {
   "cell_type": "markdown",
   "id": "d958b997-4fce-49bf-a486-1dddf8ed1008",
   "metadata": {},
   "source": [
    "# Teil 2\n",
    "Ein weitere kleines Beispiel."
   ]
  },
  {
   "cell_type": "code",
   "execution_count": 35,
   "id": "fc5f3b65-d43f-4e59-b80b-6b645ae4981c",
   "metadata": {},
   "outputs": [
    {
     "name": "stdout",
     "output_type": "stream",
     "text": [
      "def new_id():\n",
      "    global _id\n",
      "    _id += 1\n",
      "    return _id\n",
      "\n",
      "_id = -1\n"
     ]
    }
   ],
   "source": [
    "read_file('ID.py')"
   ]
  },
  {
   "cell_type": "code",
   "execution_count": 36,
   "id": "0a8d652b-6b84-482f-a8bf-8e3a4d70d0a4",
   "metadata": {},
   "outputs": [
    {
     "name": "stdout",
     "output_type": "stream",
     "text": [
      "import ID\n",
      "x = ID.new_id()\n"
     ]
    }
   ],
   "source": [
    "read_file('A.py')"
   ]
  },
  {
   "cell_type": "code",
   "execution_count": 37,
   "id": "644dadb5-bc74-4d30-aee8-50e6c77fae60",
   "metadata": {},
   "outputs": [
    {
     "name": "stdout",
     "output_type": "stream",
     "text": [
      "import ID\n",
      "x = ID.new_id()\n",
      "\n"
     ]
    }
   ],
   "source": [
    "read_file('B.py')"
   ]
  },
  {
   "cell_type": "markdown",
   "id": "6ebd6eb3-90db-428e-aebb-f7f566dd0375",
   "metadata": {},
   "source": [
    "Was gibt nachstehende Zelle aus?"
   ]
  },
  {
   "cell_type": "code",
   "execution_count": 38,
   "id": "b559feb8-e64e-4d71-badd-28fd057650bd",
   "metadata": {},
   "outputs": [
    {
     "name": "stdout",
     "output_type": "stream",
     "text": [
      "('A', 0) ('B', 1)\n"
     ]
    }
   ],
   "source": [
    "import A,B\n",
    "print(('A',A.x),('B',B.x))"
   ]
  },
  {
   "cell_type": "code",
   "execution_count": null,
   "id": "d2b1dc4f-4cd6-4a55-a064-1f6bd3888626",
   "metadata": {},
   "outputs": [],
   "source": []
  }
 ],
 "metadata": {
  "kernelspec": {
   "display_name": "Python 3 (ipykernel)",
   "language": "python",
   "name": "python3"
  },
  "language_info": {
   "codemirror_mode": {
    "name": "ipython",
    "version": 3
   },
   "file_extension": ".py",
   "mimetype": "text/x-python",
   "name": "python",
   "nbconvert_exporter": "python",
   "pygments_lexer": "ipython3",
   "version": "3.9.10"
  }
 },
 "nbformat": 4,
 "nbformat_minor": 5
}
