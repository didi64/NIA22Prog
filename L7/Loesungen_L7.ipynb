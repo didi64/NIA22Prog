{
 "cells": [
  {
   "cell_type": "code",
   "execution_count": null,
   "id": "0171b775-0faf-4678-a4cd-96f8c361c68a",
   "metadata": {},
   "outputs": [],
   "source": [
    "# damit toolbox importiert werden kann\n",
    "# import sys\n",
    "# if '/home/jovyan/work/NIA22Prog/src' not in sys.path:\n",
    "#     sys.path.insert(0, '/home/jovyan/work/NIA22Prog/src') "
   ]
  },
  {
   "cell_type": "markdown",
   "id": "ccfca5d7-b7cc-4c13-93ee-9f909ba292c4",
   "metadata": {},
   "source": [
    "### Built-ins"
   ]
  },
  {
   "cell_type": "code",
   "execution_count": null,
   "id": "7e1a3d7c-37ab-4b6d-a9ce-b4a04fd78462",
   "metadata": {},
   "outputs": [],
   "source": [
    "# Variante I\n",
    "# String umdrehen mit reversed\n",
    "s = 'abcd'\n",
    "rev_s = []\n",
    "for ch in reversed(s):\n",
    "    rev_s.append(ch)\n",
    "    \n",
    "rev_s = ''.join(rev_s)   \n",
    "rev_s, s[::-1] == rev_s    "
   ]
  },
  {
   "cell_type": "code",
   "execution_count": null,
   "id": "4e075df3-c7f4-4613-9984-fed40d89c621",
   "metadata": {},
   "outputs": [],
   "source": [
    "# Variante II\n",
    "# String umdrehen mit reversed\n",
    "s = 'abcd'\n",
    "rev_s = ''.join(reversed(s))\n",
    "s[::-1] == rev_s    "
   ]
  },
  {
   "cell_type": "code",
   "execution_count": null,
   "id": "ca9674a0-4607-400f-aef5-c8e0e458158d",
   "metadata": {},
   "outputs": [],
   "source": []
  },
  {
   "cell_type": "markdown",
   "id": "a310b848-b064-4333-b5f8-05e640ca6f04",
   "metadata": {},
   "source": [
    "### Files"
   ]
  },
  {
   "cell_type": "code",
   "execution_count": null,
   "id": "97d8c2d5-2850-410f-9ea7-ccbee46bfe56",
   "metadata": {},
   "outputs": [],
   "source": [
    "from toolbox import table2str\n",
    "\n",
    "with  open('superleague21_22.csv', mode = 'r') as f:\n",
    "    lines = f.readlines()\n",
    "    \n",
    "table = []    \n",
    "for line in lines[1:]:\n",
    "    row = line.rstrip().split(',')\n",
    "    table.append(row)\n",
    "\n",
    "print(table2str(table[0], table[1:]))"
   ]
  },
  {
   "cell_type": "markdown",
   "id": "8bea296d-cbaa-4634-8db5-9a6fbedc6d8e",
   "metadata": {},
   "source": [
    "### Zählen mit einem Dictionary"
   ]
  },
  {
   "cell_type": "code",
   "execution_count": null,
   "id": "d49c75f9-00c8-45f1-8ad2-18cdf25f1baa",
   "metadata": {},
   "outputs": [],
   "source": [
    "s = 'abcabaccc' \n",
    "character_count = {}\n",
    "\n",
    "for ch in s :\n",
    "    # get(ch,0) liefert entweder wie oft ch bereits vorgekommen ist, \n",
    "    # oder 0, falls ch noch kein key von character_count ist\n",
    "    character_count[ch] = character_count.get(ch, 0) + 1\n",
    "    \n",
    "character_count   "
   ]
  },
  {
   "cell_type": "code",
   "execution_count": null,
   "id": "329f09c3-ff23-44f6-9716-b6b7cc9a315e",
   "metadata": {},
   "outputs": [],
   "source": [
    "s = 'abcabaccc' \n",
    "character_positions = {}\n",
    "\n",
    "for i, ch in enumerate(s):\n",
    "    # ist ch kein key von character_positions,\n",
    "    # so fuegt setdefault(ch, []) das key-value Paar (ch: []) zum dict hinzu.\n",
    "    # in jedem Fall gibt nun setdefault(ch, []) eine Liste zurueck, an welche mit append \n",
    "    # die aktuelle Position von ch angehaengt wird\n",
    "    character_positions.setdefault(ch, []).append(i)\n",
    "    \n",
    "character_positions "
   ]
  }
 ],
 "metadata": {
  "kernelspec": {
   "display_name": "Python 3 (ipykernel)",
   "language": "python",
   "name": "python3"
  },
  "language_info": {
   "codemirror_mode": {
    "name": "ipython",
    "version": 3
   },
   "file_extension": ".py",
   "mimetype": "text/x-python",
   "name": "python",
   "nbconvert_exporter": "python",
   "pygments_lexer": "ipython3",
   "version": "3.9.10"
  }
 },
 "nbformat": 4,
 "nbformat_minor": 5
}
