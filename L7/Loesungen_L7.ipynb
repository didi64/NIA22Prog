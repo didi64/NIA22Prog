{
 "cells": [
  {
   "cell_type": "code",
   "execution_count": null,
   "id": "0171b775-0faf-4678-a4cd-96f8c361c68a",
   "metadata": {},
   "outputs": [],
   "source": [
    "# damit toolbox importiert werden kann\n",
    "# import sys\n",
    "# if '/home/jovyan/work/NIA22Prog/src' not in sys.path:\n",
    "#     sys.path.insert(0, '/home/jovyan/work/NIA22Prog/src') "
   ]
  },
  {
   "cell_type": "markdown",
   "id": "ccfca5d7-b7cc-4c13-93ee-9f909ba292c4",
   "metadata": {},
   "source": [
    "### Built-ins"
   ]
  },
  {
   "cell_type": "code",
   "execution_count": null,
   "id": "7e1a3d7c-37ab-4b6d-a9ce-b4a04fd78462",
   "metadata": {},
   "outputs": [],
   "source": [
    "# Variante I\n",
    "# String umdrehen mit reversed\n",
    "s = 'abcd'\n",
    "rev_s = []\n",
    "for ch in reversed(s):\n",
    "    rev_s.append(ch)\n",
    "    \n",
    "rev_s = ''.join(rev_s)   \n",
    "rev_s, s[::-1] == rev_s    "
   ]
  },
  {
   "cell_type": "code",
   "execution_count": null,
   "id": "4e075df3-c7f4-4613-9984-fed40d89c621",
   "metadata": {},
   "outputs": [],
   "source": [
    "# Variante II\n",
    "# String umdrehen mit reversed\n",
    "s = 'abcd'\n",
    "rev_s = ''.join(reversed(s))\n",
    "s[::-1] == rev_s    "
   ]
  },
  {
   "cell_type": "markdown",
   "id": "a310b848-b064-4333-b5f8-05e640ca6f04",
   "metadata": {},
   "source": [
    "### Files"
   ]
  },
  {
   "cell_type": "code",
   "execution_count": null,
   "id": "97d8c2d5-2850-410f-9ea7-ccbee46bfe56",
   "metadata": {},
   "outputs": [],
   "source": [
    "from toolbox import table2str\n",
    "\n",
    "with  open('superleague21_22.csv', mode = 'r') as f:\n",
    "    lines = f.readlines()\n",
    "    \n",
    "table = []    \n",
    "for line in lines[1:]:\n",
    "    row = line.rstrip().split(',')\n",
    "    table.append(row)\n",
    "\n",
    "print(table2str(table[0], table[1:]))"
   ]
  },
  {
   "cell_type": "markdown",
   "id": "8bea296d-cbaa-4634-8db5-9a6fbedc6d8e",
   "metadata": {},
   "source": [
    "### Zählen mit einem Dictionary"
   ]
  },
  {
   "cell_type": "code",
   "execution_count": null,
   "id": "d49c75f9-00c8-45f1-8ad2-18cdf25f1baa",
   "metadata": {},
   "outputs": [],
   "source": [
    "# Variante mit dict.get\n",
    "s = 'abcabaccc' \n",
    "character_count = {}\n",
    "\n",
    "for ch in s :\n",
    "    # get(ch,0) liefert entweder wie oft ch bereits vorgekommen ist, \n",
    "    # oder 0, falls ch noch kein key von character_count ist\n",
    "    character_count[ch] = character_count.get(ch, 0) + 1\n",
    "    \n",
    "character_count   "
   ]
  },
  {
   "cell_type": "code",
   "execution_count": null,
   "id": "01262e5e-543e-4ed4-b79e-45f00a791342",
   "metadata": {},
   "outputs": [],
   "source": [
    "# ohne dict.get\n",
    "s = 'abcabaccc' \n",
    "character_count = {}\n",
    "\n",
    "for ch in s :\n",
    "    if ch in character_count:\n",
    "        character_count[ch] = character_count[ch] + 1\n",
    "    else:\n",
    "        character_count[ch] =  1\n",
    "    \n",
    "character_count   "
   ]
  },
  {
   "cell_type": "code",
   "execution_count": null,
   "id": "329f09c3-ff23-44f6-9716-b6b7cc9a315e",
   "metadata": {},
   "outputs": [],
   "source": [
    "# Variante mit dict.setdefault\n",
    "s = 'abcabaccc' \n",
    "character_positions = {}\n",
    "\n",
    "for i, ch in enumerate(s):\n",
    "    # ist ch kein key von character_positions,\n",
    "    # so fuegt setdefault(ch, []) das key-value Paar (ch: []) zum dict hinzu.\n",
    "    # in jedem Fall gibt nun setdefault(ch, []) eine Liste zurueck, an welche mit append \n",
    "    # die aktuelle Position von ch angehaengt wird\n",
    "    character_positions.setdefault(ch, []).append(i)\n",
    "    \n",
    "character_positions "
   ]
  },
  {
   "cell_type": "code",
   "execution_count": 9,
   "id": "9a77760d-61d4-4b2d-80aa-f1b5b4096293",
   "metadata": {},
   "outputs": [
    {
     "data": {
      "text/plain": [
       "{'a': [0, 3, 5], 'b': [1, 4], 'c': [2, 6, 7, 8]}"
      ]
     },
     "execution_count": 9,
     "metadata": {},
     "output_type": "execute_result"
    }
   ],
   "source": [
    "# Variante \n",
    "s = 'abcabaccc' \n",
    "character_positions = {}\n",
    "\n",
    "for i, ch in enumerate(s):\n",
    "    lst = character_positions.setdefault(ch, [])\n",
    "    lst.append(i)\n",
    "    \n",
    "character_positions "
   ]
  },
  {
   "cell_type": "code",
   "execution_count": null,
   "id": "4fa2d237-7eb6-486e-a255-f544661739e2",
   "metadata": {},
   "outputs": [],
   "source": [
    "# Variante ohne dict.setdefault\n",
    "s = 'abcabaccc' \n",
    "character_positions = {}\n",
    "\n",
    "for i, ch in enumerate(s):\n",
    "    if ch in character_positions:\n",
    "        character_positions[ch].append(i)\n",
    "    else:\n",
    "        character_positions[ch] = [i]\n",
    "    \n",
    "character_positions "
   ]
  },
  {
   "cell_type": "markdown",
   "id": "d67ae0a4-fd13-4281-91e4-947ec36e73ed",
   "metadata": {},
   "source": [
    "***\n",
    "Nur Buchstaben z&auml;hlen\n",
    "***"
   ]
  },
  {
   "cell_type": "code",
   "execution_count": 17,
   "id": "c2a75f63-e0f8-4c58-978f-5890f5b29d58",
   "metadata": {},
   "outputs": [
    {
     "data": {
      "text/plain": [
       "{'B': 2,\n",
       " 'U': 2,\n",
       " 'C': 1,\n",
       " 'H': 2,\n",
       " 'S': 1,\n",
       " 'T': 1,\n",
       " 'A': 2,\n",
       " 'E': 2,\n",
       " 'N': 3,\n",
       " 'D': 1,\n",
       " 'Z': 1,\n",
       " 'L': 1}"
      ]
     },
     "execution_count": 17,
     "metadata": {},
     "output_type": "execute_result"
    }
   ],
   "source": [
    "LETTERS = [chr(65+i) for i in range(26)]\n",
    "text = 'Buchstaben und Zahlen: 2139872957, 13457315'\n",
    "def count_letters(text):\n",
    "    d = {}\n",
    "    for ch in text:\n",
    "        k = ch.upper()\n",
    "        # zaehle nur Buchstaben\n",
    "        if k in LETTERS:\n",
    "            d[k] = d.get(k,0) + 1\n",
    "            \n",
    "    return d    \n",
    "\n",
    "count_letters(text)"
   ]
  },
  {
   "cell_type": "markdown",
   "id": "9c0c656a-8657-42c0-831b-a732cdc6aa4e",
   "metadata": {},
   "source": [
    "***\n",
    "Umlaute ersetzen\n",
    "***"
   ]
  },
  {
   "cell_type": "code",
   "execution_count": 25,
   "id": "77e29516-4eb2-47a6-ae6e-e5769f8f5f3e",
   "metadata": {},
   "outputs": [
    {
     "name": "stdout",
     "output_type": "stream",
     "text": [
      "vorher:  [Ä,Ö,Ü] und  [ä,ö,ü]\n",
      "nachher: [AE,OE,UE] und  [ae,oe,ue]\n"
     ]
    }
   ],
   "source": [
    "SUBSTITUTIONS = {'Ä': 'AE', 'Ö': 'OE', 'Ü': 'UE'}\n",
    "text = '[Ä,Ö,Ü] und  [ä,ö,ü]'\n",
    "def replace_umlaute(text):\n",
    "    for k,v in SUBSTITUTIONS.items():\n",
    "        text = text.replace(k, v)\n",
    "        text = text.replace(k.lower(), v.lower())\n",
    "    return text\n",
    "\n",
    "print('vorher:  {}\\nnachher: {}'.format(text, replace_umlaute(text)))"
   ]
  },
  {
   "cell_type": "markdown",
   "id": "bac18217-0640-4e60-9aeb-8edac1d64c43",
   "metadata": {},
   "source": [
    "***\n",
    "Von Anzahl Vorkommen zu H&auml;ufigkeiten\n",
    "***"
   ]
  },
  {
   "cell_type": "code",
   "execution_count": 34,
   "id": "3ad3f6bc-d8ee-41aa-ace2-7d3553adb69e",
   "metadata": {},
   "outputs": [
    {
     "name": "stdout",
     "output_type": "stream",
     "text": [
      "vorher:  {'A': 3, 'B': 2, 'C': 4}\n",
      "nachher: {'A': 0.3333333333333333, 'B': 0.2222222222222222, 'C': 0.4444444444444444}\n"
     ]
    },
    {
     "data": {
      "text/plain": [
       "1.0"
      ]
     },
     "execution_count": 34,
     "metadata": {},
     "output_type": "execute_result"
    }
   ],
   "source": [
    "s = 'abcabaccc' \n",
    "d = count_letters(s)\n",
    "\n",
    "# modifiziert dictionary d!\n",
    "def normalize(d):\n",
    "    '''scale values so that they sum to 1'''\n",
    "    total = sum(d.values())\n",
    "    for k in d:\n",
    "        d[k] = d[k]/total\n",
    "    return d\n",
    "\n",
    "# print('vorher:  {}\\nnachher: {}'.format(d, normalize(d))) # liefert nicht das gewuenschte!\n",
    "print('vorher:  {}\\nnachher: {}'.format(d.copy(), normalize(d)))\n",
    "#oder\n",
    "#\n",
    "#print('vorher:', d)\n",
    "#print('nacher:', normalize(d))\n",
    "\n",
    "sum(d.values())"
   ]
  }
 ],
 "metadata": {
  "kernelspec": {
   "display_name": "Python 3 (ipykernel)",
   "language": "python",
   "name": "python3"
  },
  "language_info": {
   "codemirror_mode": {
    "name": "ipython",
    "version": 3
   },
   "file_extension": ".py",
   "mimetype": "text/x-python",
   "name": "python",
   "nbconvert_exporter": "python",
   "pygments_lexer": "ipython3",
   "version": "3.9.10"
  }
 },
 "nbformat": 4,
 "nbformat_minor": 5
}
