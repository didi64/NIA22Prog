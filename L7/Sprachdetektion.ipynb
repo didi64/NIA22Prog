{
 "cells": [
  {
   "cell_type": "markdown",
   "id": "04466a2f-e127-4695-b15f-73a11434ee44",
   "metadata": {
    "tags": []
   },
   "source": [
    "### Welche Sprache: Deutsch oder Englisch?\n",
    "- Wir bestimmen mit Hilfe eines Dictionaries die H&auml;ufigkeiten der Buchstaben eines Texts.\n",
    "- Dann testen wir, ob diese H&auml;ufigkeiten n&auml;her bei denen der englischen oder deutschen Sprache sind.\n",
    "- Die H&auml;ufigkeiten der Buchstaben eines deutschen Texts sind im Dictionary `letter_frequency_de`, diejenigen eines englischen Texts im Dictionary `letter_frequency_en` gespeichert.\n",
    "- **Mass f&uuml;r die Distanz zweier Dicts mit Buchstabenh&auml;ufigkeiten**  \n",
    "Die Distanz zwischen 2 Punkten `{'x':1,'y':3}` und `{'x':4,'y':7}` in der Ebene ist nach Pythagoras $\\sqrt{(4-1)^2 + (7-3)^2}=5$.  Die Distanz zwischen 2 Punkten `{'x':1,'y':2, 'z':3 }` und `{'x':2,'y':4, 'z':5}` im Raum ist  \n",
    "$\\sqrt{(2-1)^2 + (4-2)^2 + (5-3)^2}=3$.  \n",
    "Die Distanz zwischen 2  H&auml;ufigkeitsdictionaries $d_1$ und $d_2$ mit \n",
    "Keys `[A,...,Z]` ist entsprechend \n",
    "$$\\sqrt{\\Sigma_{k \\in [A,\\ldots,Z]}(d_1[k]-d_2[k])^2}.$$\n",
    "\n"
   ]
  },
  {
   "cell_type": "code",
   "execution_count": null,
   "id": "1b756e68-8140-49e6-a564-edc77cfe959d",
   "metadata": {},
   "outputs": [],
   "source": [
    "# damit imports gefunden werden\n",
    "# import sys\n",
    "# if '/home/jovyan/work/NIA22Prog/src' not in sys.path:\n",
    "#     sys.path.insert(0, '/home/jovyan/work/NIA22Prog/src') "
   ]
  },
  {
   "cell_type": "code",
   "execution_count": 1,
   "id": "7d7927c7-0310-447a-94dc-8ea1b4b32c27",
   "metadata": {
    "tags": []
   },
   "outputs": [],
   "source": [
    "# importiere Dictionaries mit den Haeufigkeiten der Buchstaben\n",
    "from data.letterfrequencies import letter_frequency_de, letter_frequency_en\n",
    "F_DE = letter_frequency_de\n",
    "F_EN = letter_frequency_en\n",
    "\n",
    "LETTERS = ''.join(F_DE.keys())\n",
    "SUBSTITUTIONS = {'Ä': 'AE', 'Ö': 'OE', 'Ü': 'UE'}\n",
    "\n",
    "def replace_umlaute(text):\n",
    "    for k,v in SUBSTITUTIONS.items():\n",
    "        text = text.replace(k, v)\n",
    "        text = text.replace(k.lower(), v.lower())\n",
    "    return text\n",
    "\n",
    "def count_letters(text):\n",
    "    '''Wie oft kommt ein Buchstabe (gross oder klein)\n",
    "       in text vor\n",
    "      \n",
    "       gibt dict der Form {'A': 2,...,'Z': 0} zurueck \n",
    "    '''\n",
    "    d = {}\n",
    "    for ch in text:\n",
    "        k = ch.upper()\n",
    "        # zaehle nur Buchstaben\n",
    "        if k in LETTERS:\n",
    "            d[k] = d.get(k,0) + 1\n",
    "            \n",
    "    return d    \n",
    "\n",
    "def normalize(d):\n",
    "    '''scale values so that they sum to 1'''\n",
    "    total = sum(d.values())\n",
    "    for k in d:\n",
    "        d[k] = d[k]/total\n",
    "    return d\n",
    "\n",
    "def distance(d, e):\n",
    "    '''returns distance between the dicts d and e'''\n",
    "    res = 0\n",
    "    for k in LETTERS:\n",
    "        res = res + (d.get(k,0) - e.get(k,0))**2\n",
    "    return res**(1/2)    \n",
    "\n",
    "def which_lang(text):\n",
    "    '''returns a pair (<language>, <conficence>)\n",
    "       <language> is 'Deutsch' or 'English'\n",
    "    '''\n",
    "    text_ = replace_umlaute(text)\n",
    "    count = count_letters(text_)\n",
    "    freq = normalize(count)\n",
    "    \n",
    "    dist_en = distance(freq, F_EN)\n",
    "    dist_de = distance(freq, F_DE)\n",
    "  \n",
    "    if dist_en <= dist_de:\n",
    "        return '{lang}, {confidence:.2f}'\\\n",
    "               .format(lang = 'English', confidence = dist_de/dist_en)\n",
    "    else:\n",
    "        return '{lang}, {confidence:.2f}'\\\n",
    "               .format(lang = 'Deutsch', confidence = dist_en/dist_de)"
   ]
  },
  {
   "cell_type": "markdown",
   "id": "40df0b5f-5fec-493b-9895-f735498efa96",
   "metadata": {},
   "source": [
    "***\n",
    "Textbeispiel (Peter und der Wolf, von Sergei Prokofiev)\n",
    "***"
   ]
  },
  {
   "cell_type": "code",
   "execution_count": null,
   "id": "db7645c3-2a9c-42d6-85a2-6fe6ce60740f",
   "metadata": {
    "jupyter": {
     "source_hidden": true
    },
    "tags": []
   },
   "outputs": [],
   "source": [
    "# copy paste some text\n",
    "text1 = '''\n",
    "Peter und der Wolf\n",
    "\n",
    "Eines Morgens öffnete Peter die Gartentür und \n",
    "trat hinaus auf die große, grüne Wiese. \n",
    "Auf einem Ast eines großen Baumes saß Peters Freund, \n",
    "ein kleiner Vogel. \"Wie still es ist!\" zwitscherte\n",
    "der Vogel voller Fröhlichkeit. \n",
    "Da kam die Ente daher gewatschelt. \n",
    "Sie freute sich, dass Peter die Gartentür offen\n",
    "gelassen hatte und beschloss  in dem tiefen \n",
    "Teich auf der Wiese schwimmen zu gehen. \n",
    "Als der kleine Vogel die Ente sah, flog er hinunter, \n",
    "setzte sich neben sie ins Gras und plusterte \n",
    "sich auf. \n",
    "\"Was bist du für ein Vogel, wenn du nicht fliegen kannst?\" \n",
    "sagte er. Und die Ente erwiderte: \n",
    "\"Was bist du für ein Vogel, wenn du nicht schwimmen kannst?\" \n",
    "und stieg ins Wasser. \n",
    "So stritten sie miteinander; die Ente schwamm auf dem Teich \n",
    "und der kleine Vogel hüpfte an dem Ufer auf und ab.\n",
    "'''\n",
    "\n",
    "text2 = '''\n",
    "The Story of Peter and the Wolf\n",
    "\n",
    "Early one morning, Peter opened the gate and\n",
    "walked out into the big green meadow.\n",
    "On a branch of a big tree sat a little\n",
    "bird, Peter's friend. \"All is quiet\"\n",
    "chirped the bird happily.\n",
    "Just then a\n",
    "duck came waddling\n",
    "round. She was glad that\n",
    "Peter had not closed the\n",
    "gate and decided to take a\n",
    "nice swim in the deep\n",
    "pond in the meadow.\n",
    "Seeing the duck, the little bird flew down upon\n",
    "on the grass, settled next to her and shrugged\n",
    "his shoulders. \"What kind of bird are you if\n",
    "you can't fly?\" said he. To this the duck replied\n",
    "\"What kind of bird are you if you can't swim?\"\n",
    "and dived into the pond.\n",
    "They argued and argued, the duck swimming\n",
    "in the pond and the little bird hopping along\n",
    "the shore.\n",
    "'''"
   ]
  },
  {
   "cell_type": "code",
   "execution_count": null,
   "id": "db8389dc-d933-4469-9dae-2f5814808771",
   "metadata": {
    "tags": []
   },
   "outputs": [],
   "source": [
    "which_lang(text1)"
   ]
  },
  {
   "cell_type": "code",
   "execution_count": null,
   "id": "4e799895-abf0-47b5-bf45-6c2956269235",
   "metadata": {
    "tags": []
   },
   "outputs": [],
   "source": [
    "which_lang(text2)"
   ]
  },
  {
   "cell_type": "code",
   "execution_count": null,
   "id": "13b1576f-33e4-4799-bd08-7361d6f8076c",
   "metadata": {},
   "outputs": [],
   "source": []
  }
 ],
 "metadata": {
  "kernelspec": {
   "display_name": "Python 3 (ipykernel)",
   "language": "python",
   "name": "python3"
  },
  "language_info": {
   "codemirror_mode": {
    "name": "ipython",
    "version": 3
   },
   "file_extension": ".py",
   "mimetype": "text/x-python",
   "name": "python",
   "nbconvert_exporter": "python",
   "pygments_lexer": "ipython3",
   "version": "3.8.10"
  }
 },
 "nbformat": 4,
 "nbformat_minor": 5
}
