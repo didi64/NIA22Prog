{
 "cells": [
  {
   "cell_type": "markdown",
   "id": "4c712bf2-9ec7-4609-b994-09267c1a9d16",
   "metadata": {},
   "source": [
    "### Weitere Aufgaben zum Arbeiten mit Dictionaries.\n",
    "Hier entwickeln wir Teile eines Programms, welches aufgrund der Buchstabenh&auml;ufigkeiten in einem Text dessen Sprache erraten kann (siehe [Sprachdetektion.ipynb](./Sprachdetektion.ipynb) f&uuml;r L&ouml;sungen)."
   ]
  },
  {
   "cell_type": "markdown",
   "id": "c8520062-f2fb-42c8-9840-eacb70530636",
   "metadata": {},
   "source": [
    "**Codefragmente**"
   ]
  },
  {
   "cell_type": "code",
   "execution_count": 8,
   "id": "0bddf080-84b8-4a52-9968-bc5bd075c87d",
   "metadata": {},
   "outputs": [
    {
     "data": {
      "text/plain": [
       "65"
      ]
     },
     "execution_count": 8,
     "metadata": {},
     "output_type": "execute_result"
    }
   ],
   "source": [
    "ord('A')"
   ]
  },
  {
   "cell_type": "code",
   "execution_count": 9,
   "id": "838fe162-dd82-420b-bf6d-af5ebfe770ce",
   "metadata": {},
   "outputs": [
    {
     "data": {
      "text/plain": [
       "('A', 'B', 'Z')"
      ]
     },
     "execution_count": 9,
     "metadata": {},
     "output_type": "execute_result"
    }
   ],
   "source": [
    "chr(65),chr(66),chr(90)"
   ]
  },
  {
   "cell_type": "code",
   "execution_count": 5,
   "id": "a0afd987-fc29-4dc3-acc1-97bafbe8beff",
   "metadata": {},
   "outputs": [
    {
     "data": {
      "text/plain": [
       "(['A', 'B', 'C'], ['X', 'Y', 'Z'])"
      ]
     },
     "execution_count": 5,
     "metadata": {},
     "output_type": "execute_result"
    }
   ],
   "source": [
    "# Liste mit den Buchstaben 'A' bis 'Z'\n",
    "ABC = [chr(ord('A') + i) for i in range(26)]\n",
    "ABC[:3], ABC[-3:]"
   ]
  },
  {
   "cell_type": "code",
   "execution_count": 11,
   "id": "29d82b97-b4b5-4ea4-8076-2c20380c2df6",
   "metadata": {},
   "outputs": [
    {
     "data": {
      "text/plain": [
       "('A', '2', '*', 'A')"
      ]
     },
     "execution_count": 11,
     "metadata": {},
     "output_type": "execute_result"
    }
   ],
   "source": [
    "# Verwandle falls moeglich in einen Grossbuchstaben\n",
    "'a'.upper(), '2'.upper(), '*'.upper(), 'A'.upper()"
   ]
  },
  {
   "cell_type": "markdown",
   "id": "e2eabbd1-6a84-42d0-818a-91807efe96eb",
   "metadata": {},
   "source": [
    "### 1 ) Z&auml;hlen mit einem Dictionary\n",
    "Gegeben sei ein String  mit allen m&ouml;glichen Zeichen.\n",
    "\n",
    "Wir wollen eine Funktion `count_letters(s)`, welche nur Buchstaben z&auml;ht, und dabei nicht zwischen Gross- und Kleinbuchstaben unterscheidet.\n",
    "Z.B. soll  `count_letters('*ab A1')` den Dictionary  `{'A': 2, 'B': 1}` zur&uuml;ckgeben.\n",
    "\n",
    "**Hinweis**:\n",
    "- Starte mit einem leeren Dictionary.\n",
    "- Iteriere &uuml;ber die Zeichen im String.\n",
    "- Teste, ob die Grossbuchstabenvariante des aktuellen Zeichens im String `ABC` enthalten ist.  \n",
    "Falls ja, f&uuml;ge ggf. diesen Grossbuchstaben als Key zum Dictionary hinzu, bez. inkrementiere den zugeh&ouml;rigen Wert."
   ]
  },
  {
   "cell_type": "code",
   "execution_count": null,
   "id": "07a3802b-a9cc-470e-bf06-58b3fa577e0e",
   "metadata": {},
   "outputs": [],
   "source": []
  },
  {
   "cell_type": "markdown",
   "id": "368ac32b-674d-4d71-ac56-67c39a134c5d",
   "metadata": {},
   "source": [
    "### 2) Umlaute ersetzen\n",
    "Schreibe eine Funktion `replace_umlaute(text)`, welche alle Umlaute im String `text` ersetzt: `ä->ae, Ä->AE`, ...\n",
    "\n",
    "Benutze den Dictionary  \n",
    "`subst = {'Ä': 'AE', 'Ö': 'OE', 'Ü': 'UE'}`  \n",
    "\n",
    "**Hinweis**:\n",
    "- Iteriere mit `k,v in subst.items():`  \n",
    "&uuml;ber die key-value Paare des Dict `subst`.\n",
    "- Ersetze nun `k` durch `v` und `k.lower()` durch `v.lower()`"
   ]
  },
  {
   "cell_type": "code",
   "execution_count": 15,
   "id": "2a9ca2a8-6a84-4023-918d-bdf110cc5f6b",
   "metadata": {},
   "outputs": [
    {
     "data": {
      "text/plain": [
       "'fuer, ueber'"
      ]
     },
     "execution_count": 15,
     "metadata": {},
     "output_type": "execute_result"
    }
   ],
   "source": [
    "# Teilstring ersetzen\n",
    "'für, über'.replace('ü','ue')"
   ]
  },
  {
   "cell_type": "code",
   "execution_count": 14,
   "id": "590d448c-982f-4890-bafe-31af50b52c92",
   "metadata": {},
   "outputs": [
    {
     "name": "stdout",
     "output_type": "stream",
     "text": [
      "Help on method_descriptor:\n",
      "\n",
      "replace(self, old, new, count=-1, /)\n",
      "    Return a copy with all occurrences of substring old replaced by new.\n",
      "    \n",
      "      count\n",
      "        Maximum number of occurrences to replace.\n",
      "        -1 (the default value) means replace all occurrences.\n",
      "    \n",
      "    If the optional argument count is given, only the first count occurrences are\n",
      "    replaced.\n",
      "\n"
     ]
    }
   ],
   "source": [
    "help(str.replace)"
   ]
  },
  {
   "cell_type": "code",
   "execution_count": null,
   "id": "17486f22-28eb-49c1-9be8-41a9bc78e338",
   "metadata": {},
   "outputs": [],
   "source": []
  },
  {
   "cell_type": "markdown",
   "id": "a4aba5a3-e86f-4eec-a336-2dc2041f60f9",
   "metadata": {},
   "source": [
    "### 3) Dictionary mit  Buchstabenhäufigkeiten\n",
    "Die Funktion `count_letters(s)` liefert uns einen dict `d`, der uns sagt, wie oft ein Buchstabe im String `s` vorkommt. Wir m&ouml;chten nun einen Dictionary mit den relativen\n",
    "Häufigkeiten der Buchstaben.  \n",
    "\n",
    "Schreibe eine Funktion `normalize(d)`, welche den Dictionary `d` wie folgt modifiziert:\n",
    "jeden Wert von wird `d` durch die totale Anzahl gez&auml;hlter Buchstaben dividiert.\n",
    "Teste, ob die Summe der Werte im modifizierten Dict tats&auml;chlich 1 ergibt.\n",
    "\n",
    "**Beachte**: ev. kommt nicht jeder Buchstabe als key im dict `d` vor.\n",
    "\n"
   ]
  },
  {
   "cell_type": "code",
   "execution_count": null,
   "id": "440281df-5eac-44d7-af3d-70ab73fe70c8",
   "metadata": {},
   "outputs": [],
   "source": []
  }
 ],
 "metadata": {
  "kernelspec": {
   "display_name": "Python 3 (ipykernel)",
   "language": "python",
   "name": "python3"
  },
  "language_info": {
   "codemirror_mode": {
    "name": "ipython",
    "version": 3
   },
   "file_extension": ".py",
   "mimetype": "text/x-python",
   "name": "python",
   "nbconvert_exporter": "python",
   "pygments_lexer": "ipython3",
   "version": "3.9.10"
  }
 },
 "nbformat": 4,
 "nbformat_minor": 5
}
