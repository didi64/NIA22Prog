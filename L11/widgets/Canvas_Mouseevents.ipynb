{
 "cells": [
  {
   "cell_type": "markdown",
   "id": "13d8ebdc-8b0e-42e2-8ede-91351647b213",
   "metadata": {},
   "source": [
    "### Canvas-Widget, Mouse-Events\n",
    "\n",
    "Ein Canvas-Objekt erlaubt das Registrieren von Callbacks f&uuml;r die Mouse-Events `mouse_down`, `mouse_up` und `mouse_move` (\n",
    "Maustaste wird gedr&uuml;ckt, Maustaste wird losgelassen, Maus wird bewegt).  \n",
    "Da Juptyerlab Klicks auf die rechte und mittlere Maustaste ebenfalls abf&auml;ngt, sollte im Zusammenhang mit `mouse_down` und `mouse-up` nur die linke Maustaste benutzt werden.  \n",
    "\n",
    "- Registrieren eines Callbacks f&uuml;r ein Canvas-Objekt `canvas`:  \n",
    "```python\n",
    "canvas.on_mouse_down(callback) \n",
    "```\n",
    "- Entfernen eines Callbacks:  \n",
    "```python\n",
    "canvas.on_mouse_down(callback, remove=True) \n",
    "```\n",
    "- Alle registrierten Callbacks sind in der Liste \n",
    "```python\n",
    "canvas._mouse_down_callbacks.callbacks\n",
    "```\n",
    "gespeichert. Alle diese Callbacks k&ouml;nnen so entfernt werden: \n",
    "\n",
    "```python\n",
    "callbacks = canvas._mouse_down_callbacks.callbacks\n",
    "for f in callbacks.copy():\n",
    "    canvas.on_mouse_down(f, remove = True)\n",
    "```\n",
    "\n",
    "**Beachte**: Wir iterieren &uuml;ber eine Kopie der Liste mit den Callbacks.  \n",
    "**Grund**: `canvas.on_mouse_down(f, remove = True)` &auml;ndert die Liste `canvas._mouse_down_callbacks.callbacks`. \n",
    "**Niemals** soll ein Iterable **modifiziert** werden, w&auml;hrend man &uuml;ber dieses **iteriert**! \n",
    "\n"
   ]
  },
  {
   "cell_type": "code",
   "execution_count": null,
   "id": "3a806749-39dd-460d-aedc-72a4a2283fe6",
   "metadata": {},
   "outputs": [],
   "source": [
    "from ipycanvas import Canvas\n",
    "import ipywidgets as widgets"
   ]
  },
  {
   "cell_type": "code",
   "execution_count": null,
   "id": "8929287a-085b-4674-a7ae-e22f9027fa47",
   "metadata": {},
   "outputs": [],
   "source": [
    "canvas = Canvas(width=200, height=200)\n",
    "canvas.stroke_style = 'blue'\n",
    "canvas.fill_style   = 'red'\n",
    "canvas.line_width   = 2\n",
    "display(canvas)\n",
    "canvas.stroke_rect(0,0,canvas.width, canvas.height)"
   ]
  },
  {
   "cell_type": "code",
   "execution_count": null,
   "id": "9b1fed0c-af5d-4286-945f-f555dc1f62af",
   "metadata": {},
   "outputs": [],
   "source": [
    "def draw_circle(x,y):\n",
    "    canvas.fill_circle(x,y,5)"
   ]
  },
  {
   "cell_type": "code",
   "execution_count": null,
   "id": "485b7f50-199f-4437-b45b-64956f0f7998",
   "metadata": {},
   "outputs": [],
   "source": [
    "canvas.on_mouse_down(draw_circle)"
   ]
  },
  {
   "cell_type": "markdown",
   "id": "e250810d-1ddf-44bd-9b72-79f7888dafeb",
   "metadata": {},
   "source": [
    "***\n",
    "- Modifiziere `draw_circle` und f&uuml;hre obige Zelle nochmals aus. Nun sind beide Varianten von `draw_circle` als Callback registriert.\n",
    "***"
   ]
  },
  {
   "cell_type": "code",
   "execution_count": null,
   "id": "cd80f95d-43c4-4b55-9cba-d19ae634c2fe",
   "metadata": {},
   "outputs": [],
   "source": [
    "# Funktionsnamen der registrierten Callbacks\n",
    "[f.__name__ for f in canvas._mouse_down_callbacks.callbacks]"
   ]
  },
  {
   "cell_type": "code",
   "execution_count": null,
   "id": "f93a4987-d120-4dbf-b7ec-ba257348d733",
   "metadata": {},
   "outputs": [],
   "source": [
    "# alle Callbacks entfernen\n",
    "# Achtung: iteriere ueber Kopie, das\n",
    "# canvas.on_mouse_down(f, remove = True) die Liste veraendert!\n",
    "\n",
    "callbacks = canvas._mouse_down_callbacks.callbacks.copy()\n",
    "for f in callbacks:\n",
    "    canvas.on_mouse_down(f, remove = True)"
   ]
  },
  {
   "cell_type": "markdown",
   "id": "6d19733f-0859-41d3-b1c1-9a654ed48f34",
   "metadata": {},
   "source": [
    "***\n",
    "- Baue einen Fehler in`draw_circle` ein und registriere als Callback.  \n",
    "  Nun passiert gar nichts!  \n",
    "  Die Fehermeldungen werden unterdr&uuml;ckt.  \n",
    "  **Macht das Auffinden von Fehlern schierig!**  \n",
    "- **Ausweg**: \n",
    "    - Teste Callback direkt.  \n",
    "    - Leite die Fehlermeldungen in ein Output-Widget um    \n",
    "    \n",
    "    ```python\n",
    "    \n",
    "      # Output-widget erstellen\n",
    "      debug_view = widgets.Output(layout={'border': '1px solid black'})\n",
    "      \n",
    "      # dekoriere die Funktion,\n",
    "      # Output der Funktion \n",
    "      # wird ins Output-Widget debug_view umgeleitet\n",
    "      @debug_view.capture(clear_output=True)\n",
    "      def callback(x,y):\n",
    "          <code>\n",
    "    ```\n",
    "***"
   ]
  },
  {
   "cell_type": "code",
   "execution_count": null,
   "id": "bafb4c8b-35aa-4390-8f7c-65465b38fc9e",
   "metadata": {},
   "outputs": [],
   "source": [
    "canvas.clear()\n",
    "canvas.stroke_rect(0,0,canvas.width, canvas.height)"
   ]
  },
  {
   "cell_type": "code",
   "execution_count": null,
   "id": "252b37be-bd74-4be0-a075-20d13bee30d4",
   "metadata": {},
   "outputs": [],
   "source": [
    "# draw_circle testen\n",
    "pts = [(x, 200-x) for x in range(0,201,10)]\n",
    "for x,y in pts:\n",
    "    draw_circle(x,y)"
   ]
  }
 ],
 "metadata": {
  "kernelspec": {
   "display_name": "Python 3 (ipykernel)",
   "language": "python",
   "name": "python3"
  },
  "language_info": {
   "codemirror_mode": {
    "name": "ipython",
    "version": 3
   },
   "file_extension": ".py",
   "mimetype": "text/x-python",
   "name": "python",
   "nbconvert_exporter": "python",
   "pygments_lexer": "ipython3",
   "version": "3.9.10"
  }
 },
 "nbformat": 4,
 "nbformat_minor": 5
}
