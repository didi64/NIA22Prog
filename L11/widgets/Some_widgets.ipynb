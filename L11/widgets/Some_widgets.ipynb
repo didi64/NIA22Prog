{
 "cells": [
  {
   "cell_type": "markdown",
   "id": "a62c6de3-a2c3-47be-99f9-cf7b3cec6e35",
   "metadata": {},
   "source": [
    "### [Die wichtigsten Widgets](https://ipywidgets.readthedocs.io/en/latest/examples/Widget%20List.html)"
   ]
  },
  {
   "cell_type": "code",
   "execution_count": 3,
   "id": "9c83dd36-ed1a-45ef-b111-aa09085d1dcd",
   "metadata": {},
   "outputs": [],
   "source": [
    "import ipywidgets as widgets"
   ]
  },
  {
   "cell_type": "markdown",
   "id": "42e194bc-7841-4c98-9659-77971c6e86ca",
   "metadata": {},
   "source": [
    "***\n",
    "**Text-Widget**  \n",
    "- Registrierung eines Callbacks/Event-Handlers f&uuml;r das Submit-Event:  \n",
    "  `on_submit(callback)`  \n",
    "\n",
    "  **Achtung**: Werden verschiedene Callback registriert, werden alle Callbacks beim\n",
    "  Eintreffen des Submit-Events aufgerufen.    \n",
    "  Wird die gleiche Funktion nochmals registiert, passiert nichts.  \n",
    "  Wird eine andere Funktion mit dem gleichen Namen registriert, wird diese als\n",
    "  weiteres Callback registriert.  \n",
    "- Registrierung eines Callbacks/Event-Handlers f&uuml;r das Submit-Event:  \n",
    "  `on_submit(callback, remove = True)` \n",
    "***"
   ]
  },
  {
   "cell_type": "code",
   "execution_count": 4,
   "id": "c6dc232d-8047-4cd4-b41b-15cc9e379ae8",
   "metadata": {},
   "outputs": [],
   "source": [
    "def callback1(tb):\n",
    "    print('first:', tb.value)\n",
    "    \n",
    "def callback2(tb):\n",
    "    print('second:', tb.value)    "
   ]
  },
  {
   "cell_type": "code",
   "execution_count": 5,
   "id": "dc8a4363-53eb-464e-904a-e9162b4390da",
   "metadata": {},
   "outputs": [
    {
     "data": {
      "application/vnd.jupyter.widget-view+json": {
       "model_id": "f5381e1d85fa4e96930cbafcd7cbf28d",
       "version_major": 2,
       "version_minor": 0
      },
      "text/plain": [
       "Text(value='')"
      ]
     },
     "metadata": {},
     "output_type": "display_data"
    }
   ],
   "source": [
    "textbox = widgets.Text(value = '')\n",
    "textbox.on_submit(callback1)\n",
    "textbox.on_submit(callback1)\n",
    "textbox.on_submit(callback2)\n",
    "display(textbox)"
   ]
  },
  {
   "cell_type": "markdown",
   "id": "5859f05b-7bce-4309-8773-b6a41c5491f7",
   "metadata": {},
   "source": [
    "***\n",
    "Einem Widget kann ein `Layout` als weiteres Argument &uuml;bergeben werden.  \n",
    "Je nach Widget kann man im Layout z.B. `width`, `height`, `border` festlegen.  \n",
    "Die Werte f&uuml;r `width`, `height`, `border` sind Strings.  \n",
    "`width` und `height` k&ouml;nnen in **Pixel** oder **Prozent** (der Zelle, oder des Containers in dem das Widget angezeigt wird) spezifiziert werden.\n",
    "***"
   ]
  },
  {
   "cell_type": "code",
   "execution_count": 6,
   "id": "42b9d926-0d82-48a5-8453-8749acc68527",
   "metadata": {},
   "outputs": [
    {
     "data": {
      "application/vnd.jupyter.widget-view+json": {
       "model_id": "f569d4300ef04aaa9de54c177cba88ba",
       "version_major": 2,
       "version_minor": 0
      },
      "text/plain": [
       "Text(value='', layout=Layout(border='4px solid red', height='50px'))"
      ]
     },
     "metadata": {},
     "output_type": "display_data"
    }
   ],
   "source": [
    "layout_text = {'height': '50px', 'border': '4px solid red'}\n",
    "\n",
    "textbox = widgets.Text(value = '', layout = layout_text)\n",
    "display(textbox)"
   ]
  },
  {
   "cell_type": "code",
   "execution_count": 7,
   "id": "c5c726ec-f3de-4c38-967c-415deccfcbf0",
   "metadata": {},
   "outputs": [],
   "source": [
    "# Weitere Variante ein Layout hinzuzufuegen,\n",
    "# bez. zu ueberschreiben\n",
    "textbox.layout = {'height': '50px', 'border': '4px dashed red'}"
   ]
  },
  {
   "cell_type": "code",
   "execution_count": 8,
   "id": "4bba2556-1815-48df-8463-39a2fb7a7238",
   "metadata": {},
   "outputs": [],
   "source": [
    "# Layout modifizieren\n",
    "textbox.layout.width = '100%'"
   ]
  },
  {
   "cell_type": "markdown",
   "id": "203422ec-b2b2-4645-bc74-c183deb80a19",
   "metadata": {},
   "source": [
    "***\n",
    "**Das Select-Widget**  \n",
    "Das Select-Widget hat keine `on_sumbit` Methode, aber wie bei allen Widget, k&ouml;nnen\n",
    "Attribute beobachtet werden werden.  \n",
    "\n",
    "Die Methode **`observe(callback, names = name)`**\n",
    "registriert ein Callback, welches aufgerufen wird, falls das Attribute mit\n",
    "Namen `name` ge&auml;ndert wird.  `name` kann auch eine Liste von Attributnamen sein.  \n",
    "Dem Callback wird als Argument ein `Change-Objekt` &uuml;bergeben.   \n",
    "Das Callback macht davon oft keinen Gebrauch.\n",
    "\n",
    "\n",
    "Das `Change-Objekt` hat u.a. ein Attribut `owner`, welches eine Referenz auf das\n",
    "ge&auml;nderte Widget enth&auml;lt.  \n",
    "Mit  \n",
    "**`unobserve(callback, names = name)`**  \n",
    "kann ein Callback wieder entfernt werden.\n",
    "\n",
    "\n",
    "***"
   ]
  },
  {
   "cell_type": "code",
   "execution_count": 47,
   "id": "88741eef-18bf-4c70-9315-3733aef523c3",
   "metadata": {},
   "outputs": [],
   "source": [
    "def report(change):\n",
    "    print(change)\n",
    "    print(change.owner)\n",
    "    print(change.owner.value)\n",
    "    print(selection.value) "
   ]
  },
  {
   "cell_type": "code",
   "execution_count": 48,
   "id": "9d14f247-62f3-4530-aa37-c40ce6b1c43e",
   "metadata": {},
   "outputs": [
    {
     "data": {
      "application/vnd.jupyter.widget-view+json": {
       "model_id": "34d05cf1c57a44729a2ace63d59bdc1b",
       "version_major": 2,
       "version_minor": 0
      },
      "text/plain": [
       "Select(index=1, options=('Zuerich', 'Bern', 'Luzern'), value='Bern')"
      ]
     },
     "metadata": {},
     "output_type": "display_data"
    }
   ],
   "source": [
    "selection  = widgets.Select(\n",
    "    options = ['Zuerich', 'Bern', 'Luzern'],\n",
    "    value = 'Bern',\n",
    "    rows  = 5)\n",
    "\n",
    "selection.observe(report, names ='value')\n",
    "display(selection)"
   ]
  },
  {
   "cell_type": "code",
   "execution_count": null,
   "id": "81dabb9b-0704-4004-b9ec-695ecd41716d",
   "metadata": {},
   "outputs": [],
   "source": []
  },
  {
   "cell_type": "code",
   "execution_count": 11,
   "id": "24bf8552-7b22-4122-8456-7df8d0702038",
   "metadata": {},
   "outputs": [],
   "source": [
    "selection.unobserve(report, names ='value')"
   ]
  },
  {
   "cell_type": "markdown",
   "id": "66cb05d6-a37e-45b2-92a0-1a21b7a58412",
   "metadata": {},
   "source": [
    "***\n",
    "**Anwendung**: Mit Hilfe des Text-Widget eine\n",
    "Option zum Select-Widget hinzuf&uuml;gen\n",
    "***"
   ]
  },
  {
   "cell_type": "code",
   "execution_count": 12,
   "id": "0ab4172f-f5ce-45ae-88b4-6f634fc2ec31",
   "metadata": {},
   "outputs": [],
   "source": [
    "def add_option(tb):\n",
    "    new_options = selection.options + (tb.value,)\n",
    "    selection.options = new_options\n",
    "    tb.value = ''"
   ]
  },
  {
   "cell_type": "code",
   "execution_count": 13,
   "id": "a7bbf40a-cfa9-4a80-ab13-b259496763e7",
   "metadata": {},
   "outputs": [
    {
     "data": {
      "application/vnd.jupyter.widget-view+json": {
       "model_id": "8c27810a45a84218aae2cf44d3dfe9a0",
       "version_major": 2,
       "version_minor": 0
      },
      "text/plain": [
       "Text(value='')"
      ]
     },
     "metadata": {},
     "output_type": "display_data"
    },
    {
     "data": {
      "application/vnd.jupyter.widget-view+json": {
       "model_id": "5eb6e23be6f44802a3464a4655bad941",
       "version_major": 2,
       "version_minor": 0
      },
      "text/plain": [
       "Select(index=1, options=('Zuerich', 'Bern', 'Luzern'), value='Bern')"
      ]
     },
     "metadata": {},
     "output_type": "display_data"
    }
   ],
   "source": [
    "textbox = widgets.Text(value = '')\n",
    "selection  = widgets.Select(\n",
    "    options = ['Zuerich', 'Bern', 'Luzern'],\n",
    "    value = 'Bern',\n",
    "    rows  = 5)\n",
    "\n",
    "textbox.on_submit(add_option)\n",
    "display(textbox)\n",
    "display(selection)"
   ]
  },
  {
   "cell_type": "markdown",
   "id": "4f47c043-0255-4934-b474-bfe1f320afb0",
   "metadata": {},
   "source": [
    "***\n",
    "**ColorPicker**\n",
    "***"
   ]
  },
  {
   "cell_type": "code",
   "execution_count": 14,
   "id": "2da36f82-2015-4515-b231-58667a2151a8",
   "metadata": {},
   "outputs": [
    {
     "data": {
      "application/vnd.jupyter.widget-view+json": {
       "model_id": "64198a95ec574ee39d40bb12cccc445a",
       "version_major": 2,
       "version_minor": 0
      },
      "text/plain": [
       "ColorPicker(value='blue', description='Pick a color')"
      ]
     },
     "metadata": {},
     "output_type": "display_data"
    }
   ],
   "source": [
    "colorpicker = widgets.ColorPicker(\n",
    "    concise=False,\n",
    "    description='Pick a color',\n",
    "    value='blue',\n",
    "    disabled=False\n",
    ")\n",
    "colorpicker"
   ]
  },
  {
   "cell_type": "code",
   "execution_count": 15,
   "id": "6d9ded5e-2f1e-4f07-9969-2f44eebb039c",
   "metadata": {},
   "outputs": [
    {
     "data": {
      "text/plain": [
       "'blue'"
      ]
     },
     "execution_count": 15,
     "metadata": {},
     "output_type": "execute_result"
    }
   ],
   "source": [
    "colorpicker.value"
   ]
  },
  {
   "cell_type": "markdown",
   "id": "fc32732a-7ba6-4716-950a-5f5d306a3062",
   "metadata": {},
   "source": [
    "***\n",
    "**Buttons**  \n",
    "Erlaut das Registrieren eines Event-Handlers f&uuml;r das `on_click`-Event mittels  \n",
    "`on_click(bt_callback)`  \n",
    "Im Button kann ein Icon angezeigt werden, z.B. mit  \n",
    "`widgets.Button(icon = 'arrow-right')`.    \n",
    "Genutzt werden k&ouml;nnen die Icons des [Fonts Awesome](https://fontawesome.com/v4/icons/)\n",
    "***"
   ]
  },
  {
   "cell_type": "code",
   "execution_count": 16,
   "id": "e3007071-4587-4ae0-a390-3284c6303578",
   "metadata": {},
   "outputs": [],
   "source": [
    "def bt_callback(bt):\n",
    "    print('Button \"->\" clicked')"
   ]
  },
  {
   "cell_type": "code",
   "execution_count": 17,
   "id": "2f404da9-2636-44be-ac56-91602e11e347",
   "metadata": {},
   "outputs": [
    {
     "data": {
      "application/vnd.jupyter.widget-view+json": {
       "model_id": "a4959622f26c41e082e3e99d466a8d81",
       "version_major": 2,
       "version_minor": 0
      },
      "text/plain": [
       "Button(icon='arrow-right', layout=Layout(border='2px solid red', height='30px', width='50px'), style=ButtonSty…"
      ]
     },
     "metadata": {},
     "output_type": "display_data"
    },
    {
     "data": {
      "application/vnd.jupyter.widget-view+json": {
       "model_id": "a584ac644fae4939811af03cc9e3a67f",
       "version_major": 2,
       "version_minor": 0
      },
      "text/plain": [
       "Button(description='click me', style=ButtonStyle())"
      ]
     },
     "metadata": {},
     "output_type": "display_data"
    }
   ],
   "source": [
    "layout_bt = {'border' : '2px solid red', \n",
    "             'width'  : '50px',\n",
    "             'height' : '30px',\n",
    "            }\n",
    "\n",
    "bt = widgets.Button(layout = layout_bt, icon = 'arrow-right')\n",
    "bt1 = widgets.Button(description = 'click me')\n",
    "bt.on_click(bt_callback)\n",
    "display(bt, bt1)"
   ]
  },
  {
   "cell_type": "code",
   "execution_count": 18,
   "id": "c85fe110-2e9b-41bc-aa57-fb6154fad62c",
   "metadata": {},
   "outputs": [
    {
     "data": {
      "text/plain": [
       "'2px solid red'"
      ]
     },
     "execution_count": 18,
     "metadata": {},
     "output_type": "execute_result"
    }
   ],
   "source": [
    "bt.layout.border"
   ]
  },
  {
   "cell_type": "code",
   "execution_count": 19,
   "id": "8ff510ff-1c79-4318-86f0-6d7f048801a9",
   "metadata": {},
   "outputs": [],
   "source": [
    "bt1.layout = bt.layout"
   ]
  },
  {
   "cell_type": "markdown",
   "id": "25f7c236-c3fc-4788-8167-bff13fe453da",
   "metadata": {},
   "source": [
    "***\n",
    "Bordercolor obigen Buttons mit Hilfe des Colorpicker-Widgets &auml;ndern\n",
    "***"
   ]
  },
  {
   "cell_type": "code",
   "execution_count": 20,
   "id": "61a68c68-9af1-456a-99f9-7ece9e75c463",
   "metadata": {},
   "outputs": [
    {
     "data": {
      "application/vnd.jupyter.widget-view+json": {
       "model_id": "dd260465854f4a3a81fadf8863eef0d8",
       "version_major": 2,
       "version_minor": 0
      },
      "text/plain": [
       "ColorPicker(value='blue', description='Pick a color')"
      ]
     },
     "metadata": {},
     "output_type": "display_data"
    }
   ],
   "source": [
    "def set_border_color(change):\n",
    "    border = '2px solid {}'.format(colorpicker.value)\n",
    "    bt.layout.border = border\n",
    "    \n",
    "colorpicker = widgets.ColorPicker(\n",
    "    concise=False,\n",
    "    description='Pick a color',\n",
    "    value='blue'\n",
    ")    \n",
    "    \n",
    "colorpicker.observe(set_border_color, names ='value')\n",
    "colorpicker"
   ]
  },
  {
   "cell_type": "code",
   "execution_count": 21,
   "id": "095d6574-fc91-43df-9bb6-b164a5496af1",
   "metadata": {},
   "outputs": [
    {
     "data": {
      "text/plain": [
       "'blue'"
      ]
     },
     "execution_count": 21,
     "metadata": {},
     "output_type": "execute_result"
    }
   ],
   "source": [
    "colorpicker.value"
   ]
  },
  {
   "cell_type": "markdown",
   "id": "1d22e108-41ce-42ee-ae84-6859cfd9656d",
   "metadata": {},
   "source": [
    "***\n",
    "**Dropdown-Widget**\n",
    "***"
   ]
  },
  {
   "cell_type": "code",
   "execution_count": 22,
   "id": "6df7321d-8810-4bd8-8fa0-d3e35c6d197d",
   "metadata": {},
   "outputs": [
    {
     "data": {
      "application/vnd.jupyter.widget-view+json": {
       "model_id": "81d9d37e503d478d8585e068000803a1",
       "version_major": 2,
       "version_minor": 0
      },
      "text/plain": [
       "Dropdown(description='Number:', index=1, options=('1', '2', '3'), value='2')"
      ]
     },
     "metadata": {},
     "output_type": "display_data"
    }
   ],
   "source": [
    "widgets.Dropdown(\n",
    "    options=['1', '2', '3'],\n",
    "    value='2',\n",
    "    description='Number:',\n",
    "    disabled=False,\n",
    ")"
   ]
  },
  {
   "cell_type": "markdown",
   "id": "ff5e134c-d224-43f4-b23d-91498d3b55a1",
   "metadata": {},
   "source": [
    "***\n",
    "**SelectMultiple-Widget**  \n",
    "Wie Select, aber es k&ouml;nnen mehrerer Optionen gleichzeitig ausgew&auml;hlt werden.  \n",
    "**Control-Taste** beim Ausw&auml;hlen **gedr&uuml;ckt halten**.\n",
    "***"
   ]
  },
  {
   "cell_type": "code",
   "execution_count": 39,
   "id": "cb393eae-bed1-42ed-9c71-06535b709478",
   "metadata": {},
   "outputs": [
    {
     "data": {
      "application/vnd.jupyter.widget-view+json": {
       "model_id": "00ab3420d5ba40b2b1d30127af48caae",
       "version_major": 2,
       "version_minor": 0
      },
      "text/plain": [
       "SelectMultiple(description='Letters', index=(1,), options=('a', 'b', 'c', 'd'), value=('b',))"
      ]
     },
     "metadata": {},
     "output_type": "display_data"
    }
   ],
   "source": [
    "mselect = widgets.SelectMultiple(\n",
    "    options=['a', 'b', 'c', 'd'],\n",
    "    value= ['b'],\n",
    "    #rows=10,\n",
    "    description='Letters',\n",
    "    disabled=False\n",
    ")\n",
    "mselect"
   ]
  },
  {
   "cell_type": "code",
   "execution_count": 40,
   "id": "aee6e987-e343-4a1d-b6e6-d14008e45f5c",
   "metadata": {},
   "outputs": [
    {
     "data": {
      "text/plain": [
       "('a', 'b', 'c', 'd')"
      ]
     },
     "execution_count": 40,
     "metadata": {},
     "output_type": "execute_result"
    }
   ],
   "source": [
    "mselect.options"
   ]
  },
  {
   "cell_type": "code",
   "execution_count": 42,
   "id": "c254531c-8297-45c6-acb0-b22b6f41aa1e",
   "metadata": {},
   "outputs": [
    {
     "data": {
      "text/plain": [
       "('a', 'c', 'd')"
      ]
     },
     "execution_count": 42,
     "metadata": {},
     "output_type": "execute_result"
    }
   ],
   "source": [
    "mselect.value"
   ]
  },
  {
   "cell_type": "markdown",
   "id": "9d0dcb4e-4ba8-47b2-b3ac-05807cee033a",
   "metadata": {},
   "source": [
    "***\n",
    "**RadioButtons**\n",
    "***"
   ]
  },
  {
   "cell_type": "code",
   "execution_count": 43,
   "id": "98fc7ddb-6a88-4f70-b972-2b2f604e0cb1",
   "metadata": {},
   "outputs": [
    {
     "data": {
      "application/vnd.jupyter.widget-view+json": {
       "model_id": "5281e185633d40a2910f2a2509dc42e6",
       "version_major": 2,
       "version_minor": 0
      },
      "text/plain": [
       "RadioButtons(options=('pepperoni', 'pineapple', 'anchovies'), value='pepperoni')"
      ]
     },
     "metadata": {},
     "output_type": "display_data"
    }
   ],
   "source": [
    "choice = widgets.RadioButtons(\n",
    "    options=['pepperoni', 'pineapple', 'anchovies']\n",
    ")\n",
    "    \n",
    "choice"
   ]
  },
  {
   "cell_type": "code",
   "execution_count": null,
   "id": "9f2401c4-cf31-4263-aabb-afacd2d9c6be",
   "metadata": {},
   "outputs": [],
   "source": [
    "choice.value"
   ]
  },
  {
   "cell_type": "markdown",
   "id": "23dea46f-65af-46a4-a84c-b4a983f71d47",
   "metadata": {},
   "source": [
    "***\n",
    "**Checkbox**  \n",
    "`checkbox.value` ist `True` falls gecheckt, sonst `False`\n",
    "***"
   ]
  },
  {
   "cell_type": "code",
   "execution_count": 44,
   "id": "204e81a5-1cdf-41c3-9bc6-7bab891fc215",
   "metadata": {},
   "outputs": [
    {
     "data": {
      "application/vnd.jupyter.widget-view+json": {
       "model_id": "482815269a1747acab7f3b72bbc63b42",
       "version_major": 2,
       "version_minor": 0
      },
      "text/plain": [
       "Checkbox(value=False, description='Check me', indent=False)"
      ]
     },
     "metadata": {},
     "output_type": "display_data"
    }
   ],
   "source": [
    "checkbox = widgets.Checkbox(\n",
    "    value=False,\n",
    "    description='Check me',\n",
    "    indent=False\n",
    ")\n",
    "checkbox"
   ]
  },
  {
   "cell_type": "code",
   "execution_count": 46,
   "id": "56a556ee-daa3-4763-84f3-c8824c6f7438",
   "metadata": {},
   "outputs": [
    {
     "data": {
      "text/plain": [
       "True"
      ]
     },
     "execution_count": 46,
     "metadata": {},
     "output_type": "execute_result"
    }
   ],
   "source": [
    "checkbox.value"
   ]
  },
  {
   "cell_type": "markdown",
   "id": "be475be9-99e2-4294-81b2-33a4cb78402b",
   "metadata": {},
   "source": [
    "***\n",
    "**IntSlider**\n",
    "***"
   ]
  },
  {
   "cell_type": "code",
   "execution_count": 49,
   "id": "93d25b6c-fe94-4ea8-9b0d-0e7fdebbd557",
   "metadata": {},
   "outputs": [
    {
     "data": {
      "application/vnd.jupyter.widget-view+json": {
       "model_id": "db111e9fe7ef42739eb4c39f0512c36e",
       "version_major": 2,
       "version_minor": 0
      },
      "text/plain": [
       "IntSlider(value=7, continuous_update=False, description='Pick a value:', max=10, min=1)"
      ]
     },
     "metadata": {},
     "output_type": "display_data"
    }
   ],
   "source": [
    "slider = widgets.IntSlider(\n",
    "    value=7,\n",
    "    min=1,\n",
    "    max=10,\n",
    "    step=1,\n",
    "    description='Pick a value:',\n",
    "    continuous_update=False,\n",
    "    orientation='horizontal',\n",
    ")\n",
    "slider"
   ]
  },
  {
   "cell_type": "code",
   "execution_count": 51,
   "id": "f9a4e9a0-628b-47bc-b1fe-771bc3db2eda",
   "metadata": {},
   "outputs": [
    {
     "data": {
      "text/plain": [
       "4"
      ]
     },
     "execution_count": 51,
     "metadata": {},
     "output_type": "execute_result"
    }
   ],
   "source": [
    "slider.value"
   ]
  },
  {
   "cell_type": "markdown",
   "id": "43449c03-b36f-48e4-86ee-1f107b79d34f",
   "metadata": {},
   "source": [
    "***\n",
    "Expandierbare Widgets: **Accordion** und **Tab**\n",
    "***"
   ]
  },
  {
   "cell_type": "code",
   "execution_count": 53,
   "id": "b13c558d-c23e-4811-8ec6-75a542612ace",
   "metadata": {},
   "outputs": [
    {
     "data": {
      "application/vnd.jupyter.widget-view+json": {
       "model_id": "17b15150e84c4088bb94b9eb4c55ee35",
       "version_major": 2,
       "version_minor": 0
      },
      "text/plain": [
       "Accordion(children=(IntSlider(value=2, continuous_update=False, description='Linewidth:', max=10, min=1), IntS…"
      ]
     },
     "metadata": {},
     "output_type": "display_data"
    }
   ],
   "source": [
    "slider1 = widgets.IntSlider(\n",
    "    value=2, min=1, max=10, step=1,\n",
    "    description='Linewidth:',\n",
    "    continuous_update=False,\n",
    ")\n",
    "\n",
    "slider2 = widgets.IntSlider(\n",
    "    value=5, min=1, max=30, step=1,\n",
    "    description='Pointsize:',\n",
    "    continuous_update=False\n",
    ")\n",
    "\n",
    "accordion = widgets.Accordion(children=[slider1, slider2])\n",
    "accordion.set_title(0, 'Linewidth')\n",
    "accordion.set_title(1, 'Pointsize')\n",
    "accordion.selected_index = None\n",
    "accordion"
   ]
  },
  {
   "cell_type": "code",
   "execution_count": null,
   "id": "61d58bb8-3f53-491e-886b-a8c95ad5bf2c",
   "metadata": {},
   "outputs": [],
   "source": [
    "accordion.children[0].value"
   ]
  },
  {
   "cell_type": "code",
   "execution_count": 54,
   "id": "bd0f1fbc-831e-404d-8c35-c497fee734d1",
   "metadata": {},
   "outputs": [
    {
     "data": {
      "application/vnd.jupyter.widget-view+json": {
       "model_id": "a273b15211c04ada9e3ca68a14fb7524",
       "version_major": 2,
       "version_minor": 0
      },
      "text/plain": [
       "Tab(children=(IntSlider(value=2, continuous_update=False, description='Linewidth:', max=10, min=1), IntSlider(…"
      ]
     },
     "metadata": {},
     "output_type": "display_data"
    }
   ],
   "source": [
    "children=[slider1, slider2, \n",
    "          widgets.ColorPicker(value='blue'), \n",
    "          widgets.ColorPicker()]\n",
    "\n",
    "tabs = widgets.Tab(children=children)\n",
    "tabs.set_title(0, 'Linewidth')\n",
    "tabs.set_title(1, 'Pointsize')\n",
    "tabs.set_title(2, 'Fill Color')\n",
    "tabs.set_title(3, 'Stroke Color')\n",
    "tabs.selected_index = None\n",
    "tabs"
   ]
  },
  {
   "cell_type": "code",
   "execution_count": 55,
   "id": "02d103d8-01fd-4fac-8e7b-23c68f58635c",
   "metadata": {},
   "outputs": [],
   "source": [
    "# tab schliessen\n",
    "tabs.selected_index = None"
   ]
  },
  {
   "cell_type": "code",
   "execution_count": null,
   "id": "7ee3ce7e-1c4e-4c9e-a57b-ef61eaaa263f",
   "metadata": {},
   "outputs": [],
   "source": [
    "settings = widgets.Accordion(children=[tabs])\n",
    "settings.set_title(0,'Settings')\n",
    "settings.selected_index = None\n",
    "settings"
   ]
  },
  {
   "cell_type": "code",
   "execution_count": null,
   "id": "d7d2b96c-c7a9-43b2-994d-7b8a952a5e37",
   "metadata": {},
   "outputs": [],
   "source": [
    "settings.children[0].children[1].value"
   ]
  },
  {
   "cell_type": "code",
   "execution_count": null,
   "id": "8f1486a1-8a04-4121-b0ec-51f78b0bd75e",
   "metadata": {},
   "outputs": [],
   "source": [
    "[x.value for x in settings.children[0].children]"
   ]
  },
  {
   "cell_type": "code",
   "execution_count": null,
   "id": "5f531a8b-4c25-4f28-bb8f-1a3f265386c0",
   "metadata": {},
   "outputs": [],
   "source": [
    "[x.value for x in tabs.children]"
   ]
  },
  {
   "cell_type": "markdown",
   "id": "e994e9e3-b4d2-4ad0-8296-8c0592788a09",
   "metadata": {},
   "source": [
    "***\n",
    "**Accordion &ouml;ffnen und schliessen**\n",
    "***"
   ]
  },
  {
   "cell_type": "code",
   "execution_count": null,
   "id": "5358e9fa-719f-48f3-9577-dee82d659f28",
   "metadata": {},
   "outputs": [],
   "source": [
    "settings.selected_index=0"
   ]
  },
  {
   "cell_type": "code",
   "execution_count": null,
   "id": "d7326033-f442-4946-aac2-197ac321b71a",
   "metadata": {},
   "outputs": [],
   "source": [
    "settings.selected_index=None"
   ]
  },
  {
   "cell_type": "markdown",
   "id": "7ae171a6-b849-4c17-b431-bd4646478b6d",
   "metadata": {},
   "source": [
    "***\n",
    "**Container-Widgets HBox und VBox**  \n",
    "Container f&uuml;r andere Widgets  \n",
    "Mehr zum Output-Widget im Notebook [output.ipynb](./output.ipynb)\n",
    "***"
   ]
  },
  {
   "cell_type": "code",
   "execution_count": 162,
   "id": "c7ff326e-6747-4bf6-9ad1-0b32bd43efa0",
   "metadata": {},
   "outputs": [
    {
     "data": {
      "application/vnd.jupyter.widget-view+json": {
       "model_id": "3f7fb66611734ac499f0b8ad5073ca9e",
       "version_major": 2,
       "version_minor": 0
      },
      "text/plain": [
       "HBox(children=(VBox(children=(Text(value='', layout=Layout(width='auto')), Select(index=1, layout=Layout(width…"
      ]
     },
     "metadata": {},
     "output_type": "display_data"
    }
   ],
   "source": [
    "def report_to_out(change):\n",
    "    print(change)\n",
    "    out.clear_output()\n",
    "    with out:\n",
    "        print('Options changed to', change.owner.options)\n",
    "              \n",
    "    \n",
    "out_layout = {'width': '50%', \n",
    "              'border': '2px solid black',\n",
    "              'overflow': 'scroll'\n",
    "             }\n",
    "out =  widgets.Output(layout = out_layout)   \n",
    "\n",
    "textbox = widgets.Text(value = '', layout = {'width': 'auto'})\n",
    "selection = selection  = widgets.Select(\n",
    "    options = ['Zuerich', 'Bern', 'Luzern'],\n",
    "    value = 'Bern',\n",
    "    rows  = 5,\n",
    "    layout = {'width': 'auto'},\n",
    ")\n",
    "\n",
    "textbox.on_submit(add_option)\n",
    "selection.observe(report_to_out, names ='options')\n",
    "\n",
    "vbox = widgets.VBox(children = [textbox, selection])\n",
    "hbox_layout = {'width': '80%', 'height': '200px'}\n",
    "widgets.HBox(children = [vbox, out], layout=hbox_layout)"
   ]
  },
  {
   "cell_type": "code",
   "execution_count": null,
   "id": "719a8ac1-d42e-4681-9c19-17b69efc60bd",
   "metadata": {},
   "outputs": [],
   "source": []
  }
 ],
 "metadata": {
  "kernelspec": {
   "display_name": "Python 3 (ipykernel)",
   "language": "python",
   "name": "python3"
  },
  "language_info": {
   "codemirror_mode": {
    "name": "ipython",
    "version": 3
   },
   "file_extension": ".py",
   "mimetype": "text/x-python",
   "name": "python",
   "nbconvert_exporter": "python",
   "pygments_lexer": "ipython3",
   "version": "3.9.10"
  }
 },
 "nbformat": 4,
 "nbformat_minor": 5
}
