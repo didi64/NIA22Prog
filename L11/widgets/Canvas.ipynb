{
 "cells": [
  {
   "cell_type": "markdown",
   "id": "01efa5e5-5252-4777-a391-98395da1954e",
   "metadata": {},
   "source": [
    "### [Canvas-Widget](https://ipycanvas.readthedocs.io/en/latest/drawing_images.html)\n",
    "Ein Canvas-Objekt wird mit z.B. mit  \n",
    "`canvas = Canvas(width = 200, height=200)` erzeugt und mit  \n",
    "`display(canvas)` dargestellt.  \n",
    "Das Objekt `canvas` hat die Attribute  **`stroke_style`**, **`fill_style`** und **`line_width`**,\n",
    "welche festlegen, mit welcher Farbe gezeichnet bew. gef&uuml;llt wird;\n",
    "`line_width` legt die Linienbreite fest.\n",
    "<br>\n",
    "Einige Methoden:  \n",
    "- `canvas.clear()`\n",
    "- `canvas.stroke_lines(<list of tuples (x,y)>)`\n",
    "- `canvas.stroke_cirle(x,y,radius)`\n",
    "- `canvas.stroke_polygon(<list of tuples (x,y)>)`  \n",
    "  Ist der letzte Punkt verschienden von ersten, wird das Polygon automatisch geschlossen\n",
    "- `canvas.stroke_rect(<upperleft_x>, <upper_left_y>, width, height)`  \n",
    "\n",
    "Wird bei den letzten 3 Methoden 'stroke' durch 'fill' ersetzt, wird\n",
    "die Figure ausgef&uuml;llt."
   ]
  },
  {
   "cell_type": "code",
   "execution_count": 1,
   "id": "a75bf74b-8dc4-4f09-870a-c133af2000f5",
   "metadata": {},
   "outputs": [],
   "source": [
    "from ipycanvas import Canvas"
   ]
  },
  {
   "cell_type": "code",
   "execution_count": 2,
   "id": "1c42c273-0855-48e7-8416-1d0566ed19fd",
   "metadata": {},
   "outputs": [
    {
     "data": {
      "application/vnd.jupyter.widget-view+json": {
       "model_id": "c28ed23caf394e0881aad0782abc0f97",
       "version_major": 2,
       "version_minor": 0
      },
      "text/plain": [
       "Canvas(height=200, width=200)"
      ]
     },
     "metadata": {},
     "output_type": "display_data"
    }
   ],
   "source": [
    "canvas = Canvas(width=200, height=200)\n",
    "display(canvas)\n",
    "canvas.stroke_rect(0, 0, canvas.width, canvas.height)"
   ]
  },
  {
   "cell_type": "code",
   "execution_count": 3,
   "id": "c0281f13-c3f6-4d6b-84b3-c6d2ffc8d0b7",
   "metadata": {},
   "outputs": [],
   "source": [
    "canvas.stroke_circle(150, 150, 20)"
   ]
  },
  {
   "cell_type": "code",
   "execution_count": 4,
   "id": "389562d6-8ba6-498b-90fe-d86723015f13",
   "metadata": {},
   "outputs": [],
   "source": [
    "canvas.fill_style = 'red'\n",
    "canvas.fill_circle(100, 100, 30)\n",
    "canvas.fill_style = 'orange'\n",
    "canvas.fill_polygon([(0,100),(0,200), (100,100)])"
   ]
  },
  {
   "cell_type": "code",
   "execution_count": 5,
   "id": "3dfaf94d-9f76-46a1-80b8-b17be5460191",
   "metadata": {},
   "outputs": [],
   "source": [
    "canvas.stroke_style = 'blue'\n",
    "canvas.line_width = 5\n",
    "canvas.stroke_lines([(0,0),(200,200)])"
   ]
  },
  {
   "cell_type": "code",
   "execution_count": 6,
   "id": "478de100-6f75-43b0-ad4c-7c25d30a373a",
   "metadata": {},
   "outputs": [],
   "source": [
    "canvas.clear()"
   ]
  },
  {
   "cell_type": "code",
   "execution_count": 7,
   "id": "79b2d8b2-3969-443e-8e9e-85de80d69aad",
   "metadata": {},
   "outputs": [],
   "source": [
    "canvas.stroke_rect(0, 0, canvas.width, canvas.height)"
   ]
  },
  {
   "cell_type": "markdown",
   "id": "e993f7d2-5bb3-42cb-8c04-3fda70269b94",
   "metadata": {},
   "source": [
    "***\n",
    "**Aufgabe**  (L&ouml;sungen im File canvas_helpers.py)  \n",
    "Erg&auml;nze die Funktionen `get_canvas_config` und `config_canvas` so, dass diese\n",
    "wie unten angezeigt verwendet werden k&ouml;nnen und sicherstellen, dass\n",
    "`canvas.line_width`, `canvas.stroke_style`, `canvas.fill_style` wieder den gleichen Wert hat wie \n",
    "beim Aufruf der Funktion.  \n",
    "***"
   ]
  },
  {
   "cell_type": "code",
   "execution_count": 11,
   "id": "2d11d759-824a-4a33-827c-8f491121773b",
   "metadata": {},
   "outputs": [],
   "source": [
    "# implementiere diese Funktion\n",
    "def get_canvas_config(canvas):\n",
    "    return {}"
   ]
  },
  {
   "cell_type": "code",
   "execution_count": 12,
   "id": "40ab3d17-1c84-4cc6-ac4a-e61837ccc23c",
   "metadata": {},
   "outputs": [],
   "source": [
    "# implementiere diese Funktion\n",
    "def config_canvas(canvas, **kwargs):\n",
    "    return {}"
   ]
  },
  {
   "cell_type": "code",
   "execution_count": 8,
   "id": "b7cb4599-fb70-4131-bda4-6075f50a11b4",
   "metadata": {},
   "outputs": [],
   "source": [
    "def draw_line(canvas, pts, lw=2, color ='black'):\n",
    "    kwargs = get_canvas_config(canvas)\n",
    "    \n",
    "    canvas.line_width = lw\n",
    "    canvas.stroke_style = color\n",
    "    canvas.stroke_lines(pts)\n",
    "    \n",
    "    config_canvas(canvas, **kwargs)\n",
    "    \n",
    "def draw_points(canvas, pts, r=2, color ='black'):\n",
    "    kwargs = get_canvas_config(canvas)\n",
    "    \n",
    "    canvas.fill_style = color\n",
    "    for x,y in pts:\n",
    "        canvas.fill_circle(x,y, r)\n",
    "        \n",
    "    config_canvas(canvas, **kwargs)   \n",
    "    \n",
    "def draw_border(canvas, lw=2, color ='blue'):\n",
    "    kwargs = get_canvas_config(canvas)\n",
    "    \n",
    "    canvas.line_width = lw\n",
    "    canvas.stroke_style = color\n",
    "    canvas.stroke_rect(0, 0, canvas.width, canvas.height)\n",
    "    \n",
    "    config_canvas(canvas, **kwargs)\n",
    "    \n",
    "def clear_canvas(canvas, border = True):\n",
    "    canvas.clear()\n",
    "    if border:\n",
    "        draw_border(canvas, lw=2, color ='black')\n",
    "    \n",
    "def draw_grid(canvas, n=10, lw=1, color ='black'):\n",
    "    kwargs = get_canvas_config(canvas)\n",
    "    \n",
    "    w, h = canvas.width, canvas.height\n",
    "    canvas.line_width = lw\n",
    "    canvas.stroke_style = color\n",
    "    \n",
    "    for i in range(n+1):\n",
    "        canvas.stroke_lines([(i*w/n, 0),(i*w/n, h)])\n",
    "        canvas.stroke_lines([(0, i*h/n),(w, i*h/n)])\n",
    "        \n",
    "    config_canvas(canvas, **kwargs)   "
   ]
  },
  {
   "cell_type": "code",
   "execution_count": 13,
   "id": "13faae04-f42e-41ae-b300-147c55f1c155",
   "metadata": {},
   "outputs": [
    {
     "data": {
      "application/vnd.jupyter.widget-view+json": {
       "model_id": "b9e221206bdc480eb6a474f01c1a9055",
       "version_major": 2,
       "version_minor": 0
      },
      "text/plain": [
       "Canvas(height=200, width=200)"
      ]
     },
     "metadata": {},
     "output_type": "display_data"
    }
   ],
   "source": [
    "canvas = Canvas(width=200, height=200)\n",
    "display(canvas)\n",
    "canvas.stroke_rect(0, 0, canvas.width, canvas.height)"
   ]
  },
  {
   "cell_type": "code",
   "execution_count": 14,
   "id": "6b4a32b7-91ad-4dc1-97a9-b696ee8e5af3",
   "metadata": {},
   "outputs": [],
   "source": [
    "draw_line(canvas,[(0,0),(100,100)],lw=5, color='red')"
   ]
  },
  {
   "cell_type": "code",
   "execution_count": 15,
   "id": "71fba1a4-8268-4e8b-98fa-bbd1f3ded323",
   "metadata": {},
   "outputs": [],
   "source": [
    "pts = [(x,x) for x in range(0,201,10)]\n",
    "draw_points(canvas, pts, r=5, color='pink')"
   ]
  },
  {
   "cell_type": "code",
   "execution_count": 16,
   "id": "6e297774-64be-4fb0-bed3-45d1c38cffb6",
   "metadata": {},
   "outputs": [],
   "source": [
    "clear_canvas(canvas)"
   ]
  },
  {
   "cell_type": "code",
   "execution_count": 17,
   "id": "99335b99-d287-4d1b-a257-44c26b7c430d",
   "metadata": {},
   "outputs": [],
   "source": [
    "draw_grid(canvas, 20, 1, 'gray')"
   ]
  },
  {
   "cell_type": "code",
   "execution_count": null,
   "id": "4eb7cb87-ab34-42db-854c-90dd1a3a8dbb",
   "metadata": {},
   "outputs": [],
   "source": []
  }
 ],
 "metadata": {
  "kernelspec": {
   "display_name": "Python 3 (ipykernel)",
   "language": "python",
   "name": "python3"
  },
  "language_info": {
   "codemirror_mode": {
    "name": "ipython",
    "version": 3
   },
   "file_extension": ".py",
   "mimetype": "text/x-python",
   "name": "python",
   "nbconvert_exporter": "python",
   "pygments_lexer": "ipython3",
   "version": "3.9.10"
  }
 },
 "nbformat": 4,
 "nbformat_minor": 5
}
