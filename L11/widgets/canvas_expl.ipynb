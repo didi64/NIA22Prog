{
 "cells": [
  {
   "cell_type": "markdown",
   "id": "1ca99722-2b1b-472f-ad46-90c34058a413",
   "metadata": {},
   "source": [
    "### [Canvas-Widget](https://ipycanvas.readthedocs.io/en/latest/drawing_images.html)"
   ]
  },
  {
   "cell_type": "code",
   "execution_count": null,
   "id": "3b7dbb21-c789-427f-ac1d-5630cd23f2e8",
   "metadata": {},
   "outputs": [],
   "source": [
    "from ipycanvas import Canvas\n",
    "import ipywidgets as widgets\n",
    "import canvas_helpers as canH"
   ]
  },
  {
   "cell_type": "code",
   "execution_count": null,
   "id": "f8bb2f52-4960-41c3-b5fd-64522e0fef0d",
   "metadata": {
    "jupyter": {
     "source_hidden": true
    },
    "tags": []
   },
   "outputs": [],
   "source": [
    "fill_style   = widgets.ColorPicker(value = 'blue')\n",
    "stroke_style = widgets.ColorPicker(value = 'black')\n",
    "\n",
    "line_width = widgets.IntSlider(\n",
    "    value=2, min=1, max=10,\n",
    "    description='Pointsize:',\n",
    "    continuous_update=False\n",
    ")\n",
    "\n",
    "point_size = widgets.IntSlider(\n",
    "    value=2,min=1,max=10,\n",
    "    description='Pointsize:',\n",
    "    continuous_update=False\n",
    ")\n",
    "\n",
    "tabnames = ['Fill Color', 'Stroke Color', 'Linewidth', 'Pointsize']\n",
    "tabs = widgets.Tab(children=[fill_style, stroke_style, line_width, point_size])\n",
    "for i,tn in enumerate(tabnames):\n",
    "    tabs.set_title(i, tn)\n",
    "\n",
    "settings = widgets.Accordion(children=[tabs])\n",
    "settings.set_title(0,'Settings')\n",
    "settings.selected_index = None\n",
    "\n",
    "# settings  "
   ]
  },
  {
   "cell_type": "code",
   "execution_count": null,
   "id": "212e25f5-7d64-4557-a441-52f3b64ce1c7",
   "metadata": {},
   "outputs": [],
   "source": [
    "canvas = Canvas(width=200, height=200)\n",
    "canvas.layout = {'width':  '{}px'.format(canvas.width),\n",
    "                 'height': '{}px'.format(canvas.height)}\n",
    "canH.draw_border(canvas)\n",
    "\n",
    "bt1 = widgets.Button(description = '⎚', layout = {'width': '40px'})\n",
    "bt2 = widgets.Button(icon = 'play', layout = {'width': '40px'})\n",
    "\n",
    "top = widgets.HBox(children = [settings, bt1, bt2])\n",
    "app = widgets.VBox(children=[top, canvas])\n",
    "app"
   ]
  },
  {
   "cell_type": "code",
   "execution_count": null,
   "id": "ebe835f7-88d0-47a2-9a55-d9697710c366",
   "metadata": {},
   "outputs": [],
   "source": [
    "stroke_style.value, fill_style.value, line_width.value"
   ]
  },
  {
   "cell_type": "code",
   "execution_count": null,
   "id": "036a9ab0-3f7e-4f2a-8d1c-f5f43278171c",
   "metadata": {},
   "outputs": [],
   "source": [
    "def clear_canvas(_):\n",
    "    canH.clear_canvas(canvas)\n",
    "    \n",
    "def update_settings(change):\n",
    "    canvas.fill_style   = fill_style.value\n",
    "    canvas.stroke_style = stroke_style.value\n",
    "    canvas.line_width   = line_width.value\n",
    "        \n",
    "def test_app(bt):\n",
    "    r = point_size.value\n",
    "    canvas.fill_rect(20, 20, 10, 30)\n",
    "    canvas.stroke_rect(50, 30, 10, 30)\n",
    "    canvas.fill_circle(100, 50, r)     "
   ]
  },
  {
   "cell_type": "code",
   "execution_count": null,
   "id": "548c90cb-ead7-490e-857c-9ef858697adb",
   "metadata": {},
   "outputs": [],
   "source": [
    "bt1.on_click(clear_canvas)\n",
    "bt2.on_click(test_app)\n",
    "settings.observe(update_settings, names = 'selected_index')\n",
    "\n",
    "app"
   ]
  },
  {
   "cell_type": "code",
   "execution_count": null,
   "id": "c54ee93b-0acb-4f91-83e6-3bb32f958f9e",
   "metadata": {},
   "outputs": [],
   "source": []
  },
  {
   "cell_type": "code",
   "execution_count": null,
   "id": "f9ce558a-abb3-4945-8ffa-98f72167d05b",
   "metadata": {},
   "outputs": [],
   "source": []
  }
 ],
 "metadata": {
  "kernelspec": {
   "display_name": "Python 3 (ipykernel)",
   "language": "python",
   "name": "python3"
  },
  "language_info": {
   "codemirror_mode": {
    "name": "ipython",
    "version": 3
   },
   "file_extension": ".py",
   "mimetype": "text/x-python",
   "name": "python",
   "nbconvert_exporter": "python",
   "pygments_lexer": "ipython3",
   "version": "3.9.10"
  }
 },
 "nbformat": 4,
 "nbformat_minor": 5
}
