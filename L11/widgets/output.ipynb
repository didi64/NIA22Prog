{
 "cells": [
  {
   "cell_type": "markdown",
   "id": "9b84a4f6-6578-4faf-9cf3-159d8b0dfd55",
   "metadata": {},
   "source": [
    "### Das Output-Widget\n",
    "[Weitere Beispiele aus der offiziellen Dokumentation](https://ipywidgets.readthedocs.io/en/latest/examples/Output%20Widget.html)  "
   ]
  },
  {
   "cell_type": "code",
   "execution_count": null,
   "id": "22a1201d-745f-463e-8a2a-410605c08f60",
   "metadata": {},
   "outputs": [],
   "source": [
    "import ipywidgets as widgets"
   ]
  },
  {
   "cell_type": "markdown",
   "id": "a9fbaa1d-b98d-42f6-8793-de102c5d4e36",
   "metadata": {},
   "source": [
    "***\n",
    "**Output-Widgets erzeugen**\n",
    "***\n"
   ]
  },
  {
   "cell_type": "code",
   "execution_count": 28,
   "id": "d68af0a2-e686-4587-be14-1db1bf57c79c",
   "metadata": {},
   "outputs": [
    {
     "data": {
      "application/vnd.jupyter.widget-view+json": {
       "model_id": "2332a9dd399d4437b7de9e08f2a0ebec",
       "version_major": 2,
       "version_minor": 0
      },
      "text/plain": [
       "Output(layout=Layout(border='2px solid black', height='100px', overflow='scroll', width='100%'))"
      ]
     },
     "metadata": {},
     "output_type": "display_data"
    }
   ],
   "source": [
    "out_layout = widgets.Layout(width  = '100%', \n",
    "                            height = '100px', \n",
    "                            border = '2px solid black',\n",
    "                            overflow = 'scroll',\n",
    "                           )\n",
    "out = widgets.Output(layout = out_layout)\n",
    "display(out)"
   ]
  },
  {
   "cell_type": "markdown",
   "id": "b705b931-cc98-4e95-b56f-bcaa87b318b1",
   "metadata": {},
   "source": [
    "***\n",
    "**Ausgaben in Output-Widgets umleiten**  \n",
    "Insbesondere k&ouml;nnen  Callbacks ihre Ausgabe in das Output-Widget umleiten.    \n",
    "Die Ausgabe erscheint im Output-Widget statt in der Log Console.\n",
    "***"
   ]
  },
  {
   "cell_type": "code",
   "execution_count": null,
   "id": "6c92abcf-524b-4905-a811-579781bbef65",
   "metadata": {},
   "outputs": [],
   "source": [
    "with out:\n",
    "    print('Hallo')    "
   ]
  },
  {
   "cell_type": "markdown",
   "id": "79304159-ba87-4f6f-986a-77f3dbc07267",
   "metadata": {},
   "source": [
    "***\n",
    "**Inhalt des Output-Widgets l&ouml;schen**\n",
    "***"
   ]
  },
  {
   "cell_type": "code",
   "execution_count": null,
   "id": "6b773f07-a6b2-4ab5-8dc5-84c4535f9a13",
   "metadata": {},
   "outputs": [],
   "source": [
    "out.clear_output()"
   ]
  },
  {
   "cell_type": "markdown",
   "id": "b11e7bd4-9b3d-49fb-ab8e-1d5b50976464",
   "metadata": {},
   "source": [
    "***\n",
    "**Callback schreibt in Output-Widget**\n",
    "***"
   ]
  },
  {
   "cell_type": "code",
   "execution_count": 36,
   "id": "f54bbd81-1b32-4c2a-a9c4-348410de2a65",
   "metadata": {},
   "outputs": [],
   "source": [
    "# callbacks fuer Text-Widget und Button-Widget\n",
    "def print_to_out(tb):\n",
    "    with out:\n",
    "        print(tb.value)\n",
    "    tb.value = ''\n",
    "    \n",
    "# Eventhandler fuer Buttonklick, \n",
    "# Inhalt von out loeschen\n",
    "def clear(bt):\n",
    "    out.clear_output()"
   ]
  },
  {
   "cell_type": "code",
   "execution_count": 37,
   "id": "849e16b8-b3e8-4c95-b6d1-bc09eedc10f1",
   "metadata": {},
   "outputs": [
    {
     "data": {
      "application/vnd.jupyter.widget-view+json": {
       "model_id": "f32f27d21fc24344b8e2010a2d963e14",
       "version_major": 2,
       "version_minor": 0
      },
      "text/plain": [
       "HBox(children=(Text(value=''), Button(description='Clear Output', style=ButtonStyle())))"
      ]
     },
     "metadata": {},
     "output_type": "display_data"
    },
    {
     "data": {
      "application/vnd.jupyter.widget-view+json": {
       "model_id": "2332a9dd399d4437b7de9e08f2a0ebec",
       "version_major": 2,
       "version_minor": 0
      },
      "text/plain": [
       "Output(layout=Layout(border='2px solid black', height='100px', overflow='scroll', width='100%'), outputs=({'na…"
      ]
     },
     "metadata": {},
     "output_type": "display_data"
    }
   ],
   "source": [
    "textbox = widgets.Text(value = '')\n",
    "textbox.on_submit(print_to_out)\n",
    "\n",
    "button = widgets.Button(description = 'Clear Output')\n",
    "button.on_click(clear)\n",
    "\n",
    "display(widgets.HBox(children=[textbox, button]))\n",
    "display(out)"
   ]
  }
 ],
 "metadata": {
  "kernelspec": {
   "display_name": "Python 3 (ipykernel)",
   "language": "python",
   "name": "python3"
  },
  "language_info": {
   "codemirror_mode": {
    "name": "ipython",
    "version": 3
   },
   "file_extension": ".py",
   "mimetype": "text/x-python",
   "name": "python",
   "nbconvert_exporter": "python",
   "pygments_lexer": "ipython3",
   "version": "3.9.10"
  }
 },
 "nbformat": 4,
 "nbformat_minor": 5
}
