{
 "cells": [
  {
   "cell_type": "markdown",
   "id": "f6108091-bd60-4d28-a84e-5a61022aabf4",
   "metadata": {},
   "source": [
    "### MultiCanvas  \n",
    "- Ein MultiCanvas Objekt besteht aus mehreren &uuml;bereinanderliegenden Canvas-Objekten.\n",
    "Z.B.  \n",
    "`mcanvas = MultiCanvas(3, width=200, height=200)` enth&auml;lt die 3 Canvas-Objekte\n",
    "`mcanvas[0]`, `mcanvas[1]` und `mcanvas[2]`.   \n",
    "\n",
    "- `mcanvas[0]` liegt zuunterst, `mcanvas[2]` zuoberst.  \n",
    "  Zeichnungen auf einer oberen Schicht &uuml;berdecken diejenigen auf tiefer liegenden Schichten. \n",
    "- Ist mcanvas ein Multicanvas-Objekt, so lassen sich genau wie f&uuml;r ein normals Canvas-Objekt Callbacks f&uuml;r Mouseevents registrieren.\n"
   ]
  },
  {
   "cell_type": "code",
   "execution_count": null,
   "id": "a31c7d2b-bfec-4c97-bc0a-f82fa485dc08",
   "metadata": {},
   "outputs": [],
   "source": [
    "import ipywidgets as widgets\n",
    "from ipycanvas import Canvas\n",
    "from ipycanvas import MultiCanvas\n",
    "import canvas_helpers as ch"
   ]
  },
  {
   "cell_type": "code",
   "execution_count": null,
   "id": "21528ef7-7c24-4e31-9fb0-0b89efc9887b",
   "metadata": {},
   "outputs": [],
   "source": [
    "width, height  = 200, 200\n",
    "mcanvas = MultiCanvas(3, width=width, height=height)\n",
    "\n",
    "background   = mcanvas[0]\n",
    "middleground = mcanvas[1]\n",
    "foreground   = mcanvas[2]\n",
    "\n",
    "display(mcanvas)\n",
    "ch.draw_border(background, lw=2, color ='blue')"
   ]
  },
  {
   "cell_type": "code",
   "execution_count": null,
   "id": "343c500c-2d25-481e-aaf4-9f291579237a",
   "metadata": {},
   "outputs": [],
   "source": [
    "foreground.fill_style = 'red'\n",
    "background.fill_style = 'blue'\n",
    "foreground.fill_rect(0,0,100,100)\n",
    "background.fill_rect(50,50,100,100)\n",
    "foreground.fill_rect(100,100,100,100)"
   ]
  },
  {
   "cell_type": "code",
   "execution_count": null,
   "id": "fee55a5c-a567-4dcf-b0d0-27f2b553223e",
   "metadata": {},
   "outputs": [],
   "source": [
    "ch.draw_grid(middleground, lw=2, color = 'yellow')"
   ]
  },
  {
   "cell_type": "code",
   "execution_count": null,
   "id": "a5d25379-b9ac-4dd7-8923-daf2b4b9d835",
   "metadata": {},
   "outputs": [],
   "source": [
    "foreground.clear()"
   ]
  },
  {
   "cell_type": "code",
   "execution_count": null,
   "id": "dfcaf713-ea8b-4837-bb24-df59315323d2",
   "metadata": {},
   "outputs": [],
   "source": [
    "middleground.clear()"
   ]
  },
  {
   "cell_type": "code",
   "execution_count": null,
   "id": "6af71614-ee06-49a3-b466-fbfbaa673201",
   "metadata": {},
   "outputs": [],
   "source": [
    "ch.clear_canvas(background)"
   ]
  },
  {
   "cell_type": "markdown",
   "id": "659ca11c-96c2-4a6b-b1ee-ea8fed0cd25f",
   "metadata": {},
   "source": [
    "***\n",
    "**Callbacks f&uuml;r Mouse-Events**  \n",
    "***"
   ]
  },
  {
   "cell_type": "code",
   "execution_count": null,
   "id": "17b7bb0e-b140-4688-8cd1-4d86ebbc3d96",
   "metadata": {},
   "outputs": [],
   "source": [
    "def start_drawing(x,y):\n",
    "    foreground.draw = True\n",
    "def end_drawing(x,y):\n",
    "    foreground.draw = False\n",
    "def draw(x,y):\n",
    "    if foreground.draw:\n",
    "        foreground.fill_circle(x,y,3)"
   ]
  },
  {
   "cell_type": "code",
   "execution_count": null,
   "id": "1b9ce6ea-839b-4fd5-9dd3-596901ddac29",
   "metadata": {},
   "outputs": [],
   "source": [
    "# callbacks registrieren\n",
    "mcanvas.on_mouse_down(start_drawing)\n",
    "mcanvas.on_mouse_up(end_drawing)\n",
    "mcanvas.on_mouse_move(draw)"
   ]
  },
  {
   "cell_type": "code",
   "execution_count": null,
   "id": "73831879-6f22-4797-89b3-49c2321075ed",
   "metadata": {},
   "outputs": [],
   "source": [
    "# add foreground to background\n",
    "background.draw_image(foreground)"
   ]
  },
  {
   "cell_type": "code",
   "execution_count": null,
   "id": "908ef571-0d80-487f-a8f5-7f9d681aeda1",
   "metadata": {},
   "outputs": [],
   "source": []
  }
 ],
 "metadata": {
  "kernelspec": {
   "display_name": "Python 3 (ipykernel)",
   "language": "python",
   "name": "python3"
  },
  "language_info": {
   "codemirror_mode": {
    "name": "ipython",
    "version": 3
   },
   "file_extension": ".py",
   "mimetype": "text/x-python",
   "name": "python",
   "nbconvert_exporter": "python",
   "pygments_lexer": "ipython3",
   "version": "3.9.10"
  }
 },
 "nbformat": 4,
 "nbformat_minor": 5
}
