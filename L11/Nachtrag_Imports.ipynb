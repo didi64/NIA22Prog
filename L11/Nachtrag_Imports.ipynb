{
 "cells": [
  {
   "cell_type": "markdown",
   "id": "ac4f6495-f5b6-4850-9718-377ec1c79b1a",
   "metadata": {},
   "source": [
    "### Festlegen, in welchen Verzeichnissen nach Modulen gesucht werden soll\n",
    "- Die Variable `path` im Modul `sys` enth&auml;lt eine Liste von Verzeichnissen, in denen nach dem zu importierende Modul gesucht wird.  \n",
    "- Wird ein Notebook ge&ouml;ffnet, wird automatisch das Verzeichnis in welchem sich diese Notebook befindet zur Liste \n",
    "`sys.path` hinzugef&uuml;gt.  \n",
    "- Zuerst wird nach Python-Modulen gesucht, hier in  \n",
    "```\n",
    "'/opt/conda/lib/python39.zip', \n",
    "'/opt/conda/lib/python3.9',\n",
    "'/opt/conda/lib/python3.9/lib-dynload',\n",
    "'/opt/conda/lib/python3.9/site-packages',  \n",
    "```\n",
    "dann in den anderen Verzeichnissen in der angegebenen Reihenfolge.\n"
   ]
  },
  {
   "cell_type": "markdown",
   "id": "5e64f8ee-94d2-44a6-ae6e-8643879cc509",
   "metadata": {},
   "source": [
    "***\n",
    "`sys.path` anzeigen\n",
    "***"
   ]
  },
  {
   "cell_type": "code",
   "execution_count": null,
   "id": "80a72778-dce6-477e-86dc-bb0ef367d282",
   "metadata": {},
   "outputs": [],
   "source": [
    "import sys\n",
    "sys.path"
   ]
  },
  {
   "cell_type": "markdown",
   "id": "1354af2a-ff8f-4b87-b948-8460f8515e6e",
   "metadata": {},
   "source": [
    "***\n",
    "Wir sehen, dass auch im Ordner `/home/jovyan/work/modules` nach Modulen gesucht wird.  \n",
    "Erstelle diesen Ordner, und darin ein File \n",
    "`testmodule.py` mit folgendem Inhalt:\n",
    "\n",
    "```python\n",
    "print('Testmodul aus Ordner modules')\n",
    "```\n",
    "***"
   ]
  },
  {
   "cell_type": "code",
   "execution_count": null,
   "id": "23af9cba-7b42-4c73-8850-d244b2940df4",
   "metadata": {},
   "outputs": [],
   "source": [
    "import testmodule"
   ]
  },
  {
   "cell_type": "code",
   "execution_count": null,
   "id": "b7703851-5008-4184-96d7-c72fb4f064a5",
   "metadata": {},
   "outputs": [],
   "source": [
    "# importiert das Modul my_test aus dem Ordner \n",
    "# dieses Notebooks,\n",
    "# /home/jovyan/work/notebooks\n",
    "import my_test"
   ]
  },
  {
   "cell_type": "markdown",
   "id": "5272be52-20e4-4d5b-a377-6bcc1e310085",
   "metadata": {},
   "source": [
    "***\n",
    "Erstellen nun einen Ordner `/home/jovyan/work/my_modules`, und erstelle dort ebenfalls ein\n",
    "File `my_test.py` mit folgendem Inhalt:\n",
    "\n",
    "```python\n",
    "print('Modul aus Ordner my_modules')\n",
    "```\n",
    "\n",
    "**Starte den Kernel neu**, damit nachstehend das Modul \n",
    "`my_test` erneut importiert wird.  \n",
    "Nach Hinzuf&uuml;gen des Verzeichnisses `/home/jovyan/work/my_modules` wird dann\n",
    "das Modul `my_test` aus diesem Ordner importiert.\n",
    "***"
   ]
  },
  {
   "cell_type": "markdown",
   "id": "634bad57-3839-4b60-9c0c-91e6817aa496",
   "metadata": {},
   "source": [
    "***\n",
    "Neues Verzeichnis an 1. Stelle zu `sys.path` hinzuf&uuml;gen\n",
    "***"
   ]
  },
  {
   "cell_type": "code",
   "execution_count": null,
   "id": "6a7f86bf-caed-412c-97eb-286520854a07",
   "metadata": {},
   "outputs": [],
   "source": [
    "import sys\n",
    "my_modules = '/home/jovyan/work/my_modules'\n",
    "if my_modules not in sys.path:\n",
    "    sys.path.insert(0, my_modules)\n",
    "sys.path    "
   ]
  },
  {
   "cell_type": "code",
   "execution_count": null,
   "id": "02f6ccc9-a791-4ba4-b997-a30430507ce1",
   "metadata": {},
   "outputs": [],
   "source": [
    "import my_test"
   ]
  },
  {
   "cell_type": "code",
   "execution_count": null,
   "id": "01dafcbb-6691-47e8-bc69-0d9896755fbb",
   "metadata": {},
   "outputs": [],
   "source": []
  }
 ],
 "metadata": {
  "kernelspec": {
   "display_name": "Python 3 (ipykernel)",
   "language": "python",
   "name": "python3"
  },
  "language_info": {
   "codemirror_mode": {
    "name": "ipython",
    "version": 3
   },
   "file_extension": ".py",
   "mimetype": "text/x-python",
   "name": "python",
   "nbconvert_exporter": "python",
   "pygments_lexer": "ipython3",
   "version": "3.9.10"
  }
 },
 "nbformat": 4,
 "nbformat_minor": 5
}
