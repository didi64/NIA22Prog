{
 "cells": [
  {
   "cell_type": "markdown",
   "id": "b94e6163-9b2d-4470-a8f2-03bd930db813",
   "metadata": {},
   "source": [
    "### Online Tutorials und &Uuml;bungen zu Python\n",
    "- [w3schools](https://www.w3schools.com/python/default.asp)\n",
    " - [programiz.com](https://www.programiz.com/python-programming)\n",
    " - [Offizielles Tutorial](https://docs.python.org/3/tutorial)\n",
    " - [Offizielle Dokumentation](https://docs.python.org/3/) \n",
    " \n",
    "Google das Problem.  \n",
    "Bevorzuge Anworten auf [stackoverflow.com](https://stackoverflow.com) und [stackexchange.com](https://stackexchange.com)\n",
    "\n",
    "Python-Tutorial mit vielen **&Uuml;bungen mit L&ouml;sungen**:  \n",
    "- [pynative.com](https://pynative.com/python-exercises-with-solutions/)    \n",
    "  Beachte auch die **Exercises for Intermediate developers**  \n",
    "  weiter unten auf der Seite (sind einfach).  \n",
    "  **Learn Python**  f&uuml;hrt zu Tutorials, die **Quizzes** sind ebenfalls zu empfehlen."
   ]
  },
  {
   "cell_type": "code",
   "execution_count": null,
   "id": "0c073506-a155-4fa9-9fcd-8f95681bafb1",
   "metadata": {},
   "outputs": [],
   "source": []
  },
  {
   "cell_type": "code",
   "execution_count": null,
   "id": "dfe8cd78-e2bf-4ce6-a606-93227ac461ce",
   "metadata": {},
   "outputs": [],
   "source": []
  }
 ],
 "metadata": {
  "kernelspec": {
   "display_name": "Python 3 (ipykernel)",
   "language": "python",
   "name": "python3"
  },
  "language_info": {
   "codemirror_mode": {
    "name": "ipython",
    "version": 3
   },
   "file_extension": ".py",
   "mimetype": "text/x-python",
   "name": "python",
   "nbconvert_exporter": "python",
   "pygments_lexer": "ipython3",
   "version": "3.9.10"
  }
 },
 "nbformat": 4,
 "nbformat_minor": 5
}
