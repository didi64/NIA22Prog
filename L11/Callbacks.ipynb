{
 "cells": [
  {
   "cell_type": "markdown",
   "id": "24346f47-b586-4875-8677-f774db2402f3",
   "metadata": {},
   "source": [
    "### Callbacks / Event-Handlers\n",
    " \n",
    "- In Python sind Funktionen wie man sagt **first class citizens**. Funktionen sind Objekte wie alle anderen und k&ouml;nnen u.a. Variabeln zugewiesen werden oder (anderen) Funktionen als Argumente &uuml;bergeben werden.  \n",
    "\n",
    "- Eine Funktion, welche einer anderen Funktion als Argument &uuml;bergeben wird, wird **Callback** genannt.\n",
    "Oft wird diese Funktion beim Eintreffen eines sog. **Events** \n",
    "(Tastendruck, Mausklick, Mausklick auf Button, Ausw&auml;hlen einer Option in einem Menu,...) aufgerufen und dann auch **Event-Handler** genannt.  \n",
    "\n",
    "- Das Sicherstellen, dass der Callback \n",
    "zu einem sp&auml;teren Zeitpunkt z.B. von einem Button-Objekt aufgerufen wird, nennt sich auch **Registrierung des Callbacks**."
   ]
  },
  {
   "cell_type": "markdown",
   "id": "75e3f98c-b7c2-49c7-984a-c5cab340742c",
   "metadata": {},
   "source": [
    "***\n",
    "**Ein erstes Beispiel**\n",
    "***"
   ]
  },
  {
   "cell_type": "code",
   "execution_count": null,
   "id": "4bd718d1-5869-4e77-815d-abe986787de0",
   "metadata": {},
   "outputs": [],
   "source": [
    "# wird spaeter als Callback verwendet\n",
    "def square(x):\n",
    "    return int(x)**2"
   ]
  },
  {
   "cell_type": "code",
   "execution_count": null,
   "id": "0b73879f-0c90-4ead-97bf-aa6a561a287c",
   "metadata": {},
   "outputs": [],
   "source": [
    "f = square\n",
    "f.__name__"
   ]
  },
  {
   "cell_type": "code",
   "execution_count": null,
   "id": "92b377df-e4c3-445a-aaec-c560c1ba6f96",
   "metadata": {},
   "outputs": [],
   "source": [
    "# Funktionsnamen und Typnamen ausgeben\n",
    "# f.__name__ ist der Name der Funktion\n",
    "\n",
    "f = square\n",
    "print(f,  int)\n",
    "print(f.__name__, int.__name__)"
   ]
  },
  {
   "cell_type": "code",
   "execution_count": null,
   "id": "554a18ac-762d-4edc-af9b-9848cbfa4c58",
   "metadata": {},
   "outputs": [],
   "source": [
    "def str2list(s, f):\n",
    "    '''trenne den String s beim ',' -> Liste\n",
    "       wende f auf Listenelemente an\n",
    "    '''   \n",
    "    lst = s.split(',')\n",
    "    return [f(x) for x in lst]"
   ]
  },
  {
   "cell_type": "code",
   "execution_count": null,
   "id": "dc1882f6-4e90-4b8d-b933-95078814e203",
   "metadata": {},
   "outputs": [],
   "source": [
    "# int('1') verhaelt sich wie eine Funktion, \n",
    "# gibt einen Integer zurueck und kann als \n",
    "# Callback verwendet werden\n",
    "\n",
    "str2list('1,2,3,4,5', int)"
   ]
  },
  {
   "cell_type": "code",
   "execution_count": null,
   "id": "7f4d2a1d-4496-4a92-9b19-6105d9e9c100",
   "metadata": {},
   "outputs": [],
   "source": [
    "# Funktion square als Callbacks verwenden\n",
    "str2list('1,2,3,4,5', square)"
   ]
  },
  {
   "cell_type": "markdown",
   "id": "f9acacab-8381-4d82-8a74-7f4be59c9fcd",
   "metadata": {},
   "source": [
    "### Managen von Callbacks\n",
    "Wir wollen Elemente einer Liste bearbeiten.\n",
    "Je nach Typ des Listenelements soll etwas mit dem Element gemacht werden.  \n",
    "\n",
    "Wir benutzen einen Dictionary `callbacks`. \n",
    "F&uuml;r einen Typ (z.b. `int`) kann \n",
    "`callbacks[int]` dann eine **Liste** von Funktionen enthalten, welche\n",
    "der Reihe nach zum Modifizieren der Listenelemente dieses Typs verwendet werden, z.B.\n",
    "\n",
    "\n",
    "```python\n",
    "callbacks[int] = [int, double]\n",
    "```\n",
    "\n",
    "Die Funktion   \n",
    "`register_callback(typename, fun, remove = False)`  \n",
    "erlaubt das Hinzuf&uuml;gen und Entfernen von Callbacks.   \n",
    "\n",
    "**Die Registrierung von Callbacks bei Widgets in Jupyterlab folgt im Wesentlichen diesem Muster.**"
   ]
  },
  {
   "cell_type": "code",
   "execution_count": null,
   "id": "9dba865e-542e-477a-a698-3fd7a27ec3ed",
   "metadata": {},
   "outputs": [],
   "source": [
    "# Dictionary zum Speichern der Callbacks\n",
    "callbacks = {}\n",
    "\n",
    "# Funktion zum Verwalten der Callbacks\n",
    "def register_callback(typename, fun, remove = False):\n",
    "    '''registriere fun als Callback fuer den Typ typename\n",
    "       \n",
    "       Ist remove = True, wird der Callback entfernt \n",
    "    '''\n",
    "    if remove:\n",
    "        if fun in callbacks[typename]:\n",
    "            callbacks[typename].remove(fun)\n",
    "            print('unregistered callback {} for type {}'\\\n",
    "                  .format(fun.__name__, typename.__name__)\n",
    "                 )\n",
    "        \n",
    "    elif fun in callbacks.get(typename, []):\n",
    "        print('Callback {} already registered for type {}'\\\n",
    "              .format(fun.__name__, typename.__name__)\n",
    "             )\n",
    "        \n",
    "    else:\n",
    "        callbacks.setdefault(typename,[]).append(fun)\n",
    "        print('Callback {} registered for type {}'\\\n",
    "              .format(fun.__name__,typename.__name__))"
   ]
  },
  {
   "cell_type": "code",
   "execution_count": null,
   "id": "a5e2e298-52db-4ad7-b77f-3eaa2e4e4221",
   "metadata": {},
   "outputs": [],
   "source": [
    "# Funktion zum Modifizieren von Listenelementen mittels \n",
    "#  Callbacks aus dem Dictionary callbacks\n",
    "\n",
    "def format_data(data):\n",
    "    res = []\n",
    "    for x in data:\n",
    "        fun_list = callbacks.get(type(x), [])\n",
    "        for f in fun_list:\n",
    "            x = f(x)\n",
    "        res.append(x)\n",
    "    return res"
   ]
  },
  {
   "cell_type": "code",
   "execution_count": null,
   "id": "8b26920f-a7bd-4a17-8c32-d31281060e48",
   "metadata": {},
   "outputs": [],
   "source": [
    "data = [1, 2.298, 'foo']"
   ]
  },
  {
   "cell_type": "code",
   "execution_count": null,
   "id": "7c9a130a-4c63-4c62-acb6-9ce1bbecc67b",
   "metadata": {},
   "outputs": [],
   "source": [
    "# noch sind keine Callbacks registriert\n",
    "# die Liste kommt unveraendert zurueck\n",
    "\n",
    "format_data([1, 2.23, 'foo'])"
   ]
  },
  {
   "cell_type": "markdown",
   "id": "f2ce4ae8-b7fd-4368-9189-073e2b89afe2",
   "metadata": {},
   "source": [
    "***\n",
    "**Beachte:**  \n",
    "Wird nachfolgende Zelle ein zweites Mal ausgef&uuml;hrt, so\n",
    "werden neue Funktionen `double` und `simplify` erzeugt.  \n",
    "In der n&auml;chsten Zelle werden dann diese Funktionen\n",
    "als Callbacks registriert, ohne die alten Funktionen zu &uuml;berschreiben.  \n",
    "\n",
    "Auf die alten Funktionen kann nun nicht mehr via die Variabelnamen \n",
    "double und simplify zugegriffen werden.\n",
    "Das **verunm&ouml;glicht das Entfernen** der alten Funktionen als Callbacks mit unserer Funktion `register_callback`.\n",
    "***"
   ]
  },
  {
   "cell_type": "code",
   "execution_count": null,
   "id": "6a30af35-c9ce-48dd-ba57-50fd517a2954",
   "metadata": {},
   "outputs": [],
   "source": [
    "# callbacks\n",
    "def double(x):\n",
    "    return 2*x\n",
    "def simplify(x):\n",
    "    return round(x, 1)"
   ]
  },
  {
   "cell_type": "code",
   "execution_count": null,
   "id": "518b33d9-7898-4252-a28a-b582bf20653a",
   "metadata": {},
   "outputs": [],
   "source": [
    "# callbacks registrieren\n",
    "# Integer verdoppeln und dann in String umwandeln\n",
    "# floats auf eine Kommastelle runden\n",
    "# Bei Strings Methode capitalize anwenden \n",
    "# (ersten Buchstaben gross machen, Rest klein)\n",
    "\n",
    "register_callback(int, double)\n",
    "register_callback(int, str)\n",
    "register_callback(float, simplify)\n",
    "register_callback(str, str.capitalize)"
   ]
  },
  {
   "cell_type": "code",
   "execution_count": null,
   "id": "c4422870-41b4-4d73-b826-1c7fd85730d3",
   "metadata": {},
   "outputs": [],
   "source": [
    "# Funktionsnamen im Dictionary callbacks anzeigen\n",
    "{k:[f.__name__ for f in v] for k,v in callbacks.items()}"
   ]
  },
  {
   "cell_type": "code",
   "execution_count": null,
   "id": "78cc7ab3-ef6a-4d0c-8ada-4a3751032e00",
   "metadata": {},
   "outputs": [],
   "source": [
    "# Listenelemente modifizieren\n",
    "\n",
    "format_data([1, 2.23, 'foo'])"
   ]
  },
  {
   "cell_type": "code",
   "execution_count": null,
   "id": "70e12c51-9551-4201-a9c1-a0f1a7beaf36",
   "metadata": {},
   "outputs": [],
   "source": []
  }
 ],
 "metadata": {
  "kernelspec": {
   "display_name": "Python 3 (ipykernel)",
   "language": "python",
   "name": "python3"
  },
  "language_info": {
   "codemirror_mode": {
    "name": "ipython",
    "version": 3
   },
   "file_extension": ".py",
   "mimetype": "text/x-python",
   "name": "python",
   "nbconvert_exporter": "python",
   "pygments_lexer": "ipython3",
   "version": "3.9.10"
  }
 },
 "nbformat": 4,
 "nbformat_minor": 5
}
