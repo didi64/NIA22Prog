{
 "cells": [
  {
   "cell_type": "markdown",
   "id": "6f4ccffe-3fb9-49ff-ac25-47cb3f49a532",
   "metadata": {},
   "source": [
    "### Die 148 grössten Städte der Schweiz"
   ]
  },
  {
   "cell_type": "markdown",
   "id": "64b6d0ad-8022-4c10-8771-795b8e41b597",
   "metadata": {},
   "source": [
    "***\n",
    "&Ouml;ffne cities.txt, lies alle Zeilen ein und entferne white-space von rechts\n",
    "***"
   ]
  },
  {
   "cell_type": "code",
   "execution_count": 1,
   "id": "8fb1a29c-ac42-4352-b3f4-d98054adf9a4",
   "metadata": {},
   "outputs": [
    {
     "data": {
      "text/plain": [
       "[' \\tSTADT \\tKANTON \\tEINWOHNER',\n",
       " \"1. \\tZürich \\tZH \\t396'027\",\n",
       " \"2. \\tGenf \\tGE \\t194'565\",\n",
       " \"3. \\tBasel \\tBS \\t168'620\"]"
      ]
     },
     "execution_count": 1,
     "metadata": {},
     "output_type": "execute_result"
    }
   ],
   "source": [
    "lines = []\n",
    "# Filename anpassen, so dass dein File geoeffnet wird\n",
    "with open('cities_.txt', mode = 'r') as f:\n",
    "    for line in f:\n",
    "        lines.append(line.rstrip())\n",
    "        \n",
    "lines[:4]        "
   ]
  },
  {
   "cell_type": "code",
   "execution_count": 13,
   "id": "56083f07-3a24-4b36-bf89-c59dfb9080ff",
   "metadata": {},
   "outputs": [
    {
     "data": {
      "text/plain": [
       "[\"147. \\tZollikofen \\tBE \\t10'097\", \"148. \\tRisch \\tZG \\t10'036\"]"
      ]
     },
     "execution_count": 13,
     "metadata": {},
     "output_type": "execute_result"
    }
   ],
   "source": [
    "lines[-2:] "
   ]
  },
  {
   "cell_type": "markdown",
   "id": "4b4535ab-ca2c-451f-8478-d1f23841d254",
   "metadata": {},
   "source": [
    "***\n",
    "Trenne Zeilen beim Tabulator '\\t', entferne Spaces von rechts,\n",
    "verwandle rechte Spalte in Integers. Ersetzte vorg&auml;ngig\n",
    "`\"'\"` duch `''` mit `str.replace(\"'\",'')`.\n",
    "***"
   ]
  },
  {
   "cell_type": "code",
   "execution_count": 2,
   "id": "55fc40b5-ccd6-4ca7-9b42-e0a93b447ae1",
   "metadata": {},
   "outputs": [],
   "source": [
    "table = []\n",
    "for row in lines:\n",
    "    cols = row.split('\\t')\n",
    "    cols = [c.rstrip() for c in cols]\n",
    "    cols[-1] = cols[-1].replace(\"'\",'')\n",
    "    if cols[-1].isnumeric():\n",
    "        cols[-1] = int(cols[-1])\n",
    "    table.append(cols[1:])"
   ]
  },
  {
   "cell_type": "code",
   "execution_count": 3,
   "id": "6b3c0a24-204b-4385-8c3e-85f20244d031",
   "metadata": {},
   "outputs": [
    {
     "data": {
      "text/plain": [
       "[['STADT', 'KANTON', 'EINWOHNER'],\n",
       " ['Zürich', 'ZH', 396027],\n",
       " ['Genf', 'GE', 194565]]"
      ]
     },
     "execution_count": 3,
     "metadata": {},
     "output_type": "execute_result"
    }
   ],
   "source": [
    "table[:3]"
   ]
  },
  {
   "cell_type": "markdown",
   "id": "49af09ea-5b72-4e02-9558-a741bf322a59",
   "metadata": {},
   "source": [
    "***\n",
    "Als Tabelle mit `table2str`\n",
    "***"
   ]
  },
  {
   "cell_type": "code",
   "execution_count": 5,
   "id": "8884429a-481d-49c0-8eef-ce6fdbdcfc8c",
   "metadata": {
    "collapsed": true,
    "jupyter": {
     "outputs_hidden": true
    },
    "tags": []
   },
   "outputs": [
    {
     "name": "stdout",
     "output_type": "stream",
     "text": [
      " │ STADT                  │ KANTON │ EINWOHNER │ \n",
      " │ ━━━━━━━━━━━━━━━━━━━━━━ │ ━━━━━━ │ ━━━━━━━━━ │ \n",
      " │ Zürich                 │ ZH     │    396027 │ \n",
      " │ Genf                   │ GE     │    194565 │ \n",
      " │ Basel                  │ BS     │    168620 │ \n",
      " │ Bern                   │ BE     │    140634 │ \n",
      " │ Lausanne               │ VD     │    135629 │ \n",
      " │ Winterthur             │ ZH     │    106778 │ \n",
      " │ Luzern                 │ LU     │     81284 │ \n",
      " │ St. Gallen             │ SG     │     75310 │ \n",
      " │ Lugano                 │ TI     │     63668 │ \n",
      " │ Biel/Bienne            │ BE     │     53667 │ \n",
      " │ Thun                   │ BE     │     43303 │ \n",
      " │ Köniz                  │ BE     │     39998 │ \n",
      " │ La Chaux-de-Fonds      │ NE     │     39027 │ \n",
      " │ Freiburg               │ FR     │     38288 │ \n",
      " │ Schaffhausen           │ SH     │     35927 │ \n",
      " │ Chur                   │ GR     │     34547 │ \n",
      " │ Vernier                │ GE     │     34477 │ \n",
      " │ Neuenburg              │ NE     │     33641 │ \n",
      " │ Uster                  │ ZH     │     33412 │ \n",
      " │ Sitten                 │ VS     │     33296 │ \n",
      " │ Lancy                  │ GE     │     30919 │ \n",
      " │ Yverdon-les-Bains      │ VD     │     29406 │ \n",
      " │ Emmen                  │ LU     │     29292 │ \n",
      " │ Zug                    │ ZG     │     28603 │ \n",
      " │ Kriens                 │ LU     │     27229 │ \n",
      " │ Rapperswil-Jona        │ SG     │     26875 │ \n",
      " │ Dübendorf              │ ZH     │     26759 │ \n",
      " │ Dietikon               │ ZH     │     26277 │ \n",
      " │ Montreux               │ VD     │     26208 │ \n",
      " │ Frauenfeld             │ TG     │     24578 │ \n",
      " │ Wetzikon               │ ZH     │     23938 │ \n",
      " │ Wil                    │ SG     │     23715 │ \n",
      " │ Baar                   │ ZG     │     23228 │ \n",
      " │ Meyrin                 │ GE     │     21993 │ \n",
      " │ Bulle                  │ FR     │     21464 │ \n",
      " │ Kreuzlingen            │ TG     │     21290 │ \n",
      " │ Wädenswil              │ ZH     │     21245 │ \n",
      " │ Carouge                │ GE     │     20910 │ \n",
      " │ Riehen                 │ BS     │     20774 │ \n",
      " │ Renens                 │ VD     │     20446 │ \n",
      " │ Aarau                  │ AG     │     20445 │ \n",
      " │ Allschwil              │ BL     │     20411 │ \n",
      " │ Wettingen              │ AG     │     20221 │ \n",
      " │ Horgen                 │ ZH     │     20033 │ \n",
      " │ Nyon                   │ VD     │     19738 │ \n",
      " │ Vevey                  │ VD     │     19220 │ \n",
      " │ Bülach                 │ ZH     │     18895 │ \n",
      " │ Reinach                │ BL     │     18810 │ \n",
      " │ Baden                  │ AG     │     18670 │ \n",
      " │ Adliswil               │ ZH     │     18448 │ \n",
      " │ Volketswil             │ ZH     │     18437 │ \n",
      " │ Kloten                 │ ZH     │     18373 │ \n",
      " │ Onex                   │ GE     │     18305 │ \n",
      " │ Bellinzona             │ TI     │     18131 │ \n",
      " │ Gossau                 │ SG     │     18053 │ \n",
      " │ Schlieren              │ ZH     │     17905 │ \n",
      " │ Thalwil                │ ZH     │     17631 │ \n",
      " │ Pully                  │ VD     │     17624 │ \n",
      " │ Glarus Nord            │ GL     │     17587 │ \n",
      " │ Muttenz                │ BL     │     17538 │ \n",
      " │ Regensdorf             │ ZH     │     17478 │ \n",
      " │ Monthey                │ VS     │     17409 │ \n",
      " │ Olten                  │ SO     │     17350 │ \n",
      " │ Martigny               │ VS     │     17342 │ \n",
      " │ Opfikon                │ ZH     │     17173 │ \n",
      " │ Ostermundigen          │ BE     │     16694 │ \n",
      " │ Siders                 │ VS     │     16547 │ \n",
      " │ Solothurn              │ SO     │     16545 │ \n",
      " │ Grenchen               │ SO     │     16480 │ \n",
      " │ Val-de-Ruz             │ NE     │     16399 │ \n",
      " │ Illnau-Effretikon      │ ZH     │     16288 │ \n",
      " │ Burgdorf               │ BE     │     15998 │ \n",
      " │ Freienbach             │ SZ     │     15981 │ \n",
      " │ Locarno                │ TI     │     15803 │ \n",
      " │ Steffisburg            │ BE     │     15703 │ \n",
      " │ Pratteln               │ BL     │     15601 │ \n",
      " │ Cham                   │ ZG     │     15523 │ \n",
      " │ Herisau                │ AR     │     15512 │ \n",
      " │ Morges                 │ VD     │     15465 │ \n",
      " │ Wohlen                 │ AG     │     15446 │ \n",
      " │ Wallisellen            │ ZH     │     15373 │ \n",
      " │ Langenthal             │ BE     │     15373 │ \n",
      " │ Binningen              │ BL     │     15316 │ \n",
      " │ Einsiedeln             │ SZ     │     15092 │ \n",
      " │ Mendrisio              │ TI     │     14949 │ \n",
      " │ Schwyz                 │ SZ     │     14785 │ \n",
      " │ Lyss                   │ BE     │     14183 │ \n",
      " │ Arbon                  │ TG     │     14128 │ \n",
      " │ Thônex                 │ GE     │     13971 │ \n",
      " │ Liestal                │ BL     │     13956 │ \n",
      " │ Stäfa                  │ ZH     │     13955 │ \n",
      " │ Küsnacht               │ ZH     │     13849 │ \n",
      " │ Horw                   │ LU     │     13813 │ \n",
      " │ Meilen                 │ ZH     │     13329 │ \n",
      " │ Oftringen              │ AG     │     13210 │ \n",
      " │ Versoix                │ GE     │     13057 │ \n",
      " │ Richterswil            │ ZH     │     13035 │ \n",
      " │ Muri bei Bern          │ BE     │     12967 │ \n",
      " │ Brig-Glis              │ VS     │     12935 │ \n",
      " │ Rheinfelden            │ AG     │     12897 │ \n",
      " │ Amriswil               │ TG     │     12814 │ \n",
      " │ Ebikon                 │ LU     │     12781 │ \n",
      " │ Uzwil                  │ SG     │     12695 │ \n",
      " │ Gland                  │ VD     │     12597 │ \n",
      " │ Spiez                  │ BE     │     12555 │ \n",
      " │ Zollikon               │ ZH     │     12533 │ \n",
      " │ Delsberg               │ JU     │     12485 │ \n",
      " │ Glarus                 │ GL     │     12445 │ \n",
      " │ Küssnacht              │ SZ     │     12395 │ \n",
      " │ Buchs                  │ SG     │     12187 │ \n",
      " │ Ecublens               │ VD     │     12164 │ \n",
      " │ Villars-sur-Glâne      │ FR     │     12137 │ \n",
      " │ Prilly                 │ VD     │     12058 │ \n",
      " │ Le Grand-Saconnex      │ GE     │     12033 │ \n",
      " │ Rüti                   │ ZH     │     12010 │ \n",
      " │ Münchenstein           │ BL     │     11882 │ \n",
      " │ Münsingen              │ BE     │     11646 │ \n",
      " │ Affoltern am Albis     │ ZH     │     11552 │ \n",
      " │ Belp                   │ BE     │     11466 │ \n",
      " │ Worb                   │ BE     │     11423 │ \n",
      " │ Bassersdorf            │ ZH     │     11404 │ \n",
      " │ Arth                   │ SZ     │     11301 │ \n",
      " │ Pfäffikon              │ ZH     │     11275 │ \n",
      " │ Altstätten             │ SG     │     11273 │ \n",
      " │ Ittigen                │ BE     │     11250 │ \n",
      " │ Zofingen               │ AG     │     11210 │ \n",
      " │ La Tour-de-Peilz       │ VD     │     11197 │ \n",
      " │ Davos                  │ GR     │     11136 │ \n",
      " │ Chêne-Bougeries        │ GE     │     11105 │ \n",
      " │ Brugg                  │ AG     │     11104 │ \n",
      " │ Spreitenbach           │ AG     │     11040 │ \n",
      " │ Weinfelden             │ TG     │     11039 │ \n",
      " │ Veyrier                │ GE     │     10999 │ \n",
      " │ Oberwil                │ BL     │     10917 │ \n",
      " │ Val-de-Travers         │ NE     │     10854 │ \n",
      " │ Hinwil                 │ ZH     │     10799 │ \n",
      " │ Möhlin                 │ AG     │     10746 │ \n",
      " │ Romanshorn             │ TG     │     10659 │ \n",
      " │ Männedorf              │ ZH     │     10537 │ \n",
      " │ Le Locle               │ NE     │     10433 │ \n",
      " │ Neuhausen am Rheinfall │ SH     │     10331 │ \n",
      " │ Flawil                 │ SG     │     10323 │ \n",
      " │ Birsfelden             │ BL     │     10313 │ \n",
      " │ Plan-les-Ouates        │ GE     │     10281 │ \n",
      " │ Sarnen                 │ OW     │     10232 │ \n",
      " │ Aesch                  │ BL     │     10155 │ \n",
      " │ Zollikofen             │ BE     │     10097 │ \n",
      " │ Risch                  │ ZG     │     10036 │ \n"
     ]
    }
   ],
   "source": [
    "from toolbox import table2str\n",
    "s= table2str(table[0], table[1:])\n",
    "print(s)"
   ]
  },
  {
   "cell_type": "markdown",
   "id": "ac915586-d63e-4fe8-82ee-db5e03fb629d",
   "metadata": {},
   "source": [
    "***\n",
    "Dictionary erstellen mit St&auml;dtenamen als Keys.  \n",
    "Die Werte sind Dictionaries der Form  \n",
    "`{'KANTON': 'ZH', 'EINWOHNER': 396027}`\n",
    "***"
   ]
  },
  {
   "cell_type": "code",
   "execution_count": 8,
   "id": "e2cafad1-a63d-45e5-bd26-12f9e54286a5",
   "metadata": {},
   "outputs": [],
   "source": [
    "cities = {}\n",
    "keys =table[0][1:]\n",
    "for row in table[1:]:\n",
    "    cities[row[0]] = dict(zip(keys,row[1:]))"
   ]
  },
  {
   "cell_type": "code",
   "execution_count": 12,
   "id": "23bdabad-9665-4658-bf3e-be3c27d929ed",
   "metadata": {},
   "outputs": [
    {
     "data": {
      "text/plain": [
       "{'Zürich': {'KANTON': 'ZH', 'EINWOHNER': 396027},\n",
       " 'Genf': {'KANTON': 'GE', 'EINWOHNER': 194565},\n",
       " 'Basel': {'KANTON': 'BS', 'EINWOHNER': 168620}}"
      ]
     },
     "execution_count": 12,
     "metadata": {},
     "output_type": "execute_result"
    }
   ],
   "source": [
    "{k:cities[k] for k in list(cities)[:3]}"
   ]
  },
  {
   "cell_type": "code",
   "execution_count": null,
   "id": "2b4d0dc9-5f8f-44f8-821b-6cf1b07b06a9",
   "metadata": {},
   "outputs": [],
   "source": []
  }
 ],
 "metadata": {
  "kernelspec": {
   "display_name": "Python 3 (ipykernel)",
   "language": "python",
   "name": "python3"
  },
  "language_info": {
   "codemirror_mode": {
    "name": "ipython",
    "version": 3
   },
   "file_extension": ".py",
   "mimetype": "text/x-python",
   "name": "python",
   "nbconvert_exporter": "python",
   "pygments_lexer": "ipython3",
   "version": "3.9.10"
  }
 },
 "nbformat": 4,
 "nbformat_minor": 5
}
