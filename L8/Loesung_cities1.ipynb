{
 "cells": [
  {
   "cell_type": "markdown",
   "id": "6f4ccffe-3fb9-49ff-ac25-47cb3f49a532",
   "metadata": {},
   "source": [
    "### Die 148 grössten Städte der Schweiz"
   ]
  },
  {
   "cell_type": "markdown",
   "id": "64b6d0ad-8022-4c10-8771-795b8e41b597",
   "metadata": {},
   "source": [
    "***\n",
    "&Ouml;ffne cities.txt, lies alle Zeilen ein und entferne white-space von rechts\n",
    "***"
   ]
  },
  {
   "cell_type": "code",
   "execution_count": null,
   "id": "8fb1a29c-ac42-4352-b3f4-d98054adf9a4",
   "metadata": {},
   "outputs": [],
   "source": [
    "lines = []\n",
    "with open('cities_.txt', mode = 'r') as f:\n",
    "    for line in f:\n",
    "        lines.append(line.rstrip())\n",
    "        \n",
    "lines[:4]        "
   ]
  },
  {
   "cell_type": "code",
   "execution_count": null,
   "id": "56083f07-3a24-4b36-bf89-c59dfb9080ff",
   "metadata": {},
   "outputs": [],
   "source": [
    "lines[-2:] "
   ]
  },
  {
   "cell_type": "markdown",
   "id": "4b4535ab-ca2c-451f-8478-d1f23841d254",
   "metadata": {},
   "source": [
    "***\n",
    "Trenne Zeilen beim Tabulator '\\t', entferne Spaces von rechts,\n",
    "verwandle rechte Spalte in Integers. Ersetzte vorg&auml;ngig\n",
    "`\"'\"` duch `''` mit `str.replace(\"'\",'')`.\n",
    "***"
   ]
  },
  {
   "cell_type": "code",
   "execution_count": null,
   "id": "55fc40b5-ccd6-4ca7-9b42-e0a93b447ae1",
   "metadata": {},
   "outputs": [],
   "source": [
    "table = []\n",
    "for row in lines:\n",
    "    cols = row.split('\\t')\n",
    "    cols = [c.rstrip() for c in cols]\n",
    "    cols[-1] = cols[-1].replace(\"'\",'')\n",
    "    if cols[-1].isnumeric():\n",
    "        cols[-1] = int(cols[-1])\n",
    "    table.append(cols[1:])"
   ]
  },
  {
   "cell_type": "code",
   "execution_count": null,
   "id": "6b3c0a24-204b-4385-8c3e-85f20244d031",
   "metadata": {},
   "outputs": [],
   "source": [
    "table[:3]"
   ]
  },
  {
   "cell_type": "code",
   "execution_count": null,
   "id": "bbf23156-45c1-4b30-8fc1-5ed67d4bbe1b",
   "metadata": {},
   "outputs": [],
   "source": [
    "table[-2:]"
   ]
  },
  {
   "cell_type": "markdown",
   "id": "49af09ea-5b72-4e02-9558-a741bf322a59",
   "metadata": {},
   "source": [
    "***\n",
    "Als Tabelle mit `table2str`\n",
    "***"
   ]
  },
  {
   "cell_type": "code",
   "execution_count": null,
   "id": "8884429a-481d-49c0-8eef-ce6fdbdcfc8c",
   "metadata": {
    "tags": []
   },
   "outputs": [],
   "source": [
    "from toolbox import table2str\n",
    "s= table2str(table[0], table[1:])\n",
    "print(s)"
   ]
  },
  {
   "cell_type": "markdown",
   "id": "ac915586-d63e-4fe8-82ee-db5e03fb629d",
   "metadata": {},
   "source": [
    "***\n",
    "Dictionary erstellen mit St&auml;dtenamen als Keys.  \n",
    "Die Werte sind Dictionaries der Form  \n",
    "`{'KANTON': 'ZH', 'EINWOHNER': 396027}`\n",
    "***"
   ]
  },
  {
   "cell_type": "code",
   "execution_count": null,
   "id": "e2cafad1-a63d-45e5-bd26-12f9e54286a5",
   "metadata": {},
   "outputs": [],
   "source": [
    "cities = {}\n",
    "keys =table[0][1:]\n",
    "for row in table[1:]:\n",
    "    cities[row[0]] = dict(zip(keys,row[1:]))"
   ]
  },
  {
   "cell_type": "code",
   "execution_count": null,
   "id": "23bdabad-9665-4658-bf3e-be3c27d929ed",
   "metadata": {},
   "outputs": [],
   "source": [
    "{k:cities[k] for k in list(cities)[:2]}"
   ]
  },
  {
   "cell_type": "code",
   "execution_count": null,
   "id": "2b4d0dc9-5f8f-44f8-821b-6cf1b07b06a9",
   "metadata": {},
   "outputs": [],
   "source": [
    "{k:cities[k] for k in list(cities)[-2:]}"
   ]
  },
  {
   "cell_type": "markdown",
   "id": "d3e9ffee-7c83-4888-a709-3ccdff7a296c",
   "metadata": {},
   "source": [
    "***\n",
    "Frage nach Stadt und gib Einwohnerzahl aus\n",
    "***"
   ]
  },
  {
   "cell_type": "code",
   "execution_count": null,
   "id": "ec416cba-19f5-4ce9-9afa-ddc7e4e8c3cf",
   "metadata": {},
   "outputs": [],
   "source": [
    "city = input('Stadt')\n",
    "d = cities.get(city, {})\n",
    "pop  = d.get('EINWOHNER', 'City \"{}\"  found!'.format(city))\n",
    "print('{} hat {} Einwohner'.format(city, pop))"
   ]
  },
  {
   "cell_type": "code",
   "execution_count": null,
   "id": "b5e74f68-c86e-4f0b-a98a-1bf677fc9642",
   "metadata": {},
   "outputs": [],
   "source": [
    "# oder so\n",
    "city = input('Stadt')\n",
    "pop  = cities.get(city, {}).get('EINWOHNER', 'City \"{}\"  found!'.format(city))\n",
    "print('{} hat {} Einwohner'.format(city, pop))"
   ]
  },
  {
   "cell_type": "code",
   "execution_count": null,
   "id": "3f9deb97-7ee9-421c-b2b8-68c0e3fca01f",
   "metadata": {},
   "outputs": [],
   "source": []
  }
 ],
 "metadata": {
  "kernelspec": {
   "display_name": "Python 3 (ipykernel)",
   "language": "python",
   "name": "python3"
  },
  "language_info": {
   "codemirror_mode": {
    "name": "ipython",
    "version": 3
   },
   "file_extension": ".py",
   "mimetype": "text/x-python",
   "name": "python",
   "nbconvert_exporter": "python",
   "pygments_lexer": "ipython3",
   "version": "3.9.10"
  }
 },
 "nbformat": 4,
 "nbformat_minor": 5
}
