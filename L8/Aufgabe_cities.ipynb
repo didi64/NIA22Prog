{
 "cells": [
  {
   "cell_type": "markdown",
   "id": "f105f962-9a4e-4430-b919-0fb5287fa5e5",
   "metadata": {},
   "source": [
    "### Städte der Schweiz\n",
    "F&uuml;r eine sp&auml;teres Projekt brauchen wir einige Daten zu Schweizer St&auml;dten."
   ]
  },
  {
   "cell_type": "markdown",
   "id": "12bb61fd-ccc5-47a0-ba9e-28fae30e7513",
   "metadata": {},
   "source": [
    "**Aufgabe 1**  \n",
    "- Copy/Paste diese [St&auml;dtetabelle](https://www.conviva-plus.ch/?page=2308) in ein Textfile `cities.txt`.\n",
    "- &Ouml;ffne das File mit Python, putze die Daten, und erstelle eine Liste der Form  \n",
    "```python\n",
    "[['STADT', 'KANTON', 'EINWOHNER'],\n",
    " ['Zürich', 'ZH', 396027],\n",
    " ['Genf', 'GE', 194565],\n",
    " ...\n",
    "]\n",
    "```\n",
    "Gib die ersten 3 und die letzten 2 Zeilen aus.\n",
    "- Benutze die Funktion `table2str` im Modul `toolbox` um die Daten in Tabellenform auszugeben.\n",
    "- Erstelle nun einen Dictionary der Form  \n",
    "```python\n",
    "{'Zürich': {'KANTON': 'ZH', 'EINWOHNER': 396027},\n",
    " 'Genf': {'KANTON': 'GE', 'EINWOHNER': 194565},\n",
    " 'Basel': {'KANTON': 'BS', 'EINWOHNER': 168620},  \n",
    " ...\n",
    "}\n",
    "```\n",
    "Gib die ersten 2 und die letzten 2 key-value Paare aus \n",
    "- Lies eine Stadt ein(mit `input`). Gib die Einwohnerzahl aus, falls die Stadt ein key in obigem Dictionary ist, anderfalls ' Stadt nicht gefunden'. "
   ]
  },
  {
   "cell_type": "markdown",
   "id": "05e3f7df-cd7c-4cf5-a918-87faeae34e6a",
   "metadata": {},
   "source": [
    "**Aufgabe 2**\n",
    "- Lade diese [St&auml;dtetabelle](https://simplemaps.com/data/ch-cities) als .csv File herunter und verschiebe die Datei in deinen\n",
    "`notebooks` Ordner.\n",
    "- Erstelle einen Dictionary mit den Städtenamen als Schlüssel.\n",
    "  Die Werte sind Dictionaries der Form  \n",
    "`{'lat': 47.3786,   'lng': 8.54,   'population': 434008}`.\n",
    "Die Werte von `'lat'` und `'lng'` sind Floats, die von `'population'` Integers.  \n",
    "Fehlt der Wert zu `'population'`, verwende `0`.\n",
    "- Speichere den Dictionary cities in einem Modul 'mycities.py' ab, d.h. erstelle ein File 'mycities.py' mit folgendem Inhalt:  \n",
    "```\n",
    "cities = {'Zürich': {'KANTON': 'ZH', 'EINWOHNER': 396027},\n",
    "          'Genf': {'KANTON': 'GE', 'EINWOHNER': 194565},\n",
    "          'Basel': {'KANTON': 'BS', 'EINWOHNER': 168620},  \n",
    "...\n",
    "}\n",
    "```  \n",
    "  &nbsp;  \n",
    "  **Tipp**: benutze `dict.__repr__()`  \n",
    "  Ist `d` ein Dictionary gibt `d.__repr__()` den String zur&uuml;ck, der angezeigt wird, wenn `d` in der letzten Zeile einer Code-Zelle steht.  \n",
    "Gelesen als Pythonausdruck erzeugt dieser String den Dictionary `d`.\n",
    "  "
   ]
  },
  {
   "cell_type": "code",
   "execution_count": 6,
   "id": "e17c8ac2-3ac4-4651-a9c4-49753eeedba5",
   "metadata": {},
   "outputs": [
    {
     "data": {
      "text/plain": [
       "{'a': 1, 'b': 2}"
      ]
     },
     "execution_count": 6,
     "metadata": {},
     "output_type": "execute_result"
    }
   ],
   "source": [
    "d = {'a':1,'b':2}\n",
    "d # aequivalent zu print(d.__repr__())"
   ]
  },
  {
   "cell_type": "code",
   "execution_count": 7,
   "id": "832c09c6-4ceb-4197-a0fa-5fcd7ab092d1",
   "metadata": {},
   "outputs": [
    {
     "name": "stdout",
     "output_type": "stream",
     "text": [
      "{'a': 1, 'b': 2}\n"
     ]
    }
   ],
   "source": [
    "print(d.__repr__())"
   ]
  },
  {
   "cell_type": "code",
   "execution_count": 5,
   "id": "22250d1c-9a5d-4e64-aded-43c4afe80b1a",
   "metadata": {},
   "outputs": [
    {
     "data": {
      "text/plain": [
       "{'a': 1, 'b': 2}"
      ]
     },
     "execution_count": 5,
     "metadata": {},
     "output_type": "execute_result"
    }
   ],
   "source": [
    "{'a': 1, 'b': 2} # erzeugt einen Dictionary"
   ]
  },
  {
   "cell_type": "code",
   "execution_count": null,
   "id": "3e461a06-ee33-4d04-ae2d-8b19a5133cd8",
   "metadata": {},
   "outputs": [],
   "source": []
  }
 ],
 "metadata": {
  "kernelspec": {
   "display_name": "Python 3 (ipykernel)",
   "language": "python",
   "name": "python3"
  },
  "language_info": {
   "codemirror_mode": {
    "name": "ipython",
    "version": 3
   },
   "file_extension": ".py",
   "mimetype": "text/x-python",
   "name": "python",
   "nbconvert_exporter": "python",
   "pygments_lexer": "ipython3",
   "version": "3.9.10"
  }
 },
 "nbformat": 4,
 "nbformat_minor": 5
}
