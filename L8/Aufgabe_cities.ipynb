{
 "cells": [
  {
   "cell_type": "markdown",
   "id": "f105f962-9a4e-4430-b919-0fb5287fa5e5",
   "metadata": {},
   "source": [
    "### Städte der Schweiz\n",
    "F&uuml;r eine sp&auml;teres Projekt brauchen wir einige Daten zu Schweizer St&auml;dten."
   ]
  },
  {
   "cell_type": "markdown",
   "id": "12bb61fd-ccc5-47a0-ba9e-28fae30e7513",
   "metadata": {},
   "source": [
    "**Aufgabe 1**  \n",
    "- Copy/Paste diese [St&auml;dtetabelle](https://www.conviva-plus.ch/?page=2308) in ein Textfile `cities.txt`.\n",
    "- &Ouml;ffne das File mit Python, putze die Daten, und erstelle eine Liste der Form  \n",
    "```python\n",
    "[['STADT', 'KANTON', 'EINWOHNER'],\n",
    " ['Zürich', 'ZH', 396027],\n",
    " ['Genf', 'GE', 194565],\n",
    " ...\n",
    "]\n",
    "```\n",
    "- Benutze die Funktion `table2str` im Modul `toolbox` um die Daten in Tabellenform auszugeben.\n",
    "- Erstelle nun einen Dictionary der Form  \n",
    "```python\n",
    "{'Zürich': {'KANTON': 'ZH', 'EINWOHNER': 396027},\n",
    " 'Genf': {'KANTON': 'GE', 'EINWOHNER': 194565},\n",
    " 'Basel': {'KANTON': 'BS', 'EINWOHNER': 168620},  \n",
    " ...\n",
    "}\n",
    "```"
   ]
  },
  {
   "cell_type": "markdown",
   "id": "05e3f7df-cd7c-4cf5-a918-87faeae34e6a",
   "metadata": {},
   "source": [
    "**Aufgabe 2**\n",
    "- Lade die [St&auml;dtetabelle](https://simplemaps.com/data/ch-cities) als .csv File herunter und verschiebe die Datei in deinen\n",
    "`notebooks` Ordner.\n",
    "- Erstelle einen Dictionary mit den Städtenamen als Schlüssel.\n",
    "  Die Werte sind Dictionaries der Form  \n",
    "`{'lat': 47.3786,   'lng': 8.54,   'population': 434008}`.\n",
    "Die Werte von `'lat'` und `'lng'` sind Floats, die von `'population'` Integers.  \n",
    "Fehlt der Wert zu `'population'`, verwende `0`."
   ]
  }
 ],
 "metadata": {
  "kernelspec": {
   "display_name": "Python 3 (ipykernel)",
   "language": "python",
   "name": "python3"
  },
  "language_info": {
   "codemirror_mode": {
    "name": "ipython",
    "version": 3
   },
   "file_extension": ".py",
   "mimetype": "text/x-python",
   "name": "python",
   "nbconvert_exporter": "python",
   "pygments_lexer": "ipython3",
   "version": "3.9.10"
  }
 },
 "nbformat": 4,
 "nbformat_minor": 5
}
