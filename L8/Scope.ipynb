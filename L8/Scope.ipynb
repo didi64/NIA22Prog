{
 "cells": [
  {
   "cell_type": "markdown",
   "id": "4894850b-fdd1-4227-a6f2-61bac38fbfda",
   "metadata": {
    "jp-MarkdownHeadingCollapsed": true,
    "tags": []
   },
   "source": [
    "### Scope\n",
    "\n",
    "**Scope** bezeichnet einen Bereich des Codes, innerhalb dessen ein Variabelnamen g&uuml;ltig ist. Man unterscheidet zwischen vordefinierten Variabelnamen (**built-ins**), ausserhalb einer Funktion definierten Variabeln (**globale** Variablen) und\n",
    "innerhalb einer Funktion definierten Variabeln (**lokale** Variabeln). Beachte, dass Funktionen auch innerhalb von Funktionen definiert werden k&ouml;nnen.\n",
    "\n",
    "  - Eine Funktion hat ihre eigenen (**lokalen**) Variablen, bez. \n",
    "    jede Funktion hat ihre eigene (lokale) **Scope**.  \n",
    "  - Eine Funktionsdefinition &ouml;ffnet eine neue **Scope**.  \n",
    "    Wird innerhalb der Funktion eine weitere Funktion definiert,\n",
    "    wird eine weitere Scope ge&ouml;ffnet.\n",
    "    Die Scope der &auml;usseren Funktion ist die umgebende (**enclosing**) Scope \n",
    "    der inneren Funktion.\n",
    "    \n",
    "<img width = '300px' src='../../NIA22Prog/images/scopes.png'>\n",
    "\n",
    "**Nachtrag zu Funktionen**:  \n",
    "Funktionen k&ouml;nnen nicht-lokale Variablen &auml;ndern (Schreibzugriff).  \n",
    "Dazu muss zu Beginn des Funktionsbodys deklariert werden, zu welcher Scope der betreffende Variabelnamen geh&ouml;rt:\n",
    "\n",
    "- `global x`: Teilt der Funktion mit, dass `x` der Name einer Variablen in der globalen Scope ist.\n",
    "- `nonlocal x`: Teilt der Funktion mit, dass `x` der Name einer Variablen in einer enclosing Scope ist. Ist `x` in verschiedenen enclosing Scopes definiert, wird das `x` in der innersten enclosing Scope genommen.\n"
   ]
  },
  {
   "cell_type": "markdown",
   "id": "e7dd4a77-13d7-4978-a1f8-306a8fa98362",
   "metadata": {},
   "source": [
    "***\n",
    "Global, enclosing and local Scope\n",
    "***"
   ]
  },
  {
   "cell_type": "code",
   "execution_count": null,
   "id": "85565633-c657-4430-bba7-9cd07239d604",
   "metadata": {},
   "outputs": [],
   "source": [
    "x = 'in the global scope.'\n",
    "\n",
    "def f():\n",
    "    x = 'in the local scope of f, the enclosing scope of g.'\n",
    "    print('f says, x is' , x)\n",
    "    def g():\n",
    "        x = 'in the local scope of g.'\n",
    "        print('g says, x is' , x)\n",
    "    g()    \n",
    "\n",
    "f()\n",
    "print('print says, x is', x)"
   ]
  },
  {
   "cell_type": "markdown",
   "id": "98b46bf7-3d2f-44e0-920d-d7396355c3be",
   "metadata": {},
   "source": [
    "***\n",
    "Funktion: Schreibzugriff auf globale Variable \n",
    "***"
   ]
  },
  {
   "cell_type": "code",
   "execution_count": null,
   "id": "f35c3425-5df0-43ac-a225-4c27c4eb3d7f",
   "metadata": {},
   "outputs": [],
   "source": [
    "x = 0 # global\n",
    "def inc_x():\n",
    "    global x # \n",
    "    x = x + 1 # \n",
    "    print('global x: {}'.format(x)) "
   ]
  },
  {
   "cell_type": "code",
   "execution_count": null,
   "id": "61e646c5-faac-496c-b528-901789166e67",
   "metadata": {},
   "outputs": [],
   "source": [
    "inc_x()\n",
    "x"
   ]
  },
  {
   "cell_type": "markdown",
   "id": "d404056e-8e7c-4bce-a4ff-3899750e7af0",
   "metadata": {},
   "source": [
    "***\n",
    "Funktion: Schreibzugriff auf Variable in einer enclosing Scope\n",
    "***"
   ]
  },
  {
   "cell_type": "code",
   "execution_count": null,
   "id": "023c22b3-5a59-4d6d-a3c4-99dbdab50aae",
   "metadata": {},
   "outputs": [],
   "source": [
    "x = 0 # global\n",
    "def f():\n",
    "    x = 'bar' # x local to f\n",
    "    def g():\n",
    "        nonlocal x # x in der Scope von f\n",
    "        x = 'foo' + x \n",
    "        print('x nonlocal to g: {}'.format(x))\n",
    "    g()\n",
    "    print('x local to f: {}'.format(x))\n",
    "\n",
    "f()\n",
    "x"
   ]
  },
  {
   "cell_type": "code",
   "execution_count": null,
   "id": "5e1b3fea-6fa2-46c0-a5c4-7b20f1e85d79",
   "metadata": {},
   "outputs": [],
   "source": [
    "x = 0 # global\n",
    "def f():\n",
    "    x = 'bar' # x local to f\n",
    "    def g(): \n",
    "        def h():\n",
    "            nonlocal x \n",
    "            x = 'foo' + x \n",
    "            print('x nonlocal to g: {}'.format(x))\n",
    "        h()    \n",
    "    g()\n",
    "        \n",
    "    print('x local to f: {}'.format(x))\n",
    "\n",
    "f()\n",
    "x"
   ]
  }
 ],
 "metadata": {
  "kernelspec": {
   "display_name": "Python 3 (ipykernel)",
   "language": "python",
   "name": "python3"
  },
  "language_info": {
   "codemirror_mode": {
    "name": "ipython",
    "version": 3
   },
   "file_extension": ".py",
   "mimetype": "text/x-python",
   "name": "python",
   "nbconvert_exporter": "python",
   "pygments_lexer": "ipython3",
   "version": "3.9.10"
  }
 },
 "nbformat": 4,
 "nbformat_minor": 5
}
