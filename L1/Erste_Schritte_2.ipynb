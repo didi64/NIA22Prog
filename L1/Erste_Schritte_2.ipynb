{
 "cells": [
  {
   "cell_type": "markdown",
   "id": "2289dbe9-5283-4349-8c7c-2dcab3445925",
   "metadata": {},
   "source": [
    "### Eingabe\n",
    "- mit ```s=input('schreibe etwas')``` wir der Benutzer zue eingabe von Text auffordert.\n",
    "- Der Text wird als String in der Variablen ```s``` gespeichert."
   ]
  },
  {
   "cell_type": "code",
   "execution_count": null,
   "id": "48847940-5823-45ad-81b9-12a76e5360bb",
   "metadata": {},
   "outputs": [],
   "source": [
    "s=input('schreibe etwas')\n",
    "print('Deine Eingabe:', s)"
   ]
  },
  {
   "cell_type": "markdown",
   "id": "00723e6a-5f02-4290-9028-c619b659119f",
   "metadata": {},
   "source": [
    "### Aufgabe\n",
    "Schreibe ein Programm, dass dich nach deinem Namen und Jahrgang fr&auml;gt.\n",
    "Gib den Namen und das Alter aus"
   ]
  },
  {
   "cell_type": "markdown",
   "id": "d2da411f-2c45-4d87-a7fb-aac82a3f8a8f",
   "metadata": {},
   "source": [
    "### Einr&uuml;cken statt '''{  }'''\n",
    "- In Python gehoert das Einr&uuml;cken von Code zur Syntax und dient der Abgrenzung von Codebloecken."
   ]
  },
  {
   "cell_type": "code",
   "execution_count": null,
   "id": "dea1d4ea-fb7d-4509-a46e-9df5dc5fba22",
   "metadata": {},
   "outputs": [],
   "source": [
    "# Schleife, i durchlaeuft die Werte 0,1,2\n",
    "for i in range(3):\n",
    "    print(i, end=', ')"
   ]
  },
  {
   "cell_type": "code",
   "execution_count": null,
   "id": "6eedec73-8732-4c67-872d-bcd0560e5fe4",
   "metadata": {},
   "outputs": [],
   "source": [
    "# Schleife, ch durchlaeuft die Werte 'a','b','c','d'\n",
    "for ch in 'abcd':\n",
    "    print(ch, end=', ')"
   ]
  },
  {
   "cell_type": "code",
   "execution_count": null,
   "id": "b6fc5dff-3711-4ae0-a457-d01638473044",
   "metadata": {},
   "outputs": [],
   "source": [
    "# Schleife, ch durchlaeuft die Werte 1,2,3\n",
    "for i in [1,2,3]:\n",
    "    print(ch, end=', ')"
   ]
  },
  {
   "cell_type": "code",
   "execution_count": null,
   "id": "66639c9d-2598-4cad-9d0e-8659ab03caf2",
   "metadata": {},
   "outputs": [],
   "source": [
    "# if then else\n",
    "# aendere den Wert von x und siehe was passiert\n",
    "x=1\n",
    "if x < 0:\n",
    "    print(x, 'ist kleiner als 0')\n",
    "else:\n",
    "    print(x, 'ist groesser gleich  0')"
   ]
  },
  {
   "cell_type": "code",
   "execution_count": null,
   "id": "2758a4a4-fb2f-481a-a46c-1477cedd5107",
   "metadata": {},
   "outputs": [],
   "source": [
    "# if then else\n",
    "# aendere den Wert von x und siehe was passiert\n",
    "x=1\n",
    "if x < 0:\n",
    "    print(x, 'ist kleiner als 0')\n",
    "elif x == 0:\n",
    "    print(x, 'ist gleich  0')\n",
    "else:\n",
    "    print(x, 'ist groesser als 0')"
   ]
  },
  {
   "cell_type": "code",
   "execution_count": null,
   "id": "c9a3f6d5-4e7e-47d2-9de0-a91cb1ae0747",
   "metadata": {},
   "outputs": [],
   "source": [
    "# eine Funktion definieren\n",
    "def is_even(x):\n",
    "    '''gibt True zurueck falls x gerade ist, sonst False''' # Doc-String\n",
    "    if type(x) != int:\n",
    "        raise Exception('{} ist kein Integer'.format(x))\n",
    "        \n",
    "    return x%2 == 0    "
   ]
  },
  {
   "cell_type": "code",
   "execution_count": null,
   "id": "0036bfb6-a53f-45f5-bbaa-20c6b6bc1c72",
   "metadata": {},
   "outputs": [],
   "source": [
    "# gibt den Doc-String der aus.\n",
    "help(is_even)"
   ]
  },
  {
   "cell_type": "code",
   "execution_count": null,
   "id": "597f5e37-3b72-4e0d-ae96-60683c4dee44",
   "metadata": {},
   "outputs": [],
   "source": [
    "is_even(2)"
   ]
  },
  {
   "cell_type": "markdown",
   "id": "c2ddc126-dba4-47c9-af38-8948a2cb17b2",
   "metadata": {},
   "source": [
    "### Aufgabe\n",
    "- Schreibe eine Funktion ```is_divisor_of(x,y)```, die True zurueck gibt, falls\n",
    "y die Zahl x teilt, und sonst False. Also falls ```y``` ohne Rest durch ```x``` teilbar ist."
   ]
  },
  {
   "cell_type": "code",
   "execution_count": null,
   "id": "4e836468-e672-4fb1-8c11-ec6e5c515d49",
   "metadata": {},
   "outputs": [],
   "source": [
    "def is_divisor_of(x,y):\n",
    "    return y % x == 0"
   ]
  }
 ],
 "metadata": {
  "kernelspec": {
   "display_name": "Python 3 (ipykernel)",
   "language": "python",
   "name": "python3"
  },
  "language_info": {
   "codemirror_mode": {
    "name": "ipython",
    "version": 3
   },
   "file_extension": ".py",
   "mimetype": "text/x-python",
   "name": "python",
   "nbconvert_exporter": "python",
   "pygments_lexer": "ipython3",
   "version": "3.8.10"
  }
 },
 "nbformat": 4,
 "nbformat_minor": 5
}
