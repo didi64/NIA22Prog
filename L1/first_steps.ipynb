{
 "cells": [
  {
   "cell_type": "markdown",
   "id": "77e2c3ef-8d24-489a-a129-101e851a34c2",
   "metadata": {},
   "source": [
    "### Erste Schritte in Python"
   ]
  },
  {
   "cell_type": "code",
   "execution_count": null,
   "id": "54d197bd-325e-4e20-917e-4606fa07dc78",
   "metadata": {},
   "outputs": [],
   "source": [
    "# A comment: a first python program\n",
    "print('hello, world!')"
   ]
  },
  {
   "cell_type": "code",
   "execution_count": null,
   "id": "d7ddd2c8-1007-4f9f-b551-65e11fff3010",
   "metadata": {
    "tags": []
   },
   "outputs": [],
   "source": [
    "help(print)"
   ]
  },
  {
   "cell_type": "code",
   "execution_count": null,
   "id": "3924ea16-4c16-49eb-893c-bad1f93b2d20",
   "metadata": {},
   "outputs": [],
   "source": [
    "print('hello', end =', ') #fuege ', ' statt newline zu 'hello' hinzu\n",
    "print('world!')"
   ]
  },
  {
   "cell_type": "markdown",
   "id": "ae2154dc-aca9-41ca-a45c-7a1090d74602",
   "metadata": {},
   "source": [
    "### Python Strings\n",
    "- siehe auch https://docs.python.org/3/tutorial/introduction.html#strings"
   ]
  },
  {
   "cell_type": "code",
   "execution_count": 24,
   "id": "7d913b42-e73e-4d9c-b720-1f02c695a193",
   "metadata": {
    "jupyter": {
     "source_hidden": true
    },
    "tags": []
   },
   "outputs": [
    {
     "data": {
      "text/html": [
       "\n",
       "        <iframe\n",
       "            width=\"100%\"\n",
       "            height=\"300px\"\n",
       "            src=\"https://docs.python.org/3/tutorial/introduction.html#strings\"\n",
       "            frameborder=\"0\"\n",
       "            allowfullscreen\n",
       "            \n",
       "        ></iframe>\n",
       "        "
      ],
      "text/plain": [
       "<IPython.lib.display.IFrame at 0x7fd2cc211b80>"
      ]
     },
     "execution_count": 24,
     "metadata": {},
     "output_type": "execute_result"
    }
   ],
   "source": [
    "from IPython.display import IFrame\n",
    "src = 'https://docs.python.org/3/tutorial/introduction.html#strings'\n",
    "def url_in_cell(src, width='100%', height='300px'):\n",
    "    return IFrame(src=src, width=width, height=height)\n",
    "url_in_cell(src)"
   ]
  },
  {
   "cell_type": "markdown",
   "id": "8f5191ab-4f0d-4464-ba42-652b7822d465",
   "metadata": {},
   "source": [
    "### Aufgabe 1\n",
    "Definiere einen String ```s```, so dass ```print(s)``` den Output\n",
    "```\"'\\``` erzeugt."
   ]
  },
  {
   "cell_type": "code",
   "execution_count": null,
   "id": "a3c1658c-6136-4978-8e8a-199bfc4fb304",
   "metadata": {},
   "outputs": [],
   "source": [
    "s='\\\"\\'\\\\'\n",
    "print(s)"
   ]
  },
  {
   "cell_type": "markdown",
   "id": "f6141678-ebc9-4836-b1e1-266b474b4309",
   "metadata": {},
   "source": [
    "### Interers, Floats und Strings\n",
    "Python ist dynamisch getypt, der Typ einer Variablen ist bestimmt durch ihren Wert\n",
    "- ```x=3``` ist ein Integer\n",
    "- ```x=3.0``` ist ein Float\n",
    "- ```x='hallo'``` ist ein String\n",
    "- ```x=[1,2,3]``` ist eine Liste"
   ]
  },
  {
   "cell_type": "code",
   "execution_count": null,
   "id": "5acfdd83-5bbc-4284-a674-6ce776c641af",
   "metadata": {},
   "outputs": [],
   "source": [
    "x=3\n",
    "type(x)"
   ]
  },
  {
   "cell_type": "markdown",
   "id": "557fb566-7ff5-4710-ba01-10e9bc85e922",
   "metadata": {},
   "source": [
    "### Aufgabe 2\n",
    "gib den wie oben den Typ eines Floats, Strings und List aus."
   ]
  },
  {
   "cell_type": "markdown",
   "id": "11c8767d-5ebc-4755-aee8-ba456eef8f22",
   "metadata": {},
   "source": [
    "### Umwandeln eines Types in einen anderen (Cast)\n",
    "- ```int(x)``` liefert einen Integer, falls eine Conversion moeglich ist\n",
    "- ```float(x)``` liefert einen Float, falls moeglich\n",
    "- ```str(x)``` liefert einen String, falls moeglich\n",
    "- ```list(x)``` liefert eine Liste, falls moeglich"
   ]
  },
  {
   "cell_type": "code",
   "execution_count": null,
   "id": "8815f540-20e1-4f8a-a10d-73e1793b743f",
   "metadata": {},
   "outputs": [],
   "source": [
    "x  = 1\n",
    "y  = 3.5\n",
    "s0 = '3'\n",
    "s1 = '3.0'\n",
    "s2 = 'drei'\n",
    "l = [1,2,3]"
   ]
  },
  {
   "cell_type": "markdown",
   "id": "2d8d4f41-02a8-48e8-9fdd-9e104ffd2f3d",
   "metadata": {},
   "source": [
    "### Aufgabe 3\n",
    "teste, welche der obigen Typen sich in welche anderen Typen umwandeln lassen.\n",
    "2 Beispiele sind bereits gegeben."
   ]
  },
  {
   "cell_type": "code",
   "execution_count": null,
   "id": "baa86b37-a971-4e67-8df8-b1a6b8becc73",
   "metadata": {},
   "outputs": [],
   "source": [
    "int(s0)"
   ]
  },
  {
   "cell_type": "code",
   "execution_count": null,
   "id": "d6ceb717-6805-4659-b767-9899c858c3bc",
   "metadata": {},
   "outputs": [],
   "source": [
    "list(s2)"
   ]
  },
  {
   "cell_type": "markdown",
   "id": "01f4bf56-fa71-46a6-a5dc-079a975e1432",
   "metadata": {},
   "source": [
    "### Operationen mit Integers und Floats\n",
    "- Integers: '''x+y, x-y, x*y, x**y, x/y, x//y, x%y```\n",
    "\n",
    "Teste was diese Operationen machen. Welche funktionieren auf bei Floats und Strings?"
   ]
  }
 ],
 "metadata": {
  "kernelspec": {
   "display_name": "Python 3 (ipykernel)",
   "language": "python",
   "name": "python3"
  },
  "language_info": {
   "codemirror_mode": {
    "name": "ipython",
    "version": 3
   },
   "file_extension": ".py",
   "mimetype": "text/x-python",
   "name": "python",
   "nbconvert_exporter": "python",
   "pygments_lexer": "ipython3",
   "version": "3.8.10"
  }
 },
 "nbformat": 4,
 "nbformat_minor": 5
}
