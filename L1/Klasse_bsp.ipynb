{
 "cells": [
  {
   "cell_type": "markdown",
   "id": "0e1ef361-1c80-4a3e-95d5-9a1f2b0f0f10",
   "metadata": {},
   "source": [
    "### Beispiel: Eine Klasse in Python"
   ]
  },
  {
   "cell_type": "code",
   "execution_count": null,
   "id": "f2b5e6ac-dbe7-4f45-80c3-b3302107784f",
   "metadata": {},
   "outputs": [],
   "source": [
    "import math\n",
    "import random\n",
    "import matplotlib.pyplot as plt"
   ]
  },
  {
   "cell_type": "code",
   "execution_count": null,
   "id": "113b15eb-57ae-42ec-90f5-12fc906c8821",
   "metadata": {},
   "outputs": [],
   "source": [
    "class Vec(object):\n",
    "    \"\"\"A 2 dimensional vector class.\n",
    "       implements the operations +,-,* on vectors, \n",
    "       and multiplication of vectors with numbers\n",
    "    \"\"\"\n",
    "    def __init__(self, x, y):\n",
    "        '''x and y coordinates of the point'''\n",
    "        self.x = x\n",
    "        self.y = y\n",
    "        \n",
    "    def norm(self):\n",
    "        '''returns the length of the vector'''\n",
    "        return math.sqrt(self.x**2+self.y**2)\n",
    "    \n",
    "    def angle(self,vec):\n",
    "        '''returns the angle between self and vec in degrees'''\n",
    "        num = self*vec\n",
    "        denum = self.norm()*vec.norm()\n",
    "        return math.acos(num/denum)*180/math.pi\n",
    "        \n",
    "    def rotate(self, angle):\n",
    "        '''rotates self around the origin by angle degrees'''\n",
    "        a = math.pi*angle/180\n",
    "        c = math.cos(a)\n",
    "        s = math.sin(a)\n",
    "        return Vec(c*self.x-s*self.y,s*self.x+c*self.y)\n",
    "        \n",
    "    def __add__(self, other):\n",
    "        return Vec(self.x+other.x, self.y+other.y)    \n",
    "    def __sub__(self, other):\n",
    "        return Vec(self.x-other.x, self.y-other.y)    \n",
    "    \n",
    "    def __mul__(self, other):\n",
    "        if isinstance(other,Vec):\n",
    "            return self.x*other.x + self.y*other.y   \n",
    "        elif isinstance(other,int) or isinstance(other,float):    \n",
    "            return Vec(self.x*other, self.y*other)   \n",
    "    def __rmul__(self, other):  \n",
    "        return self*other\n",
    "    def __repr__(self):\n",
    "        return 'Vec({:.2f}, {:.2f})'.format(self.x, self.y)   "
   ]
  },
  {
   "cell_type": "code",
   "execution_count": null,
   "id": "149707d7-5a41-45d5-b572-331bb416787b",
   "metadata": {},
   "outputs": [],
   "source": [
    "help(Vec)"
   ]
  },
  {
   "cell_type": "code",
   "execution_count": null,
   "id": "f6828e5d-6139-4605-b9fb-708562cd5bee",
   "metadata": {},
   "outputs": [],
   "source": [
    "# einige Konstanten\n",
    "R  = 50           # radius\n",
    "O  = Vec(100,100) # Ursprung des Koordinatensystems\n",
    "E1 = Vec(1,0)     # Vector der zum Punkt (1,0) zeigt"
   ]
  },
  {
   "cell_type": "code",
   "execution_count": null,
   "id": "1998f183-90d9-4264-9b96-fac819ebba4c",
   "metadata": {},
   "outputs": [],
   "source": [
    "plot = True\n",
    "x = [] # Liste zum Speichern der x-Koordinaten\n",
    "y = []\n",
    "for i in range(0,360,30): # i durchlaeuft 0,30,...,330.\n",
    "    v  = R * E1.rotate(i) # E1 wird rotiert, dann gestreckt\n",
    "    pt = O + v            # v wird nach O verschoben\n",
    "    x.extend((O.x, pt.x)) # die Liste x wird um die x-Koordinaten \n",
    "                          # der Punkte O und pt verlaengert\n",
    "    y.extend((O.y, pt.y))"
   ]
  },
  {
   "cell_type": "code",
   "execution_count": null,
   "id": "312ca5a2-c3b9-403f-94c9-d91345bade4d",
   "metadata": {},
   "outputs": [],
   "source": [
    "plot = True\n",
    "x = []\n",
    "y = []\n",
    "angles = range(0,360+30,30)\n",
    "for a0,a1 in zip(angles[:-1], angles[1:]):\n",
    "    pt0 = O + R*E1.rotate(a0)\n",
    "    pt1 = O + R*E1.rotate(a1)\n",
    "    x.extend((pt0.x, pt1.x))\n",
    "    y.extend((pt0.y, pt1.y))"
   ]
  },
  {
   "cell_type": "code",
   "execution_count": null,
   "id": "7d3f135f-e93a-43b8-9ed5-587a486dd7d1",
   "metadata": {},
   "outputs": [],
   "source": [
    "plot=False\n",
    "# A,B: Endpunkte eines Kreisdurchmessers mit Mittelpunkt O und Radius R\n",
    "A = O + Vec(-R,0)\n",
    "B = O + Vec(R,0)\n",
    "x=[]\n",
    "y=[]\n",
    "# generiere 10000 zufaellige Punkte im Rechteck mit Mittelpunkt O und\n",
    "# Seitenlange 2*R\n",
    "pts = [O+Vec(random.uniform(-2*R, 2*R), random.uniform(-2*R,2*R)) for i in range(10000)]\n",
    "for pt in pts:\n",
    "    pt0 = A-pt\n",
    "    pt1 = B-pt\n",
    "    if 89 < Vec.angle(pt0, pt1)<91:\n",
    "        x.append(pt.x) \n",
    "        y.append(pt.y)"
   ]
  },
  {
   "cell_type": "code",
   "execution_count": null,
   "id": "b7375ece-2df6-4195-a907-ddbb0a28a7f7",
   "metadata": {},
   "outputs": [],
   "source": [
    "# Verbinde oder zeichne die Punkte mit Koordinaten\n",
    "# (x[0],y[0]), (x[1],y[1]), ...\n",
    "fig, ax = plt.subplots(figsize=(8, 5))\n",
    "ax.set_xlim(0, 500)\n",
    "ax.set_ylim(0, 300)\n",
    "\n",
    "if plot:\n",
    "    ax.plot(x,y) # verbindet die Punkte\n",
    "else:    \n",
    "    ax.scatter(x,y) # zeichnet die Punkte\n",
    "    \n",
    "plt.show()"
   ]
  }
 ],
 "metadata": {
  "kernelspec": {
   "display_name": "Python 3 (ipykernel)",
   "language": "python",
   "name": "python3"
  },
  "language_info": {
   "codemirror_mode": {
    "name": "ipython",
    "version": 3
   },
   "file_extension": ".py",
   "mimetype": "text/x-python",
   "name": "python",
   "nbconvert_exporter": "python",
   "pygments_lexer": "ipython3",
   "version": "3.8.10"
  }
 },
 "nbformat": 4,
 "nbformat_minor": 5
}
