{
 "cells": [
  {
   "cell_type": "markdown",
   "id": "0e1ef361-1c80-4a3e-95d5-9a1f2b0f0f10",
   "metadata": {},
   "source": [
    "### Beispiel: Eine Klasse in Python"
   ]
  },
  {
   "cell_type": "code",
   "execution_count": 1,
   "id": "f2b5e6ac-dbe7-4f45-80c3-b3302107784f",
   "metadata": {},
   "outputs": [],
   "source": [
    "import math\n",
    "import random\n",
    "import matplotlib.pyplot as plt"
   ]
  },
  {
   "cell_type": "markdown",
   "id": "fdf79164-b6b5-4980-bf56-225c90a469c7",
   "metadata": {},
   "source": [
    "### Die vordefinierte Klasse ```list```.\n",
    "- mit ```l = list((1,2))``` wird ein neues Objekt vom Typ ```list``` erstellt und der Variable ```l``` zugewiesen.\n",
    "- ebenso: ```l = [1,2]``` \n",
    "- Die Klasse ```list``` hat eine Methode append und eine Methode ```__add__```\n",
    "  - ```list.append(l,'neu')``` f&uuml;gt den String ```'neu'``` zur Liste hinzu\n",
    "  - ```l.append('neu')``` ruft ```list.append(l,'neu')``` aus\n",
    "  - ```l + l``` ruft ```list.__add__(l,l)``` auf\n",
    "- Dieser Machanismus erlaut es allen Instanzen der Klasse ```list``` auf die in dieser Klasse implementierten Methoden zu benutzen."
   ]
  },
  {
   "cell_type": "code",
   "execution_count": 91,
   "id": "4557edc0-93b1-43e3-84ee-a69ba51e62f2",
   "metadata": {},
   "outputs": [
    {
     "name": "stdout",
     "output_type": "stream",
     "text": [
      "<class 'list'>\n",
      "<class 'list'>\n",
      "True\n",
      "<method 'append' of 'list' objects>\n",
      "<slot wrapper '__add__' of 'list' objects>\n",
      "Help on method_descriptor:\n",
      "\n",
      "append(self, object, /)\n",
      "    Append object to the end of the list.\n",
      "\n",
      "Help on wrapper_descriptor:\n",
      "\n",
      "__add__(self, value, /)\n",
      "    Return self+value.\n",
      "\n"
     ]
    }
   ],
   "source": [
    "print(list)\n",
    "print(type([]))\n",
    "print(isinstance([], list))\n",
    "print(list.append)\n",
    "print(list.__add__)\n",
    "help(list.append)\n",
    "help(list.__add__)"
   ]
  },
  {
   "cell_type": "code",
   "execution_count": 89,
   "id": "81fd6b52-6e75-4235-8168-574ce1ecc5e3",
   "metadata": {},
   "outputs": [
    {
     "name": "stdout",
     "output_type": "stream",
     "text": [
      "[1, 2, 'drei'] [4, 5, 'sechs']\n"
     ]
    },
    {
     "data": {
      "text/plain": [
       "[1, 2, 'drei', 4, 5, 'sechs']"
      ]
     },
     "execution_count": 89,
     "metadata": {},
     "output_type": "execute_result"
    }
   ],
   "source": [
    "l1 = list((1,2)) # neue Liste erstellen und l1 zuweisen\n",
    "                 # l1 ist eine Instanz von Liste\n",
    "l2 = [4,5]       # andere Art, eine Liste zu erstellen\n",
    "list.append(l1, 'drei') # neues Objekt hinzufuegen\n",
    "l2.append('sechs') # andere Art, neues Objekt hinzufuegen\n",
    "                   # ruft list.append(l2,'sechs') aus\n",
    "    \n",
    "print(l1, l2)\n",
    "l1 + l2           # Listen konkatenieren"
   ]
  },
  {
   "cell_type": "code",
   "execution_count": 88,
   "id": "48154a89-ac6a-4266-ac66-8ee7e2424606",
   "metadata": {},
   "outputs": [
    {
     "name": "stdout",
     "output_type": "stream",
     "text": [
      "[1, 2, 'drei', 4, 5, 'sechs']\n",
      "[1, 2, 'drei', 4, 5, 'sechs']\n"
     ]
    }
   ],
   "source": [
    "print(l1 + l2)\n",
    "print(list.__add__(l1, l2))"
   ]
  },
  {
   "cell_type": "markdown",
   "id": "e2b60684-2232-4990-8323-7bb597946dcc",
   "metadata": {},
   "source": [
    "### Eigene Klasse Vec (2-dim Vector) erstellen\n",
    "- Konstruktor definieren: Funktion ```__init(self,...)```\n",
    "- Methoden definieren: z.B. eine Funktion rotate(self,angle)\n",
    "- ist ```x=Vec(1,2)``` ein Vector, so bewirkt der Aufruf ```x.rotate(30)```\n",
    "  das Vec(x,30) ausgef&uuml;hrt wird.<br>\n",
    "- Alle Instanzen von Vec haben so zugriff auf die\n",
    "  Methode ```Vec.rotate```"
   ]
  },
  {
   "cell_type": "code",
   "execution_count": 52,
   "id": "113b15eb-57ae-42ec-90f5-12fc906c8821",
   "metadata": {},
   "outputs": [],
   "source": [
    "class Vec(object):\n",
    "    \"\"\"A 2 dimensional vector class.\n",
    "       implements the operations +,-,* on vectors, \n",
    "       and multiplication of vectors with numbers\n",
    "       \n",
    "       attributes:\n",
    "           self.x: x-coordinate of self\n",
    "           self.y: y-coordinate of self\n",
    "    \"\"\"\n",
    "    \n",
    "    def __init__(self, x, y):\n",
    "        '''creates a Vector with coordinates (x,y)'''\n",
    "        self.x = x\n",
    "        self.y = y\n",
    "        \n",
    "    def rotate(self, angle):\n",
    "        '''rotates the vector self around the origin by angle degrees\n",
    "           returns the resulting vector\n",
    "        '''\n",
    "        a = math.pi*angle/180\n",
    "        c = math.cos(a)\n",
    "        s = math.sin(a)\n",
    "        return Vec(c*self.x-s*self.y, s*self.x+c*self.y)\n",
    "        \n",
    "    def __add__(self, other):\n",
    "        '''add the vectors self and other componentwise'''\n",
    "        return Vec(self.x+other.x, self.y+other.y)    \n",
    "    \n",
    "    def __sub__(self, other):\n",
    "        return Vec(self.x-other.x, self.y-other.y)    \n",
    "    \n",
    "    def __mul__(self, other):\n",
    "        '''if self and other are Vectors: return scalar product\n",
    "           if other is a number: return scalar multiplication\n",
    "        '''\n",
    "        if isinstance(other, Vec):\n",
    "            return self.x*other.x + self.y*other.y   \n",
    "        elif isinstance(other,int) or isinstance(other,float):    \n",
    "            return Vec(self.x*other, self.y*other)   \n",
    "        \n",
    "    def __rmul__(self, other):  \n",
    "        '''implements other*self, if self is a number'''\n",
    "        return self*other\n",
    "    \n",
    "    def __repr__(self):\n",
    "        return 'Vec({:.2f}, {:.2f})'.format(self.x, self.y)   "
   ]
  },
  {
   "cell_type": "code",
   "execution_count": 54,
   "id": "149707d7-5a41-45d5-b572-331bb416787b",
   "metadata": {},
   "outputs": [],
   "source": [
    "# help(Vec)"
   ]
  },
  {
   "cell_type": "code",
   "execution_count": 58,
   "id": "a0578b64-9bd3-40f1-8f21-f97c59c5aded",
   "metadata": {},
   "outputs": [
    {
     "name": "stdout",
     "output_type": "stream",
     "text": [
      "Vec(1.00, 2.00) 1 2\n",
      "Vec(-2.00, 1.00)\n",
      "9 Vec(10.00, 20.00) Vec(10.00, 20.00)\n"
     ]
    }
   ],
   "source": [
    "a=Vec(1,2)\n",
    "b=Vec(3,3)\n",
    "print(a, a.x, a.y)\n",
    "print(a.rotate(90))\n",
    "print(a*b, 10*a, a*10)"
   ]
  },
  {
   "cell_type": "code",
   "execution_count": 49,
   "id": "38774ba6-38c2-4cd8-a340-d38565e71bb2",
   "metadata": {
    "tags": []
   },
   "outputs": [],
   "source": [
    "def plot(x, y):\n",
    "    '''plots the points (x[0],y[0]), (x[1],y[1]),... if scatteris True,\n",
    "       else the these points are connected\n",
    "    '''   \n",
    "    fig, ax = plt.subplots(figsize=(4, 3))\n",
    "    ax.set_xlim(0, 200)\n",
    "    ax.set_ylim(0, 200)\n",
    "    ax.axis('equal')\n",
    "    \n",
    "    ax.scatter(x,y) #"
   ]
  },
  {
   "cell_type": "code",
   "execution_count": 50,
   "id": "f6828e5d-6139-4605-b9fb-708562cd5bee",
   "metadata": {},
   "outputs": [],
   "source": [
    "# einige Konstanten\n",
    "R  = 50           # Radius\n",
    "O  = Vec(100,100) # Ursprung des Koordinatensystems\n",
    "E1 = Vec(1,0)     # Vector der zum Punkt (1,0) zeigt"
   ]
  },
  {
   "cell_type": "code",
   "execution_count": 51,
   "id": "1998f183-90d9-4264-9b96-fac819ebba4c",
   "metadata": {},
   "outputs": [
    {
     "data": {
      "image/png": "[encoded data removed]",
      "text/plain": [
       "<Figure size 288x216 with 1 Axes>"
      ]
     },
     "metadata": {
      "needs_background": "light"
     },
     "output_type": "display_data"
    }
   ],
   "source": [
    "x = [] # Liste zum Speichern der x-Koordinaten der Punkte\n",
    "y = [] # Liste zum Speichern der y-Koordinaten der Punkte\n",
    "\n",
    "for alpha in range(0,360,30): # alpha durchlaeuft 0,30,...,330.\n",
    "    v  = R * E1.rotate(alpha) # E1 wird rotiert, dann gestreckt\n",
    "    pt = O + v                # v wird nach O verschoben\n",
    "    x.append(pt.x)            # x-Koordinate von pt zur Liste x \n",
    "                              # hinzufuegen\n",
    "    y.append(pt.y)            # y-Koordinate von pt zur Liste x \n",
    "                              # hinzufuegen\n",
    "\n",
    "plot(x, y)    "
   ]
  },
  {
   "cell_type": "code",
   "execution_count": null,
   "id": "c0a8e631-bf7e-4371-9281-0a32c83ab4f6",
   "metadata": {},
   "outputs": [],
   "source": []
  }
 ],
 "metadata": {
  "kernelspec": {
   "display_name": "Python 3 (ipykernel)",
   "language": "python",
   "name": "python3"
  },
  "language_info": {
   "codemirror_mode": {
    "name": "ipython",
    "version": 3
   },
   "file_extension": ".py",
   "mimetype": "text/x-python",
   "name": "python",
   "nbconvert_exporter": "python",
   "pygments_lexer": "ipython3",
   "version": "3.9.10"
  }
 },
 "nbformat": 4,
 "nbformat_minor": 5
}
