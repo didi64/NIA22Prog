{
 "cells": [
  {
   "cell_type": "markdown",
   "id": "7bec3a79-4d44-434d-9986-08ab1e50048b",
   "metadata": {},
   "source": [
    "### Syntax und Semantik\n",
    "\n",
    "Die **Syntax** einer Sprache beschreibt die W&ouml;rter und Grammatik der Sprache. \n",
    "Nicht nur nat&uuml;rliche Sprachen (z.B. Deutsch), sondern auch Programmiersprachen wie Python haben eine Grammatik, \n",
    "eine Menge von Regeln welche definieren ob ein Satz korrekt (**wohlgeformt**) ist.\n",
    "\n",
    "Ein Programm ist eine Folge von **Anweisungen** (statements). Einfache Anweisungen werden aus **Ausdr&uuml;cken** (Expressions) \n",
    "aufgebaut, zusammengesetzte Anweisungen werden aus Anweisungen konstruiert.\n",
    "Ausdr&uuml;cke setzen sich zusammen aus **Variablen**, **Operatoren** und  **Funktionsaufrufe**.\n",
    "\n",
    "\n",
    "Die **Semantik** beschreibt die Bedeutung von Sprachkonstrukten.\n",
    "Die Semantik eines Programms beschreibt was das Programm tut (wie &auml;ndert sich der Zustand des Prozessors, des Computerspeichers, der Variabeln, ...).\n",
    "Ein Programm ist **semantisch korrekt**, falls es tut was es soll (seiner Spezifikation gen&uuml;gt).\n",
    "\n",
    "**Syntaxfehler** sind einfach zu erkennen und werden von Interpreter (od. Entwicklungsumgebung) sofort erkannt.\n",
    "Gewisse **Semantikfehler** werden zur Laufzeit des Programms von Interpreter bemerkt.\n",
    "Ob ein Programm seine Spezifikation erf&uuml;llt ist kaum zu entscheiden."
   ]
  },
  {
   "cell_type": "code",
   "execution_count": 1,
   "id": "4904f357-c621-4061-8fd8-262e0c3cb907",
   "metadata": {},
   "outputs": [
    {
     "ename": "IndentationError",
     "evalue": "expected an indented block (4279600806.py, line 10)",
     "output_type": "error",
     "traceback": [
      "\u001b[0;36m  File \u001b[0;32m\"/tmp/ipykernel_423338/4279600806.py\"\u001b[0;36m, line \u001b[0;32m10\u001b[0m\n\u001b[0;31m    print('foo')\u001b[0m\n\u001b[0m    ^\u001b[0m\n\u001b[0;31mIndentationError\u001b[0m\u001b[0;31m:\u001b[0m expected an indented block\n"
     ]
    }
   ],
   "source": [
    "# Beispiele von Syntaxfehlern\n",
    "\n",
    "x = 'Hallo\n",
    "y = (2 + (3*5)\n",
    "     \n",
    "def f()\n",
    "     print('foo')\n",
    "\n",
    "def f():\n",
    "print('foo')\n",
    "     "
   ]
  },
  {
   "cell_type": "code",
   "execution_count": null,
   "id": "cd9b9ed7-5a4a-409d-9c2d-29fcfc521f93",
   "metadata": {},
   "outputs": [],
   "source": [
    "# Beispiele von Semantikfehlern\n",
    "\n",
    "x = some_undefined_variable"
   ]
  },
  {
   "cell_type": "code",
   "execution_count": null,
   "id": "cc3c5c07-cafe-46ad-a3a0-bb47a6500854",
   "metadata": {},
   "outputs": [],
   "source": [
    "# Beispiele von Semantikfehlern\n",
    "\n",
    "x = '2'\n",
    "print(x+2)"
   ]
  },
  {
   "cell_type": "markdown",
   "id": "444eff34-48e9-428b-814c-73158704a155",
   "metadata": {},
   "source": [
    "Im Allgemeinen ist es sehr schwer zu sehen, ob eine Variable an einer bestimmeten Stelle im Programm bereits definiert ist und\n",
    "von welchem Typ sie ist, wie folgendes Beispiel illustireren soll."
   ]
  },
  {
   "cell_type": "code",
   "execution_count": null,
   "id": "58869465-aa1e-4c68-b6df-6581b372b365",
   "metadata": {},
   "outputs": [],
   "source": [
    "import random\n",
    "\n",
    "def most_often_a_number():\n",
    "    zufallszahl = random.randint(0,1000)\n",
    "    if zufallszahl == 666:\n",
    "        return '666'\n",
    "    else:\n",
    "        return zufallszahl"
   ]
  },
  {
   "cell_type": "code",
   "execution_count": null,
   "id": "ada2dd23-368b-48b9-b2e7-50d52812454a",
   "metadata": {},
   "outputs": [],
   "source": [
    "%%timeit -n 100\n",
    "N=100\n",
    "res = 0\n",
    "for i in range(N):\n",
    "    res += most_often_a_number()\n",
    "print('Durchschnitt: ', res/N)    "
   ]
  },
  {
   "cell_type": "code",
   "execution_count": null,
   "id": "dc3595be-3f4a-4d09-b5af-cc2ccdaf6cd8",
   "metadata": {},
   "outputs": [],
   "source": []
  }
 ],
 "metadata": {
  "kernelspec": {
   "display_name": "Python 3 (ipykernel)",
   "language": "python",
   "name": "python3"
  },
  "language_info": {
   "codemirror_mode": {
    "name": "ipython",
    "version": 3
   },
   "file_extension": ".py",
   "mimetype": "text/x-python",
   "name": "python",
   "nbconvert_exporter": "python",
   "pygments_lexer": "ipython3",
   "version": "3.8.10"
  }
 },
 "nbformat": 4,
 "nbformat_minor": 5
}
