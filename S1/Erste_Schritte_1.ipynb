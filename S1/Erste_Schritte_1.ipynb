{
 "cells": [
  {
   "cell_type": "markdown",
   "id": "77e2c3ef-8d24-489a-a129-101e851a34c2",
   "metadata": {},
   "source": [
    "### Erste Schritte in Python"
   ]
  },
  {
   "cell_type": "code",
   "execution_count": null,
   "id": "54d197bd-325e-4e20-917e-4606fa07dc78",
   "metadata": {},
   "outputs": [],
   "source": [
    "# druecke shift+enter um den Code in dieser Zelle auszufuehren\n",
    "# A comment: a first python program\n",
    "print('hello, world!')"
   ]
  },
  {
   "cell_type": "code",
   "execution_count": null,
   "id": "d7ddd2c8-1007-4f9f-b551-65e11fff3010",
   "metadata": {
    "tags": []
   },
   "outputs": [],
   "source": [
    "help(print)"
   ]
  },
  {
   "cell_type": "code",
   "execution_count": null,
   "id": "3924ea16-4c16-49eb-893c-bad1f93b2d20",
   "metadata": {},
   "outputs": [],
   "source": [
    "print('hello', end =', ') #fuege ', ' statt newline zu 'hello' hinzu\n",
    "print('world!')"
   ]
  },
  {
   "cell_type": "markdown",
   "id": "ae2154dc-aca9-41ca-a45c-7a1090d74602",
   "metadata": {},
   "source": [
    "### Python Strings\n",
    "- siehe auch https://docs.python.org/3/tutorial/introduction.html#strings"
   ]
  },
  {
   "cell_type": "code",
   "execution_count": 24,
   "id": "7d913b42-e73e-4d9c-b720-1f02c695a193",
   "metadata": {
    "tags": []
   },
   "outputs": [
    {
     "data": {
      "text/html": [
       "\n",
       "        <iframe\n",
       "            width=\"100%\"\n",
       "            height=\"300px\"\n",
       "            src=\"https://docs.python.org/3/tutorial/introduction.html#strings\"\n",
       "            frameborder=\"0\"\n",
       "            allowfullscreen\n",
       "            \n",
       "        ></iframe>\n",
       "        "
      ],
      "text/plain": [
       "<IPython.lib.display.IFrame at 0x7fd2cc211b80>"
      ]
     },
     "execution_count": 24,
     "metadata": {},
     "output_type": "execute_result"
    }
   ],
   "source": [
    "from IPython.display import IFrame\n",
    "src = 'https://docs.python.org/3/tutorial/introduction.html#strings'\n",
    "def url_in_cell(src, width='100%', height='300px'):\n",
    "    return IFrame(src=src, width=width, height=height)\n",
    "url_in_cell(src)"
   ]
  },
  {
   "cell_type": "markdown",
   "id": "8f5191ab-4f0d-4464-ba42-652b7822d465",
   "metadata": {},
   "source": [
    "### Aufgabe 1\n",
    "Definiere einen String ```s```, so dass ```print(s)``` den Output\n",
    "```\"'\\``` erzeugt."
   ]
  },
  {
   "cell_type": "code",
   "execution_count": 3,
   "id": "20d25273-3dd9-447c-b156-5db7f216f540",
   "metadata": {},
   "outputs": [
    {
     "name": "stdout",
     "output_type": "stream",
     "text": [
      "\"'\\\n"
     ]
    }
   ],
   "source": [
    "s = '\\\"\\'\\\\'\n",
    "print(s)"
   ]
  },
  {
   "cell_type": "code",
   "execution_count": null,
   "id": "a3c1658c-6136-4978-8e8a-199bfc4fb304",
   "metadata": {
    "jupyter": {
     "source_hidden": true
    },
    "tags": []
   },
   "outputs": [],
   "source": [
    "s='\\\"\\'\\\\'\n",
    "print(s)"
   ]
  },
  {
   "cell_type": "markdown",
   "id": "f6141678-ebc9-4836-b1e1-266b474b4309",
   "metadata": {},
   "source": [
    "### Integers, Floats und Strings\n",
    "Python ist dynamisch getypt, der Typ einer Variablen ist bestimmt durch ihren Wert\n",
    "- ```x=3``` ist ein Integer\n",
    "- ```x=3.0``` ist ein Float\n",
    "- ```x='hallo'``` ist ein String\n",
    "- ```x=[1,2,3]``` ist eine Liste"
   ]
  },
  {
   "cell_type": "code",
   "execution_count": 1,
   "id": "5acfdd83-5bbc-4284-a674-6ce776c641af",
   "metadata": {},
   "outputs": [
    {
     "data": {
      "text/plain": [
       "int"
      ]
     },
     "execution_count": 1,
     "metadata": {},
     "output_type": "execute_result"
    }
   ],
   "source": [
    "x=3\n",
    "type(x) # gib den Typ der Variable x an.# type(x) ist ein Ausdruck. \n",
    "        # ist der letzte Ausdruck einer Zelle ein Ausdruck, \n",
    "        # wird dieser automatisch ausgegeben."
   ]
  },
  {
   "cell_type": "markdown",
   "id": "557fb566-7ff5-4710-ba01-10e9bc85e922",
   "metadata": {},
   "source": [
    "### Aufgabe 2\n",
    "Gib wie oben den Typ eines Floats, Strings und List aus."
   ]
  },
  {
   "cell_type": "code",
   "execution_count": 4,
   "id": "fbd3bb47-6d33-46ff-876b-1afa5e6342cd",
   "metadata": {},
   "outputs": [
    {
     "data": {
      "text/plain": [
       "(float, str, list)"
      ]
     },
     "execution_count": 4,
     "metadata": {},
     "output_type": "execute_result"
    }
   ],
   "source": [
    "x = 3.0\n",
    "s = 'hallo'\n",
    "l = [0,1]\n",
    "type(x), type(s), type(l)"
   ]
  },
  {
   "cell_type": "markdown",
   "id": "11c8767d-5ebc-4755-aee8-ba456eef8f22",
   "metadata": {},
   "source": [
    "### Umwandeln eines Types in einen anderen (Cast)\n",
    "- ```int(x)``` liefert einen Integer, falls eine Conversion moeglich ist\n",
    "- ```float(x)``` liefert einen Float, falls moeglich\n",
    "- ```str(x)``` liefert einen String, falls moeglich\n",
    "- ```list(x)``` liefert eine Liste, falls moeglich"
   ]
  },
  {
   "cell_type": "code",
   "execution_count": null,
   "id": "8815f540-20e1-4f8a-a10d-73e1793b743f",
   "metadata": {},
   "outputs": [],
   "source": [
    "x  = 1\n",
    "y  = 3.5\n",
    "s0 = '3'\n",
    "s1 = '3.0'\n",
    "s2 = 'drei'\n",
    "l = [1,2,3]"
   ]
  },
  {
   "cell_type": "markdown",
   "id": "2d8d4f41-02a8-48e8-9fdd-9e104ffd2f3d",
   "metadata": {},
   "source": [
    "### Aufgabe 3\n",
    "Teste, welche der obigen Typen sich in welche anderen Typen umwandeln lassen."
   ]
  },
  {
   "cell_type": "code",
   "execution_count": 38,
   "id": "baa86b37-a971-4e67-8df8-b1a6b8becc73",
   "metadata": {},
   "outputs": [
    {
     "name": "stdout",
     "output_type": "stream",
     "text": [
      "x = 1; of type int\n",
      "  -Trying float(x): 1.0\n",
      "  -Trying list(x): TypeError:  'int' object is not iterable\n",
      "  -Trying str(x): 1\n",
      "  -Trying int(x): 1\n",
      "y = 3.5; of type float\n",
      "  -Trying float(y): 3.5\n",
      "  -Trying list(y): TypeError:  'float' object is not iterable\n",
      "  -Trying str(y): 3.5\n",
      "  -Trying int(y): 3\n",
      "s0 = 3; of type int\n",
      "  -Trying float(s0): 3.0\n",
      "  -Trying list(s0): TypeError:  'int' object is not iterable\n",
      "  -Trying str(s0): 3\n",
      "  -Trying int(s0): 3\n",
      "s1 = 3.0; of type str\n",
      "  -Trying float(s1): 3.0\n",
      "  -Trying list(s1): ['3', '.', '0']\n",
      "  -Trying str(s1): 3.0\n",
      "  -Trying int(s1): ValueError:  invalid literal for int() with base 10: '3.0'\n",
      "s2 = drei; of type str\n",
      "  -Trying float(s2): ValueError:  could not convert string to float: 'drei'\n",
      "  -Trying list(s2): ['d', 'r', 'e', 'i']\n",
      "  -Trying str(s2): drei\n",
      "  -Trying int(s2): ValueError:  invalid literal for int() with base 10: 'drei'\n",
      "l = [1, 2, 3]; of type list\n",
      "  -Trying float(l): TypeError:  float() argument must be a string or a number, not 'list'\n",
      "  -Trying list(l): [1, 2, 3]\n",
      "  -Trying str(l): [1, 2, 3]\n",
      "  -Trying int(l): TypeError:  int() argument must be a string, a bytes-like object or a number, not 'list'\n"
     ]
    }
   ],
   "source": [
    "# teste alle Moeglichen Kombinationenvar_name = var_name, val = val\n",
    "objs = {'x': 1, 'y': 3.5, 's0': 3, 's1': '3.0', 's2' : 'drei', 'l': [1,2,3]}\n",
    "types = set([type(obj) for obj in objs.values()])\n",
    "\n",
    "for var_name, val in objs.items():\n",
    "    print('{var_name} = {val}; of type {tp}'.\\\n",
    "          format(var_name = var_name, val = val, tp = type(val).__name__))\n",
    "    for t in types:\n",
    "        print('  -Trying {new_tp}({var_name})'.\\\n",
    "              format( new_tp=t.__name__, var_name = var_name, val = val), end = ': ')\n",
    "        try:\n",
    "            res = t(objs[var_name])\n",
    "        except ValueError as e:\n",
    "            print('ValueError: ', e)\n",
    "        except TypeError as e:\n",
    "            print('TypeError: ', e) \n",
    "        else:\n",
    "            print(res)    "
   ]
  },
  {
   "cell_type": "markdown",
   "id": "01f4bf56-fa71-46a6-a5dc-079a975e1432",
   "metadata": {},
   "source": [
    "### Operationen mit Integers und Floats\n",
    "- Integers: '''x+y, x-y, x*y, x**y, x/y, x//y, x%y```\n",
    "  - Teste was diese Operationen machen. Welcher Typ hat das Resultat? \n",
    "  - Welche Operationen funktionieren auf bei Floats, Strings und Listen?"
   ]
  },
  {
   "cell_type": "markdown",
   "id": "88b73650-2f33-4d56-85af-e1cd79d87027",
   "metadata": {},
   "source": [
    "### Teile das Notebook mit mir\n",
    "- Dr&uuml;cke Control-S um das Notebook zu speichern.\n",
    "- F&uuml;hre den Befehl ```!share``` in einer neuen Zelle aus."
   ]
  },
  {
   "cell_type": "code",
   "execution_count": null,
   "id": "cd4b1444-7575-4b5c-9acf-c75798691e6c",
   "metadata": {},
   "outputs": [],
   "source": []
  }
 ],
 "metadata": {
  "kernelspec": {
   "display_name": "Python 3 (ipykernel)",
   "language": "python",
   "name": "python3"
  },
  "language_info": {
   "codemirror_mode": {
    "name": "ipython",
    "version": 3
   },
   "file_extension": ".py",
   "mimetype": "text/x-python",
   "name": "python",
   "nbconvert_exporter": "python",
   "pygments_lexer": "ipython3",
   "version": "3.9.10"
  }
 },
 "nbformat": 4,
 "nbformat_minor": 5
}
