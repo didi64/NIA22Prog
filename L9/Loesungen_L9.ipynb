{
 "cells": [
  {
   "cell_type": "markdown",
   "id": "89e17fbe-10e0-46e4-b1e6-22b6345b9af0",
   "metadata": {},
   "source": [
    "### L&ouml;sungen L9"
   ]
  },
  {
   "cell_type": "markdown",
   "id": "01d40189-e7d1-4354-9b56-064047ca4e92",
   "metadata": {},
   "source": [
    "**Modifikation an minitoolbox.py**"
   ]
  },
  {
   "cell_type": "code",
   "execution_count": null,
   "id": "707af8e4-beb3-4b29-8d64-18fb964c268f",
   "metadata": {},
   "outputs": [],
   "source": [
    "# test double\n",
    "if __name__ == '__main__':\n",
    "    print('testing double for values 0,...,9')\n",
    "    for i in range(10):\n",
    "        print(double(i), end =',')"
   ]
  },
  {
   "cell_type": "markdown",
   "id": "850d6fd2-f147-4056-a21b-117f587e74b0",
   "metadata": {},
   "source": [
    "**Variadic Function**"
   ]
  },
  {
   "cell_type": "code",
   "execution_count": 8,
   "id": "5941d163-e4df-4b97-95c4-0fba929e904a",
   "metadata": {},
   "outputs": [
    {
     "name": "stdout",
     "output_type": "stream",
     "text": [
      "     1.0 m\n",
      "     2.0 m\n",
      "   546.0 m\n",
      "  1200.0 m\n",
      "     0.034 m\n",
      "===============\n",
      "  1749.034 m\n"
     ]
    }
   ],
   "source": [
    "# Hilfsfunktion\n",
    "def fmt(nbr, width = 6):\n",
    "    '''returns a string\n",
    "    \n",
    "    nbr:   int or float\n",
    "    width: with of part before the decimal point\n",
    "    '''\n",
    "    s = str(nbr).split('.')\n",
    "    s[0] = s[0].rjust(width)\n",
    "    return '.'.join(s)\n",
    "\n",
    "def add(x, y, *args, **units):\n",
    "    total = 0\n",
    "    unit = units['baseunit']\n",
    "    \n",
    "    for arg in (x, y) + args:\n",
    "        scalar, _ = arg # '_' ist ein legaler Variabelname, \n",
    "                        # wird nur fuer \"Wegwerf\"-Variabeln verwendet\n",
    "        factor = units[unit]\n",
    "        delta  = scalar * factor\n",
    "        total  = total + delta\n",
    "         \n",
    "        print(fmt(delta), unit)    \n",
    "       \n",
    "    print('=' * 15)\n",
    "    print(fmt(total), unit)\n",
    "    \n",
    "units = {'baseunit': 'm',\n",
    "         'mm': 0.001,\n",
    "         'cm': 0.01,\n",
    "         'm' : 1.0,\n",
    "         'km': 1000.0,\n",
    "         }         \n",
    "args = [(546, 'mm'), (1200, 'cm'), (0.034, 'km')]  \n",
    "\n",
    "add((1, 'm'), (2, 'm'), *args, **units)"
   ]
  },
  {
   "cell_type": "code",
   "execution_count": null,
   "id": "cee14eba-caea-4a5a-ae14-a9d156a0b23b",
   "metadata": {},
   "outputs": [],
   "source": []
  }
 ],
 "metadata": {
  "kernelspec": {
   "display_name": "Python 3 (ipykernel)",
   "language": "python",
   "name": "python3"
  },
  "language_info": {
   "codemirror_mode": {
    "name": "ipython",
    "version": 3
   },
   "file_extension": ".py",
   "mimetype": "text/x-python",
   "name": "python",
   "nbconvert_exporter": "python",
   "pygments_lexer": "ipython3",
   "version": "3.9.10"
  }
 },
 "nbformat": 4,
 "nbformat_minor": 5
}
