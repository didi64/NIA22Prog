{
 "cells": [
  {
   "cell_type": "markdown",
   "id": "89e17fbe-10e0-46e4-b1e6-22b6345b9af0",
   "metadata": {},
   "source": [
    "### L&ouml;sungen L9"
   ]
  },
  {
   "cell_type": "markdown",
   "id": "850d6fd2-f147-4056-a21b-117f587e74b0",
   "metadata": {},
   "source": [
    "**Variadic Function**"
   ]
  },
  {
   "cell_type": "code",
   "execution_count": 3,
   "id": "5941d163-e4df-4b97-95c4-0fba929e904a",
   "metadata": {},
   "outputs": [
    {
     "name": "stdout",
     "output_type": "stream",
     "text": [
      "     1.0 m\n",
      "     2.0 m\n",
      "     0.546 m\n",
      "    12.0 m\n",
      "    34.0 m\n",
      "===============\n",
      "    49.546 m\n"
     ]
    }
   ],
   "source": [
    "# Hilfsfunktion\n",
    "def fmt(nbr, width = 6):\n",
    "    '''returns a string\n",
    "    \n",
    "    nbr:   int or float\n",
    "    width: width of part before the decimal point\n",
    "    '''\n",
    "    s = str(nbr).split('.')\n",
    "    s[0] = s[0].rjust(width)\n",
    "    return '.'.join(s)\n",
    "\n",
    "def add(x, y, *args, **units):\n",
    "    total = 0\n",
    "    baseunit = units['baseunit']\n",
    "    \n",
    "    for arg in (x, y) + args:\n",
    "        scalar, unit = arg\n",
    "        factor = units[unit]\n",
    "        delta  = scalar * factor\n",
    "        total  = total + delta\n",
    "         \n",
    "        print(fmt(delta), baseunit)    \n",
    "       \n",
    "    print('=' * 15)\n",
    "    print(fmt(total), baseunit)\n",
    "    \n",
    "units = {'baseunit': 'm',\n",
    "         'mm': 0.001,\n",
    "         'cm': 0.01,\n",
    "         'm' : 1.0,\n",
    "         'km': 1000.0,\n",
    "         }         \n",
    "args = [(546, 'mm'), (1200, 'cm'), (0.034, 'km')]  \n",
    "\n",
    "add((1, 'm'), (2, 'm'), *args, **units)"
   ]
  },
  {
   "cell_type": "code",
   "execution_count": null,
   "id": "cee14eba-caea-4a5a-ae14-a9d156a0b23b",
   "metadata": {},
   "outputs": [],
   "source": []
  },
  {
   "cell_type": "code",
   "execution_count": null,
   "id": "34e872ae-ee2d-4d35-9bf7-42738b77e84f",
   "metadata": {},
   "outputs": [],
   "source": []
  }
 ],
 "metadata": {
  "kernelspec": {
   "display_name": "Python 3 (ipykernel)",
   "language": "python",
   "name": "python3"
  },
  "language_info": {
   "codemirror_mode": {
    "name": "ipython",
    "version": 3
   },
   "file_extension": ".py",
   "mimetype": "text/x-python",
   "name": "python",
   "nbconvert_exporter": "python",
   "pygments_lexer": "ipython3",
   "version": "3.9.10"
  }
 },
 "nbformat": 4,
 "nbformat_minor": 5
}
