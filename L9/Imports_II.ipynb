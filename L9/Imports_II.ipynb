{
 "cells": [
  {
   "cell_type": "markdown",
   "id": "5be3d575-117d-4658-a889-765cff18f134",
   "metadata": {},
   "source": [
    "### Imports II/ Packages\n",
    "Ein Package besteht aus vielen Modulen (.py -Files).\n",
    "Genauer ist ein Package ein Verzeichnis mit Modulen, welches ein (ev. leeres)\n",
    "**`__init__.py`** File enth&auml;lt.\n",
    "Die Anwesenheit dieses Files signalisiert, dass es sich dabei nicht einfach um ein \n",
    "Verzeichnnis mit .py Files handelt, sondern um (Teil) eines Packages.\n",
    "Ist `__init__.py` nicht leer, so wird es ausgef&uuml;hrt.\n",
    "\n",
    "Ein Package kann selber wieder viele Unterpackages enthalten.\n",
    "\n",
    "Nach `Update 8` hat\n",
    "der Ordner `tools` in `/home/jovyan/work/notebooks`\n",
    "die folgende Struktur:\n",
    "\n",
    "```python\n",
    "tools\n",
    "├── __init__.py\n",
    "├── tools_for_that\n",
    "│   ├── __init__.py\n",
    "│   └── tools.py\n",
    "└── tools_for_this\n",
    "    ├── __init__.py\n",
    "    └── tools.py\n",
    "```    \n",
    "\n",
    "Wir sehen, dass `tools` ein Package ist, welches wiederum die Packages \n",
    "`tools_for_this` and `tools_for_that` enth&auml;lt."
   ]
  },
  {
   "cell_type": "code",
   "execution_count": null,
   "id": "ab6e7980-1e51-428e-ac40-c81993541fee",
   "metadata": {},
   "outputs": [],
   "source": [
    "# reimportiere geaenderter Module\n",
    "%load_ext autoreload\n",
    "%autoreload 2"
   ]
  },
  {
   "cell_type": "code",
   "execution_count": null,
   "id": "1cdb29b7-ece1-4ef8-bcb3-6da07b2f0c79",
   "metadata": {},
   "outputs": [],
   "source": [
    "# markiere alle Files in tools als geaendert\n",
    "!touch tools/*"
   ]
  },
  {
   "cell_type": "code",
   "execution_count": null,
   "id": "4995cb37-6ba5-49db-83fd-80bf757d10e8",
   "metadata": {},
   "outputs": [],
   "source": [
    "# Ganzes Package importieren,\n",
    "# bez. tools/__init__.py ausfuehren\n",
    "import tools"
   ]
  },
  {
   "cell_type": "code",
   "execution_count": null,
   "id": "dc5cb2a4-3bd3-4cf1-8d02-727554b70e08",
   "metadata": {
    "tags": []
   },
   "outputs": [],
   "source": [
    "help(tools)"
   ]
  },
  {
   "cell_type": "markdown",
   "id": "0d187ac2-5a42-4370-b88f-85ef8e6677eb",
   "metadata": {},
   "source": [
    "***\n",
    "`vars(tools)` generiert einen Dictionary mit (Variabelname, Wert der Variable) als Key-Value Paare\n",
    "***"
   ]
  },
  {
   "cell_type": "code",
   "execution_count": null,
   "id": "2e9f6f77-eec7-48cf-9e00-82f0e1106cd4",
   "metadata": {},
   "outputs": [],
   "source": [
    "# alle Variabeln im Namespace tools ausgeben die nicht mit '_' beginnen, \n",
    "# sowie die Variable '__name__'\n",
    "{k:v for k,v in vars(tools).items()\\\n",
    "         if not k.startswith('_') or k in ['__name__'] }"
   ]
  },
  {
   "cell_type": "code",
   "execution_count": null,
   "id": "f5c3d6b0-79db-4fb4-bd80-d39b1435f36c",
   "metadata": {},
   "outputs": [],
   "source": [
    "# Variable E aus tools/tools_for_that.tools.py importieren\n",
    "e = 0\n",
    "from tools.tools_for_that.tools import E as e\n",
    "e"
   ]
  },
  {
   "cell_type": "markdown",
   "id": "3eff8458-906e-4d80-bc47-c38c54f5dd5f",
   "metadata": {},
   "source": [
    "### NumPy: Ein Python Package zum Rechnen mit Arrays"
   ]
  },
  {
   "cell_type": "code",
   "execution_count": null,
   "id": "536c3c31-3a46-4eda-9974-1f02ffda7acd",
   "metadata": {},
   "outputs": [],
   "source": [
    "import numpy as np\n",
    "np.__file__"
   ]
  },
  {
   "cell_type": "code",
   "execution_count": null,
   "id": "713a8fa6-0bbe-4810-90fb-6aa864e5e104",
   "metadata": {
    "tags": []
   },
   "outputs": [],
   "source": [
    "# !tree -I __pycache__ /opt/conda/lib/python3.9/site-packages/numpy/"
   ]
  },
  {
   "cell_type": "code",
   "execution_count": null,
   "id": "47602dd2-5357-4867-8319-b03d62581bbd",
   "metadata": {},
   "outputs": [],
   "source": [
    "# %load /opt/conda/lib/python3.9/site-packages/numpy/__init__.py"
   ]
  }
 ],
 "metadata": {
  "kernelspec": {
   "display_name": "Python 3 (ipykernel)",
   "language": "python",
   "name": "python3"
  },
  "language_info": {
   "codemirror_mode": {
    "name": "ipython",
    "version": 3
   },
   "file_extension": ".py",
   "mimetype": "text/x-python",
   "name": "python",
   "nbconvert_exporter": "python",
   "pygments_lexer": "ipython3",
   "version": "3.9.10"
  }
 },
 "nbformat": 4,
 "nbformat_minor": 5
}
