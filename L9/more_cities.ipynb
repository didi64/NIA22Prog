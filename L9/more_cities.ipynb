{
 "cells": [
  {
   "cell_type": "markdown",
   "id": "30879d18-904d-4e54-aa1e-5cfd5bc17282",
   "metadata": {},
   "source": [
    "### Mehr Städte der Schweiz"
   ]
  },
  {
   "cell_type": "markdown",
   "id": "33cfce94-65b2-41eb-8e73-8f12a2819eac",
   "metadata": {},
   "source": [
    "***\n",
    "&Ouml;ffne ch.csv, lies alle Zeilen ein und entferne white-space von rechts\n",
    "***"
   ]
  },
  {
   "cell_type": "code",
   "execution_count": null,
   "id": "3096b9c9-595e-43fe-baa2-4b293e2ab6d1",
   "metadata": {},
   "outputs": [],
   "source": [
    "lines = []\n",
    "# Filename anpassen, so dass dein File geoeffnet wird\n",
    "with open('/home/jovyan/work/NIA22Prog/data/ch.csv', mode ='r') as f:\n",
    "    for line in f:\n",
    "        lines.append(line.rstrip().split(','))\n",
    "        \n",
    "lines[:2]        "
   ]
  },
  {
   "cell_type": "code",
   "execution_count": null,
   "id": "929c58e2-23dc-49ac-82b5-93b7ae94b3a5",
   "metadata": {},
   "outputs": [],
   "source": [
    "lines[-2:]"
   ]
  },
  {
   "cell_type": "markdown",
   "id": "5a20bd7e-a916-4881-8ba3-32aef93a80a6",
   "metadata": {},
   "source": [
    "***\n",
    "Dictionary erstellen mit den St&auml;dtenamen als Schl&uuml;ssel.  \n",
    "Die Werte sind Dictionaries der Form  \n",
    "`{'lat': 47.3786,\n",
    "  'lng': 8.54,\n",
    "  'population': 434008}\n",
    "`  \n",
    "**Beachte**: Population hat manchmal den Wert `''`.  \n",
    "Wir ersetzen diesen Wert durch `'0'`, bevor wir ihn mit\n",
    "`int('0')` in einen Integer umwandeln.\n",
    "***"
   ]
  },
  {
   "cell_type": "code",
   "execution_count": null,
   "id": "df3fe168-5b91-459b-9f29-68f66991fe49",
   "metadata": {},
   "outputs": [],
   "source": [
    "# Zu extrahierende Felder, gewuenschter Typ\n",
    "fields = {1:float, 2:float, 7: int}\n",
    "keys   = [lines[0][i] for i in fields]\n",
    "\n",
    "cities = {}\n",
    "for row in lines[1:]:\n",
    "    data = [f(row[i] or '0') for i,f in fields.items()]\n",
    "    city = row[0]\n",
    "    cities[city] = dict(zip(keys, data))"
   ]
  },
  {
   "cell_type": "code",
   "execution_count": null,
   "id": "df11e25f-2b8b-4f0a-85e6-575473cce787",
   "metadata": {},
   "outputs": [],
   "source": [
    "{k:cities[k] for k in list(cities)[:3]}"
   ]
  },
  {
   "cell_type": "markdown",
   "id": "29f7f482-9a04-46fa-86c1-7020d872fb69",
   "metadata": {},
   "source": [
    "***\n",
    "Cities Dictionary als Modul speichern\n",
    "***"
   ]
  },
  {
   "cell_type": "code",
   "execution_count": null,
   "id": "54584b33-5bb8-4b06-b072-bebf2dce1638",
   "metadata": {},
   "outputs": [],
   "source": [
    "with open('cities.py', mode = 'w') as f:\n",
    "    f.write('cities = {}'.format(cities.__repr__()))"
   ]
  },
  {
   "cell_type": "code",
   "execution_count": null,
   "id": "faf32eb5-5b15-4eae-a876-490d21199aa8",
   "metadata": {},
   "outputs": [],
   "source": [
    "import cities\n",
    "cities.cities['Bern']"
   ]
  },
  {
   "cell_type": "markdown",
   "id": "7915ceda-8f71-463e-90ba-a7871b0dfd7e",
   "metadata": {},
   "source": [
    "### Position der St&auml;dte plotten\n",
    "(nicht Teil der Aufgabe)"
   ]
  },
  {
   "cell_type": "code",
   "execution_count": null,
   "id": "108553f8-a92c-4a13-8a0b-21e1e8b60f43",
   "metadata": {},
   "outputs": [],
   "source": [
    "%matplotlib widget\n",
    "import numpy as np\n",
    "import matplotlib.pyplot as plt\n",
    "import mplcursors\n",
    "from data.cities import cities"
   ]
  },
  {
   "cell_type": "code",
   "execution_count": null,
   "id": "a8fd5640-af26-429f-b787-a1ffe654b151",
   "metadata": {},
   "outputs": [],
   "source": [
    "coords  = [(d['lng'], d['lat']) for d in cities.values()]\n",
    "points  = np.array(coords)"
   ]
  },
  {
   "cell_type": "code",
   "execution_count": null,
   "id": "e4173bc6-1a16-4aba-8c58-2872107b0600",
   "metadata": {},
   "outputs": [],
   "source": [
    "pt_city = {pt:city for pt,city in zip(coords, cities)}"
   ]
  },
  {
   "cell_type": "code",
   "execution_count": null,
   "id": "01d4eb09-4758-4644-983c-67c733245476",
   "metadata": {},
   "outputs": [],
   "source": [
    "red, orange = 12, 100\n",
    "colors = ['red'] * red + ['orange'] * orange + ['blue'] * (len(cities) - (red + orange)) \n",
    "size   = [10] * red + [5] * orange + [1] * (len(cities) - (red + orange)) "
   ]
  },
  {
   "cell_type": "code",
   "execution_count": null,
   "id": "146a9a24-3c4e-48d8-b64e-a2aa15fbfdbb",
   "metadata": {},
   "outputs": [],
   "source": [
    "# close already open figures, applies if code is reexecuted\n",
    "plt.close('all')    \n",
    "\n",
    "# plot all points\n",
    "fig, ax = plt.subplots(figsize=(8, 5))\n",
    "ax.scatter(points[:,0], points[:,1], marker='o', c=colors, s = size)\n",
    "\n",
    "# Display cityname when hovering above with mouse\n",
    "def callback(sel):\n",
    "    pt = (sel.target[0], sel.target[1])\n",
    "    sel.annotation.set_text(pt_city.get(pt,'unknown'))\n",
    "    \n",
    "crs = mplcursors.cursor(ax, hover=True)\n",
    "crs.connect(\"add\", callback) "
   ]
  },
  {
   "cell_type": "code",
   "execution_count": null,
   "id": "c84e239e-a0fa-44eb-81d0-2069629db25a",
   "metadata": {},
   "outputs": [],
   "source": []
  }
 ],
 "metadata": {
  "kernelspec": {
   "display_name": "Python 3 (ipykernel)",
   "language": "python",
   "name": "python3"
  },
  "language_info": {
   "codemirror_mode": {
    "name": "ipython",
    "version": 3
   },
   "file_extension": ".py",
   "mimetype": "text/x-python",
   "name": "python",
   "nbconvert_exporter": "python",
   "pygments_lexer": "ipython3",
   "version": "3.8.10"
  }
 },
 "nbformat": 4,
 "nbformat_minor": 5
}
